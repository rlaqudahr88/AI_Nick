{
 "cells": [
  {
   "cell_type": "code",
   "execution_count": 146,
   "metadata": {},
   "outputs": [],
   "source": [
    "import pandas as pd\n",
    "import copy\n",
    "import numpy as np\n",
    "import matplotlib.pyplot as plt\n",
    "%matplotlib inline"
   ]
  },
  {
   "cell_type": "code",
   "execution_count": 147,
   "metadata": {
    "scrolled": false
   },
   "outputs": [
    {
     "data": {
      "text/html": [
       "<div>\n",
       "<style scoped>\n",
       "    .dataframe tbody tr th:only-of-type {\n",
       "        vertical-align: middle;\n",
       "    }\n",
       "\n",
       "    .dataframe tbody tr th {\n",
       "        vertical-align: top;\n",
       "    }\n",
       "\n",
       "    .dataframe thead th {\n",
       "        text-align: right;\n",
       "    }\n",
       "</style>\n",
       "<table border=\"1\" class=\"dataframe\">\n",
       "  <thead>\n",
       "    <tr style=\"text-align: right;\">\n",
       "      <th></th>\n",
       "      <th>custid</th>\n",
       "      <th>gender</th>\n",
       "      <th>총구매액</th>\n",
       "      <th>구매건수</th>\n",
       "      <th>평균구매가격</th>\n",
       "      <th>평균할부개월수</th>\n",
       "      <th>구매브랜드종류</th>\n",
       "      <th>내점일수</th>\n",
       "      <th>수입상품_구매비율</th>\n",
       "      <th>주말방문비율</th>\n",
       "      <th>가을_구매건수</th>\n",
       "      <th>겨울_구매건수</th>\n",
       "      <th>봄_구매건수</th>\n",
       "      <th>여름_구매건수</th>\n",
       "      <th>아침_구매건수</th>\n",
       "      <th>저녁_구매건수</th>\n",
       "      <th>점심_구매건수</th>\n",
       "      <th>주구매코너</th>\n",
       "    </tr>\n",
       "  </thead>\n",
       "  <tbody>\n",
       "    <tr>\n",
       "      <th>0</th>\n",
       "      <td>18</td>\n",
       "      <td>0</td>\n",
       "      <td>680100</td>\n",
       "      <td>15</td>\n",
       "      <td>45340</td>\n",
       "      <td>1.7</td>\n",
       "      <td>9</td>\n",
       "      <td>10</td>\n",
       "      <td>26.7</td>\n",
       "      <td>100.0</td>\n",
       "      <td>NaN</td>\n",
       "      <td>9.0</td>\n",
       "      <td>6.0</td>\n",
       "      <td>NaN</td>\n",
       "      <td>NaN</td>\n",
       "      <td>6.0</td>\n",
       "      <td>9.0</td>\n",
       "      <td>화장품</td>\n",
       "    </tr>\n",
       "    <tr>\n",
       "      <th>1</th>\n",
       "      <td>21</td>\n",
       "      <td>0</td>\n",
       "      <td>353450</td>\n",
       "      <td>9</td>\n",
       "      <td>39272</td>\n",
       "      <td>1.2</td>\n",
       "      <td>6</td>\n",
       "      <td>8</td>\n",
       "      <td>11.1</td>\n",
       "      <td>37.5</td>\n",
       "      <td>NaN</td>\n",
       "      <td>5.0</td>\n",
       "      <td>4.0</td>\n",
       "      <td>NaN</td>\n",
       "      <td>3.0</td>\n",
       "      <td>NaN</td>\n",
       "      <td>6.0</td>\n",
       "      <td>영캐주얼</td>\n",
       "    </tr>\n",
       "    <tr>\n",
       "      <th>2</th>\n",
       "      <td>23</td>\n",
       "      <td>0</td>\n",
       "      <td>5671400</td>\n",
       "      <td>36</td>\n",
       "      <td>157539</td>\n",
       "      <td>2.8</td>\n",
       "      <td>22</td>\n",
       "      <td>16</td>\n",
       "      <td>5.6</td>\n",
       "      <td>37.5</td>\n",
       "      <td>7.0</td>\n",
       "      <td>17.0</td>\n",
       "      <td>12.0</td>\n",
       "      <td>NaN</td>\n",
       "      <td>10.0</td>\n",
       "      <td>11.0</td>\n",
       "      <td>15.0</td>\n",
       "      <td>장신구</td>\n",
       "    </tr>\n",
       "    <tr>\n",
       "      <th>3</th>\n",
       "      <td>26</td>\n",
       "      <td>0</td>\n",
       "      <td>1964000</td>\n",
       "      <td>28</td>\n",
       "      <td>70143</td>\n",
       "      <td>1.4</td>\n",
       "      <td>15</td>\n",
       "      <td>14</td>\n",
       "      <td>39.3</td>\n",
       "      <td>28.6</td>\n",
       "      <td>5.0</td>\n",
       "      <td>8.0</td>\n",
       "      <td>15.0</td>\n",
       "      <td>NaN</td>\n",
       "      <td>NaN</td>\n",
       "      <td>18.0</td>\n",
       "      <td>10.0</td>\n",
       "      <td>화장품</td>\n",
       "    </tr>\n",
       "    <tr>\n",
       "      <th>4</th>\n",
       "      <td>35</td>\n",
       "      <td>0</td>\n",
       "      <td>885000</td>\n",
       "      <td>5</td>\n",
       "      <td>177000</td>\n",
       "      <td>6.0</td>\n",
       "      <td>5</td>\n",
       "      <td>2</td>\n",
       "      <td>0.0</td>\n",
       "      <td>100.0</td>\n",
       "      <td>NaN</td>\n",
       "      <td>NaN</td>\n",
       "      <td>5.0</td>\n",
       "      <td>NaN</td>\n",
       "      <td>NaN</td>\n",
       "      <td>5.0</td>\n",
       "      <td>NaN</td>\n",
       "      <td>피혁A</td>\n",
       "    </tr>\n",
       "  </tbody>\n",
       "</table>\n",
       "</div>"
      ],
      "text/plain": [
       "   custid  gender     총구매액  구매건수  평균구매가격  평균할부개월수  구매브랜드종류  내점일수  수입상품_구매비율  \\\n",
       "0      18       0   680100    15   45340      1.7        9    10       26.7   \n",
       "1      21       0   353450     9   39272      1.2        6     8       11.1   \n",
       "2      23       0  5671400    36  157539      2.8       22    16        5.6   \n",
       "3      26       0  1964000    28   70143      1.4       15    14       39.3   \n",
       "4      35       0   885000     5  177000      6.0        5     2        0.0   \n",
       "\n",
       "   주말방문비율  가을_구매건수  겨울_구매건수  봄_구매건수  여름_구매건수  아침_구매건수  저녁_구매건수  점심_구매건수 주구매코너  \n",
       "0   100.0      NaN      9.0     6.0      NaN      NaN      6.0      9.0   화장품  \n",
       "1    37.5      NaN      5.0     4.0      NaN      3.0      NaN      6.0  영캐주얼  \n",
       "2    37.5      7.0     17.0    12.0      NaN     10.0     11.0     15.0   장신구  \n",
       "3    28.6      5.0      8.0    15.0      NaN      NaN     18.0     10.0   화장품  \n",
       "4   100.0      NaN      NaN     5.0      NaN      NaN      5.0      NaN   피혁A  "
      ]
     },
     "execution_count": 147,
     "metadata": {},
     "output_type": "execute_result"
    }
   ],
   "source": [
    "data = pd.read_csv('data/train.csv', encoding='CP949')\n",
    "data.head()"
   ]
  },
  {
   "cell_type": "code",
   "execution_count": 148,
   "metadata": {},
   "outputs": [
    {
     "name": "stdout",
     "output_type": "stream",
     "text": [
      "<class 'pandas.core.frame.DataFrame'>\n",
      "RangeIndex: 5000 entries, 0 to 4999\n",
      "Data columns (total 18 columns):\n",
      " #   Column     Non-Null Count  Dtype  \n",
      "---  ------     --------------  -----  \n",
      " 0   custid     5000 non-null   int64  \n",
      " 1   gender     5000 non-null   int64  \n",
      " 2   총구매액       5000 non-null   int64  \n",
      " 3   구매건수       5000 non-null   int64  \n",
      " 4   평균구매가격     5000 non-null   int64  \n",
      " 5   평균할부개월수    5000 non-null   float64\n",
      " 6   구매브랜드종류    5000 non-null   int64  \n",
      " 7   내점일수       5000 non-null   int64  \n",
      " 8   수입상품_구매비율  5000 non-null   float64\n",
      " 9   주말방문비율     5000 non-null   float64\n",
      " 10  가을_구매건수    4055 non-null   float64\n",
      " 11  겨울_구매건수    4103 non-null   float64\n",
      " 12  봄_구매건수     4311 non-null   float64\n",
      " 13  여름_구매건수    3978 non-null   float64\n",
      " 14  아침_구매건수    3558 non-null   float64\n",
      " 15  저녁_구매건수    4033 non-null   float64\n",
      " 16  점심_구매건수    4855 non-null   float64\n",
      " 17  주구매코너      5000 non-null   object \n",
      "dtypes: float64(10), int64(7), object(1)\n",
      "memory usage: 703.2+ KB\n"
     ]
    }
   ],
   "source": [
    "data.info()"
   ]
  },
  {
   "cell_type": "code",
   "execution_count": 149,
   "metadata": {},
   "outputs": [],
   "source": [
    "dataP = data.copy()"
   ]
  },
  {
   "cell_type": "code",
   "execution_count": 150,
   "metadata": {},
   "outputs": [
    {
     "name": "stdout",
     "output_type": "stream",
     "text": [
      "<class 'pandas.core.frame.DataFrame'>\n",
      "RangeIndex: 5000 entries, 0 to 4999\n",
      "Data columns (total 18 columns):\n",
      " #   Column     Non-Null Count  Dtype  \n",
      "---  ------     --------------  -----  \n",
      " 0   custid     5000 non-null   int64  \n",
      " 1   gender     5000 non-null   int64  \n",
      " 2   총구매액       5000 non-null   int64  \n",
      " 3   구매건수       5000 non-null   int64  \n",
      " 4   평균구매가격     5000 non-null   int64  \n",
      " 5   평균할부개월수    5000 non-null   float64\n",
      " 6   구매브랜드종류    5000 non-null   int64  \n",
      " 7   내점일수       5000 non-null   int64  \n",
      " 8   수입상품_구매비율  5000 non-null   float64\n",
      " 9   주말방문비율     5000 non-null   float64\n",
      " 10  가을_구매건수    4055 non-null   float64\n",
      " 11  겨울_구매건수    4103 non-null   float64\n",
      " 12  봄_구매건수     4311 non-null   float64\n",
      " 13  여름_구매건수    3978 non-null   float64\n",
      " 14  아침_구매건수    3558 non-null   float64\n",
      " 15  저녁_구매건수    4033 non-null   float64\n",
      " 16  점심_구매건수    4855 non-null   float64\n",
      " 17  주구매코너      5000 non-null   object \n",
      "dtypes: float64(10), int64(7), object(1)\n",
      "memory usage: 703.2+ KB\n"
     ]
    }
   ],
   "source": [
    "dataP.info()"
   ]
  },
  {
   "cell_type": "code",
   "execution_count": 151,
   "metadata": {},
   "outputs": [],
   "source": [
    "obj=['주구매코너'] "
   ]
  },
  {
   "cell_type": "code",
   "execution_count": 152,
   "metadata": {},
   "outputs": [
    {
     "data": {
      "text/html": [
       "<div>\n",
       "<style scoped>\n",
       "    .dataframe tbody tr th:only-of-type {\n",
       "        vertical-align: middle;\n",
       "    }\n",
       "\n",
       "    .dataframe tbody tr th {\n",
       "        vertical-align: top;\n",
       "    }\n",
       "\n",
       "    .dataframe thead th {\n",
       "        text-align: right;\n",
       "    }\n",
       "</style>\n",
       "<table border=\"1\" class=\"dataframe\">\n",
       "  <thead>\n",
       "    <tr style=\"text-align: right;\">\n",
       "      <th></th>\n",
       "      <th>주구매코너</th>\n",
       "    </tr>\n",
       "  </thead>\n",
       "  <tbody>\n",
       "    <tr>\n",
       "      <th>0</th>\n",
       "      <td>화장품</td>\n",
       "    </tr>\n",
       "    <tr>\n",
       "      <th>1</th>\n",
       "      <td>영캐주얼</td>\n",
       "    </tr>\n",
       "    <tr>\n",
       "      <th>2</th>\n",
       "      <td>장신구</td>\n",
       "    </tr>\n",
       "    <tr>\n",
       "      <th>3</th>\n",
       "      <td>화장품</td>\n",
       "    </tr>\n",
       "    <tr>\n",
       "      <th>4</th>\n",
       "      <td>피혁A</td>\n",
       "    </tr>\n",
       "  </tbody>\n",
       "</table>\n",
       "</div>"
      ],
      "text/plain": [
       "  주구매코너\n",
       "0   화장품\n",
       "1  영캐주얼\n",
       "2   장신구\n",
       "3   화장품\n",
       "4   피혁A"
      ]
     },
     "execution_count": 152,
     "metadata": {},
     "output_type": "execute_result"
    }
   ],
   "source": [
    "dataP[obj].head()"
   ]
  },
  {
   "cell_type": "code",
   "execution_count": 153,
   "metadata": {},
   "outputs": [],
   "source": [
    "dataP[obj] = dataP[obj].apply(lambda x: x.astype('category').cat.codes) \n",
    "# cat.code : 문자가 범주형으로 바뀌면 생기는 코드\n",
    "# apply : 각각의 값별로 함수를 적용"
   ]
  },
  {
   "cell_type": "code",
   "execution_count": 154,
   "metadata": {},
   "outputs": [
    {
     "name": "stdout",
     "output_type": "stream",
     "text": [
      "<class 'pandas.core.frame.DataFrame'>\n",
      "RangeIndex: 5000 entries, 0 to 4999\n",
      "Data columns (total 18 columns):\n",
      " #   Column     Non-Null Count  Dtype  \n",
      "---  ------     --------------  -----  \n",
      " 0   custid     5000 non-null   int64  \n",
      " 1   gender     5000 non-null   int64  \n",
      " 2   총구매액       5000 non-null   int64  \n",
      " 3   구매건수       5000 non-null   int64  \n",
      " 4   평균구매가격     5000 non-null   int64  \n",
      " 5   평균할부개월수    5000 non-null   float64\n",
      " 6   구매브랜드종류    5000 non-null   int64  \n",
      " 7   내점일수       5000 non-null   int64  \n",
      " 8   수입상품_구매비율  5000 non-null   float64\n",
      " 9   주말방문비율     5000 non-null   float64\n",
      " 10  가을_구매건수    4055 non-null   float64\n",
      " 11  겨울_구매건수    4103 non-null   float64\n",
      " 12  봄_구매건수     4311 non-null   float64\n",
      " 13  여름_구매건수    3978 non-null   float64\n",
      " 14  아침_구매건수    3558 non-null   float64\n",
      " 15  저녁_구매건수    4033 non-null   float64\n",
      " 16  점심_구매건수    4855 non-null   float64\n",
      " 17  주구매코너      5000 non-null   int8   \n",
      "dtypes: float64(10), int64(7), int8(1)\n",
      "memory usage: 669.1 KB\n"
     ]
    }
   ],
   "source": [
    "dataP.info()"
   ]
  },
  {
   "cell_type": "code",
   "execution_count": 155,
   "metadata": {},
   "outputs": [
    {
     "data": {
      "text/html": [
       "<div>\n",
       "<style scoped>\n",
       "    .dataframe tbody tr th:only-of-type {\n",
       "        vertical-align: middle;\n",
       "    }\n",
       "\n",
       "    .dataframe tbody tr th {\n",
       "        vertical-align: top;\n",
       "    }\n",
       "\n",
       "    .dataframe thead th {\n",
       "        text-align: right;\n",
       "    }\n",
       "</style>\n",
       "<table border=\"1\" class=\"dataframe\">\n",
       "  <thead>\n",
       "    <tr style=\"text-align: right;\">\n",
       "      <th></th>\n",
       "      <th>주구매코너</th>\n",
       "    </tr>\n",
       "  </thead>\n",
       "  <tbody>\n",
       "    <tr>\n",
       "      <th>0</th>\n",
       "      <td>24</td>\n",
       "    </tr>\n",
       "    <tr>\n",
       "      <th>1</th>\n",
       "      <td>11</td>\n",
       "    </tr>\n",
       "    <tr>\n",
       "      <th>2</th>\n",
       "      <td>15</td>\n",
       "    </tr>\n",
       "    <tr>\n",
       "      <th>3</th>\n",
       "      <td>24</td>\n",
       "    </tr>\n",
       "    <tr>\n",
       "      <th>4</th>\n",
       "      <td>22</td>\n",
       "    </tr>\n",
       "  </tbody>\n",
       "</table>\n",
       "</div>"
      ],
      "text/plain": [
       "   주구매코너\n",
       "0     24\n",
       "1     11\n",
       "2     15\n",
       "3     24\n",
       "4     22"
      ]
     },
     "execution_count": 155,
     "metadata": {},
     "output_type": "execute_result"
    }
   ],
   "source": [
    "dataP[obj].head()"
   ]
  },
  {
   "cell_type": "code",
   "execution_count": 156,
   "metadata": {},
   "outputs": [
    {
     "name": "stdout",
     "output_type": "stream",
     "text": [
      "<class 'pandas.core.frame.DataFrame'>\n",
      "RangeIndex: 5000 entries, 0 to 4999\n",
      "Data columns (total 18 columns):\n",
      " #   Column     Non-Null Count  Dtype  \n",
      "---  ------     --------------  -----  \n",
      " 0   custid     5000 non-null   int64  \n",
      " 1   gender     5000 non-null   int64  \n",
      " 2   총구매액       5000 non-null   int64  \n",
      " 3   구매건수       5000 non-null   int64  \n",
      " 4   평균구매가격     5000 non-null   int64  \n",
      " 5   평균할부개월수    5000 non-null   float64\n",
      " 6   구매브랜드종류    5000 non-null   int64  \n",
      " 7   내점일수       5000 non-null   int64  \n",
      " 8   수입상품_구매비율  5000 non-null   float64\n",
      " 9   주말방문비율     5000 non-null   float64\n",
      " 10  가을_구매건수    4055 non-null   float64\n",
      " 11  겨울_구매건수    4103 non-null   float64\n",
      " 12  봄_구매건수     4311 non-null   float64\n",
      " 13  여름_구매건수    3978 non-null   float64\n",
      " 14  아침_구매건수    3558 non-null   float64\n",
      " 15  저녁_구매건수    4033 non-null   float64\n",
      " 16  점심_구매건수    4855 non-null   float64\n",
      " 17  주구매코너      5000 non-null   int8   \n",
      "dtypes: float64(10), int64(7), int8(1)\n",
      "memory usage: 669.1 KB\n"
     ]
    }
   ],
   "source": [
    "dataP.info()"
   ]
  },
  {
   "cell_type": "code",
   "execution_count": 157,
   "metadata": {},
   "outputs": [
    {
     "data": {
      "text/plain": [
       "custid          0\n",
       "gender          0\n",
       "총구매액            0\n",
       "구매건수            0\n",
       "평균구매가격          0\n",
       "평균할부개월수         0\n",
       "구매브랜드종류         0\n",
       "내점일수            0\n",
       "수입상품_구매비율       0\n",
       "주말방문비율          0\n",
       "가을_구매건수       945\n",
       "겨울_구매건수       897\n",
       "봄_구매건수        689\n",
       "여름_구매건수      1022\n",
       "아침_구매건수      1442\n",
       "저녁_구매건수       967\n",
       "점심_구매건수       145\n",
       "주구매코너           0\n",
       "dtype: int64"
      ]
     },
     "execution_count": 157,
     "metadata": {},
     "output_type": "execute_result"
    }
   ],
   "source": [
    "dataP.isnull().sum()"
   ]
  },
  {
   "cell_type": "code",
   "execution_count": 158,
   "metadata": {},
   "outputs": [
    {
     "data": {
      "text/plain": [
       "(5000, 18)"
      ]
     },
     "execution_count": 158,
     "metadata": {},
     "output_type": "execute_result"
    }
   ],
   "source": [
    "dataP.shape"
   ]
  },
  {
   "cell_type": "markdown",
   "metadata": {},
   "source": [
    "### 결측치 제거"
   ]
  },
  {
   "cell_type": "code",
   "execution_count": 159,
   "metadata": {},
   "outputs": [
    {
     "data": {
      "text/plain": [
       "(2235, 18)"
      ]
     },
     "execution_count": 159,
     "metadata": {},
     "output_type": "execute_result"
    }
   ],
   "source": [
    "dataP_drop = dataP.dropna(subset=['가을_구매건수','겨울_구매건수','봄_구매건수','여름_구매건수','아침_구매건수','저녁_구매건수','점심_구매건수' ])\n",
    "dataP_drop.shape"
   ]
  },
  {
   "cell_type": "code",
   "execution_count": 160,
   "metadata": {},
   "outputs": [
    {
     "data": {
      "text/plain": [
       "custid       0\n",
       "gender       0\n",
       "총구매액         0\n",
       "구매건수         0\n",
       "평균구매가격       0\n",
       "평균할부개월수      0\n",
       "구매브랜드종류      0\n",
       "내점일수         0\n",
       "수입상품_구매비율    0\n",
       "주말방문비율       0\n",
       "가을_구매건수      0\n",
       "겨울_구매건수      0\n",
       "봄_구매건수       0\n",
       "여름_구매건수      0\n",
       "아침_구매건수      0\n",
       "저녁_구매건수      0\n",
       "점심_구매건수      0\n",
       "주구매코너        0\n",
       "dtype: int64"
      ]
     },
     "execution_count": 160,
     "metadata": {},
     "output_type": "execute_result"
    }
   ],
   "source": [
    "dataP_drop.isnull().sum()"
   ]
  },
  {
   "cell_type": "markdown",
   "metadata": {},
   "source": [
    "### 결측값 대체"
   ]
  },
  {
   "cell_type": "markdown",
   "metadata": {
    "colab_type": "text",
    "id": "VBRVJ8lf6Hus"
   },
   "source": [
    "<div class=\"alert alert-block alert-warning\">\n",
    "- strategy=\"mean\": 평균 대체\n",
    "\n",
    "- strategy=\"median\": 중위수 대체\n",
    "- strategy=\"most_frequent\":최빈값 대체\n"
   ]
  },
  {
   "cell_type": "code",
   "execution_count": 161,
   "metadata": {},
   "outputs": [],
   "source": [
    "con = ['가을_구매건수','겨울_구매건수','봄_구매건수','여름_구매건수','아침_구매건수','저녁_구매건수','점심_구매건수' ]"
   ]
  },
  {
   "cell_type": "code",
   "execution_count": 162,
   "metadata": {},
   "outputs": [
    {
     "data": {
      "text/plain": [
       "SimpleImputer(add_indicator=False, copy=True, fill_value=None,\n",
       "              missing_values=nan, strategy='most_frequent', verbose=0)"
      ]
     },
     "execution_count": 162,
     "metadata": {},
     "output_type": "execute_result"
    }
   ],
   "source": [
    "from sklearn.impute import SimpleImputer\n",
    "imputer_con = SimpleImputer(strategy=\"most_frequent\")  \n",
    "imputer_con.fit(dataP[con])"
   ]
  },
  {
   "cell_type": "code",
   "execution_count": 163,
   "metadata": {},
   "outputs": [
    {
     "data": {
      "text/plain": [
       "array([[ 1.,  9.,  6., ...,  1.,  6.,  9.],\n",
       "       [ 1.,  5.,  4., ...,  3.,  1.,  6.],\n",
       "       [ 7., 17., 12., ..., 10., 11., 15.],\n",
       "       ...,\n",
       "       [12.,  6.,  6., ..., 16.,  1., 21.],\n",
       "       [ 6.,  4.,  2., ...,  1.,  2., 11.],\n",
       "       [ 6.,  5., 10., ...,  8.,  5., 19.]])"
      ]
     },
     "execution_count": 163,
     "metadata": {},
     "output_type": "execute_result"
    }
   ],
   "source": [
    "x = imputer_con.transform(dataP[con]); x"
   ]
  },
  {
   "cell_type": "code",
   "execution_count": 164,
   "metadata": {},
   "outputs": [
    {
     "name": "stdout",
     "output_type": "stream",
     "text": [
      "<class 'pandas.core.frame.DataFrame'>\n",
      "RangeIndex: 5000 entries, 0 to 4999\n",
      "Data columns (total 18 columns):\n",
      " #   Column     Non-Null Count  Dtype  \n",
      "---  ------     --------------  -----  \n",
      " 0   custid     5000 non-null   int64  \n",
      " 1   gender     5000 non-null   int64  \n",
      " 2   총구매액       5000 non-null   int64  \n",
      " 3   구매건수       5000 non-null   int64  \n",
      " 4   평균구매가격     5000 non-null   int64  \n",
      " 5   평균할부개월수    5000 non-null   float64\n",
      " 6   구매브랜드종류    5000 non-null   int64  \n",
      " 7   내점일수       5000 non-null   int64  \n",
      " 8   수입상품_구매비율  5000 non-null   float64\n",
      " 9   주말방문비율     5000 non-null   float64\n",
      " 10  가을_구매건수    5000 non-null   float64\n",
      " 11  겨울_구매건수    5000 non-null   float64\n",
      " 12  봄_구매건수     5000 non-null   float64\n",
      " 13  여름_구매건수    5000 non-null   float64\n",
      " 14  아침_구매건수    5000 non-null   float64\n",
      " 15  저녁_구매건수    5000 non-null   float64\n",
      " 16  점심_구매건수    5000 non-null   float64\n",
      " 17  주구매코너      5000 non-null   int8   \n",
      "dtypes: float64(10), int64(7), int8(1)\n",
      "memory usage: 669.1 KB\n"
     ]
    }
   ],
   "source": [
    "dataP[con] = x\n",
    "dataP.info()"
   ]
  },
  {
   "cell_type": "code",
   "execution_count": 165,
   "metadata": {},
   "outputs": [
    {
     "data": {
      "text/plain": [
       "custid       0\n",
       "gender       0\n",
       "총구매액         0\n",
       "구매건수         0\n",
       "평균구매가격       0\n",
       "평균할부개월수      0\n",
       "구매브랜드종류      0\n",
       "내점일수         0\n",
       "수입상품_구매비율    0\n",
       "주말방문비율       0\n",
       "가을_구매건수      0\n",
       "겨울_구매건수      0\n",
       "봄_구매건수       0\n",
       "여름_구매건수      0\n",
       "아침_구매건수      0\n",
       "저녁_구매건수      0\n",
       "점심_구매건수      0\n",
       "주구매코너        0\n",
       "dtype: int64"
      ]
     },
     "execution_count": 165,
     "metadata": {},
     "output_type": "execute_result"
    }
   ],
   "source": [
    "dataP.isnull().sum()"
   ]
  },
  {
   "cell_type": "code",
   "execution_count": 166,
   "metadata": {},
   "outputs": [
    {
     "data": {
      "text/plain": [
       "(5000, 18)"
      ]
     },
     "execution_count": 166,
     "metadata": {},
     "output_type": "execute_result"
    }
   ],
   "source": [
    "dataP.shape"
   ]
  },
  {
   "cell_type": "code",
   "execution_count": 219,
   "metadata": {},
   "outputs": [
    {
     "data": {
      "text/html": [
       "<div>\n",
       "<style scoped>\n",
       "    .dataframe tbody tr th:only-of-type {\n",
       "        vertical-align: middle;\n",
       "    }\n",
       "\n",
       "    .dataframe tbody tr th {\n",
       "        vertical-align: top;\n",
       "    }\n",
       "\n",
       "    .dataframe thead th {\n",
       "        text-align: right;\n",
       "    }\n",
       "</style>\n",
       "<table border=\"1\" class=\"dataframe\">\n",
       "  <thead>\n",
       "    <tr style=\"text-align: right;\">\n",
       "      <th></th>\n",
       "      <th>custid</th>\n",
       "      <th>gender</th>\n",
       "      <th>총구매액</th>\n",
       "      <th>구매건수</th>\n",
       "      <th>평균구매가격</th>\n",
       "      <th>평균할부개월수</th>\n",
       "      <th>구매브랜드종류</th>\n",
       "      <th>내점일수</th>\n",
       "      <th>수입상품_구매비율</th>\n",
       "      <th>주말방문비율</th>\n",
       "      <th>가을_구매건수</th>\n",
       "      <th>겨울_구매건수</th>\n",
       "      <th>봄_구매건수</th>\n",
       "      <th>여름_구매건수</th>\n",
       "      <th>아침_구매건수</th>\n",
       "      <th>저녁_구매건수</th>\n",
       "      <th>점심_구매건수</th>\n",
       "      <th>주구매코너</th>\n",
       "    </tr>\n",
       "  </thead>\n",
       "  <tbody>\n",
       "    <tr>\n",
       "      <th>0</th>\n",
       "      <td>18</td>\n",
       "      <td>0</td>\n",
       "      <td>680100</td>\n",
       "      <td>15</td>\n",
       "      <td>45340</td>\n",
       "      <td>1.7</td>\n",
       "      <td>9</td>\n",
       "      <td>10</td>\n",
       "      <td>26.7</td>\n",
       "      <td>100.0</td>\n",
       "      <td>1.0</td>\n",
       "      <td>9.0</td>\n",
       "      <td>6.0</td>\n",
       "      <td>1.0</td>\n",
       "      <td>1.0</td>\n",
       "      <td>6.0</td>\n",
       "      <td>9.0</td>\n",
       "      <td>24</td>\n",
       "    </tr>\n",
       "    <tr>\n",
       "      <th>1</th>\n",
       "      <td>21</td>\n",
       "      <td>0</td>\n",
       "      <td>353450</td>\n",
       "      <td>9</td>\n",
       "      <td>39272</td>\n",
       "      <td>1.2</td>\n",
       "      <td>6</td>\n",
       "      <td>8</td>\n",
       "      <td>11.1</td>\n",
       "      <td>37.5</td>\n",
       "      <td>1.0</td>\n",
       "      <td>5.0</td>\n",
       "      <td>4.0</td>\n",
       "      <td>1.0</td>\n",
       "      <td>3.0</td>\n",
       "      <td>1.0</td>\n",
       "      <td>6.0</td>\n",
       "      <td>11</td>\n",
       "    </tr>\n",
       "    <tr>\n",
       "      <th>2</th>\n",
       "      <td>23</td>\n",
       "      <td>0</td>\n",
       "      <td>5671400</td>\n",
       "      <td>36</td>\n",
       "      <td>157539</td>\n",
       "      <td>2.8</td>\n",
       "      <td>22</td>\n",
       "      <td>16</td>\n",
       "      <td>5.6</td>\n",
       "      <td>37.5</td>\n",
       "      <td>7.0</td>\n",
       "      <td>17.0</td>\n",
       "      <td>12.0</td>\n",
       "      <td>1.0</td>\n",
       "      <td>10.0</td>\n",
       "      <td>11.0</td>\n",
       "      <td>15.0</td>\n",
       "      <td>15</td>\n",
       "    </tr>\n",
       "    <tr>\n",
       "      <th>3</th>\n",
       "      <td>26</td>\n",
       "      <td>0</td>\n",
       "      <td>1964000</td>\n",
       "      <td>28</td>\n",
       "      <td>70143</td>\n",
       "      <td>1.4</td>\n",
       "      <td>15</td>\n",
       "      <td>14</td>\n",
       "      <td>39.3</td>\n",
       "      <td>28.6</td>\n",
       "      <td>5.0</td>\n",
       "      <td>8.0</td>\n",
       "      <td>15.0</td>\n",
       "      <td>1.0</td>\n",
       "      <td>1.0</td>\n",
       "      <td>18.0</td>\n",
       "      <td>10.0</td>\n",
       "      <td>24</td>\n",
       "    </tr>\n",
       "    <tr>\n",
       "      <th>4</th>\n",
       "      <td>35</td>\n",
       "      <td>0</td>\n",
       "      <td>885000</td>\n",
       "      <td>5</td>\n",
       "      <td>177000</td>\n",
       "      <td>6.0</td>\n",
       "      <td>5</td>\n",
       "      <td>2</td>\n",
       "      <td>0.0</td>\n",
       "      <td>100.0</td>\n",
       "      <td>1.0</td>\n",
       "      <td>1.0</td>\n",
       "      <td>5.0</td>\n",
       "      <td>1.0</td>\n",
       "      <td>1.0</td>\n",
       "      <td>5.0</td>\n",
       "      <td>2.0</td>\n",
       "      <td>22</td>\n",
       "    </tr>\n",
       "    <tr>\n",
       "      <th>...</th>\n",
       "      <td>...</td>\n",
       "      <td>...</td>\n",
       "      <td>...</td>\n",
       "      <td>...</td>\n",
       "      <td>...</td>\n",
       "      <td>...</td>\n",
       "      <td>...</td>\n",
       "      <td>...</td>\n",
       "      <td>...</td>\n",
       "      <td>...</td>\n",
       "      <td>...</td>\n",
       "      <td>...</td>\n",
       "      <td>...</td>\n",
       "      <td>...</td>\n",
       "      <td>...</td>\n",
       "      <td>...</td>\n",
       "      <td>...</td>\n",
       "      <td>...</td>\n",
       "    </tr>\n",
       "    <tr>\n",
       "      <th>4995</th>\n",
       "      <td>49952</td>\n",
       "      <td>1</td>\n",
       "      <td>6666517</td>\n",
       "      <td>93</td>\n",
       "      <td>71683</td>\n",
       "      <td>1.8</td>\n",
       "      <td>27</td>\n",
       "      <td>39</td>\n",
       "      <td>10.8</td>\n",
       "      <td>43.6</td>\n",
       "      <td>13.0</td>\n",
       "      <td>33.0</td>\n",
       "      <td>14.0</td>\n",
       "      <td>33.0</td>\n",
       "      <td>8.0</td>\n",
       "      <td>41.0</td>\n",
       "      <td>44.0</td>\n",
       "      <td>14</td>\n",
       "    </tr>\n",
       "    <tr>\n",
       "      <th>4996</th>\n",
       "      <td>49954</td>\n",
       "      <td>0</td>\n",
       "      <td>3112100</td>\n",
       "      <td>17</td>\n",
       "      <td>183065</td>\n",
       "      <td>3.6</td>\n",
       "      <td>10</td>\n",
       "      <td>13</td>\n",
       "      <td>29.4</td>\n",
       "      <td>38.5</td>\n",
       "      <td>4.0</td>\n",
       "      <td>6.0</td>\n",
       "      <td>6.0</td>\n",
       "      <td>1.0</td>\n",
       "      <td>3.0</td>\n",
       "      <td>1.0</td>\n",
       "      <td>14.0</td>\n",
       "      <td>5</td>\n",
       "    </tr>\n",
       "    <tr>\n",
       "      <th>4997</th>\n",
       "      <td>49957</td>\n",
       "      <td>1</td>\n",
       "      <td>5852482</td>\n",
       "      <td>37</td>\n",
       "      <td>158175</td>\n",
       "      <td>2.6</td>\n",
       "      <td>14</td>\n",
       "      <td>21</td>\n",
       "      <td>40.5</td>\n",
       "      <td>19.0</td>\n",
       "      <td>12.0</td>\n",
       "      <td>6.0</td>\n",
       "      <td>6.0</td>\n",
       "      <td>13.0</td>\n",
       "      <td>16.0</td>\n",
       "      <td>1.0</td>\n",
       "      <td>21.0</td>\n",
       "      <td>24</td>\n",
       "    </tr>\n",
       "    <tr>\n",
       "      <th>4998</th>\n",
       "      <td>49975</td>\n",
       "      <td>1</td>\n",
       "      <td>654498</td>\n",
       "      <td>13</td>\n",
       "      <td>50346</td>\n",
       "      <td>2.5</td>\n",
       "      <td>10</td>\n",
       "      <td>7</td>\n",
       "      <td>7.7</td>\n",
       "      <td>14.3</td>\n",
       "      <td>6.0</td>\n",
       "      <td>4.0</td>\n",
       "      <td>2.0</td>\n",
       "      <td>1.0</td>\n",
       "      <td>1.0</td>\n",
       "      <td>2.0</td>\n",
       "      <td>11.0</td>\n",
       "      <td>22</td>\n",
       "    </tr>\n",
       "    <tr>\n",
       "      <th>4999</th>\n",
       "      <td>49993</td>\n",
       "      <td>1</td>\n",
       "      <td>2554723</td>\n",
       "      <td>32</td>\n",
       "      <td>79835</td>\n",
       "      <td>1.7</td>\n",
       "      <td>9</td>\n",
       "      <td>26</td>\n",
       "      <td>21.9</td>\n",
       "      <td>34.6</td>\n",
       "      <td>6.0</td>\n",
       "      <td>5.0</td>\n",
       "      <td>10.0</td>\n",
       "      <td>11.0</td>\n",
       "      <td>8.0</td>\n",
       "      <td>5.0</td>\n",
       "      <td>19.0</td>\n",
       "      <td>14</td>\n",
       "    </tr>\n",
       "  </tbody>\n",
       "</table>\n",
       "<p>5000 rows × 18 columns</p>\n",
       "</div>"
      ],
      "text/plain": [
       "      custid  gender     총구매액  구매건수  평균구매가격  평균할부개월수  구매브랜드종류  내점일수  \\\n",
       "0         18       0   680100    15   45340      1.7        9    10   \n",
       "1         21       0   353450     9   39272      1.2        6     8   \n",
       "2         23       0  5671400    36  157539      2.8       22    16   \n",
       "3         26       0  1964000    28   70143      1.4       15    14   \n",
       "4         35       0   885000     5  177000      6.0        5     2   \n",
       "...      ...     ...      ...   ...     ...      ...      ...   ...   \n",
       "4995   49952       1  6666517    93   71683      1.8       27    39   \n",
       "4996   49954       0  3112100    17  183065      3.6       10    13   \n",
       "4997   49957       1  5852482    37  158175      2.6       14    21   \n",
       "4998   49975       1   654498    13   50346      2.5       10     7   \n",
       "4999   49993       1  2554723    32   79835      1.7        9    26   \n",
       "\n",
       "      수입상품_구매비율  주말방문비율  가을_구매건수  겨울_구매건수  봄_구매건수  여름_구매건수  아침_구매건수  저녁_구매건수  \\\n",
       "0          26.7   100.0      1.0      9.0     6.0      1.0      1.0      6.0   \n",
       "1          11.1    37.5      1.0      5.0     4.0      1.0      3.0      1.0   \n",
       "2           5.6    37.5      7.0     17.0    12.0      1.0     10.0     11.0   \n",
       "3          39.3    28.6      5.0      8.0    15.0      1.0      1.0     18.0   \n",
       "4           0.0   100.0      1.0      1.0     5.0      1.0      1.0      5.0   \n",
       "...         ...     ...      ...      ...     ...      ...      ...      ...   \n",
       "4995       10.8    43.6     13.0     33.0    14.0     33.0      8.0     41.0   \n",
       "4996       29.4    38.5      4.0      6.0     6.0      1.0      3.0      1.0   \n",
       "4997       40.5    19.0     12.0      6.0     6.0     13.0     16.0      1.0   \n",
       "4998        7.7    14.3      6.0      4.0     2.0      1.0      1.0      2.0   \n",
       "4999       21.9    34.6      6.0      5.0    10.0     11.0      8.0      5.0   \n",
       "\n",
       "      점심_구매건수  주구매코너  \n",
       "0         9.0     24  \n",
       "1         6.0     11  \n",
       "2        15.0     15  \n",
       "3        10.0     24  \n",
       "4         2.0     22  \n",
       "...       ...    ...  \n",
       "4995     44.0     14  \n",
       "4996     14.0      5  \n",
       "4997     21.0     24  \n",
       "4998     11.0     22  \n",
       "4999     19.0     14  \n",
       "\n",
       "[5000 rows x 18 columns]"
      ]
     },
     "execution_count": 219,
     "metadata": {},
     "output_type": "execute_result"
    }
   ],
   "source": [
    "dataP"
   ]
  },
  {
   "cell_type": "code",
   "execution_count": 167,
   "metadata": {},
   "outputs": [],
   "source": [
    "dfX = dataP.drop(['custid','gender'], axis=1) "
   ]
  },
  {
   "cell_type": "code",
   "execution_count": 168,
   "metadata": {},
   "outputs": [],
   "source": [
    "dfy = dataP['gender']"
   ]
  },
  {
   "cell_type": "markdown",
   "metadata": {},
   "source": [
    "## Cross-Validation ##"
   ]
  },
  {
   "cell_type": "code",
   "execution_count": 169,
   "metadata": {},
   "outputs": [],
   "source": [
    "from sklearn.linear_model import LogisticRegression\n",
    "from sklearn.neighbors import KNeighborsClassifier\n",
    "from sklearn.tree import DecisionTreeClassifier\n",
    "\n",
    "#model = KNeighborsClassifier()\n",
    "model = LogisticRegression()\n",
    "#model = DecisionTreeClassifier()"
   ]
  },
  {
   "cell_type": "code",
   "execution_count": 170,
   "metadata": {},
   "outputs": [],
   "source": [
    "from sklearn.model_selection import cross_val_score\n",
    "from sklearn.model_selection import KFold"
   ]
  },
  {
   "cell_type": "code",
   "execution_count": 171,
   "metadata": {},
   "outputs": [
    {
     "data": {
      "text/plain": [
       "array([0.696, 0.697, 0.695, 0.697, 0.695])"
      ]
     },
     "execution_count": 171,
     "metadata": {},
     "output_type": "execute_result"
    }
   ],
   "source": [
    "scores = cross_val_score(model, dfX, dfy); scores"
   ]
  },
  {
   "cell_type": "code",
   "execution_count": 172,
   "metadata": {},
   "outputs": [
    {
     "name": "stdout",
     "output_type": "stream",
     "text": [
      "Mean: 0.696\n",
      "Std: 0.001\n",
      "Min: 0.695\n",
      "Max: 0.697\n"
     ]
    }
   ],
   "source": [
    "print(\"Mean: {:.3f}\\nStd: {:.3f}\\nMin: {:.3f}\\nMax: {:.3f}\".format(\n",
    "    scores.mean(), scores.std(), scores.min(), scores.max()))\n",
    "# 분산이 작으면 Overfitting 이 적다"
   ]
  },
  {
   "cell_type": "markdown",
   "metadata": {},
   "source": [
    "### 남녀 비율 조정"
   ]
  },
  {
   "cell_type": "code",
   "execution_count": 220,
   "metadata": {},
   "outputs": [
    {
     "data": {
      "text/plain": [
       "0    3479\n",
       "1    1521\n",
       "Name: gender, dtype: int64"
      ]
     },
     "execution_count": 220,
     "metadata": {},
     "output_type": "execute_result"
    }
   ],
   "source": [
    "dataP['gender'].value_counts()"
   ]
  },
  {
   "cell_type": "code",
   "execution_count": 174,
   "metadata": {},
   "outputs": [],
   "source": [
    "# 여자 수가 남자수보다 많아서 발랜싱을 해야됀다.\n",
    "#아래 코드로 쭈려주고(여자) 늘려주고(남자)"
   ]
  },
  {
   "cell_type": "markdown",
   "metadata": {},
   "source": [
    "- SMOTE + Tomek"
   ]
  },
  {
   "cell_type": "code",
   "execution_count": 43,
   "metadata": {},
   "outputs": [
    {
     "name": "stdout",
     "output_type": "stream",
     "text": [
      "Collecting imblearn\n",
      "  Using cached imblearn-0.0-py2.py3-none-any.whl (1.9 kB)\n",
      "Collecting imbalanced-learn\n",
      "  Using cached imbalanced_learn-0.6.2-py3-none-any.whl (163 kB)\n",
      "Requirement already satisfied: scipy>=0.17 in c:\\users\\user\\anaconda3\\lib\\site-packages (from imbalanced-learn->imblearn) (1.4.1)\n",
      "Requirement already satisfied: joblib>=0.11 in c:\\users\\user\\anaconda3\\lib\\site-packages (from imbalanced-learn->imblearn) (0.14.1)\n",
      "Requirement already satisfied: scikit-learn>=0.22 in c:\\users\\user\\anaconda3\\lib\\site-packages (from imbalanced-learn->imblearn) (0.22.1)\n",
      "Requirement already satisfied: numpy>=1.11 in c:\\users\\user\\anaconda3\\lib\\site-packages (from imbalanced-learn->imblearn) (1.18.1)\n",
      "Installing collected packages: imbalanced-learn, imblearn\n",
      "Successfully installed imbalanced-learn-0.6.2 imblearn-0.0\n",
      "Note: you may need to restart the kernel to use updated packages.\n"
     ]
    }
   ],
   "source": [
    "pip install imblearn"
   ]
  },
  {
   "cell_type": "code",
   "execution_count": 175,
   "metadata": {},
   "outputs": [],
   "source": [
    "from imblearn.combine import *"
   ]
  },
  {
   "cell_type": "code",
   "execution_count": 176,
   "metadata": {},
   "outputs": [],
   "source": [
    "from imblearn.combine import SMOTETomek"
   ]
  },
  {
   "cell_type": "code",
   "execution_count": 177,
   "metadata": {},
   "outputs": [
    {
     "data": {
      "text/plain": [
       "array([0.696, 0.697, 0.695, 0.697, 0.695])"
      ]
     },
     "execution_count": 177,
     "metadata": {},
     "output_type": "execute_result"
    }
   ],
   "source": [
    "scores = cross_val_score(model, dfX, dfy); scores"
   ]
  },
  {
   "cell_type": "code",
   "execution_count": 178,
   "metadata": {},
   "outputs": [],
   "source": [
    "from sklearn.model_selection import train_test_split\n",
    "from sklearn.metrics import classification_report"
   ]
  },
  {
   "cell_type": "code",
   "execution_count": 179,
   "metadata": {},
   "outputs": [],
   "source": [
    "X_train, X_test, y_train, y_test = train_test_split(dfX, dfy, test_size=0.25, random_state=0)"
   ]
  },
  {
   "cell_type": "markdown",
   "metadata": {},
   "source": [
    "- 남성의 데이터가 적어서 남성데이터(1) 재현율(recall)이 현격히 낮은 현상이 나타남"
   ]
  },
  {
   "cell_type": "code",
   "execution_count": 180,
   "metadata": {},
   "outputs": [
    {
     "name": "stdout",
     "output_type": "stream",
     "text": [
      "              precision    recall  f1-score   support\n",
      "\n",
      "           0       0.71      0.98      0.82       883\n",
      "           1       0.34      0.03      0.06       367\n",
      "\n",
      "    accuracy                           0.70      1250\n",
      "   macro avg       0.53      0.50      0.44      1250\n",
      "weighted avg       0.60      0.70      0.60      1250\n",
      "\n"
     ]
    }
   ],
   "source": [
    "tree3 = DecisionTreeClassifier(max_depth=4, random_state=0)\n",
    "\n",
    "tree3.fit(X_train, y_train)\n",
    "y_pred3 = tree3.predict(X_test)\n",
    "\n",
    "print(classification_report(y_test, y_pred3))\n",
    "# (precision) 0 이라고 예측한 데이터의 71%만 실제로 0\n",
    "# (precision) 1 이라고 예측한 데이터의 34%만 실제로 1\n",
    "# (recall) 실제 0인 데이터중 98%가 0으로 판별됨 \n",
    "# (recall) 실제 1인 데이타중 3%만 1로 판별됨\n",
    "# recall 에서 0과 1의 판별결과가 현격한 차이가 남."
   ]
  },
  {
   "cell_type": "markdown",
   "metadata": {},
   "source": [
    "- 비대칭 데이터는 데이터 비율을 맞추면 정밀도(precision)가 향상된다.\n",
    "\n",
    "    - 오버샘플링(Over-Sampling) : 소수 클래스 데이터를 추가함.\n",
    "    - 언더샘플링(Under-Sampling) : 다수 클래스 데이터에서 일부만 사용함.\n",
    "    - 복합샘플링(Combining Over-and Under-Sampling)\n",
    "- pip install -U imbalanced-learn"
   ]
  },
  {
   "cell_type": "markdown",
   "metadata": {},
   "source": [
    "- Tomek links: a under-sampling class method"
   ]
  },
  {
   "cell_type": "code",
   "execution_count": 95,
   "metadata": {},
   "outputs": [
    {
     "name": "stdout",
     "output_type": "stream",
     "text": [
      "Requirement already up-to-date: imbalanced-learn in c:\\users\\user\\anaconda3\\lib\\site-packages (0.6.2)\n",
      "Requirement already satisfied, skipping upgrade: scikit-learn>=0.22 in c:\\users\\user\\anaconda3\\lib\\site-packages (from imbalanced-learn) (0.22.1)\n",
      "Requirement already satisfied, skipping upgrade: scipy>=0.17 in c:\\users\\user\\anaconda3\\lib\\site-packages (from imbalanced-learn) (1.4.1)\n",
      "Requirement already satisfied, skipping upgrade: joblib>=0.11 in c:\\users\\user\\anaconda3\\lib\\site-packages (from imbalanced-learn) (0.14.1)\n",
      "Requirement already satisfied, skipping upgrade: numpy>=1.11 in c:\\users\\user\\anaconda3\\lib\\site-packages (from imbalanced-learn) (1.18.1)\n",
      "Note: you may need to restart the kernel to use updated packages.\n"
     ]
    }
   ],
   "source": [
    "pip install -U imbalanced-learn"
   ]
  },
  {
   "cell_type": "code",
   "execution_count": 181,
   "metadata": {},
   "outputs": [],
   "source": [
    "from imblearn.under_sampling import TomekLinks"
   ]
  },
  {
   "cell_type": "code",
   "execution_count": 221,
   "metadata": {},
   "outputs": [
    {
     "name": "stdout",
     "output_type": "stream",
     "text": [
      "              precision    recall  f1-score   support\n",
      "\n",
      "           0       0.69      0.96      0.80       847\n",
      "           1       0.51      0.09      0.15       403\n",
      "\n",
      "    accuracy                           0.68      1250\n",
      "   macro avg       0.60      0.52      0.48      1250\n",
      "weighted avg       0.63      0.68      0.59      1250\n",
      "\n"
     ]
    }
   ],
   "source": [
    "XX, yy = TomekLinks().fit_sample(X_train, y_train)\n",
    "tree0 = DecisionTreeClassifier(max_depth=4, random_state=0)\n",
    "tree0.fit(XX, yy)\n",
    "y_pred0 = tree0.predict(X_test)\n",
    "\n",
    "print(classification_report(y_test, y_pred0))\n",
    "# Under-Sampling 기법은 precision/recall/f1-score 개선이 미미함"
   ]
  },
  {
   "cell_type": "markdown",
   "metadata": {},
   "source": [
    "- SMOTE + Tomek \n",
    "    - 복합샘플링(Combining Over-and Under-Sampling), Hybrid 샘플링"
   ]
  },
  {
   "cell_type": "code",
   "execution_count": 183,
   "metadata": {},
   "outputs": [],
   "source": [
    "from imblearn.combine import SMOTETomek"
   ]
  },
  {
   "cell_type": "code",
   "execution_count": 184,
   "metadata": {
    "scrolled": true
   },
   "outputs": [
    {
     "name": "stdout",
     "output_type": "stream",
     "text": [
      "              precision    recall  f1-score   support\n",
      "\n",
      "           0       0.74      0.56      0.64       883\n",
      "           1       0.33      0.52      0.41       367\n",
      "\n",
      "    accuracy                           0.55      1250\n",
      "   macro avg       0.54      0.54      0.52      1250\n",
      "weighted avg       0.62      0.55      0.57      1250\n",
      "\n"
     ]
    }
   ],
   "source": [
    "# Tomek links: a under-sampling class method\n",
    "XX, yy = SMOTETomek(random_state=0).fit_sample(X_train, y_train)\n",
    "tree0 = DecisionTreeClassifier(max_depth=4, random_state=0)\n",
    "tree0.fit(XX, yy)\n",
    "y_pred0 = tree0.predict(X_test)\n",
    "\n",
    "print(classification_report(y_test, y_pred0))"
   ]
  },
  {
   "cell_type": "markdown",
   "metadata": {},
   "source": [
    "- precision/recall/f1-score 모두 개선됨 => 따라서, Hybrid 샘플링을 하기로 결정함."
   ]
  },
  {
   "cell_type": "code",
   "execution_count": 185,
   "metadata": {},
   "outputs": [],
   "source": [
    "XX, yy = SMOTETomek(random_state=0).fit_sample(X_train, y_train)"
   ]
  },
  {
   "cell_type": "code",
   "execution_count": 186,
   "metadata": {},
   "outputs": [
    {
     "name": "stdout",
     "output_type": "stream",
     "text": [
      "              precision    recall  f1-score   support\n",
      "\n",
      "           0       0.74      0.56      0.64       883\n",
      "           1       0.33      0.52      0.41       367\n",
      "\n",
      "    accuracy                           0.55      1250\n",
      "   macro avg       0.54      0.54      0.52      1250\n",
      "weighted avg       0.62      0.55      0.57      1250\n",
      "\n"
     ]
    }
   ],
   "source": [
    "tree3 = DecisionTreeClassifier(max_depth=4, random_state=0)\n",
    "tree3.fit(XX, yy)\n",
    "y_pred3 = tree3.predict(X_test)\n",
    "\n",
    "print(classification_report(y_test, y_pred3))\n",
    "# (precision) 0 이라고 예측한 데이터의 74%만 실제로 0\n",
    "# (precision) 1 이라고 예측한 데이터의 33%만 실제로 1\n",
    "# (recall) 실제 0인 데이터중 56%만 0으로 판별됨 \n",
    "# (recall) 실제 1인 데이타중 52%만 1로 판별됨"
   ]
  },
  {
   "cell_type": "code",
   "execution_count": 187,
   "metadata": {},
   "outputs": [
    {
     "data": {
      "text/plain": [
       "0.5504"
      ]
     },
     "execution_count": 187,
     "metadata": {},
     "output_type": "execute_result"
    }
   ],
   "source": [
    "tree3.score(X_test,y_test)"
   ]
  },
  {
   "cell_type": "code",
   "execution_count": 188,
   "metadata": {},
   "outputs": [
    {
     "name": "stdout",
     "output_type": "stream",
     "text": [
      "0    883\n",
      "1    367\n",
      "Name: gender, dtype: int64\n"
     ]
    },
    {
     "data": {
      "text/plain": [
       "0.7064"
      ]
     },
     "execution_count": 188,
     "metadata": {},
     "output_type": "execute_result"
    }
   ],
   "source": [
    "from sklearn.dummy import DummyClassifier\n",
    "print(y_test.value_counts())\n",
    "DummyClassifier(strategy='most_frequent').fit(X_train, y_train).score(X_test, y_test)"
   ]
  },
  {
   "cell_type": "code",
   "execution_count": 189,
   "metadata": {},
   "outputs": [
    {
     "name": "stdout",
     "output_type": "stream",
     "text": [
      "Collecting package metadata (current_repodata.json): ...working... done\n",
      "Solving environment: ...working... done\n",
      "\n",
      "# All requested packages already installed.\n",
      "\n",
      "\n",
      "Note: you may need to restart the kernel to use updated packages.\n"
     ]
    }
   ],
   "source": [
    "#conda install -c anaconda py-xgboost"
   ]
  },
  {
   "cell_type": "code",
   "execution_count": 192,
   "metadata": {},
   "outputs": [
    {
     "name": "stdout",
     "output_type": "stream",
     "text": [
      "Requirement already satisfied: xgboost in c:\\users\\user\\anaconda3\\lib\\site-packages (0.90)\n",
      "Requirement already satisfied: numpy in c:\\users\\user\\anaconda3\\lib\\site-packages (from xgboost) (1.18.1)\n",
      "Requirement already satisfied: scipy in c:\\users\\user\\anaconda3\\lib\\site-packages (from xgboost) (1.4.1)\n",
      "Note: you may need to restart the kernel to use updated packages.\n"
     ]
    }
   ],
   "source": [
    "pip install xgboost"
   ]
  },
  {
   "cell_type": "code",
   "execution_count": 193,
   "metadata": {},
   "outputs": [
    {
     "name": "stdout",
     "output_type": "stream",
     "text": [
      "Collecting lightgbm\n",
      "  Downloading lightgbm-2.3.1-py2.py3-none-win_amd64.whl (544 kB)\n",
      "Requirement already satisfied: numpy in c:\\users\\user\\anaconda3\\lib\\site-packages (from lightgbm) (1.18.1)\n",
      "Requirement already satisfied: scikit-learn in c:\\users\\user\\anaconda3\\lib\\site-packages (from lightgbm) (0.22.1)\n",
      "Requirement already satisfied: scipy in c:\\users\\user\\anaconda3\\lib\\site-packages (from lightgbm) (1.4.1)\n",
      "Requirement already satisfied: joblib>=0.11 in c:\\users\\user\\anaconda3\\lib\\site-packages (from scikit-learn->lightgbm) (0.14.1)\n",
      "Installing collected packages: lightgbm\n",
      "Successfully installed lightgbm-2.3.1\n",
      "Note: you may need to restart the kernel to use updated packages.\n"
     ]
    }
   ],
   "source": [
    "pip install lightgbm"
   ]
  },
  {
   "cell_type": "code",
   "execution_count": 194,
   "metadata": {},
   "outputs": [],
   "source": [
    "from xgboost import XGBClassifier\n",
    "from lightgbm import LGBMClassifier"
   ]
  },
  {
   "cell_type": "markdown",
   "metadata": {},
   "source": [
    "- XGBoost\n",
    "    - cmd창 : conda install -c anaconda py-xgboost"
   ]
  },
  {
   "cell_type": "code",
   "execution_count": null,
   "metadata": {},
   "outputs": [],
   "source": []
  },
  {
   "cell_type": "code",
   "execution_count": 196,
   "metadata": {},
   "outputs": [],
   "source": [
    "import xgboost as xgb\n",
    "from xgboost import plot_importance\n",
    "#import pan\n",
    "import numpy as np"
   ]
  },
  {
   "cell_type": "code",
   "execution_count": 197,
   "metadata": {},
   "outputs": [],
   "source": [
    "dtrain = xgb.DMatrix(data=X_train, label=y_train)\n",
    "dtest = xgb.DMatrix(data=X_test, label=y_test)"
   ]
  },
  {
   "cell_type": "code",
   "execution_count": 198,
   "metadata": {},
   "outputs": [],
   "source": [
    "params = {'max_depth':3,\n",
    "          'eta':0.1,\n",
    "          'objective':'binary:logistic',\n",
    "          'eval_metric':'logloss',\n",
    "          'early_stoppings':100\n",
    "         }\n",
    "num_rounds = 400"
   ]
  },
  {
   "cell_type": "code",
   "execution_count": 199,
   "metadata": {},
   "outputs": [
    {
     "name": "stdout",
     "output_type": "stream",
     "text": [
      "[0]\ttrain-logloss:0.675045\teval-logloss:0.677236\n",
      "[1]\ttrain-logloss:0.660293\teval-logloss:0.664325\n",
      "[2]\ttrain-logloss:0.647887\teval-logloss:0.653089\n",
      "[3]\ttrain-logloss:0.637544\teval-logloss:0.644745\n",
      "[4]\ttrain-logloss:0.628918\teval-logloss:0.636996\n",
      "[5]\ttrain-logloss:0.621654\teval-logloss:0.631091\n",
      "[6]\ttrain-logloss:0.615428\teval-logloss:0.626046\n",
      "[7]\ttrain-logloss:0.610146\teval-logloss:0.622061\n",
      "[8]\ttrain-logloss:0.605684\teval-logloss:0.619105\n",
      "[9]\ttrain-logloss:0.601808\teval-logloss:0.616791\n",
      "[10]\ttrain-logloss:0.598327\teval-logloss:0.614544\n",
      "[11]\ttrain-logloss:0.595659\teval-logloss:0.612963\n",
      "[12]\ttrain-logloss:0.593128\teval-logloss:0.611836\n",
      "[13]\ttrain-logloss:0.590811\teval-logloss:0.610339\n",
      "[14]\ttrain-logloss:0.588689\teval-logloss:0.608957\n",
      "[15]\ttrain-logloss:0.586652\teval-logloss:0.60805\n",
      "[16]\ttrain-logloss:0.58462\teval-logloss:0.607616\n",
      "[17]\ttrain-logloss:0.582957\teval-logloss:0.606599\n",
      "[18]\ttrain-logloss:0.581684\teval-logloss:0.605726\n",
      "[19]\ttrain-logloss:0.579875\teval-logloss:0.605108\n",
      "[20]\ttrain-logloss:0.578588\teval-logloss:0.60481\n",
      "[21]\ttrain-logloss:0.577068\teval-logloss:0.604134\n",
      "[22]\ttrain-logloss:0.575994\teval-logloss:0.60361\n",
      "[23]\ttrain-logloss:0.575345\teval-logloss:0.603314\n",
      "[24]\ttrain-logloss:0.574138\teval-logloss:0.602962\n",
      "[25]\ttrain-logloss:0.57339\teval-logloss:0.60271\n",
      "[26]\ttrain-logloss:0.572593\teval-logloss:0.60255\n",
      "[27]\ttrain-logloss:0.571776\teval-logloss:0.602704\n",
      "[28]\ttrain-logloss:0.570808\teval-logloss:0.602492\n",
      "[29]\ttrain-logloss:0.569302\teval-logloss:0.602242\n",
      "[30]\ttrain-logloss:0.568503\teval-logloss:0.602023\n",
      "[31]\ttrain-logloss:0.567865\teval-logloss:0.602088\n",
      "[32]\ttrain-logloss:0.567315\teval-logloss:0.602078\n",
      "[33]\ttrain-logloss:0.566517\teval-logloss:0.60219\n",
      "[34]\ttrain-logloss:0.565911\teval-logloss:0.602107\n",
      "[35]\ttrain-logloss:0.565259\teval-logloss:0.602035\n",
      "[36]\ttrain-logloss:0.564083\teval-logloss:0.602163\n",
      "[37]\ttrain-logloss:0.563205\teval-logloss:0.60199\n",
      "[38]\ttrain-logloss:0.562239\teval-logloss:0.601982\n",
      "[39]\ttrain-logloss:0.561781\teval-logloss:0.602081\n",
      "[40]\ttrain-logloss:0.560825\teval-logloss:0.601873\n",
      "[41]\ttrain-logloss:0.560314\teval-logloss:0.601954\n",
      "[42]\ttrain-logloss:0.559395\teval-logloss:0.601954\n",
      "[43]\ttrain-logloss:0.558507\teval-logloss:0.601837\n",
      "[44]\ttrain-logloss:0.558009\teval-logloss:0.601759\n",
      "[45]\ttrain-logloss:0.557588\teval-logloss:0.601846\n",
      "[46]\ttrain-logloss:0.557229\teval-logloss:0.601911\n",
      "[47]\ttrain-logloss:0.556357\teval-logloss:0.601703\n",
      "[48]\ttrain-logloss:0.556023\teval-logloss:0.601993\n",
      "[49]\ttrain-logloss:0.555537\teval-logloss:0.601994\n",
      "[50]\ttrain-logloss:0.554743\teval-logloss:0.601874\n",
      "[51]\ttrain-logloss:0.553949\teval-logloss:0.60183\n",
      "[52]\ttrain-logloss:0.553693\teval-logloss:0.601908\n",
      "[53]\ttrain-logloss:0.553098\teval-logloss:0.602134\n",
      "[54]\ttrain-logloss:0.552296\teval-logloss:0.601947\n",
      "[55]\ttrain-logloss:0.55152\teval-logloss:0.602117\n",
      "[56]\ttrain-logloss:0.550495\teval-logloss:0.601785\n",
      "[57]\ttrain-logloss:0.550107\teval-logloss:0.601778\n",
      "[58]\ttrain-logloss:0.549445\teval-logloss:0.601561\n",
      "[59]\ttrain-logloss:0.549235\teval-logloss:0.601715\n",
      "[60]\ttrain-logloss:0.548529\teval-logloss:0.601422\n",
      "[61]\ttrain-logloss:0.548282\teval-logloss:0.601453\n",
      "[62]\ttrain-logloss:0.547926\teval-logloss:0.601732\n",
      "[63]\ttrain-logloss:0.547323\teval-logloss:0.602108\n",
      "[64]\ttrain-logloss:0.546704\teval-logloss:0.602192\n",
      "[65]\ttrain-logloss:0.54627\teval-logloss:0.602365\n",
      "[66]\ttrain-logloss:0.545522\teval-logloss:0.602317\n",
      "[67]\ttrain-logloss:0.545191\teval-logloss:0.602263\n",
      "[68]\ttrain-logloss:0.544268\teval-logloss:0.602216\n",
      "[69]\ttrain-logloss:0.543536\teval-logloss:0.60182\n",
      "[70]\ttrain-logloss:0.542868\teval-logloss:0.601988\n",
      "[71]\ttrain-logloss:0.542586\teval-logloss:0.60211\n",
      "[72]\ttrain-logloss:0.542116\teval-logloss:0.602309\n",
      "[73]\ttrain-logloss:0.541521\teval-logloss:0.602439\n",
      "[74]\ttrain-logloss:0.540872\teval-logloss:0.602562\n",
      "[75]\ttrain-logloss:0.540135\teval-logloss:0.602548\n",
      "[76]\ttrain-logloss:0.539789\teval-logloss:0.602641\n",
      "[77]\ttrain-logloss:0.539422\teval-logloss:0.602711\n",
      "[78]\ttrain-logloss:0.538932\teval-logloss:0.602753\n",
      "[79]\ttrain-logloss:0.538582\teval-logloss:0.603191\n",
      "[80]\ttrain-logloss:0.537884\teval-logloss:0.603247\n",
      "[81]\ttrain-logloss:0.537394\teval-logloss:0.603109\n",
      "[82]\ttrain-logloss:0.53722\teval-logloss:0.603181\n",
      "[83]\ttrain-logloss:0.537039\teval-logloss:0.603235\n",
      "[84]\ttrain-logloss:0.536166\teval-logloss:0.603243\n",
      "[85]\ttrain-logloss:0.535333\teval-logloss:0.603639\n",
      "[86]\ttrain-logloss:0.534751\teval-logloss:0.603541\n",
      "[87]\ttrain-logloss:0.534009\teval-logloss:0.603467\n",
      "[88]\ttrain-logloss:0.533549\teval-logloss:0.603683\n",
      "[89]\ttrain-logloss:0.533047\teval-logloss:0.603382\n",
      "[90]\ttrain-logloss:0.532648\teval-logloss:0.603251\n",
      "[91]\ttrain-logloss:0.532129\teval-logloss:0.603152\n",
      "[92]\ttrain-logloss:0.531497\teval-logloss:0.602961\n",
      "[93]\ttrain-logloss:0.531196\teval-logloss:0.603056\n",
      "[94]\ttrain-logloss:0.530627\teval-logloss:0.603262\n",
      "[95]\ttrain-logloss:0.529952\teval-logloss:0.603656\n",
      "[96]\ttrain-logloss:0.529539\teval-logloss:0.603551\n",
      "[97]\ttrain-logloss:0.52879\teval-logloss:0.603655\n",
      "[98]\ttrain-logloss:0.528259\teval-logloss:0.60395\n",
      "[99]\ttrain-logloss:0.527576\teval-logloss:0.604163\n",
      "[100]\ttrain-logloss:0.527362\teval-logloss:0.604337\n",
      "[101]\ttrain-logloss:0.526882\teval-logloss:0.603885\n",
      "[102]\ttrain-logloss:0.526559\teval-logloss:0.603617\n",
      "[103]\ttrain-logloss:0.525906\teval-logloss:0.604058\n",
      "[104]\ttrain-logloss:0.525339\teval-logloss:0.604293\n",
      "[105]\ttrain-logloss:0.524946\teval-logloss:0.604213\n",
      "[106]\ttrain-logloss:0.524358\teval-logloss:0.604316\n",
      "[107]\ttrain-logloss:0.523681\teval-logloss:0.60415\n",
      "[108]\ttrain-logloss:0.52343\teval-logloss:0.604232\n",
      "[109]\ttrain-logloss:0.52329\teval-logloss:0.604304\n",
      "[110]\ttrain-logloss:0.522951\teval-logloss:0.603896\n",
      "[111]\ttrain-logloss:0.52268\teval-logloss:0.603945\n",
      "[112]\ttrain-logloss:0.522073\teval-logloss:0.604325\n",
      "[113]\ttrain-logloss:0.521599\teval-logloss:0.604317\n",
      "[114]\ttrain-logloss:0.521162\teval-logloss:0.604408\n",
      "[115]\ttrain-logloss:0.520742\teval-logloss:0.604559\n",
      "[116]\ttrain-logloss:0.520438\teval-logloss:0.604349\n",
      "[117]\ttrain-logloss:0.520273\teval-logloss:0.604461\n",
      "[118]\ttrain-logloss:0.520026\teval-logloss:0.604647\n",
      "[119]\ttrain-logloss:0.519876\teval-logloss:0.604711\n",
      "[120]\ttrain-logloss:0.519238\teval-logloss:0.604849\n",
      "[121]\ttrain-logloss:0.518397\teval-logloss:0.604913\n",
      "[122]\ttrain-logloss:0.517786\teval-logloss:0.605489\n",
      "[123]\ttrain-logloss:0.517234\teval-logloss:0.605371\n",
      "[124]\ttrain-logloss:0.51647\teval-logloss:0.605617\n",
      "[125]\ttrain-logloss:0.516343\teval-logloss:0.605686\n",
      "[126]\ttrain-logloss:0.516083\teval-logloss:0.605412\n",
      "[127]\ttrain-logloss:0.515638\teval-logloss:0.605303\n",
      "[128]\ttrain-logloss:0.515249\teval-logloss:0.605212\n",
      "[129]\ttrain-logloss:0.514713\teval-logloss:0.604985\n",
      "[130]\ttrain-logloss:0.514142\teval-logloss:0.605141\n",
      "[131]\ttrain-logloss:0.513821\teval-logloss:0.605249\n",
      "[132]\ttrain-logloss:0.513677\teval-logloss:0.605366\n",
      "[133]\ttrain-logloss:0.513437\teval-logloss:0.605266\n",
      "[134]\ttrain-logloss:0.513084\teval-logloss:0.605242\n",
      "[135]\ttrain-logloss:0.512823\teval-logloss:0.605235\n",
      "[136]\ttrain-logloss:0.512353\teval-logloss:0.605094\n",
      "[137]\ttrain-logloss:0.512061\teval-logloss:0.605152\n",
      "[138]\ttrain-logloss:0.511411\teval-logloss:0.60559\n",
      "[139]\ttrain-logloss:0.510779\teval-logloss:0.605488\n",
      "[140]\ttrain-logloss:0.51067\teval-logloss:0.605576\n",
      "[141]\ttrain-logloss:0.510414\teval-logloss:0.605294\n",
      "[142]\ttrain-logloss:0.510008\teval-logloss:0.605406\n",
      "[143]\ttrain-logloss:0.509554\teval-logloss:0.606059\n",
      "[144]\ttrain-logloss:0.509461\teval-logloss:0.606141\n",
      "[145]\ttrain-logloss:0.509344\teval-logloss:0.606063\n",
      "[146]\ttrain-logloss:0.508651\teval-logloss:0.605804\n",
      "[147]\ttrain-logloss:0.508222\teval-logloss:0.605808\n",
      "[148]\ttrain-logloss:0.507803\teval-logloss:0.605968\n",
      "[149]\ttrain-logloss:0.507317\teval-logloss:0.606508\n",
      "[150]\ttrain-logloss:0.506763\teval-logloss:0.606452\n",
      "[151]\ttrain-logloss:0.506669\teval-logloss:0.606542\n",
      "[152]\ttrain-logloss:0.506125\teval-logloss:0.606894\n",
      "[153]\ttrain-logloss:0.505851\teval-logloss:0.606687\n",
      "[154]\ttrain-logloss:0.505331\teval-logloss:0.606621\n",
      "[155]\ttrain-logloss:0.504725\teval-logloss:0.606565\n",
      "[156]\ttrain-logloss:0.504236\teval-logloss:0.606196\n",
      "[157]\ttrain-logloss:0.503611\teval-logloss:0.606158\n",
      "[158]\ttrain-logloss:0.503349\teval-logloss:0.606398\n",
      "[159]\ttrain-logloss:0.502945\teval-logloss:0.606323\n",
      "[160]\ttrain-logloss:0.502431\teval-logloss:0.606226\n",
      "[161]\ttrain-logloss:0.50192\teval-logloss:0.606432\n",
      "[162]\ttrain-logloss:0.501625\teval-logloss:0.606522\n",
      "[163]\ttrain-logloss:0.501143\teval-logloss:0.606495\n"
     ]
    },
    {
     "name": "stdout",
     "output_type": "stream",
     "text": [
      "[164]\ttrain-logloss:0.50081\teval-logloss:0.606586\n",
      "[165]\ttrain-logloss:0.500358\teval-logloss:0.606484\n",
      "[166]\ttrain-logloss:0.500271\teval-logloss:0.606579\n",
      "[167]\ttrain-logloss:0.499725\teval-logloss:0.606446\n",
      "[168]\ttrain-logloss:0.49956\teval-logloss:0.60645\n",
      "[169]\ttrain-logloss:0.498972\teval-logloss:0.606645\n",
      "[170]\ttrain-logloss:0.498656\teval-logloss:0.606473\n",
      "[171]\ttrain-logloss:0.498055\teval-logloss:0.606189\n",
      "[172]\ttrain-logloss:0.497594\teval-logloss:0.606311\n",
      "[173]\ttrain-logloss:0.497208\teval-logloss:0.606499\n",
      "[174]\ttrain-logloss:0.496648\teval-logloss:0.606439\n",
      "[175]\ttrain-logloss:0.496353\teval-logloss:0.606552\n",
      "[176]\ttrain-logloss:0.496009\teval-logloss:0.606457\n",
      "[177]\ttrain-logloss:0.495816\teval-logloss:0.606519\n",
      "[178]\ttrain-logloss:0.495523\teval-logloss:0.606568\n",
      "[179]\ttrain-logloss:0.495057\teval-logloss:0.606597\n",
      "[180]\ttrain-logloss:0.494897\teval-logloss:0.60636\n",
      "[181]\ttrain-logloss:0.494433\teval-logloss:0.606502\n",
      "[182]\ttrain-logloss:0.493989\teval-logloss:0.606519\n",
      "[183]\ttrain-logloss:0.493617\teval-logloss:0.606624\n",
      "[184]\ttrain-logloss:0.492884\teval-logloss:0.606581\n",
      "[185]\ttrain-logloss:0.492383\teval-logloss:0.606333\n",
      "[186]\ttrain-logloss:0.492272\teval-logloss:0.606457\n",
      "[187]\ttrain-logloss:0.49197\teval-logloss:0.606717\n",
      "[188]\ttrain-logloss:0.491667\teval-logloss:0.60674\n",
      "[189]\ttrain-logloss:0.491404\teval-logloss:0.606883\n",
      "[190]\ttrain-logloss:0.491306\teval-logloss:0.606913\n",
      "[191]\ttrain-logloss:0.491044\teval-logloss:0.607199\n",
      "[192]\ttrain-logloss:0.490876\teval-logloss:0.607367\n",
      "[193]\ttrain-logloss:0.490313\teval-logloss:0.607479\n",
      "[194]\ttrain-logloss:0.490172\teval-logloss:0.607262\n",
      "[195]\ttrain-logloss:0.489646\teval-logloss:0.607339\n",
      "[196]\ttrain-logloss:0.489194\teval-logloss:0.607184\n",
      "[197]\ttrain-logloss:0.489093\teval-logloss:0.607312\n",
      "[198]\ttrain-logloss:0.488946\teval-logloss:0.607464\n",
      "[199]\ttrain-logloss:0.488549\teval-logloss:0.607966\n",
      "[200]\ttrain-logloss:0.488007\teval-logloss:0.60783\n",
      "[201]\ttrain-logloss:0.48752\teval-logloss:0.608185\n",
      "[202]\ttrain-logloss:0.487378\teval-logloss:0.608199\n",
      "[203]\ttrain-logloss:0.487236\teval-logloss:0.608364\n",
      "[204]\ttrain-logloss:0.487056\teval-logloss:0.608691\n",
      "[205]\ttrain-logloss:0.486537\teval-logloss:0.608553\n",
      "[206]\ttrain-logloss:0.486197\teval-logloss:0.608987\n",
      "[207]\ttrain-logloss:0.485859\teval-logloss:0.609144\n",
      "[208]\ttrain-logloss:0.485396\teval-logloss:0.609179\n",
      "[209]\ttrain-logloss:0.485063\teval-logloss:0.609056\n",
      "[210]\ttrain-logloss:0.484936\teval-logloss:0.609014\n",
      "[211]\ttrain-logloss:0.484559\teval-logloss:0.6087\n",
      "[212]\ttrain-logloss:0.484482\teval-logloss:0.608618\n",
      "[213]\ttrain-logloss:0.484254\teval-logloss:0.608544\n",
      "[214]\ttrain-logloss:0.484137\teval-logloss:0.608364\n",
      "[215]\ttrain-logloss:0.483616\teval-logloss:0.60857\n",
      "[216]\ttrain-logloss:0.483486\teval-logloss:0.608684\n",
      "[217]\ttrain-logloss:0.483057\teval-logloss:0.608739\n",
      "[218]\ttrain-logloss:0.482573\teval-logloss:0.608651\n",
      "[219]\ttrain-logloss:0.482264\teval-logloss:0.608673\n",
      "[220]\ttrain-logloss:0.482034\teval-logloss:0.608912\n",
      "[221]\ttrain-logloss:0.481508\teval-logloss:0.608949\n",
      "[222]\ttrain-logloss:0.480886\teval-logloss:0.608685\n",
      "[223]\ttrain-logloss:0.480777\teval-logloss:0.608643\n",
      "[224]\ttrain-logloss:0.480569\teval-logloss:0.608879\n",
      "[225]\ttrain-logloss:0.480432\teval-logloss:0.60893\n",
      "[226]\ttrain-logloss:0.479806\teval-logloss:0.609183\n",
      "[227]\ttrain-logloss:0.479647\teval-logloss:0.609128\n",
      "[228]\ttrain-logloss:0.479402\teval-logloss:0.609439\n",
      "[229]\ttrain-logloss:0.479318\teval-logloss:0.609568\n",
      "[230]\ttrain-logloss:0.478739\teval-logloss:0.609553\n",
      "[231]\ttrain-logloss:0.478395\teval-logloss:0.609739\n",
      "[232]\ttrain-logloss:0.478293\teval-logloss:0.609711\n",
      "[233]\ttrain-logloss:0.477994\teval-logloss:0.609542\n",
      "[234]\ttrain-logloss:0.477462\teval-logloss:0.609557\n",
      "[235]\ttrain-logloss:0.47721\teval-logloss:0.609864\n",
      "[236]\ttrain-logloss:0.47703\teval-logloss:0.610003\n",
      "[237]\ttrain-logloss:0.476824\teval-logloss:0.609817\n",
      "[238]\ttrain-logloss:0.47673\teval-logloss:0.609851\n",
      "[239]\ttrain-logloss:0.476533\teval-logloss:0.609925\n",
      "[240]\ttrain-logloss:0.476067\teval-logloss:0.610378\n",
      "[241]\ttrain-logloss:0.475685\teval-logloss:0.610646\n",
      "[242]\ttrain-logloss:0.475226\teval-logloss:0.610498\n",
      "[243]\ttrain-logloss:0.474931\teval-logloss:0.610586\n",
      "[244]\ttrain-logloss:0.474577\teval-logloss:0.610509\n",
      "[245]\ttrain-logloss:0.474072\teval-logloss:0.611034\n",
      "[246]\ttrain-logloss:0.473415\teval-logloss:0.61137\n",
      "[247]\ttrain-logloss:0.472714\teval-logloss:0.611625\n",
      "[248]\ttrain-logloss:0.472195\teval-logloss:0.611749\n",
      "[249]\ttrain-logloss:0.471568\teval-logloss:0.61176\n",
      "[250]\ttrain-logloss:0.471142\teval-logloss:0.612298\n",
      "[251]\ttrain-logloss:0.470486\teval-logloss:0.611951\n",
      "[252]\ttrain-logloss:0.470141\teval-logloss:0.611876\n",
      "[253]\ttrain-logloss:0.469832\teval-logloss:0.612128\n",
      "[254]\ttrain-logloss:0.469675\teval-logloss:0.612381\n",
      "[255]\ttrain-logloss:0.469397\teval-logloss:0.612839\n",
      "[256]\ttrain-logloss:0.469319\teval-logloss:0.612965\n",
      "[257]\ttrain-logloss:0.468778\teval-logloss:0.613068\n",
      "[258]\ttrain-logloss:0.468102\teval-logloss:0.613201\n",
      "[259]\ttrain-logloss:0.467534\teval-logloss:0.613439\n",
      "[260]\ttrain-logloss:0.467034\teval-logloss:0.613558\n",
      "[261]\ttrain-logloss:0.466802\teval-logloss:0.613524\n",
      "[262]\ttrain-logloss:0.466371\teval-logloss:0.613564\n",
      "[263]\ttrain-logloss:0.466198\teval-logloss:0.61367\n",
      "[264]\ttrain-logloss:0.46607\teval-logloss:0.613597\n",
      "[265]\ttrain-logloss:0.465992\teval-logloss:0.613558\n",
      "[266]\ttrain-logloss:0.46558\teval-logloss:0.613745\n",
      "[267]\ttrain-logloss:0.465107\teval-logloss:0.613975\n",
      "[268]\ttrain-logloss:0.464676\teval-logloss:0.614121\n",
      "[269]\ttrain-logloss:0.464563\teval-logloss:0.614224\n",
      "[270]\ttrain-logloss:0.464147\teval-logloss:0.61447\n",
      "[271]\ttrain-logloss:0.463692\teval-logloss:0.614679\n",
      "[272]\ttrain-logloss:0.46322\teval-logloss:0.614564\n",
      "[273]\ttrain-logloss:0.462792\teval-logloss:0.614527\n",
      "[274]\ttrain-logloss:0.462221\teval-logloss:0.614362\n",
      "[275]\ttrain-logloss:0.461977\teval-logloss:0.614368\n",
      "[276]\ttrain-logloss:0.461865\teval-logloss:0.614514\n",
      "[277]\ttrain-logloss:0.461563\teval-logloss:0.614484\n",
      "[278]\ttrain-logloss:0.46151\teval-logloss:0.614415\n",
      "[279]\ttrain-logloss:0.461445\teval-logloss:0.614535\n",
      "[280]\ttrain-logloss:0.461364\teval-logloss:0.614342\n",
      "[281]\ttrain-logloss:0.461029\teval-logloss:0.61425\n",
      "[282]\ttrain-logloss:0.460526\teval-logloss:0.614409\n",
      "[283]\ttrain-logloss:0.460458\teval-logloss:0.614433\n",
      "[284]\ttrain-logloss:0.460193\teval-logloss:0.614374\n",
      "[285]\ttrain-logloss:0.459812\teval-logloss:0.614443\n",
      "[286]\ttrain-logloss:0.459432\teval-logloss:0.61433\n",
      "[287]\ttrain-logloss:0.459311\teval-logloss:0.614413\n",
      "[288]\ttrain-logloss:0.458575\teval-logloss:0.614617\n",
      "[289]\ttrain-logloss:0.458064\teval-logloss:0.614605\n",
      "[290]\ttrain-logloss:0.457835\teval-logloss:0.614735\n",
      "[291]\ttrain-logloss:0.457638\teval-logloss:0.614747\n",
      "[292]\ttrain-logloss:0.45696\teval-logloss:0.614684\n",
      "[293]\ttrain-logloss:0.456344\teval-logloss:0.614778\n",
      "[294]\ttrain-logloss:0.455997\teval-logloss:0.61491\n",
      "[295]\ttrain-logloss:0.455411\teval-logloss:0.615179\n",
      "[296]\ttrain-logloss:0.454968\teval-logloss:0.61523\n",
      "[297]\ttrain-logloss:0.454592\teval-logloss:0.615168\n",
      "[298]\ttrain-logloss:0.454227\teval-logloss:0.615039\n",
      "[299]\ttrain-logloss:0.454084\teval-logloss:0.614742\n",
      "[300]\ttrain-logloss:0.453963\teval-logloss:0.614978\n",
      "[301]\ttrain-logloss:0.453565\teval-logloss:0.615516\n",
      "[302]\ttrain-logloss:0.453066\teval-logloss:0.615418\n",
      "[303]\ttrain-logloss:0.452556\teval-logloss:0.615643\n",
      "[304]\ttrain-logloss:0.452091\teval-logloss:0.61559\n",
      "[305]\ttrain-logloss:0.451427\teval-logloss:0.615746\n",
      "[306]\ttrain-logloss:0.451123\teval-logloss:0.615918\n",
      "[307]\ttrain-logloss:0.450648\teval-logloss:0.616146\n",
      "[308]\ttrain-logloss:0.450407\teval-logloss:0.616096\n",
      "[309]\ttrain-logloss:0.45006\teval-logloss:0.616388\n",
      "[310]\ttrain-logloss:0.449309\teval-logloss:0.616776\n",
      "[311]\ttrain-logloss:0.44895\teval-logloss:0.616489\n",
      "[312]\ttrain-logloss:0.448581\teval-logloss:0.616806\n",
      "[313]\ttrain-logloss:0.448057\teval-logloss:0.616922\n",
      "[314]\ttrain-logloss:0.447564\teval-logloss:0.616955\n",
      "[315]\ttrain-logloss:0.447251\teval-logloss:0.617071\n",
      "[316]\ttrain-logloss:0.447063\teval-logloss:0.617325\n",
      "[317]\ttrain-logloss:0.446538\teval-logloss:0.617153\n",
      "[318]\ttrain-logloss:0.446429\teval-logloss:0.617226\n",
      "[319]\ttrain-logloss:0.446222\teval-logloss:0.617289\n",
      "[320]\ttrain-logloss:0.446161\teval-logloss:0.617332\n",
      "[321]\ttrain-logloss:0.445702\teval-logloss:0.617191\n",
      "[322]\ttrain-logloss:0.445342\teval-logloss:0.617339\n",
      "[323]\ttrain-logloss:0.445088\teval-logloss:0.617384\n",
      "[324]\ttrain-logloss:0.444563\teval-logloss:0.617559\n",
      "[325]\ttrain-logloss:0.444292\teval-logloss:0.617837\n"
     ]
    },
    {
     "name": "stdout",
     "output_type": "stream",
     "text": [
      "[326]\ttrain-logloss:0.443964\teval-logloss:0.618103\n",
      "[327]\ttrain-logloss:0.443575\teval-logloss:0.618312\n",
      "[328]\ttrain-logloss:0.443132\teval-logloss:0.618253\n",
      "[329]\ttrain-logloss:0.442797\teval-logloss:0.618119\n",
      "[330]\ttrain-logloss:0.44251\teval-logloss:0.618186\n",
      "[331]\ttrain-logloss:0.442253\teval-logloss:0.618262\n",
      "[332]\ttrain-logloss:0.441729\teval-logloss:0.618543\n",
      "[333]\ttrain-logloss:0.441403\teval-logloss:0.618387\n",
      "[334]\ttrain-logloss:0.441335\teval-logloss:0.618472\n",
      "[335]\ttrain-logloss:0.441261\teval-logloss:0.618587\n",
      "[336]\ttrain-logloss:0.441185\teval-logloss:0.618555\n",
      "[337]\ttrain-logloss:0.440964\teval-logloss:0.618723\n",
      "[338]\ttrain-logloss:0.440927\teval-logloss:0.61864\n",
      "[339]\ttrain-logloss:0.440879\teval-logloss:0.618755\n",
      "[340]\ttrain-logloss:0.440679\teval-logloss:0.618625\n",
      "[341]\ttrain-logloss:0.440349\teval-logloss:0.61866\n",
      "[342]\ttrain-logloss:0.440034\teval-logloss:0.61894\n",
      "[343]\ttrain-logloss:0.439563\teval-logloss:0.618979\n",
      "[344]\ttrain-logloss:0.439461\teval-logloss:0.619118\n",
      "[345]\ttrain-logloss:0.439418\teval-logloss:0.61923\n",
      "[346]\ttrain-logloss:0.438997\teval-logloss:0.619249\n",
      "[347]\ttrain-logloss:0.438613\teval-logloss:0.619189\n",
      "[348]\ttrain-logloss:0.438377\teval-logloss:0.619513\n",
      "[349]\ttrain-logloss:0.437981\teval-logloss:0.619751\n",
      "[350]\ttrain-logloss:0.437639\teval-logloss:0.620066\n",
      "[351]\ttrain-logloss:0.4373\teval-logloss:0.620434\n",
      "[352]\ttrain-logloss:0.437202\teval-logloss:0.620775\n",
      "[353]\ttrain-logloss:0.436993\teval-logloss:0.621009\n",
      "[354]\ttrain-logloss:0.436736\teval-logloss:0.620783\n",
      "[355]\ttrain-logloss:0.436448\teval-logloss:0.620967\n",
      "[356]\ttrain-logloss:0.436376\teval-logloss:0.6211\n",
      "[357]\ttrain-logloss:0.435724\teval-logloss:0.621208\n",
      "[358]\ttrain-logloss:0.435683\teval-logloss:0.621245\n",
      "[359]\ttrain-logloss:0.435306\teval-logloss:0.621047\n",
      "[360]\ttrain-logloss:0.435082\teval-logloss:0.62089\n",
      "[361]\ttrain-logloss:0.434711\teval-logloss:0.621037\n",
      "[362]\ttrain-logloss:0.434663\teval-logloss:0.621067\n",
      "[363]\ttrain-logloss:0.434468\teval-logloss:0.621117\n",
      "[364]\ttrain-logloss:0.434222\teval-logloss:0.621292\n",
      "[365]\ttrain-logloss:0.433932\teval-logloss:0.621859\n",
      "[366]\ttrain-logloss:0.433592\teval-logloss:0.621948\n",
      "[367]\ttrain-logloss:0.433145\teval-logloss:0.621767\n",
      "[368]\ttrain-logloss:0.433012\teval-logloss:0.622171\n",
      "[369]\ttrain-logloss:0.432615\teval-logloss:0.622295\n",
      "[370]\ttrain-logloss:0.432518\teval-logloss:0.622343\n",
      "[371]\ttrain-logloss:0.432046\teval-logloss:0.622282\n",
      "[372]\ttrain-logloss:0.431543\teval-logloss:0.622357\n",
      "[373]\ttrain-logloss:0.431257\teval-logloss:0.622302\n",
      "[374]\ttrain-logloss:0.431219\teval-logloss:0.622343\n",
      "[375]\ttrain-logloss:0.430777\teval-logloss:0.622606\n",
      "[376]\ttrain-logloss:0.430688\teval-logloss:0.622683\n",
      "[377]\ttrain-logloss:0.430182\teval-logloss:0.623051\n",
      "[378]\ttrain-logloss:0.429755\teval-logloss:0.623559\n",
      "[379]\ttrain-logloss:0.429417\teval-logloss:0.623208\n",
      "[380]\ttrain-logloss:0.42917\teval-logloss:0.623173\n",
      "[381]\ttrain-logloss:0.429004\teval-logloss:0.623406\n",
      "[382]\ttrain-logloss:0.428772\teval-logloss:0.623442\n",
      "[383]\ttrain-logloss:0.428341\teval-logloss:0.623459\n",
      "[384]\ttrain-logloss:0.428012\teval-logloss:0.623659\n",
      "[385]\ttrain-logloss:0.427678\teval-logloss:0.624002\n",
      "[386]\ttrain-logloss:0.42729\teval-logloss:0.623977\n",
      "[387]\ttrain-logloss:0.426863\teval-logloss:0.624174\n",
      "[388]\ttrain-logloss:0.426512\teval-logloss:0.624142\n",
      "[389]\ttrain-logloss:0.426424\teval-logloss:0.62428\n",
      "[390]\ttrain-logloss:0.425987\teval-logloss:0.624412\n",
      "[391]\ttrain-logloss:0.425582\teval-logloss:0.62454\n",
      "[392]\ttrain-logloss:0.425333\teval-logloss:0.624576\n",
      "[393]\ttrain-logloss:0.425059\teval-logloss:0.624677\n",
      "[394]\ttrain-logloss:0.425023\teval-logloss:0.624794\n",
      "[395]\ttrain-logloss:0.424938\teval-logloss:0.62478\n",
      "[396]\ttrain-logloss:0.424433\teval-logloss:0.624709\n",
      "[397]\ttrain-logloss:0.424157\teval-logloss:0.62479\n",
      "[398]\ttrain-logloss:0.424081\teval-logloss:0.624779\n",
      "[399]\ttrain-logloss:0.423735\teval-logloss:0.624762\n"
     ]
    }
   ],
   "source": [
    "# train 데이터 세트는 'train', evaluation(test) 데이터 세트는 'eval'로 명기\n",
    "wlist = [(dtrain, 'train'),(dtest, 'eval')]\n",
    "# 하이퍼 파라미터와 early stoppinig 파라미터를 train() 함수의 파라미터로 전달\n",
    "xgb_model = xgb.train(params=params, dtrain=dtrain, num_boost_round=num_rounds, evals=wlist)"
   ]
  },
  {
   "cell_type": "code",
   "execution_count": 200,
   "metadata": {},
   "outputs": [
    {
     "name": "stdout",
     "output_type": "stream",
     "text": [
      "predict() 수행 결과값을 10개만 표시, 예측 확률값으로 표시됨\n",
      "[0.273 0.453 0.275 0.449 0.191 0.158 0.161 0.193 0.18  0.325]\n"
     ]
    }
   ],
   "source": [
    "pred_probs = xgb_model.predict(dtest)\n",
    "print('predict() 수행 결과값을 10개만 표시, 예측 확률값으로 표시됨')\n",
    "print(np.round(pred_probs[:10], 3))\n",
    "\n",
    "preds = [1 if x > 0.5 else 0 for x in pred_probs]"
   ]
  },
  {
   "cell_type": "code",
   "execution_count": 201,
   "metadata": {},
   "outputs": [],
   "source": [
    "from sklearn.metrics import accuracy_score, recall_score, precision_score, confusion_matrix\n",
    "def get_clf_eval(y_test, pred):\n",
    "    confusion = confusion_matrix(y_test, pred)\n",
    "    accuracy = accuracy_score(y_test, pred)\n",
    "    precision = precision_score(y_test, pred)\n",
    "    recall = recall_score(y_test, pred)\n",
    "    print('오차행렬')\n",
    "    print(confusion)\n",
    "    print('정확도: {0:.4f}, 정밀도: {1:.4f}, 재현율: {2:.4f}'.format(accuracy, precision, recall))"
   ]
  },
  {
   "cell_type": "code",
   "execution_count": 202,
   "metadata": {},
   "outputs": [
    {
     "name": "stdout",
     "output_type": "stream",
     "text": [
      "오차행렬\n",
      "[[787  96]\n",
      " [315  52]]\n",
      "정확도: 0.6712, 정밀도: 0.3514, 재현율: 0.1417\n"
     ]
    }
   ],
   "source": [
    "get_clf_eval(y_test, preds)"
   ]
  },
  {
   "cell_type": "markdown",
   "metadata": {},
   "source": [
    "- LightGBM\n",
    "    - cmd창 : conda install -c conda-forge ligthgbm"
   ]
  },
  {
   "cell_type": "code",
   "execution_count": 204,
   "metadata": {},
   "outputs": [
    {
     "name": "stdout",
     "output_type": "stream",
     "text": [
      "Collecting package metadata (current_repodata.json): ...working... done\n",
      "Solving environment: ...working... failed with initial frozen solve. Retrying with flexible solve.\n",
      "Collecting package metadata (repodata.json): ...working... done\n",
      "Solving environment: ...working... failed with initial frozen solve. Retrying with flexible solve.\n",
      "\n",
      "Note: you may need to restart the kernel to use updated packages.\n"
     ]
    },
    {
     "name": "stderr",
     "output_type": "stream",
     "text": [
      "\n",
      "PackagesNotFoundError: The following packages are not available from current channels:\n",
      "\n",
      "  - ligthgbm\n",
      "\n",
      "Current channels:\n",
      "\n",
      "  - https://conda.anaconda.org/conda-forge/win-64\n",
      "  - https://conda.anaconda.org/conda-forge/noarch\n",
      "  - https://repo.anaconda.com/pkgs/main/win-64\n",
      "  - https://repo.anaconda.com/pkgs/main/noarch\n",
      "  - https://repo.anaconda.com/pkgs/r/win-64\n",
      "  - https://repo.anaconda.com/pkgs/r/noarch\n",
      "  - https://repo.anaconda.com/pkgs/msys2/win-64\n",
      "  - https://repo.anaconda.com/pkgs/msys2/noarch\n",
      "\n",
      "To search for alternate channels that may provide the conda package you're\n",
      "looking for, navigate to\n",
      "\n",
      "    https://anaconda.org\n",
      "\n",
      "and use the search bar at the top of the page.\n",
      "\n",
      "\n"
     ]
    }
   ],
   "source": [
    "conda install -c conda-forge ligthgbm"
   ]
  },
  {
   "cell_type": "code",
   "execution_count": 222,
   "metadata": {},
   "outputs": [
    {
     "ename": "LightGBMError",
     "evalue": "Do not support non-ASCII characters in feature name.",
     "output_type": "error",
     "traceback": [
      "\u001b[1;31m---------------------------------------------------------------------------\u001b[0m",
      "\u001b[1;31mLightGBMError\u001b[0m                             Traceback (most recent call last)",
      "\u001b[1;32m<ipython-input-222-6a42583a22e0>\u001b[0m in \u001b[0;36m<module>\u001b[1;34m\u001b[0m\n\u001b[0;32m      3\u001b[0m \u001b[0mevals\u001b[0m \u001b[1;33m=\u001b[0m \u001b[1;33m[\u001b[0m\u001b[1;33m(\u001b[0m\u001b[0mX_test\u001b[0m\u001b[1;33m,\u001b[0m \u001b[0my_test\u001b[0m\u001b[1;33m)\u001b[0m\u001b[1;33m]\u001b[0m\u001b[1;33m\u001b[0m\u001b[1;33m\u001b[0m\u001b[0m\n\u001b[0;32m      4\u001b[0m lgbm_wrapper.fit(XX, yy, early_stopping_rounds=100, \n\u001b[1;32m----> 5\u001b[1;33m                  eval_metric=\"logloss\", eval_set=evals, verbose=True)\n\u001b[0m\u001b[0;32m      6\u001b[0m \u001b[0mpred\u001b[0m \u001b[1;33m=\u001b[0m \u001b[0mlgbm_wrapper\u001b[0m\u001b[1;33m.\u001b[0m\u001b[0mpredict\u001b[0m\u001b[1;33m(\u001b[0m\u001b[0mX_test\u001b[0m\u001b[1;33m)\u001b[0m\u001b[1;33m\u001b[0m\u001b[1;33m\u001b[0m\u001b[0m\n",
      "\u001b[1;32m~\\anaconda3\\lib\\site-packages\\lightgbm\\sklearn.py\u001b[0m in \u001b[0;36mfit\u001b[1;34m(self, X, y, sample_weight, init_score, eval_set, eval_names, eval_sample_weight, eval_class_weight, eval_init_score, eval_metric, early_stopping_rounds, verbose, feature_name, categorical_feature, callbacks)\u001b[0m\n\u001b[0;32m    803\u001b[0m                                         \u001b[0mverbose\u001b[0m\u001b[1;33m=\u001b[0m\u001b[0mverbose\u001b[0m\u001b[1;33m,\u001b[0m \u001b[0mfeature_name\u001b[0m\u001b[1;33m=\u001b[0m\u001b[0mfeature_name\u001b[0m\u001b[1;33m,\u001b[0m\u001b[1;33m\u001b[0m\u001b[1;33m\u001b[0m\u001b[0m\n\u001b[0;32m    804\u001b[0m                                         \u001b[0mcategorical_feature\u001b[0m\u001b[1;33m=\u001b[0m\u001b[0mcategorical_feature\u001b[0m\u001b[1;33m,\u001b[0m\u001b[1;33m\u001b[0m\u001b[1;33m\u001b[0m\u001b[0m\n\u001b[1;32m--> 805\u001b[1;33m                                         callbacks=callbacks)\n\u001b[0m\u001b[0;32m    806\u001b[0m         \u001b[1;32mreturn\u001b[0m \u001b[0mself\u001b[0m\u001b[1;33m\u001b[0m\u001b[1;33m\u001b[0m\u001b[0m\n\u001b[0;32m    807\u001b[0m \u001b[1;33m\u001b[0m\u001b[0m\n",
      "\u001b[1;32m~\\anaconda3\\lib\\site-packages\\lightgbm\\sklearn.py\u001b[0m in \u001b[0;36mfit\u001b[1;34m(self, X, y, sample_weight, init_score, group, eval_set, eval_names, eval_sample_weight, eval_class_weight, eval_init_score, eval_group, eval_metric, early_stopping_rounds, verbose, feature_name, categorical_feature, callbacks)\u001b[0m\n\u001b[0;32m    598\u001b[0m                               \u001b[0mverbose_eval\u001b[0m\u001b[1;33m=\u001b[0m\u001b[0mverbose\u001b[0m\u001b[1;33m,\u001b[0m \u001b[0mfeature_name\u001b[0m\u001b[1;33m=\u001b[0m\u001b[0mfeature_name\u001b[0m\u001b[1;33m,\u001b[0m\u001b[1;33m\u001b[0m\u001b[1;33m\u001b[0m\u001b[0m\n\u001b[0;32m    599\u001b[0m                               \u001b[0mcategorical_feature\u001b[0m\u001b[1;33m=\u001b[0m\u001b[0mcategorical_feature\u001b[0m\u001b[1;33m,\u001b[0m\u001b[1;33m\u001b[0m\u001b[1;33m\u001b[0m\u001b[0m\n\u001b[1;32m--> 600\u001b[1;33m                               callbacks=callbacks)\n\u001b[0m\u001b[0;32m    601\u001b[0m \u001b[1;33m\u001b[0m\u001b[0m\n\u001b[0;32m    602\u001b[0m         \u001b[1;32mif\u001b[0m \u001b[0mevals_result\u001b[0m\u001b[1;33m:\u001b[0m\u001b[1;33m\u001b[0m\u001b[1;33m\u001b[0m\u001b[0m\n",
      "\u001b[1;32m~\\anaconda3\\lib\\site-packages\\lightgbm\\engine.py\u001b[0m in \u001b[0;36mtrain\u001b[1;34m(params, train_set, num_boost_round, valid_sets, valid_names, fobj, feval, init_model, feature_name, categorical_feature, early_stopping_rounds, evals_result, verbose_eval, learning_rates, keep_training_booster, callbacks)\u001b[0m\n\u001b[0;32m    226\u001b[0m     \u001b[1;31m# construct booster\u001b[0m\u001b[1;33m\u001b[0m\u001b[1;33m\u001b[0m\u001b[1;33m\u001b[0m\u001b[0m\n\u001b[0;32m    227\u001b[0m     \u001b[1;32mtry\u001b[0m\u001b[1;33m:\u001b[0m\u001b[1;33m\u001b[0m\u001b[1;33m\u001b[0m\u001b[0m\n\u001b[1;32m--> 228\u001b[1;33m         \u001b[0mbooster\u001b[0m \u001b[1;33m=\u001b[0m \u001b[0mBooster\u001b[0m\u001b[1;33m(\u001b[0m\u001b[0mparams\u001b[0m\u001b[1;33m=\u001b[0m\u001b[0mparams\u001b[0m\u001b[1;33m,\u001b[0m \u001b[0mtrain_set\u001b[0m\u001b[1;33m=\u001b[0m\u001b[0mtrain_set\u001b[0m\u001b[1;33m)\u001b[0m\u001b[1;33m\u001b[0m\u001b[1;33m\u001b[0m\u001b[0m\n\u001b[0m\u001b[0;32m    229\u001b[0m         \u001b[1;32mif\u001b[0m \u001b[0mis_valid_contain_train\u001b[0m\u001b[1;33m:\u001b[0m\u001b[1;33m\u001b[0m\u001b[1;33m\u001b[0m\u001b[0m\n\u001b[0;32m    230\u001b[0m             \u001b[0mbooster\u001b[0m\u001b[1;33m.\u001b[0m\u001b[0mset_train_data_name\u001b[0m\u001b[1;33m(\u001b[0m\u001b[0mtrain_data_name\u001b[0m\u001b[1;33m)\u001b[0m\u001b[1;33m\u001b[0m\u001b[1;33m\u001b[0m\u001b[0m\n",
      "\u001b[1;32m~\\anaconda3\\lib\\site-packages\\lightgbm\\basic.py\u001b[0m in \u001b[0;36m__init__\u001b[1;34m(self, params, train_set, model_file, model_str, silent)\u001b[0m\n\u001b[0;32m   1712\u001b[0m             \u001b[0mself\u001b[0m\u001b[1;33m.\u001b[0m\u001b[0mhandle\u001b[0m \u001b[1;33m=\u001b[0m \u001b[0mctypes\u001b[0m\u001b[1;33m.\u001b[0m\u001b[0mc_void_p\u001b[0m\u001b[1;33m(\u001b[0m\u001b[1;33m)\u001b[0m\u001b[1;33m\u001b[0m\u001b[1;33m\u001b[0m\u001b[0m\n\u001b[0;32m   1713\u001b[0m             _safe_call(_LIB.LGBM_BoosterCreate(\n\u001b[1;32m-> 1714\u001b[1;33m                 \u001b[0mtrain_set\u001b[0m\u001b[1;33m.\u001b[0m\u001b[0mconstruct\u001b[0m\u001b[1;33m(\u001b[0m\u001b[1;33m)\u001b[0m\u001b[1;33m.\u001b[0m\u001b[0mhandle\u001b[0m\u001b[1;33m,\u001b[0m\u001b[1;33m\u001b[0m\u001b[1;33m\u001b[0m\u001b[0m\n\u001b[0m\u001b[0;32m   1715\u001b[0m                 \u001b[0mc_str\u001b[0m\u001b[1;33m(\u001b[0m\u001b[0mparams_str\u001b[0m\u001b[1;33m)\u001b[0m\u001b[1;33m,\u001b[0m\u001b[1;33m\u001b[0m\u001b[1;33m\u001b[0m\u001b[0m\n\u001b[0;32m   1716\u001b[0m                 ctypes.byref(self.handle)))\n",
      "\u001b[1;32m~\\anaconda3\\lib\\site-packages\\lightgbm\\basic.py\u001b[0m in \u001b[0;36mconstruct\u001b[1;34m(self)\u001b[0m\n\u001b[0;32m   1083\u001b[0m                                 \u001b[0minit_score\u001b[0m\u001b[1;33m=\u001b[0m\u001b[0mself\u001b[0m\u001b[1;33m.\u001b[0m\u001b[0minit_score\u001b[0m\u001b[1;33m,\u001b[0m \u001b[0mpredictor\u001b[0m\u001b[1;33m=\u001b[0m\u001b[0mself\u001b[0m\u001b[1;33m.\u001b[0m\u001b[0m_predictor\u001b[0m\u001b[1;33m,\u001b[0m\u001b[1;33m\u001b[0m\u001b[1;33m\u001b[0m\u001b[0m\n\u001b[0;32m   1084\u001b[0m                                 \u001b[0msilent\u001b[0m\u001b[1;33m=\u001b[0m\u001b[0mself\u001b[0m\u001b[1;33m.\u001b[0m\u001b[0msilent\u001b[0m\u001b[1;33m,\u001b[0m \u001b[0mfeature_name\u001b[0m\u001b[1;33m=\u001b[0m\u001b[0mself\u001b[0m\u001b[1;33m.\u001b[0m\u001b[0mfeature_name\u001b[0m\u001b[1;33m,\u001b[0m\u001b[1;33m\u001b[0m\u001b[1;33m\u001b[0m\u001b[0m\n\u001b[1;32m-> 1085\u001b[1;33m                                 categorical_feature=self.categorical_feature, params=self.params)\n\u001b[0m\u001b[0;32m   1086\u001b[0m             \u001b[1;32mif\u001b[0m \u001b[0mself\u001b[0m\u001b[1;33m.\u001b[0m\u001b[0mfree_raw_data\u001b[0m\u001b[1;33m:\u001b[0m\u001b[1;33m\u001b[0m\u001b[1;33m\u001b[0m\u001b[0m\n\u001b[0;32m   1087\u001b[0m                 \u001b[0mself\u001b[0m\u001b[1;33m.\u001b[0m\u001b[0mdata\u001b[0m \u001b[1;33m=\u001b[0m \u001b[1;32mNone\u001b[0m\u001b[1;33m\u001b[0m\u001b[1;33m\u001b[0m\u001b[0m\n",
      "\u001b[1;32m~\\anaconda3\\lib\\site-packages\\lightgbm\\basic.py\u001b[0m in \u001b[0;36m_lazy_init\u001b[1;34m(self, data, label, reference, weight, group, init_score, predictor, silent, feature_name, categorical_feature, params)\u001b[0m\n\u001b[0;32m    913\u001b[0m             \u001b[1;32mraise\u001b[0m \u001b[0mTypeError\u001b[0m\u001b[1;33m(\u001b[0m\u001b[1;34m'Wrong predictor type {}'\u001b[0m\u001b[1;33m.\u001b[0m\u001b[0mformat\u001b[0m\u001b[1;33m(\u001b[0m\u001b[0mtype\u001b[0m\u001b[1;33m(\u001b[0m\u001b[0mpredictor\u001b[0m\u001b[1;33m)\u001b[0m\u001b[1;33m.\u001b[0m\u001b[0m__name__\u001b[0m\u001b[1;33m)\u001b[0m\u001b[1;33m)\u001b[0m\u001b[1;33m\u001b[0m\u001b[1;33m\u001b[0m\u001b[0m\n\u001b[0;32m    914\u001b[0m         \u001b[1;31m# set feature names\u001b[0m\u001b[1;33m\u001b[0m\u001b[1;33m\u001b[0m\u001b[1;33m\u001b[0m\u001b[0m\n\u001b[1;32m--> 915\u001b[1;33m         \u001b[1;32mreturn\u001b[0m \u001b[0mself\u001b[0m\u001b[1;33m.\u001b[0m\u001b[0mset_feature_name\u001b[0m\u001b[1;33m(\u001b[0m\u001b[0mfeature_name\u001b[0m\u001b[1;33m)\u001b[0m\u001b[1;33m\u001b[0m\u001b[1;33m\u001b[0m\u001b[0m\n\u001b[0m\u001b[0;32m    916\u001b[0m \u001b[1;33m\u001b[0m\u001b[0m\n\u001b[0;32m    917\u001b[0m     \u001b[1;32mdef\u001b[0m \u001b[0m__init_from_np2d\u001b[0m\u001b[1;33m(\u001b[0m\u001b[0mself\u001b[0m\u001b[1;33m,\u001b[0m \u001b[0mmat\u001b[0m\u001b[1;33m,\u001b[0m \u001b[0mparams_str\u001b[0m\u001b[1;33m,\u001b[0m \u001b[0mref_dataset\u001b[0m\u001b[1;33m)\u001b[0m\u001b[1;33m:\u001b[0m\u001b[1;33m\u001b[0m\u001b[1;33m\u001b[0m\u001b[0m\n",
      "\u001b[1;32m~\\anaconda3\\lib\\site-packages\\lightgbm\\basic.py\u001b[0m in \u001b[0;36mset_feature_name\u001b[1;34m(self, feature_name)\u001b[0m\n\u001b[0;32m   1366\u001b[0m                 \u001b[0mself\u001b[0m\u001b[1;33m.\u001b[0m\u001b[0mhandle\u001b[0m\u001b[1;33m,\u001b[0m\u001b[1;33m\u001b[0m\u001b[1;33m\u001b[0m\u001b[0m\n\u001b[0;32m   1367\u001b[0m                 \u001b[0mc_array\u001b[0m\u001b[1;33m(\u001b[0m\u001b[0mctypes\u001b[0m\u001b[1;33m.\u001b[0m\u001b[0mc_char_p\u001b[0m\u001b[1;33m,\u001b[0m \u001b[0mc_feature_name\u001b[0m\u001b[1;33m)\u001b[0m\u001b[1;33m,\u001b[0m\u001b[1;33m\u001b[0m\u001b[1;33m\u001b[0m\u001b[0m\n\u001b[1;32m-> 1368\u001b[1;33m                 ctypes.c_int(len(feature_name))))\n\u001b[0m\u001b[0;32m   1369\u001b[0m         \u001b[1;32mreturn\u001b[0m \u001b[0mself\u001b[0m\u001b[1;33m\u001b[0m\u001b[1;33m\u001b[0m\u001b[0m\n\u001b[0;32m   1370\u001b[0m \u001b[1;33m\u001b[0m\u001b[0m\n",
      "\u001b[1;32m~\\anaconda3\\lib\\site-packages\\lightgbm\\basic.py\u001b[0m in \u001b[0;36m_safe_call\u001b[1;34m(ret)\u001b[0m\n\u001b[0;32m     43\u001b[0m     \"\"\"\n\u001b[0;32m     44\u001b[0m     \u001b[1;32mif\u001b[0m \u001b[0mret\u001b[0m \u001b[1;33m!=\u001b[0m \u001b[1;36m0\u001b[0m\u001b[1;33m:\u001b[0m\u001b[1;33m\u001b[0m\u001b[1;33m\u001b[0m\u001b[0m\n\u001b[1;32m---> 45\u001b[1;33m         \u001b[1;32mraise\u001b[0m \u001b[0mLightGBMError\u001b[0m\u001b[1;33m(\u001b[0m\u001b[0mdecode_string\u001b[0m\u001b[1;33m(\u001b[0m\u001b[0m_LIB\u001b[0m\u001b[1;33m.\u001b[0m\u001b[0mLGBM_GetLastError\u001b[0m\u001b[1;33m(\u001b[0m\u001b[1;33m)\u001b[0m\u001b[1;33m)\u001b[0m\u001b[1;33m)\u001b[0m\u001b[1;33m\u001b[0m\u001b[1;33m\u001b[0m\u001b[0m\n\u001b[0m\u001b[0;32m     46\u001b[0m \u001b[1;33m\u001b[0m\u001b[0m\n\u001b[0;32m     47\u001b[0m \u001b[1;33m\u001b[0m\u001b[0m\n",
      "\u001b[1;31mLightGBMError\u001b[0m: Do not support non-ASCII characters in feature name."
     ]
    }
   ],
   "source": [
    "from lightgbm import LGBMClassifier\n",
    "lgbm_wrapper = LGBMClassifier(nestimators=400)\n",
    "evals = [(X_test, y_test)]\n",
    "lgbm_wrapper.fit(XX, yy, early_stopping_rounds=100, \n",
    "                 eval_metric=\"logloss\", eval_set=evals, verbose=True)\n",
    "pred = lgbm_wrapper.predict(X_test)"
   ]
  },
  {
   "cell_type": "code",
   "execution_count": 139,
   "metadata": {},
   "outputs": [
    {
     "name": "stdout",
     "output_type": "stream",
     "text": [
      "오차행렬\n",
      "[[787  96]\n",
      " [315  52]]\n",
      "정확도: 0.6712, 정밀도: 0.3514, 재현율: 0.1417\n"
     ]
    }
   ],
   "source": [
    "get_clf_eval(y_test, preds)"
   ]
  },
  {
   "cell_type": "markdown",
   "metadata": {},
   "source": [
    "### Features engineering"
   ]
  },
  {
   "cell_type": "code",
   "execution_count": 206,
   "metadata": {},
   "outputs": [
    {
     "name": "stdout",
     "output_type": "stream",
     "text": [
      "gender\n",
      "0    31111117\n",
      "1    29039091\n",
      "Name: 총구매액, dtype: int64\n",
      "gender\n",
      "0    214\n",
      "1    101\n",
      "Name: 구매건수, dtype: int64\n"
     ]
    },
    {
     "data": {
      "text/html": [
       "<div>\n",
       "<style scoped>\n",
       "    .dataframe tbody tr th:only-of-type {\n",
       "        vertical-align: middle;\n",
       "    }\n",
       "\n",
       "    .dataframe tbody tr th {\n",
       "        vertical-align: top;\n",
       "    }\n",
       "\n",
       "    .dataframe thead th {\n",
       "        text-align: right;\n",
       "    }\n",
       "</style>\n",
       "<table border=\"1\" class=\"dataframe\">\n",
       "  <thead>\n",
       "    <tr style=\"text-align: right;\">\n",
       "      <th></th>\n",
       "      <th>custid</th>\n",
       "      <th>gender</th>\n",
       "      <th>총구매액</th>\n",
       "      <th>구매건수</th>\n",
       "      <th>평균구매가격</th>\n",
       "      <th>평균할부개월수</th>\n",
       "      <th>구매브랜드종류</th>\n",
       "      <th>내점일수</th>\n",
       "      <th>수입상품_구매비율</th>\n",
       "      <th>주말방문비율</th>\n",
       "      <th>가을_구매건수</th>\n",
       "      <th>겨울_구매건수</th>\n",
       "      <th>봄_구매건수</th>\n",
       "      <th>여름_구매건수</th>\n",
       "      <th>아침_구매건수</th>\n",
       "      <th>저녁_구매건수</th>\n",
       "      <th>점심_구매건수</th>\n",
       "      <th>주구매코너</th>\n",
       "      <th>코너별구매건</th>\n",
       "    </tr>\n",
       "  </thead>\n",
       "  <tbody>\n",
       "    <tr>\n",
       "      <th>0</th>\n",
       "      <td>18</td>\n",
       "      <td>0</td>\n",
       "      <td>680100</td>\n",
       "      <td>15</td>\n",
       "      <td>45340</td>\n",
       "      <td>1.7</td>\n",
       "      <td>9</td>\n",
       "      <td>10</td>\n",
       "      <td>26.7</td>\n",
       "      <td>100.0</td>\n",
       "      <td>1.0</td>\n",
       "      <td>9.0</td>\n",
       "      <td>6.0</td>\n",
       "      <td>1.0</td>\n",
       "      <td>1.0</td>\n",
       "      <td>6.0</td>\n",
       "      <td>9.0</td>\n",
       "      <td>24</td>\n",
       "      <td>25740</td>\n",
       "    </tr>\n",
       "    <tr>\n",
       "      <th>1</th>\n",
       "      <td>26</td>\n",
       "      <td>0</td>\n",
       "      <td>1964000</td>\n",
       "      <td>28</td>\n",
       "      <td>70143</td>\n",
       "      <td>1.4</td>\n",
       "      <td>15</td>\n",
       "      <td>14</td>\n",
       "      <td>39.3</td>\n",
       "      <td>28.6</td>\n",
       "      <td>5.0</td>\n",
       "      <td>8.0</td>\n",
       "      <td>15.0</td>\n",
       "      <td>1.0</td>\n",
       "      <td>1.0</td>\n",
       "      <td>18.0</td>\n",
       "      <td>10.0</td>\n",
       "      <td>24</td>\n",
       "      <td>25740</td>\n",
       "    </tr>\n",
       "  </tbody>\n",
       "</table>\n",
       "</div>"
      ],
      "text/plain": [
       "   custid  gender     총구매액  구매건수  평균구매가격  평균할부개월수  구매브랜드종류  내점일수  수입상품_구매비율  \\\n",
       "0      18       0   680100    15   45340      1.7        9    10       26.7   \n",
       "1      26       0  1964000    28   70143      1.4       15    14       39.3   \n",
       "\n",
       "   주말방문비율  가을_구매건수  겨울_구매건수  봄_구매건수  여름_구매건수  아침_구매건수  저녁_구매건수  점심_구매건수  \\\n",
       "0   100.0      1.0      9.0     6.0      1.0      1.0      6.0      9.0   \n",
       "1    28.6      5.0      8.0    15.0      1.0      1.0     18.0     10.0   \n",
       "\n",
       "   주구매코너  코너별구매건  \n",
       "0     24   25740  \n",
       "1     24   25740  "
      ]
     },
     "execution_count": 206,
     "metadata": {},
     "output_type": "execute_result"
    }
   ],
   "source": [
    "# 학습용 데이터에 '코너별구매건' 컬럼 추가\n",
    "\n",
    "dt0 = dataP.groupby(['주구매코너'])['구매건수'].agg(sum)   \n",
    "df0 = dt0.to_frame().reset_index()\n",
    "df0.columns = ['주구매코너', '코너별구매건']\n",
    "#df0.head(3)\n",
    "dataP_ = pd.merge(dataP, df0, on='주구매코너')\n",
    "# dataP_.head()\n",
    "print(dataP_[(dataP_['주구매코너']==1)].groupby(['gender'])['총구매액'].agg(sum))\n",
    "print(dataP_[(dataP_['주구매코너']==1)].groupby(['gender'])['구매건수'].agg(sum))\n",
    "dataP_.head(2)"
   ]
  },
  {
   "cell_type": "code",
   "execution_count": 207,
   "metadata": {},
   "outputs": [
    {
     "data": {
      "text/html": [
       "<div>\n",
       "<style scoped>\n",
       "    .dataframe tbody tr th:only-of-type {\n",
       "        vertical-align: middle;\n",
       "    }\n",
       "\n",
       "    .dataframe tbody tr th {\n",
       "        vertical-align: top;\n",
       "    }\n",
       "\n",
       "    .dataframe thead th {\n",
       "        text-align: right;\n",
       "    }\n",
       "</style>\n",
       "<table border=\"1\" class=\"dataframe\">\n",
       "  <thead>\n",
       "    <tr style=\"text-align: right;\">\n",
       "      <th></th>\n",
       "      <th>custid</th>\n",
       "      <th>gender</th>\n",
       "      <th>평균구매가격</th>\n",
       "      <th>평균할부개월수</th>\n",
       "      <th>구매브랜드종류</th>\n",
       "      <th>수입상품_구매비율</th>\n",
       "      <th>주말방문비율</th>\n",
       "      <th>주구매코너</th>\n",
       "      <th>코너별구매건</th>\n",
       "      <th>아침구매액</th>\n",
       "      <th>점심구매액</th>\n",
       "      <th>저녁구매액</th>\n",
       "      <th>봄구매액</th>\n",
       "      <th>여름구매액</th>\n",
       "      <th>가을구매액</th>\n",
       "      <th>겨울구매액</th>\n",
       "      <th>내점구매율</th>\n",
       "    </tr>\n",
       "  </thead>\n",
       "  <tbody>\n",
       "    <tr>\n",
       "      <th>4123</th>\n",
       "      <td>363</td>\n",
       "      <td>0</td>\n",
       "      <td>90960</td>\n",
       "      <td>3.0</td>\n",
       "      <td>4</td>\n",
       "      <td>20.0</td>\n",
       "      <td>25.0</td>\n",
       "      <td>2</td>\n",
       "      <td>149</td>\n",
       "      <td>90960.000</td>\n",
       "      <td>90960.000</td>\n",
       "      <td>363840.000</td>\n",
       "      <td>454800.000</td>\n",
       "      <td>90960.000</td>\n",
       "      <td>90960.000</td>\n",
       "      <td>90960.000</td>\n",
       "      <td>1.250</td>\n",
       "    </tr>\n",
       "    <tr>\n",
       "      <th>4124</th>\n",
       "      <td>4822</td>\n",
       "      <td>0</td>\n",
       "      <td>248049</td>\n",
       "      <td>2.3</td>\n",
       "      <td>10</td>\n",
       "      <td>10.5</td>\n",
       "      <td>33.3</td>\n",
       "      <td>2</td>\n",
       "      <td>149</td>\n",
       "      <td>992196.632</td>\n",
       "      <td>3224639.053</td>\n",
       "      <td>496098.316</td>\n",
       "      <td>744147.474</td>\n",
       "      <td>992196.632</td>\n",
       "      <td>1736344.105</td>\n",
       "      <td>1240245.789</td>\n",
       "      <td>1.583</td>\n",
       "    </tr>\n",
       "    <tr>\n",
       "      <th>4125</th>\n",
       "      <td>11617</td>\n",
       "      <td>1</td>\n",
       "      <td>124767</td>\n",
       "      <td>3.8</td>\n",
       "      <td>8</td>\n",
       "      <td>25.0</td>\n",
       "      <td>62.5</td>\n",
       "      <td>2</td>\n",
       "      <td>149</td>\n",
       "      <td>124766.667</td>\n",
       "      <td>499066.667</td>\n",
       "      <td>873366.667</td>\n",
       "      <td>249533.333</td>\n",
       "      <td>499066.667</td>\n",
       "      <td>748600.000</td>\n",
       "      <td>124766.667</td>\n",
       "      <td>1.500</td>\n",
       "    </tr>\n",
       "  </tbody>\n",
       "</table>\n",
       "</div>"
      ],
      "text/plain": [
       "      custid  gender  평균구매가격  평균할부개월수  구매브랜드종류  수입상품_구매비율  주말방문비율  주구매코너  \\\n",
       "4123     363       0   90960      3.0        4       20.0    25.0      2   \n",
       "4124    4822       0  248049      2.3       10       10.5    33.3      2   \n",
       "4125   11617       1  124767      3.8        8       25.0    62.5      2   \n",
       "\n",
       "      코너별구매건       아침구매액        점심구매액       저녁구매액        봄구매액       여름구매액  \\\n",
       "4123     149   90960.000    90960.000  363840.000  454800.000   90960.000   \n",
       "4124     149  992196.632  3224639.053  496098.316  744147.474  992196.632   \n",
       "4125     149  124766.667   499066.667  873366.667  249533.333  499066.667   \n",
       "\n",
       "            가을구매액        겨울구매액  내점구매율  \n",
       "4123    90960.000    90960.000  1.250  \n",
       "4124  1736344.105  1240245.789  1.583  \n",
       "4125   748600.000   124766.667  1.500  "
      ]
     },
     "execution_count": 207,
     "metadata": {},
     "output_type": "execute_result"
    }
   ],
   "source": [
    "# 건수 Feature들을 최소단위 정보인 구매건당 구매액로 변경\n",
    "def createFeatures(df_p):\n",
    "    df_p['아침구매액'] = np.round(df_p['총구매액']*(df_p['아침_구매건수'] /df_p['구매건수'] ), 3)\n",
    "    df_p['점심구매액'] = np.round(df_p['총구매액']*(df_p['점심_구매건수'] /df_p['구매건수'] ), 3)\n",
    "    df_p['저녁구매액'] = np.round(df_p['총구매액']*(df_p['저녁_구매건수'] /df_p['구매건수'] ), 3)  \n",
    "    df_p['봄구매액']   = np.round(df_p['총구매액']*(df_p['봄_구매건수'] /df_p['구매건수'] ), 3) \n",
    "    df_p['여름구매액'] = np.round(df_p['총구매액']*(df_p['여름_구매건수'] /df_p['구매건수'] ), 3) \n",
    "    df_p['가을구매액'] = np.round(df_p['총구매액']*(df_p['가을_구매건수'] /df_p['구매건수'] ), 3)  \n",
    "    df_p['겨울구매액'] = np.round(df_p['총구매액']*(df_p['겨울_구매건수'] /df_p['구매건수'] ), 3)  \n",
    "    df_p['내점구매율'] = np.round(df_p['구매건수'] /df_p['내점일수'], 3)\n",
    "\n",
    "def dropFeatures(df_p):\n",
    "    drop_cols = ['아침_구매건수', '점심_구매건수', '저녁_구매건수', '총구매액', '구매건수',\n",
    "         '봄_구매건수', '여름_구매건수', '가을_구매건수', '겨울_구매건수', '내점일수'] \n",
    "    \n",
    "    return df_p.drop(drop_cols, axis=1)\n",
    "\n",
    "createFeatures(dataP_)\n",
    "dataPP = dropFeatures(dataP_) \n",
    "dataPP[(dataPP['주구매코너']==2)].head(3)"
   ]
  },
  {
   "cell_type": "code",
   "execution_count": 210,
   "metadata": {},
   "outputs": [],
   "source": [
    "import seaborn as sns"
   ]
  },
  {
   "cell_type": "code",
   "execution_count": 211,
   "metadata": {},
   "outputs": [
    {
     "data": {
      "text/plain": [
       "<matplotlib.axes._subplots.AxesSubplot at 0x155740fc5c8>"
      ]
     },
     "execution_count": 211,
     "metadata": {},
     "output_type": "execute_result"
    },
    {
     "data": {
      "image/png": "[encoded data removed]",
      "text/plain": [
       "<Figure size 432x288 with 2 Axes>"
      ]
     },
     "metadata": {
      "needs_background": "light"
     },
     "output_type": "display_data"
    }
   ],
   "source": [
    "sns.heatmap(dataPP.corr(), annot=True)"
   ]
  },
  {
   "cell_type": "code",
   "execution_count": 217,
   "metadata": {},
   "outputs": [
    {
     "data": {
      "text/html": [
       "<div>\n",
       "<style scoped>\n",
       "    .dataframe tbody tr th:only-of-type {\n",
       "        vertical-align: middle;\n",
       "    }\n",
       "\n",
       "    .dataframe tbody tr th {\n",
       "        vertical-align: top;\n",
       "    }\n",
       "\n",
       "    .dataframe thead th {\n",
       "        text-align: right;\n",
       "    }\n",
       "</style>\n",
       "<table border=\"1\" class=\"dataframe\">\n",
       "  <thead>\n",
       "    <tr style=\"text-align: right;\">\n",
       "      <th></th>\n",
       "      <th>custid</th>\n",
       "      <th>평균구매가격</th>\n",
       "      <th>구매브랜드종류</th>\n",
       "      <th>코너별구매건</th>\n",
       "      <th>아침구매액</th>\n",
       "      <th>점심구매액</th>\n",
       "      <th>봄구매액</th>\n",
       "      <th>여름구매액</th>\n",
       "      <th>가을구매액</th>\n",
       "      <th>겨울구매액</th>\n",
       "      <th>내점구매율</th>\n",
       "    </tr>\n",
       "  </thead>\n",
       "  <tbody>\n",
       "    <tr>\n",
       "      <th>4998</th>\n",
       "      <td>49732</td>\n",
       "      <td>314259</td>\n",
       "      <td>23</td>\n",
       "      <td>2219</td>\n",
       "      <td>1.477015e+07</td>\n",
       "      <td>3.928233e+07</td>\n",
       "      <td>8484982.398</td>\n",
       "      <td>2.388365e+07</td>\n",
       "      <td>1.445590e+07</td>\n",
       "      <td>1.319886e+07</td>\n",
       "      <td>2.449</td>\n",
       "    </tr>\n",
       "    <tr>\n",
       "      <th>4999</th>\n",
       "      <td>49954</td>\n",
       "      <td>183065</td>\n",
       "      <td>10</td>\n",
       "      <td>2219</td>\n",
       "      <td>5.491941e+05</td>\n",
       "      <td>2.562906e+06</td>\n",
       "      <td>1098388.235</td>\n",
       "      <td>1.830647e+05</td>\n",
       "      <td>7.322588e+05</td>\n",
       "      <td>1.098388e+06</td>\n",
       "      <td>1.308</td>\n",
       "    </tr>\n",
       "  </tbody>\n",
       "</table>\n",
       "</div>"
      ],
      "text/plain": [
       "      custid  평균구매가격  구매브랜드종류  코너별구매건         아침구매액         점심구매액  \\\n",
       "4998   49732  314259       23    2219  1.477015e+07  3.928233e+07   \n",
       "4999   49954  183065       10    2219  5.491941e+05  2.562906e+06   \n",
       "\n",
       "             봄구매액         여름구매액         가을구매액         겨울구매액  내점구매율  \n",
       "4998  8484982.398  2.388365e+07  1.445590e+07  1.319886e+07  2.449  \n",
       "4999  1098388.235  1.830647e+05  7.322588e+05  1.098388e+06  1.308  "
      ]
     },
     "execution_count": 217,
     "metadata": {},
     "output_type": "execute_result"
    }
   ],
   "source": [
    "# 학습용 데이터 확정\n",
    "\n",
    "dataPT = dataPP.copy()\n",
    "dataPD = dataPT.drop(['주말방문비율', '저녁구매액', '평균할부개월수','수입상품_구매비율','주구매코너'], axis=1)\n",
    "\n",
    "dfy = dataPD['gender']\n",
    "dfX = dataPD.drop('gender', axis=1)\n",
    "dfX.tail(2)"
   ]
  },
  {
   "cell_type": "code",
   "execution_count": 218,
   "metadata": {},
   "outputs": [
    {
     "data": {
      "text/plain": [
       "(5000, 11)"
      ]
     },
     "execution_count": 218,
     "metadata": {},
     "output_type": "execute_result"
    }
   ],
   "source": [
    "dfX.shape"
   ]
  },
  {
   "cell_type": "code",
   "execution_count": 214,
   "metadata": {},
   "outputs": [],
   "source": [
    "X_train, X_test, y_train, y_test = train_test_split(dfX, dfy, test_size=0.25, random_state=0)"
   ]
  },
  {
   "cell_type": "code",
   "execution_count": 215,
   "metadata": {},
   "outputs": [
    {
     "ename": "LightGBMError",
     "evalue": "Do not support non-ASCII characters in feature name.",
     "output_type": "error",
     "traceback": [
      "\u001b[1;31m---------------------------------------------------------------------------\u001b[0m",
      "\u001b[1;31mLightGBMError\u001b[0m                             Traceback (most recent call last)",
      "\u001b[1;32m<ipython-input-215-70a61db9e61d>\u001b[0m in \u001b[0;36m<module>\u001b[1;34m\u001b[0m\n\u001b[0;32m      2\u001b[0m \u001b[0mevals\u001b[0m \u001b[1;33m=\u001b[0m \u001b[1;33m[\u001b[0m\u001b[1;33m(\u001b[0m\u001b[0mX_test\u001b[0m\u001b[1;33m,\u001b[0m \u001b[0my_test\u001b[0m\u001b[1;33m)\u001b[0m\u001b[1;33m]\u001b[0m\u001b[1;33m\u001b[0m\u001b[1;33m\u001b[0m\u001b[0m\n\u001b[0;32m      3\u001b[0m lgbm_wrapper.fit(X_train, y_train, early_stopping_rounds=100, \n\u001b[1;32m----> 4\u001b[1;33m                  eval_metric=\"logloss\", eval_set=evals, verbose=True)\n\u001b[0m\u001b[0;32m      5\u001b[0m \u001b[0mpred\u001b[0m \u001b[1;33m=\u001b[0m \u001b[0mlgbm_wrapper\u001b[0m\u001b[1;33m.\u001b[0m\u001b[0mpredict\u001b[0m\u001b[1;33m(\u001b[0m\u001b[0mX_test\u001b[0m\u001b[1;33m)\u001b[0m\u001b[1;33m\u001b[0m\u001b[1;33m\u001b[0m\u001b[0m\n",
      "\u001b[1;32m~\\anaconda3\\lib\\site-packages\\lightgbm\\sklearn.py\u001b[0m in \u001b[0;36mfit\u001b[1;34m(self, X, y, sample_weight, init_score, eval_set, eval_names, eval_sample_weight, eval_class_weight, eval_init_score, eval_metric, early_stopping_rounds, verbose, feature_name, categorical_feature, callbacks)\u001b[0m\n\u001b[0;32m    803\u001b[0m                                         \u001b[0mverbose\u001b[0m\u001b[1;33m=\u001b[0m\u001b[0mverbose\u001b[0m\u001b[1;33m,\u001b[0m \u001b[0mfeature_name\u001b[0m\u001b[1;33m=\u001b[0m\u001b[0mfeature_name\u001b[0m\u001b[1;33m,\u001b[0m\u001b[1;33m\u001b[0m\u001b[1;33m\u001b[0m\u001b[0m\n\u001b[0;32m    804\u001b[0m                                         \u001b[0mcategorical_feature\u001b[0m\u001b[1;33m=\u001b[0m\u001b[0mcategorical_feature\u001b[0m\u001b[1;33m,\u001b[0m\u001b[1;33m\u001b[0m\u001b[1;33m\u001b[0m\u001b[0m\n\u001b[1;32m--> 805\u001b[1;33m                                         callbacks=callbacks)\n\u001b[0m\u001b[0;32m    806\u001b[0m         \u001b[1;32mreturn\u001b[0m \u001b[0mself\u001b[0m\u001b[1;33m\u001b[0m\u001b[1;33m\u001b[0m\u001b[0m\n\u001b[0;32m    807\u001b[0m \u001b[1;33m\u001b[0m\u001b[0m\n",
      "\u001b[1;32m~\\anaconda3\\lib\\site-packages\\lightgbm\\sklearn.py\u001b[0m in \u001b[0;36mfit\u001b[1;34m(self, X, y, sample_weight, init_score, group, eval_set, eval_names, eval_sample_weight, eval_class_weight, eval_init_score, eval_group, eval_metric, early_stopping_rounds, verbose, feature_name, categorical_feature, callbacks)\u001b[0m\n\u001b[0;32m    598\u001b[0m                               \u001b[0mverbose_eval\u001b[0m\u001b[1;33m=\u001b[0m\u001b[0mverbose\u001b[0m\u001b[1;33m,\u001b[0m \u001b[0mfeature_name\u001b[0m\u001b[1;33m=\u001b[0m\u001b[0mfeature_name\u001b[0m\u001b[1;33m,\u001b[0m\u001b[1;33m\u001b[0m\u001b[1;33m\u001b[0m\u001b[0m\n\u001b[0;32m    599\u001b[0m                               \u001b[0mcategorical_feature\u001b[0m\u001b[1;33m=\u001b[0m\u001b[0mcategorical_feature\u001b[0m\u001b[1;33m,\u001b[0m\u001b[1;33m\u001b[0m\u001b[1;33m\u001b[0m\u001b[0m\n\u001b[1;32m--> 600\u001b[1;33m                               callbacks=callbacks)\n\u001b[0m\u001b[0;32m    601\u001b[0m \u001b[1;33m\u001b[0m\u001b[0m\n\u001b[0;32m    602\u001b[0m         \u001b[1;32mif\u001b[0m \u001b[0mevals_result\u001b[0m\u001b[1;33m:\u001b[0m\u001b[1;33m\u001b[0m\u001b[1;33m\u001b[0m\u001b[0m\n",
      "\u001b[1;32m~\\anaconda3\\lib\\site-packages\\lightgbm\\engine.py\u001b[0m in \u001b[0;36mtrain\u001b[1;34m(params, train_set, num_boost_round, valid_sets, valid_names, fobj, feval, init_model, feature_name, categorical_feature, early_stopping_rounds, evals_result, verbose_eval, learning_rates, keep_training_booster, callbacks)\u001b[0m\n\u001b[0;32m    226\u001b[0m     \u001b[1;31m# construct booster\u001b[0m\u001b[1;33m\u001b[0m\u001b[1;33m\u001b[0m\u001b[1;33m\u001b[0m\u001b[0m\n\u001b[0;32m    227\u001b[0m     \u001b[1;32mtry\u001b[0m\u001b[1;33m:\u001b[0m\u001b[1;33m\u001b[0m\u001b[1;33m\u001b[0m\u001b[0m\n\u001b[1;32m--> 228\u001b[1;33m         \u001b[0mbooster\u001b[0m \u001b[1;33m=\u001b[0m \u001b[0mBooster\u001b[0m\u001b[1;33m(\u001b[0m\u001b[0mparams\u001b[0m\u001b[1;33m=\u001b[0m\u001b[0mparams\u001b[0m\u001b[1;33m,\u001b[0m \u001b[0mtrain_set\u001b[0m\u001b[1;33m=\u001b[0m\u001b[0mtrain_set\u001b[0m\u001b[1;33m)\u001b[0m\u001b[1;33m\u001b[0m\u001b[1;33m\u001b[0m\u001b[0m\n\u001b[0m\u001b[0;32m    229\u001b[0m         \u001b[1;32mif\u001b[0m \u001b[0mis_valid_contain_train\u001b[0m\u001b[1;33m:\u001b[0m\u001b[1;33m\u001b[0m\u001b[1;33m\u001b[0m\u001b[0m\n\u001b[0;32m    230\u001b[0m             \u001b[0mbooster\u001b[0m\u001b[1;33m.\u001b[0m\u001b[0mset_train_data_name\u001b[0m\u001b[1;33m(\u001b[0m\u001b[0mtrain_data_name\u001b[0m\u001b[1;33m)\u001b[0m\u001b[1;33m\u001b[0m\u001b[1;33m\u001b[0m\u001b[0m\n",
      "\u001b[1;32m~\\anaconda3\\lib\\site-packages\\lightgbm\\basic.py\u001b[0m in \u001b[0;36m__init__\u001b[1;34m(self, params, train_set, model_file, model_str, silent)\u001b[0m\n\u001b[0;32m   1712\u001b[0m             \u001b[0mself\u001b[0m\u001b[1;33m.\u001b[0m\u001b[0mhandle\u001b[0m \u001b[1;33m=\u001b[0m \u001b[0mctypes\u001b[0m\u001b[1;33m.\u001b[0m\u001b[0mc_void_p\u001b[0m\u001b[1;33m(\u001b[0m\u001b[1;33m)\u001b[0m\u001b[1;33m\u001b[0m\u001b[1;33m\u001b[0m\u001b[0m\n\u001b[0;32m   1713\u001b[0m             _safe_call(_LIB.LGBM_BoosterCreate(\n\u001b[1;32m-> 1714\u001b[1;33m                 \u001b[0mtrain_set\u001b[0m\u001b[1;33m.\u001b[0m\u001b[0mconstruct\u001b[0m\u001b[1;33m(\u001b[0m\u001b[1;33m)\u001b[0m\u001b[1;33m.\u001b[0m\u001b[0mhandle\u001b[0m\u001b[1;33m,\u001b[0m\u001b[1;33m\u001b[0m\u001b[1;33m\u001b[0m\u001b[0m\n\u001b[0m\u001b[0;32m   1715\u001b[0m                 \u001b[0mc_str\u001b[0m\u001b[1;33m(\u001b[0m\u001b[0mparams_str\u001b[0m\u001b[1;33m)\u001b[0m\u001b[1;33m,\u001b[0m\u001b[1;33m\u001b[0m\u001b[1;33m\u001b[0m\u001b[0m\n\u001b[0;32m   1716\u001b[0m                 ctypes.byref(self.handle)))\n",
      "\u001b[1;32m~\\anaconda3\\lib\\site-packages\\lightgbm\\basic.py\u001b[0m in \u001b[0;36mconstruct\u001b[1;34m(self)\u001b[0m\n\u001b[0;32m   1083\u001b[0m                                 \u001b[0minit_score\u001b[0m\u001b[1;33m=\u001b[0m\u001b[0mself\u001b[0m\u001b[1;33m.\u001b[0m\u001b[0minit_score\u001b[0m\u001b[1;33m,\u001b[0m \u001b[0mpredictor\u001b[0m\u001b[1;33m=\u001b[0m\u001b[0mself\u001b[0m\u001b[1;33m.\u001b[0m\u001b[0m_predictor\u001b[0m\u001b[1;33m,\u001b[0m\u001b[1;33m\u001b[0m\u001b[1;33m\u001b[0m\u001b[0m\n\u001b[0;32m   1084\u001b[0m                                 \u001b[0msilent\u001b[0m\u001b[1;33m=\u001b[0m\u001b[0mself\u001b[0m\u001b[1;33m.\u001b[0m\u001b[0msilent\u001b[0m\u001b[1;33m,\u001b[0m \u001b[0mfeature_name\u001b[0m\u001b[1;33m=\u001b[0m\u001b[0mself\u001b[0m\u001b[1;33m.\u001b[0m\u001b[0mfeature_name\u001b[0m\u001b[1;33m,\u001b[0m\u001b[1;33m\u001b[0m\u001b[1;33m\u001b[0m\u001b[0m\n\u001b[1;32m-> 1085\u001b[1;33m                                 categorical_feature=self.categorical_feature, params=self.params)\n\u001b[0m\u001b[0;32m   1086\u001b[0m             \u001b[1;32mif\u001b[0m \u001b[0mself\u001b[0m\u001b[1;33m.\u001b[0m\u001b[0mfree_raw_data\u001b[0m\u001b[1;33m:\u001b[0m\u001b[1;33m\u001b[0m\u001b[1;33m\u001b[0m\u001b[0m\n\u001b[0;32m   1087\u001b[0m                 \u001b[0mself\u001b[0m\u001b[1;33m.\u001b[0m\u001b[0mdata\u001b[0m \u001b[1;33m=\u001b[0m \u001b[1;32mNone\u001b[0m\u001b[1;33m\u001b[0m\u001b[1;33m\u001b[0m\u001b[0m\n",
      "\u001b[1;32m~\\anaconda3\\lib\\site-packages\\lightgbm\\basic.py\u001b[0m in \u001b[0;36m_lazy_init\u001b[1;34m(self, data, label, reference, weight, group, init_score, predictor, silent, feature_name, categorical_feature, params)\u001b[0m\n\u001b[0;32m    913\u001b[0m             \u001b[1;32mraise\u001b[0m \u001b[0mTypeError\u001b[0m\u001b[1;33m(\u001b[0m\u001b[1;34m'Wrong predictor type {}'\u001b[0m\u001b[1;33m.\u001b[0m\u001b[0mformat\u001b[0m\u001b[1;33m(\u001b[0m\u001b[0mtype\u001b[0m\u001b[1;33m(\u001b[0m\u001b[0mpredictor\u001b[0m\u001b[1;33m)\u001b[0m\u001b[1;33m.\u001b[0m\u001b[0m__name__\u001b[0m\u001b[1;33m)\u001b[0m\u001b[1;33m)\u001b[0m\u001b[1;33m\u001b[0m\u001b[1;33m\u001b[0m\u001b[0m\n\u001b[0;32m    914\u001b[0m         \u001b[1;31m# set feature names\u001b[0m\u001b[1;33m\u001b[0m\u001b[1;33m\u001b[0m\u001b[1;33m\u001b[0m\u001b[0m\n\u001b[1;32m--> 915\u001b[1;33m         \u001b[1;32mreturn\u001b[0m \u001b[0mself\u001b[0m\u001b[1;33m.\u001b[0m\u001b[0mset_feature_name\u001b[0m\u001b[1;33m(\u001b[0m\u001b[0mfeature_name\u001b[0m\u001b[1;33m)\u001b[0m\u001b[1;33m\u001b[0m\u001b[1;33m\u001b[0m\u001b[0m\n\u001b[0m\u001b[0;32m    916\u001b[0m \u001b[1;33m\u001b[0m\u001b[0m\n\u001b[0;32m    917\u001b[0m     \u001b[1;32mdef\u001b[0m \u001b[0m__init_from_np2d\u001b[0m\u001b[1;33m(\u001b[0m\u001b[0mself\u001b[0m\u001b[1;33m,\u001b[0m \u001b[0mmat\u001b[0m\u001b[1;33m,\u001b[0m \u001b[0mparams_str\u001b[0m\u001b[1;33m,\u001b[0m \u001b[0mref_dataset\u001b[0m\u001b[1;33m)\u001b[0m\u001b[1;33m:\u001b[0m\u001b[1;33m\u001b[0m\u001b[1;33m\u001b[0m\u001b[0m\n",
      "\u001b[1;32m~\\anaconda3\\lib\\site-packages\\lightgbm\\basic.py\u001b[0m in \u001b[0;36mset_feature_name\u001b[1;34m(self, feature_name)\u001b[0m\n\u001b[0;32m   1366\u001b[0m                 \u001b[0mself\u001b[0m\u001b[1;33m.\u001b[0m\u001b[0mhandle\u001b[0m\u001b[1;33m,\u001b[0m\u001b[1;33m\u001b[0m\u001b[1;33m\u001b[0m\u001b[0m\n\u001b[0;32m   1367\u001b[0m                 \u001b[0mc_array\u001b[0m\u001b[1;33m(\u001b[0m\u001b[0mctypes\u001b[0m\u001b[1;33m.\u001b[0m\u001b[0mc_char_p\u001b[0m\u001b[1;33m,\u001b[0m \u001b[0mc_feature_name\u001b[0m\u001b[1;33m)\u001b[0m\u001b[1;33m,\u001b[0m\u001b[1;33m\u001b[0m\u001b[1;33m\u001b[0m\u001b[0m\n\u001b[1;32m-> 1368\u001b[1;33m                 ctypes.c_int(len(feature_name))))\n\u001b[0m\u001b[0;32m   1369\u001b[0m         \u001b[1;32mreturn\u001b[0m \u001b[0mself\u001b[0m\u001b[1;33m\u001b[0m\u001b[1;33m\u001b[0m\u001b[0m\n\u001b[0;32m   1370\u001b[0m \u001b[1;33m\u001b[0m\u001b[0m\n",
      "\u001b[1;32m~\\anaconda3\\lib\\site-packages\\lightgbm\\basic.py\u001b[0m in \u001b[0;36m_safe_call\u001b[1;34m(ret)\u001b[0m\n\u001b[0;32m     43\u001b[0m     \"\"\"\n\u001b[0;32m     44\u001b[0m     \u001b[1;32mif\u001b[0m \u001b[0mret\u001b[0m \u001b[1;33m!=\u001b[0m \u001b[1;36m0\u001b[0m\u001b[1;33m:\u001b[0m\u001b[1;33m\u001b[0m\u001b[1;33m\u001b[0m\u001b[0m\n\u001b[1;32m---> 45\u001b[1;33m         \u001b[1;32mraise\u001b[0m \u001b[0mLightGBMError\u001b[0m\u001b[1;33m(\u001b[0m\u001b[0mdecode_string\u001b[0m\u001b[1;33m(\u001b[0m\u001b[0m_LIB\u001b[0m\u001b[1;33m.\u001b[0m\u001b[0mLGBM_GetLastError\u001b[0m\u001b[1;33m(\u001b[0m\u001b[1;33m)\u001b[0m\u001b[1;33m)\u001b[0m\u001b[1;33m)\u001b[0m\u001b[1;33m\u001b[0m\u001b[1;33m\u001b[0m\u001b[0m\n\u001b[0m\u001b[0;32m     46\u001b[0m \u001b[1;33m\u001b[0m\u001b[0m\n\u001b[0;32m     47\u001b[0m \u001b[1;33m\u001b[0m\u001b[0m\n",
      "\u001b[1;31mLightGBMError\u001b[0m: Do not support non-ASCII characters in feature name."
     ]
    }
   ],
   "source": [
    "lgbm_wrapper = LGBMClassifier(nestimators=400)\n",
    "evals = [(X_test, y_test)]\n",
    "lgbm_wrapper.fit(X_train, y_train, early_stopping_rounds=100, \n",
    "                 eval_metric=\"logloss\", eval_set=evals, verbose=True)\n",
    "pred = lgbm_wrapper.predict(X_test)"
   ]
  },
  {
   "cell_type": "code",
   "execution_count": 216,
   "metadata": {},
   "outputs": [
    {
     "name": "stdout",
     "output_type": "stream",
     "text": [
      "오차행렬\n",
      "[[755  92]\n",
      " [347  56]]\n",
      "정확도: 0.6488, 정밀도: 0.3784, 재현율: 0.1390\n"
     ]
    }
   ],
   "source": [
    "get_clf_eval(y_test, preds)"
   ]
  },
  {
   "cell_type": "code",
   "execution_count": null,
   "metadata": {},
   "outputs": [],
   "source": []
  },
  {
   "cell_type": "code",
   "execution_count": null,
   "metadata": {},
   "outputs": [],
   "source": []
  }
 ],
 "metadata": {
  "kernelspec": {
   "display_name": "Python 3",
   "language": "python",
   "name": "python3"
  },
  "language_info": {
   "codemirror_mode": {
    "name": "ipython",
    "version": 3
   },
   "file_extension": ".py",
   "mimetype": "text/x-python",
   "name": "python",
   "nbconvert_exporter": "python",
   "pygments_lexer": "ipython3",
   "version": "3.7.6"
  }
 },
 "nbformat": 4,
 "nbformat_minor": 2
}
