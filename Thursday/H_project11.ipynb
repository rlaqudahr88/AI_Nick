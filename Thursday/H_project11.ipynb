{
 "cells": [
  {
   "cell_type": "code",
   "execution_count": 2,
   "metadata": {},
   "outputs": [],
   "source": [
    "import pandas as pd\n",
    "from pandas import Series, DataFrame\n",
    "import numpy as np\n",
    "import matplotlib.pyplot as plt\n",
    "%matplotlib inline\n",
    "import seaborn as sns\n",
    "\n",
    "#importing basic libraries for visualization and data analyzing"
   ]
  },
  {
   "cell_type": "code",
   "execution_count": 3,
   "metadata": {},
   "outputs": [],
   "source": [
    "#import data sets\n",
    "df_train = pd.read_csv('train.csv', engine='python')\n",
    "df_test = pd.read_csv('test.csv', engine = 'python')"
   ]
  },
  {
   "cell_type": "code",
   "execution_count": 6,
   "metadata": {},
   "outputs": [
    {
     "name": "stdout",
     "output_type": "stream",
     "text": [
      "<class 'pandas.core.frame.DataFrame'>\n",
      "RangeIndex: 5000 entries, 0 to 4999\n",
      "Data columns (total 18 columns):\n",
      " #   Column     Non-Null Count  Dtype  \n",
      "---  ------     --------------  -----  \n",
      " 0   custid     5000 non-null   int64  \n",
      " 1   gender     5000 non-null   int64  \n",
      " 2   총구매액       5000 non-null   int64  \n",
      " 3   구매건수       5000 non-null   int64  \n",
      " 4   평균구매가격     5000 non-null   int64  \n",
      " 5   평균할부개월수    5000 non-null   float64\n",
      " 6   구매브랜드종류    5000 non-null   int64  \n",
      " 7   내점일수       5000 non-null   int64  \n",
      " 8   수입상품_구매비율  5000 non-null   float64\n",
      " 9   주말방문비율     5000 non-null   float64\n",
      " 10  가을_구매건수    4055 non-null   float64\n",
      " 11  겨울_구매건수    4103 non-null   float64\n",
      " 12  봄_구매건수     4311 non-null   float64\n",
      " 13  여름_구매건수    3978 non-null   float64\n",
      " 14  아침_구매건수    3558 non-null   float64\n",
      " 15  저녁_구매건수    4033 non-null   float64\n",
      " 16  점심_구매건수    4855 non-null   float64\n",
      " 17  주구매코너      5000 non-null   object \n",
      "dtypes: float64(10), int64(7), object(1)\n",
      "memory usage: 703.2+ KB\n"
     ]
    }
   ],
   "source": [
    "# observe the data to see if there are any missing values and data types\n",
    "df_train.info()"
   ]
  },
  {
   "cell_type": "code",
   "execution_count": 8,
   "metadata": {},
   "outputs": [],
   "source": [
    "# 빈갑들이 0 이 돼는 이유는 총 건수의 갑때문에\n",
    "df_train = df_train.fillna(0)\n",
    "df_test = df_test.fillna(0)"
   ]
  },
  {
   "cell_type": "code",
   "execution_count": 16,
   "metadata": {},
   "outputs": [],
   "source": [
    "#Drop ID column in train and test\n",
    "train_ID = df_train['custid']\n",
    "test_id = df_test['custid']\n",
    "\n",
    "df_train.drop('custid', axis=1, inplace=True)\n",
    "df_test.drop('custid', axis=1, inplace=True)"
   ]
  },
  {
   "cell_type": "code",
   "execution_count": 17,
   "metadata": {},
   "outputs": [
    {
     "name": "stdout",
     "output_type": "stream",
     "text": [
      "<class 'pandas.core.frame.DataFrame'>\n",
      "RangeIndex: 5000 entries, 0 to 4999\n",
      "Data columns (total 17 columns):\n",
      " #   Column          Non-Null Count  Dtype  \n",
      "---  ------          --------------  -----  \n",
      " 0   gender          5000 non-null   int64  \n",
      " 1   tot_price       5000 non-null   int64  \n",
      " 2   count           5000 non-null   int64  \n",
      " 3   avg_price       5000 non-null   int64  \n",
      " 4   avg_install     5000 non-null   float64\n",
      " 5   brand_category  5000 non-null   int64  \n",
      " 6   visited         5000 non-null   int64  \n",
      " 7   income_rate     5000 non-null   float64\n",
      " 8   week_visited    5000 non-null   float64\n",
      " 9   fall_count      5000 non-null   float64\n",
      " 10  wint_count      5000 non-null   float64\n",
      " 11  spring_count    5000 non-null   float64\n",
      " 12  summer_count    5000 non-null   float64\n",
      " 13  morning_count   5000 non-null   float64\n",
      " 14  night_count     5000 non-null   float64\n",
      " 15  after_count     5000 non-null   float64\n",
      " 16  major           5000 non-null   object \n",
      "dtypes: float64(10), int64(6), object(1)\n",
      "memory usage: 664.2+ KB\n"
     ]
    }
   ],
   "source": [
    "# 한글로 하면 계속 에러날거같으니까\n",
    "# 그냥 죄다 영어로 바꾸자\n",
    "# 나중에 어렵게하고싶지 않아.\n",
    "\n",
    "df_train=df_train.rename(columns={'총구매액':'tot_price', '구매건수':'count', \n",
    "                         '평균구매가격':'avg_price', '평균할부개월수':'avg_install',\n",
    "                         '구매브랜드종류':'brand_category', '내점일수':'visited', \n",
    "                         '수입상품_구매비율':'income_rate', '주말방문비율':'week_visited',\n",
    "                         '가을_구매건수':'fall_count', '겨울_구매건수':'wint_count',\n",
    "                         '봄_구매건수':'spring_count', '여름_구매건수':'summer_count',\n",
    "                         '아침_구매건수':'morning_count', '저녁_구매건수':'night_count',\n",
    "                         '점심_구매건수':'after_count', '주구매코너':'major'})\n",
    "df_train.info()"
   ]
  },
  {
   "cell_type": "code",
   "execution_count": 18,
   "metadata": {},
   "outputs": [
    {
     "data": {
      "text/plain": [
       "일반식품        1306\n",
       "화장품         1206\n",
       "유니캐주얼        410\n",
       "유아동복         383\n",
       "스포츠          301\n",
       "영캐주얼         246\n",
       "캐릭터캐주얼       188\n",
       "수입명품         136\n",
       "섬유            96\n",
       "트래디셔널캐주얼      91\n",
       "니트단품          91\n",
       "정장셔츠          90\n",
       "엘레강스캐주얼       78\n",
       "피혁A           75\n",
       "장신구           68\n",
       "피혁B           56\n",
       "디자이너부띠끄       51\n",
       "문화완구          38\n",
       "조리욕실          28\n",
       "가전            18\n",
       "기타바이어         12\n",
       "도자기크리스탈       11\n",
       "침구수예           8\n",
       "가구             7\n",
       "타운모피           6\n",
       "Name: major, dtype: int64"
      ]
     },
     "execution_count": 18,
     "metadata": {},
     "output_type": "execute_result"
    }
   ],
   "source": [
    "# 수치형으로 입력할경우 순위가 생기기떄문에 안됨\n",
    "# 그래서 one-hot 인코딩으로 \n",
    "df_train['major'].value_counts()"
   ]
  },
  {
   "cell_type": "code",
   "execution_count": 19,
   "metadata": {},
   "outputs": [
    {
     "data": {
      "text/plain": [
       "14    1306\n",
       "24    1206\n",
       "12     410\n",
       "13     383\n",
       "9      301\n",
       "11     246\n",
       "19     188\n",
       "8      136\n",
       "7       96\n",
       "21      91\n",
       "3       91\n",
       "16      90\n",
       "10      78\n",
       "22      75\n",
       "15      68\n",
       "23      56\n",
       "5       51\n",
       "6       38\n",
       "17      28\n",
       "1       18\n",
       "2       12\n",
       "4       11\n",
       "18       8\n",
       "0        7\n",
       "20       6\n",
       "Name: major, dtype: int64"
      ]
     },
     "execution_count": 19,
     "metadata": {},
     "output_type": "execute_result"
    }
   ],
   "source": [
    "# major를 숫자화 한다\n",
    "df_train['major'] = df_train['major'].astype('category')\n",
    "df_train['major'] = df_train['major'].cat.codes\n",
    "df_train['major'].value_counts()"
   ]
  },
  {
   "cell_type": "code",
   "execution_count": 20,
   "metadata": {},
   "outputs": [
    {
     "data": {
      "text/plain": [
       "gender            1.000000\n",
       "morning_count     0.016327\n",
       "summer_count      0.010384\n",
       "tot_price         0.009828\n",
       "after_count       0.009455\n",
       "count             0.008840\n",
       "fall_count        0.007850\n",
       "visited           0.007099\n",
       "brand_category    0.007054\n",
       "spring_count      0.005794\n",
       "avg_price         0.005210\n",
       "wint_count        0.004259\n",
       "major             0.001542\n",
       "night_count       0.000467\n",
       "income_rate       0.000453\n",
       "week_visited      0.000418\n",
       "avg_install       0.000403\n",
       "Name: gender, dtype: float64"
      ]
     },
     "execution_count": 20,
     "metadata": {},
     "output_type": "execute_result"
    }
   ],
   "source": [
    "## get the most important variables. \n",
    "corr = df_train.corr()**2\n",
    "corr.gender.sort_values(ascending=False)"
   ]
  },
  {
   "cell_type": "code",
   "execution_count": 21,
   "metadata": {},
   "outputs": [],
   "source": [
    "#feature engineering\n",
    "# introduce new feature\n",
    "df_train['tot_exported_goods'] = np.where((df_train['income_rate']!=0),\n",
    "                                (df_train['income_rate']* df_train['tot_price']) / 100, 0)"
   ]
  },
  {
   "cell_type": "code",
   "execution_count": 23,
   "metadata": {},
   "outputs": [
    {
     "data": {
      "text/html": [
       "<div>\n",
       "<style scoped>\n",
       "    .dataframe tbody tr th:only-of-type {\n",
       "        vertical-align: middle;\n",
       "    }\n",
       "\n",
       "    .dataframe tbody tr th {\n",
       "        vertical-align: top;\n",
       "    }\n",
       "\n",
       "    .dataframe thead th {\n",
       "        text-align: right;\n",
       "    }\n",
       "</style>\n",
       "<table border=\"1\" class=\"dataframe\">\n",
       "  <thead>\n",
       "    <tr style=\"text-align: right;\">\n",
       "      <th></th>\n",
       "      <th>gender</th>\n",
       "      <th>tot_price</th>\n",
       "      <th>count</th>\n",
       "      <th>avg_price</th>\n",
       "      <th>avg_install</th>\n",
       "      <th>brand_category</th>\n",
       "      <th>visited</th>\n",
       "      <th>income_rate</th>\n",
       "      <th>week_visited</th>\n",
       "      <th>major</th>\n",
       "      <th>tot_exported_goods</th>\n",
       "      <th>morning_price</th>\n",
       "      <th>after_price</th>\n",
       "      <th>night_price</th>\n",
       "      <th>spring_price</th>\n",
       "      <th>summer_price</th>\n",
       "      <th>fall_price</th>\n",
       "      <th>wint_price</th>\n",
       "      <th>visited_price</th>\n",
       "    </tr>\n",
       "  </thead>\n",
       "  <tbody>\n",
       "    <tr>\n",
       "      <th>39</th>\n",
       "      <td>0</td>\n",
       "      <td>454800</td>\n",
       "      <td>5</td>\n",
       "      <td>90960</td>\n",
       "      <td>3.0</td>\n",
       "      <td>4</td>\n",
       "      <td>4</td>\n",
       "      <td>20.0</td>\n",
       "      <td>25.0</td>\n",
       "      <td>2</td>\n",
       "      <td>90960.00</td>\n",
       "      <td>0.000</td>\n",
       "      <td>90960.000</td>\n",
       "      <td>363840.000</td>\n",
       "      <td>454800.000</td>\n",
       "      <td>0.000</td>\n",
       "      <td>0.000</td>\n",
       "      <td>0.000</td>\n",
       "      <td>1.250</td>\n",
       "    </tr>\n",
       "    <tr>\n",
       "      <th>478</th>\n",
       "      <td>0</td>\n",
       "      <td>4712934</td>\n",
       "      <td>19</td>\n",
       "      <td>248049</td>\n",
       "      <td>2.3</td>\n",
       "      <td>10</td>\n",
       "      <td>12</td>\n",
       "      <td>10.5</td>\n",
       "      <td>33.3</td>\n",
       "      <td>2</td>\n",
       "      <td>494858.07</td>\n",
       "      <td>992196.632</td>\n",
       "      <td>3224639.053</td>\n",
       "      <td>496098.316</td>\n",
       "      <td>744147.474</td>\n",
       "      <td>992196.632</td>\n",
       "      <td>1736344.105</td>\n",
       "      <td>1240245.789</td>\n",
       "      <td>1.583</td>\n",
       "    </tr>\n",
       "    <tr>\n",
       "      <th>1126</th>\n",
       "      <td>1</td>\n",
       "      <td>1497200</td>\n",
       "      <td>12</td>\n",
       "      <td>124767</td>\n",
       "      <td>3.8</td>\n",
       "      <td>8</td>\n",
       "      <td>8</td>\n",
       "      <td>25.0</td>\n",
       "      <td>62.5</td>\n",
       "      <td>2</td>\n",
       "      <td>374300.00</td>\n",
       "      <td>124766.667</td>\n",
       "      <td>499066.667</td>\n",
       "      <td>873366.667</td>\n",
       "      <td>249533.333</td>\n",
       "      <td>499066.667</td>\n",
       "      <td>748600.000</td>\n",
       "      <td>0.000</td>\n",
       "      <td>1.500</td>\n",
       "    </tr>\n",
       "    <tr>\n",
       "      <th>1265</th>\n",
       "      <td>0</td>\n",
       "      <td>951000</td>\n",
       "      <td>12</td>\n",
       "      <td>79250</td>\n",
       "      <td>1.7</td>\n",
       "      <td>10</td>\n",
       "      <td>3</td>\n",
       "      <td>0.0</td>\n",
       "      <td>33.3</td>\n",
       "      <td>2</td>\n",
       "      <td>0.00</td>\n",
       "      <td>554750.000</td>\n",
       "      <td>396250.000</td>\n",
       "      <td>0.000</td>\n",
       "      <td>158500.000</td>\n",
       "      <td>0.000</td>\n",
       "      <td>792500.000</td>\n",
       "      <td>0.000</td>\n",
       "      <td>4.000</td>\n",
       "    </tr>\n",
       "    <tr>\n",
       "      <th>1612</th>\n",
       "      <td>0</td>\n",
       "      <td>253000</td>\n",
       "      <td>8</td>\n",
       "      <td>31625</td>\n",
       "      <td>1.0</td>\n",
       "      <td>6</td>\n",
       "      <td>7</td>\n",
       "      <td>12.5</td>\n",
       "      <td>14.3</td>\n",
       "      <td>2</td>\n",
       "      <td>31625.00</td>\n",
       "      <td>63250.000</td>\n",
       "      <td>189750.000</td>\n",
       "      <td>0.000</td>\n",
       "      <td>94875.000</td>\n",
       "      <td>158125.000</td>\n",
       "      <td>0.000</td>\n",
       "      <td>0.000</td>\n",
       "      <td>1.143</td>\n",
       "    </tr>\n",
       "  </tbody>\n",
       "</table>\n",
       "</div>"
      ],
      "text/plain": [
       "      gender  tot_price  count  avg_price  avg_install  brand_category  \\\n",
       "39         0     454800      5      90960          3.0               4   \n",
       "478        0    4712934     19     248049          2.3              10   \n",
       "1126       1    1497200     12     124767          3.8               8   \n",
       "1265       0     951000     12      79250          1.7              10   \n",
       "1612       0     253000      8      31625          1.0               6   \n",
       "\n",
       "      visited  income_rate  week_visited  major  tot_exported_goods  \\\n",
       "39          4         20.0          25.0      2            90960.00   \n",
       "478        12         10.5          33.3      2           494858.07   \n",
       "1126        8         25.0          62.5      2           374300.00   \n",
       "1265        3          0.0          33.3      2                0.00   \n",
       "1612        7         12.5          14.3      2            31625.00   \n",
       "\n",
       "      morning_price  after_price  night_price  spring_price  summer_price  \\\n",
       "39            0.000    90960.000   363840.000    454800.000         0.000   \n",
       "478      992196.632  3224639.053   496098.316    744147.474    992196.632   \n",
       "1126     124766.667   499066.667   873366.667    249533.333    499066.667   \n",
       "1265     554750.000   396250.000        0.000    158500.000         0.000   \n",
       "1612      63250.000   189750.000        0.000     94875.000    158125.000   \n",
       "\n",
       "       fall_price   wint_price  visited_price  \n",
       "39          0.000        0.000          1.250  \n",
       "478   1736344.105  1240245.789          1.583  \n",
       "1126   748600.000        0.000          1.500  \n",
       "1265   792500.000        0.000          4.000  \n",
       "1612        0.000        0.000          1.143  "
      ]
     },
     "execution_count": 23,
     "metadata": {},
     "output_type": "execute_result"
    }
   ],
   "source": [
    "# 건수 Feature들을 최소단위 정보인 구매건당 구매액로 변경\n",
    "def createFeatures(df_p):\n",
    "    df_p['morning_price'] = np.round(df_p['tot_price']*(df_p['morning_count'] /df_p['count'] ), 3)\n",
    "    df_p['after_price'] = np.round(df_p['tot_price']*(df_p['after_count'] /df_p['count'] ), 3)\n",
    "    df_p['night_price'] = np.round(df_p['tot_price']*(df_p['night_count'] /df_p['count'] ), 3)  \n",
    "    df_p['spring_price']   = np.round(df_p['tot_price']*(df_p['spring_count'] /df_p['count'] ), 3) \n",
    "    df_p['summer_price'] = np.round(df_p['tot_price']*(df_p['summer_count'] /df_p['count'] ), 3) \n",
    "    df_p['fall_price'] = np.round(df_p['tot_price']*(df_p['fall_count'] /df_p['count'] ), 3)  \n",
    "    df_p['wint_price'] = np.round(df_p['tot_price']*(df_p['wint_count'] /df_p['count'] ), 3)  \n",
    "    df_p['visited_price'] = np.round(df_p['count'] /df_p['visited'], 3)\n",
    "\n",
    "def dropFeatures(df_p):\n",
    "    drop_cols = ['morning_count', 'after_count', 'night_count',\n",
    "         'spring_count', 'summer_count', 'fall_count', 'wint_count'] \n",
    "    \n",
    "    return df_p.drop(drop_cols, axis=1)\n",
    "\n",
    "createFeatures(df_train)\n",
    "dataPP = dropFeatures(df_train) \n",
    "dataPP[(dataPP['major']==2)].head()"
   ]
  },
  {
   "cell_type": "code",
   "execution_count": 24,
   "metadata": {},
   "outputs": [
    {
     "data": {
      "text/plain": [
       "gender                1.000000\n",
       "morning_price         0.014550\n",
       "summer_price          0.010433\n",
       "tot_price             0.009828\n",
       "fall_price            0.009134\n",
       "after_price           0.008952\n",
       "count                 0.008840\n",
       "visited               0.007099\n",
       "brand_category        0.007054\n",
       "spring_price          0.006574\n",
       "wint_price            0.005555\n",
       "avg_price             0.005210\n",
       "tot_exported_goods    0.004293\n",
       "visited_price         0.002412\n",
       "major                 0.001542\n",
       "income_rate           0.000453\n",
       "week_visited          0.000418\n",
       "avg_install           0.000403\n",
       "night_price           0.000226\n",
       "Name: gender, dtype: float64"
      ]
     },
     "execution_count": 24,
     "metadata": {},
     "output_type": "execute_result"
    }
   ],
   "source": [
    "## get the most important variables. \n",
    "corr = dataPP.corr()**2\n",
    "corr.gender.sort_values(ascending=False)"
   ]
  },
  {
   "cell_type": "code",
   "execution_count": null,
   "metadata": {},
   "outputs": [],
   "source": []
  },
  {
   "cell_type": "code",
   "execution_count": null,
   "metadata": {},
   "outputs": [],
   "source": []
  },
  {
   "cell_type": "code",
   "execution_count": null,
   "metadata": {},
   "outputs": [],
   "source": []
  },
  {
   "cell_type": "code",
   "execution_count": null,
   "metadata": {},
   "outputs": [],
   "source": []
  },
  {
   "cell_type": "code",
   "execution_count": null,
   "metadata": {},
   "outputs": [],
   "source": []
  },
  {
   "cell_type": "code",
   "execution_count": null,
   "metadata": {},
   "outputs": [],
   "source": []
  },
  {
   "cell_type": "code",
   "execution_count": null,
   "metadata": {},
   "outputs": [],
   "source": []
  },
  {
   "cell_type": "code",
   "execution_count": null,
   "metadata": {},
   "outputs": [],
   "source": []
  },
  {
   "cell_type": "code",
   "execution_count": null,
   "metadata": {},
   "outputs": [],
   "source": []
  },
  {
   "cell_type": "code",
   "execution_count": null,
   "metadata": {},
   "outputs": [],
   "source": []
  },
  {
   "cell_type": "code",
   "execution_count": null,
   "metadata": {},
   "outputs": [],
   "source": []
  },
  {
   "cell_type": "code",
   "execution_count": null,
   "metadata": {},
   "outputs": [],
   "source": []
  },
  {
   "cell_type": "code",
   "execution_count": null,
   "metadata": {},
   "outputs": [],
   "source": []
  },
  {
   "cell_type": "code",
   "execution_count": 25,
   "metadata": {},
   "outputs": [
    {
     "name": "stdout",
     "output_type": "stream",
     "text": [
      "Class 0: 3479\n",
      "Class 1: 1521\n",
      "Proportion: 2.29 : 1\n"
     ]
    },
    {
     "data": {
      "image/png": "[encoded data removed]",
      "text/plain": [
       "<Figure size 432x288 with 1 Axes>"
      ]
     },
     "metadata": {
      "needs_background": "light"
     },
     "output_type": "display_data"
    }
   ],
   "source": [
    "gender_count = df_train.gender.value_counts()\n",
    "print('Class 0:', gender_count[0])\n",
    "print('Class 1:', gender_count[1])\n",
    "print('Proportion:', round(gender_count[0] / gender_count[1], 2), ': 1')\n",
    "target_count.plot(kind='bar', title='Count (gender)');"
   ]
  },
  {
   "cell_type": "code",
   "execution_count": 27,
   "metadata": {},
   "outputs": [
    {
     "name": "stdout",
     "output_type": "stream",
     "text": [
      "Accuracy: 68.50%\n"
     ]
    }
   ],
   "source": [
    "from xgboost import XGBClassifier\n",
    "from sklearn.model_selection import train_test_split\n",
    "from sklearn.metrics import accuracy_score\n",
    "\n",
    "# Remove 'id' and 'target' columns\n",
    "labels = dataPP.columns[2:]\n",
    "\n",
    "X = dataPP[labels]\n",
    "y = dataPP['gender']\n",
    "\n",
    "X_train, X_test, y_train, y_test = train_test_split(X, y, test_size=0.2, random_state=1)\n",
    "\n",
    "model = XGBClassifier()\n",
    "model.fit(X_train, y_train)\n",
    "y_pred = model.predict(X_test)\n",
    "\n",
    "accuracy = accuracy_score(y_test, y_pred)\n",
    "print(\"Accuracy: %.2f%%\" % (accuracy * 100.0))"
   ]
  },
  {
   "cell_type": "code",
   "execution_count": 30,
   "metadata": {},
   "outputs": [
    {
     "name": "stdout",
     "output_type": "stream",
     "text": [
      "Accuracy: 68.50%\n"
     ]
    }
   ],
   "source": [
    "model = XGBClassifier()\n",
    "model.fit(X_train, y_train)\n",
    "y_pred = model.predict(X_test)\n",
    "\n",
    "accuracy = accuracy_score(y_test, y_pred)\n",
    "print(\"Accuracy: %.2f%%\" % (accuracy * 100.0))"
   ]
  },
  {
   "cell_type": "code",
   "execution_count": 31,
   "metadata": {},
   "outputs": [
    {
     "name": "stdout",
     "output_type": "stream",
     "text": [
      "Confusion matrix:\n",
      " [[667  27]\n",
      " [288  18]]\n"
     ]
    },
    {
     "data": {
      "image/png": "[encoded data removed]",
      "text/plain": [
       "<Figure size 432x288 with 2 Axes>"
      ]
     },
     "metadata": {
      "needs_background": "light"
     },
     "output_type": "display_data"
    }
   ],
   "source": [
    "from sklearn.metrics import confusion_matrix\n",
    "from matplotlib import pyplot as plt\n",
    "\n",
    "conf_mat = confusion_matrix(y_true=y_test, y_pred=y_pred)\n",
    "print('Confusion matrix:\\n', conf_mat)\n",
    "\n",
    "labels = ['0', '1']\n",
    "fig = plt.figure()\n",
    "ax = fig.add_subplot(111)\n",
    "cax = ax.matshow(conf_mat, cmap=plt.cm.Blues)\n",
    "fig.colorbar(cax)\n",
    "ax.set_xticklabels([''] + labels)\n",
    "ax.set_yticklabels([''] + labels)\n",
    "plt.xlabel('Predicted')\n",
    "plt.ylabel('Expected')\n",
    "plt.show()"
   ]
  },
  {
   "cell_type": "code",
   "execution_count": 33,
   "metadata": {},
   "outputs": [],
   "source": [
    "count_class_0, count_class_1 = dataPP.gender.value_counts()\n",
    "\n",
    "# Divide by class\n",
    "df_class_0 = df_train[df_train['gender'] == 0]\n",
    "df_class_1 = df_train[df_train['gender'] == 1]"
   ]
  },
  {
   "cell_type": "code",
   "execution_count": 35,
   "metadata": {},
   "outputs": [
    {
     "name": "stdout",
     "output_type": "stream",
     "text": [
      "Random under-sampling:\n",
      "1    1521\n",
      "0    1521\n",
      "Name: gender, dtype: int64\n"
     ]
    },
    {
     "data": {
      "image/png": "[encoded data removed]",
      "text/plain": [
       "<Figure size 432x288 with 1 Axes>"
      ]
     },
     "metadata": {
      "needs_background": "light"
     },
     "output_type": "display_data"
    }
   ],
   "source": [
    "df_class_0_under = df_class_0.sample(count_class_1)\n",
    "df_test_under = pd.concat([df_class_0_under, df_class_1], axis=0)\n",
    "\n",
    "print('Random under-sampling:')\n",
    "print(df_test_under.gender.value_counts())\n",
    "\n",
    "df_test_under.gender.value_counts().plot(kind='bar', title='Count (gender)');"
   ]
  },
  {
   "cell_type": "code",
   "execution_count": 36,
   "metadata": {},
   "outputs": [
    {
     "name": "stdout",
     "output_type": "stream",
     "text": [
      "Random over-sampling:\n",
      "1    3479\n",
      "0    3479\n",
      "Name: gender, dtype: int64\n"
     ]
    },
    {
     "data": {
      "image/png": "[encoded data removed]",
      "text/plain": [
       "<Figure size 432x288 with 1 Axes>"
      ]
     },
     "metadata": {
      "needs_background": "light"
     },
     "output_type": "display_data"
    }
   ],
   "source": [
    "df_class_1_over = df_class_1.sample(count_class_0, replace=True)\n",
    "df_test_over = pd.concat([df_class_0, df_class_1_over], axis=0)\n",
    "\n",
    "print('Random over-sampling:')\n",
    "print(df_test_over.gender.value_counts())\n",
    "\n",
    "df_test_over.gender.value_counts().plot(kind='bar', title='Count (target)');"
   ]
  },
  {
   "cell_type": "code",
   "execution_count": 37,
   "metadata": {},
   "outputs": [
    {
     "data": {
      "text/html": [
       "<div>\n",
       "<style scoped>\n",
       "    .dataframe tbody tr th:only-of-type {\n",
       "        vertical-align: middle;\n",
       "    }\n",
       "\n",
       "    .dataframe tbody tr th {\n",
       "        vertical-align: top;\n",
       "    }\n",
       "\n",
       "    .dataframe thead th {\n",
       "        text-align: right;\n",
       "    }\n",
       "</style>\n",
       "<table border=\"1\" class=\"dataframe\">\n",
       "  <thead>\n",
       "    <tr style=\"text-align: right;\">\n",
       "      <th></th>\n",
       "      <th>gender</th>\n",
       "      <th>tot_price</th>\n",
       "      <th>count</th>\n",
       "      <th>avg_price</th>\n",
       "      <th>avg_install</th>\n",
       "      <th>brand_category</th>\n",
       "      <th>visited</th>\n",
       "      <th>income_rate</th>\n",
       "      <th>week_visited</th>\n",
       "      <th>fall_count</th>\n",
       "      <th>...</th>\n",
       "      <th>major</th>\n",
       "      <th>tot_exported_goods</th>\n",
       "      <th>morning_price</th>\n",
       "      <th>after_price</th>\n",
       "      <th>night_price</th>\n",
       "      <th>spring_price</th>\n",
       "      <th>summer_price</th>\n",
       "      <th>fall_price</th>\n",
       "      <th>wint_price</th>\n",
       "      <th>visited_price</th>\n",
       "    </tr>\n",
       "  </thead>\n",
       "  <tbody>\n",
       "    <tr>\n",
       "      <th>0</th>\n",
       "      <td>0</td>\n",
       "      <td>680100</td>\n",
       "      <td>15</td>\n",
       "      <td>45340</td>\n",
       "      <td>1.7</td>\n",
       "      <td>9</td>\n",
       "      <td>10</td>\n",
       "      <td>26.7</td>\n",
       "      <td>100.0</td>\n",
       "      <td>0.0</td>\n",
       "      <td>...</td>\n",
       "      <td>24</td>\n",
       "      <td>181586.700</td>\n",
       "      <td>0.000</td>\n",
       "      <td>4.080600e+05</td>\n",
       "      <td>272040.000</td>\n",
       "      <td>272040.000</td>\n",
       "      <td>0.000</td>\n",
       "      <td>0.000</td>\n",
       "      <td>408060.000</td>\n",
       "      <td>1.500</td>\n",
       "    </tr>\n",
       "    <tr>\n",
       "      <th>1</th>\n",
       "      <td>0</td>\n",
       "      <td>353450</td>\n",
       "      <td>9</td>\n",
       "      <td>39272</td>\n",
       "      <td>1.2</td>\n",
       "      <td>6</td>\n",
       "      <td>8</td>\n",
       "      <td>11.1</td>\n",
       "      <td>37.5</td>\n",
       "      <td>0.0</td>\n",
       "      <td>...</td>\n",
       "      <td>11</td>\n",
       "      <td>39232.950</td>\n",
       "      <td>117816.667</td>\n",
       "      <td>2.356333e+05</td>\n",
       "      <td>0.000</td>\n",
       "      <td>157088.889</td>\n",
       "      <td>0.000</td>\n",
       "      <td>0.000</td>\n",
       "      <td>196361.111</td>\n",
       "      <td>1.125</td>\n",
       "    </tr>\n",
       "    <tr>\n",
       "      <th>2</th>\n",
       "      <td>0</td>\n",
       "      <td>5671400</td>\n",
       "      <td>36</td>\n",
       "      <td>157539</td>\n",
       "      <td>2.8</td>\n",
       "      <td>22</td>\n",
       "      <td>16</td>\n",
       "      <td>5.6</td>\n",
       "      <td>37.5</td>\n",
       "      <td>7.0</td>\n",
       "      <td>...</td>\n",
       "      <td>15</td>\n",
       "      <td>317598.400</td>\n",
       "      <td>1575388.889</td>\n",
       "      <td>2.363083e+06</td>\n",
       "      <td>1732927.778</td>\n",
       "      <td>1890466.667</td>\n",
       "      <td>0.000</td>\n",
       "      <td>1102772.222</td>\n",
       "      <td>2678161.111</td>\n",
       "      <td>2.250</td>\n",
       "    </tr>\n",
       "    <tr>\n",
       "      <th>3</th>\n",
       "      <td>0</td>\n",
       "      <td>1964000</td>\n",
       "      <td>28</td>\n",
       "      <td>70143</td>\n",
       "      <td>1.4</td>\n",
       "      <td>15</td>\n",
       "      <td>14</td>\n",
       "      <td>39.3</td>\n",
       "      <td>28.6</td>\n",
       "      <td>5.0</td>\n",
       "      <td>...</td>\n",
       "      <td>24</td>\n",
       "      <td>771852.000</td>\n",
       "      <td>0.000</td>\n",
       "      <td>7.014286e+05</td>\n",
       "      <td>1262571.429</td>\n",
       "      <td>1052142.857</td>\n",
       "      <td>0.000</td>\n",
       "      <td>350714.286</td>\n",
       "      <td>561142.857</td>\n",
       "      <td>2.000</td>\n",
       "    </tr>\n",
       "    <tr>\n",
       "      <th>4</th>\n",
       "      <td>0</td>\n",
       "      <td>885000</td>\n",
       "      <td>5</td>\n",
       "      <td>177000</td>\n",
       "      <td>6.0</td>\n",
       "      <td>5</td>\n",
       "      <td>2</td>\n",
       "      <td>0.0</td>\n",
       "      <td>100.0</td>\n",
       "      <td>0.0</td>\n",
       "      <td>...</td>\n",
       "      <td>22</td>\n",
       "      <td>0.000</td>\n",
       "      <td>0.000</td>\n",
       "      <td>0.000000e+00</td>\n",
       "      <td>885000.000</td>\n",
       "      <td>885000.000</td>\n",
       "      <td>0.000</td>\n",
       "      <td>0.000</td>\n",
       "      <td>0.000</td>\n",
       "      <td>2.500</td>\n",
       "    </tr>\n",
       "    <tr>\n",
       "      <th>...</th>\n",
       "      <td>...</td>\n",
       "      <td>...</td>\n",
       "      <td>...</td>\n",
       "      <td>...</td>\n",
       "      <td>...</td>\n",
       "      <td>...</td>\n",
       "      <td>...</td>\n",
       "      <td>...</td>\n",
       "      <td>...</td>\n",
       "      <td>...</td>\n",
       "      <td>...</td>\n",
       "      <td>...</td>\n",
       "      <td>...</td>\n",
       "      <td>...</td>\n",
       "      <td>...</td>\n",
       "      <td>...</td>\n",
       "      <td>...</td>\n",
       "      <td>...</td>\n",
       "      <td>...</td>\n",
       "      <td>...</td>\n",
       "      <td>...</td>\n",
       "    </tr>\n",
       "    <tr>\n",
       "      <th>1096</th>\n",
       "      <td>1</td>\n",
       "      <td>21952026</td>\n",
       "      <td>60</td>\n",
       "      <td>365867</td>\n",
       "      <td>2.5</td>\n",
       "      <td>34</td>\n",
       "      <td>24</td>\n",
       "      <td>41.7</td>\n",
       "      <td>37.5</td>\n",
       "      <td>17.0</td>\n",
       "      <td>...</td>\n",
       "      <td>8</td>\n",
       "      <td>9153994.842</td>\n",
       "      <td>9878411.700</td>\n",
       "      <td>1.170775e+07</td>\n",
       "      <td>365867.100</td>\n",
       "      <td>4756272.300</td>\n",
       "      <td>3658671.000</td>\n",
       "      <td>6219740.700</td>\n",
       "      <td>7317342.000</td>\n",
       "      <td>2.500</td>\n",
       "    </tr>\n",
       "    <tr>\n",
       "      <th>4817</th>\n",
       "      <td>1</td>\n",
       "      <td>3620500</td>\n",
       "      <td>8</td>\n",
       "      <td>452562</td>\n",
       "      <td>2.0</td>\n",
       "      <td>6</td>\n",
       "      <td>5</td>\n",
       "      <td>25.0</td>\n",
       "      <td>60.0</td>\n",
       "      <td>1.0</td>\n",
       "      <td>...</td>\n",
       "      <td>5</td>\n",
       "      <td>905125.000</td>\n",
       "      <td>452562.500</td>\n",
       "      <td>3.167938e+06</td>\n",
       "      <td>0.000</td>\n",
       "      <td>0.000</td>\n",
       "      <td>0.000</td>\n",
       "      <td>452562.500</td>\n",
       "      <td>3167937.500</td>\n",
       "      <td>1.600</td>\n",
       "    </tr>\n",
       "    <tr>\n",
       "      <th>4380</th>\n",
       "      <td>1</td>\n",
       "      <td>2261691</td>\n",
       "      <td>66</td>\n",
       "      <td>34268</td>\n",
       "      <td>1.7</td>\n",
       "      <td>30</td>\n",
       "      <td>44</td>\n",
       "      <td>9.1</td>\n",
       "      <td>38.6</td>\n",
       "      <td>25.0</td>\n",
       "      <td>...</td>\n",
       "      <td>14</td>\n",
       "      <td>205813.881</td>\n",
       "      <td>68536.091</td>\n",
       "      <td>1.233650e+06</td>\n",
       "      <td>959505.273</td>\n",
       "      <td>171340.227</td>\n",
       "      <td>753897.000</td>\n",
       "      <td>856701.136</td>\n",
       "      <td>479752.636</td>\n",
       "      <td>1.500</td>\n",
       "    </tr>\n",
       "    <tr>\n",
       "      <th>4266</th>\n",
       "      <td>1</td>\n",
       "      <td>1095600</td>\n",
       "      <td>14</td>\n",
       "      <td>78257</td>\n",
       "      <td>2.9</td>\n",
       "      <td>9</td>\n",
       "      <td>10</td>\n",
       "      <td>0.0</td>\n",
       "      <td>20.0</td>\n",
       "      <td>2.0</td>\n",
       "      <td>...</td>\n",
       "      <td>15</td>\n",
       "      <td>0.000</td>\n",
       "      <td>234771.429</td>\n",
       "      <td>8.608286e+05</td>\n",
       "      <td>0.000</td>\n",
       "      <td>626057.143</td>\n",
       "      <td>313028.571</td>\n",
       "      <td>156514.286</td>\n",
       "      <td>0.000</td>\n",
       "      <td>1.400</td>\n",
       "    </tr>\n",
       "    <tr>\n",
       "      <th>4016</th>\n",
       "      <td>1</td>\n",
       "      <td>4172300</td>\n",
       "      <td>59</td>\n",
       "      <td>70717</td>\n",
       "      <td>1.8</td>\n",
       "      <td>21</td>\n",
       "      <td>26</td>\n",
       "      <td>20.3</td>\n",
       "      <td>30.8</td>\n",
       "      <td>30.0</td>\n",
       "      <td>...</td>\n",
       "      <td>14</td>\n",
       "      <td>846976.900</td>\n",
       "      <td>848603.390</td>\n",
       "      <td>2.828678e+06</td>\n",
       "      <td>495018.644</td>\n",
       "      <td>282867.797</td>\n",
       "      <td>212150.847</td>\n",
       "      <td>2121508.475</td>\n",
       "      <td>1555772.881</td>\n",
       "      <td>2.269</td>\n",
       "    </tr>\n",
       "  </tbody>\n",
       "</table>\n",
       "<p>6958 rows × 26 columns</p>\n",
       "</div>"
      ],
      "text/plain": [
       "      gender  tot_price  count  avg_price  avg_install  brand_category  \\\n",
       "0          0     680100     15      45340          1.7               9   \n",
       "1          0     353450      9      39272          1.2               6   \n",
       "2          0    5671400     36     157539          2.8              22   \n",
       "3          0    1964000     28      70143          1.4              15   \n",
       "4          0     885000      5     177000          6.0               5   \n",
       "...      ...        ...    ...        ...          ...             ...   \n",
       "1096       1   21952026     60     365867          2.5              34   \n",
       "4817       1    3620500      8     452562          2.0               6   \n",
       "4380       1    2261691     66      34268          1.7              30   \n",
       "4266       1    1095600     14      78257          2.9               9   \n",
       "4016       1    4172300     59      70717          1.8              21   \n",
       "\n",
       "      visited  income_rate  week_visited  fall_count  ...  major  \\\n",
       "0          10         26.7         100.0         0.0  ...     24   \n",
       "1           8         11.1          37.5         0.0  ...     11   \n",
       "2          16          5.6          37.5         7.0  ...     15   \n",
       "3          14         39.3          28.6         5.0  ...     24   \n",
       "4           2          0.0         100.0         0.0  ...     22   \n",
       "...       ...          ...           ...         ...  ...    ...   \n",
       "1096       24         41.7          37.5        17.0  ...      8   \n",
       "4817        5         25.0          60.0         1.0  ...      5   \n",
       "4380       44          9.1          38.6        25.0  ...     14   \n",
       "4266       10          0.0          20.0         2.0  ...     15   \n",
       "4016       26         20.3          30.8        30.0  ...     14   \n",
       "\n",
       "      tot_exported_goods  morning_price   after_price  night_price  \\\n",
       "0             181586.700          0.000  4.080600e+05   272040.000   \n",
       "1              39232.950     117816.667  2.356333e+05        0.000   \n",
       "2             317598.400    1575388.889  2.363083e+06  1732927.778   \n",
       "3             771852.000          0.000  7.014286e+05  1262571.429   \n",
       "4                  0.000          0.000  0.000000e+00   885000.000   \n",
       "...                  ...            ...           ...          ...   \n",
       "1096         9153994.842    9878411.700  1.170775e+07   365867.100   \n",
       "4817          905125.000     452562.500  3.167938e+06        0.000   \n",
       "4380          205813.881      68536.091  1.233650e+06   959505.273   \n",
       "4266               0.000     234771.429  8.608286e+05        0.000   \n",
       "4016          846976.900     848603.390  2.828678e+06   495018.644   \n",
       "\n",
       "      spring_price  summer_price   fall_price   wint_price  visited_price  \n",
       "0       272040.000         0.000        0.000   408060.000          1.500  \n",
       "1       157088.889         0.000        0.000   196361.111          1.125  \n",
       "2      1890466.667         0.000  1102772.222  2678161.111          2.250  \n",
       "3      1052142.857         0.000   350714.286   561142.857          2.000  \n",
       "4       885000.000         0.000        0.000        0.000          2.500  \n",
       "...            ...           ...          ...          ...            ...  \n",
       "1096   4756272.300   3658671.000  6219740.700  7317342.000          2.500  \n",
       "4817         0.000         0.000   452562.500  3167937.500          1.600  \n",
       "4380    171340.227    753897.000   856701.136   479752.636          1.500  \n",
       "4266    626057.143    313028.571   156514.286        0.000          1.400  \n",
       "4016    282867.797    212150.847  2121508.475  1555772.881          2.269  \n",
       "\n",
       "[6958 rows x 26 columns]"
      ]
     },
     "execution_count": 37,
     "metadata": {},
     "output_type": "execute_result"
    }
   ],
   "source": [
    "df_test_over"
   ]
  },
  {
   "cell_type": "code",
   "execution_count": 38,
   "metadata": {},
   "outputs": [
    {
     "name": "stdout",
     "output_type": "stream",
     "text": [
      "Accuracy: 64.87%\n"
     ]
    }
   ],
   "source": [
    "from xgboost import XGBClassifier\n",
    "from sklearn.model_selection import train_test_split\n",
    "from sklearn.metrics import accuracy_score\n",
    "\n",
    "# Remove 'id' and 'target' columns\n",
    "labels = dataPP.columns[2:]\n",
    "\n",
    "X = df_test_over[labels]\n",
    "y = df_test_over['gender']\n",
    "\n",
    "X_train, X_test, y_train, y_test = train_test_split(X, y, test_size=0.2, random_state=1)\n",
    "\n",
    "model = XGBClassifier()\n",
    "model.fit(X_train, y_train)\n",
    "y_pred = model.predict(X_test)\n",
    "\n",
    "accuracy = accuracy_score(y_test, y_pred)\n",
    "print(\"Accuracy: %.2f%%\" % (accuracy * 100.0))"
   ]
  },
  {
   "cell_type": "code",
   "execution_count": 41,
   "metadata": {},
   "outputs": [
    {
     "name": "stdout",
     "output_type": "stream",
     "text": [
      "              precision    recall  f1-score   support\n",
      "\n",
      "           0       0.65      0.65      0.65       693\n",
      "           1       0.65      0.65      0.65       699\n",
      "\n",
      "    accuracy                           0.65      1392\n",
      "   macro avg       0.65      0.65      0.65      1392\n",
      "weighted avg       0.65      0.65      0.65      1392\n",
      "\n"
     ]
    }
   ],
   "source": [
    "from imblearn.combine import *\n",
    "from sklearn.metrics import roc_curve, classification_report\n",
    "print(classification_report(y_test, y_pred))"
   ]
  },
  {
   "cell_type": "code",
   "execution_count": 42,
   "metadata": {},
   "outputs": [
    {
     "ename": "TypeError",
     "evalue": "__init__() got an unexpected keyword argument 'ratio'",
     "output_type": "error",
     "traceback": [
      "\u001b[1;31m---------------------------------------------------------------------------\u001b[0m",
      "\u001b[1;31mTypeError\u001b[0m                                 Traceback (most recent call last)",
      "\u001b[1;32m<ipython-input-42-56dec43e4907>\u001b[0m in \u001b[0;36m<module>\u001b[1;34m\u001b[0m\n\u001b[0;32m      1\u001b[0m \u001b[1;32mfrom\u001b[0m \u001b[0mimblearn\u001b[0m\u001b[1;33m.\u001b[0m\u001b[0mover_sampling\u001b[0m \u001b[1;32mimport\u001b[0m \u001b[0mSMOTE\u001b[0m\u001b[1;33m\u001b[0m\u001b[1;33m\u001b[0m\u001b[0m\n\u001b[0;32m      2\u001b[0m \u001b[1;33m\u001b[0m\u001b[0m\n\u001b[1;32m----> 3\u001b[1;33m \u001b[0msmote\u001b[0m \u001b[1;33m=\u001b[0m \u001b[0mSMOTE\u001b[0m\u001b[1;33m(\u001b[0m\u001b[0mratio\u001b[0m\u001b[1;33m=\u001b[0m\u001b[1;34m'minority'\u001b[0m\u001b[1;33m)\u001b[0m\u001b[1;33m\u001b[0m\u001b[1;33m\u001b[0m\u001b[0m\n\u001b[0m\u001b[0;32m      4\u001b[0m \u001b[0mX_sm\u001b[0m\u001b[1;33m,\u001b[0m \u001b[0my_sm\u001b[0m \u001b[1;33m=\u001b[0m \u001b[0msmote\u001b[0m\u001b[1;33m.\u001b[0m\u001b[0mfit_sample\u001b[0m\u001b[1;33m(\u001b[0m\u001b[0mX\u001b[0m\u001b[1;33m,\u001b[0m \u001b[0my\u001b[0m\u001b[1;33m)\u001b[0m\u001b[1;33m\u001b[0m\u001b[1;33m\u001b[0m\u001b[0m\n\u001b[0;32m      5\u001b[0m \u001b[1;33m\u001b[0m\u001b[0m\n",
      "\u001b[1;31mTypeError\u001b[0m: __init__() got an unexpected keyword argument 'ratio'"
     ]
    }
   ],
   "source": [
    "from imblearn.over_sampling import SMOTE\n",
    "\n",
    "smote = SMOTE(ratio='minority')\n",
    "X_sm, y_sm = smote.fit_sample(X, y)\n",
    "\n",
    "plot_2d_space(X_sm, y_sm, 'SMOTE over-sampling')"
   ]
  },
  {
   "cell_type": "code",
   "execution_count": null,
   "metadata": {},
   "outputs": [],
   "source": []
  },
  {
   "cell_type": "code",
   "execution_count": null,
   "metadata": {},
   "outputs": [],
   "source": []
  },
  {
   "cell_type": "code",
   "execution_count": null,
   "metadata": {},
   "outputs": [],
   "source": []
  },
  {
   "cell_type": "code",
   "execution_count": null,
   "metadata": {},
   "outputs": [],
   "source": []
  },
  {
   "cell_type": "code",
   "execution_count": null,
   "metadata": {},
   "outputs": [],
   "source": []
  },
  {
   "cell_type": "code",
   "execution_count": null,
   "metadata": {},
   "outputs": [],
   "source": []
  },
  {
   "cell_type": "code",
   "execution_count": null,
   "metadata": {},
   "outputs": [],
   "source": []
  },
  {
   "cell_type": "code",
   "execution_count": null,
   "metadata": {},
   "outputs": [],
   "source": []
  },
  {
   "cell_type": "code",
   "execution_count": null,
   "metadata": {},
   "outputs": [],
   "source": []
  },
  {
   "cell_type": "code",
   "execution_count": null,
   "metadata": {},
   "outputs": [],
   "source": []
  },
  {
   "cell_type": "code",
   "execution_count": null,
   "metadata": {},
   "outputs": [],
   "source": []
  },
  {
   "cell_type": "code",
   "execution_count": null,
   "metadata": {},
   "outputs": [],
   "source": []
  },
  {
   "cell_type": "code",
   "execution_count": null,
   "metadata": {},
   "outputs": [],
   "source": []
  },
  {
   "cell_type": "code",
   "execution_count": null,
   "metadata": {},
   "outputs": [],
   "source": []
  },
  {
   "cell_type": "code",
   "execution_count": null,
   "metadata": {},
   "outputs": [],
   "source": []
  },
  {
   "cell_type": "code",
   "execution_count": null,
   "metadata": {},
   "outputs": [],
   "source": []
  },
  {
   "cell_type": "code",
   "execution_count": null,
   "metadata": {},
   "outputs": [],
   "source": []
  },
  {
   "cell_type": "code",
   "execution_count": null,
   "metadata": {},
   "outputs": [],
   "source": []
  },
  {
   "cell_type": "code",
   "execution_count": null,
   "metadata": {},
   "outputs": [],
   "source": []
  },
  {
   "cell_type": "code",
   "execution_count": null,
   "metadata": {},
   "outputs": [],
   "source": []
  },
  {
   "cell_type": "code",
   "execution_count": null,
   "metadata": {},
   "outputs": [],
   "source": []
  },
  {
   "cell_type": "code",
   "execution_count": null,
   "metadata": {},
   "outputs": [],
   "source": []
  },
  {
   "cell_type": "code",
   "execution_count": null,
   "metadata": {},
   "outputs": [],
   "source": []
  },
  {
   "cell_type": "code",
   "execution_count": null,
   "metadata": {},
   "outputs": [],
   "source": []
  },
  {
   "cell_type": "code",
   "execution_count": null,
   "metadata": {},
   "outputs": [],
   "source": []
  },
  {
   "cell_type": "code",
   "execution_count": null,
   "metadata": {},
   "outputs": [],
   "source": []
  },
  {
   "cell_type": "code",
   "execution_count": null,
   "metadata": {},
   "outputs": [],
   "source": []
  },
  {
   "cell_type": "code",
   "execution_count": null,
   "metadata": {},
   "outputs": [],
   "source": []
  },
  {
   "cell_type": "code",
   "execution_count": null,
   "metadata": {},
   "outputs": [],
   "source": []
  },
  {
   "cell_type": "code",
   "execution_count": null,
   "metadata": {},
   "outputs": [],
   "source": []
  },
  {
   "cell_type": "code",
   "execution_count": null,
   "metadata": {},
   "outputs": [],
   "source": []
  },
  {
   "cell_type": "code",
   "execution_count": null,
   "metadata": {},
   "outputs": [],
   "source": []
  },
  {
   "cell_type": "code",
   "execution_count": null,
   "metadata": {},
   "outputs": [],
   "source": []
  },
  {
   "cell_type": "code",
   "execution_count": null,
   "metadata": {},
   "outputs": [],
   "source": []
  },
  {
   "cell_type": "code",
   "execution_count": null,
   "metadata": {},
   "outputs": [],
   "source": []
  },
  {
   "cell_type": "code",
   "execution_count": null,
   "metadata": {},
   "outputs": [],
   "source": []
  },
  {
   "cell_type": "code",
   "execution_count": null,
   "metadata": {},
   "outputs": [],
   "source": []
  },
  {
   "cell_type": "code",
   "execution_count": null,
   "metadata": {},
   "outputs": [],
   "source": []
  },
  {
   "cell_type": "code",
   "execution_count": null,
   "metadata": {},
   "outputs": [],
   "source": []
  },
  {
   "cell_type": "code",
   "execution_count": null,
   "metadata": {},
   "outputs": [],
   "source": []
  },
  {
   "cell_type": "code",
   "execution_count": null,
   "metadata": {},
   "outputs": [],
   "source": []
  },
  {
   "cell_type": "code",
   "execution_count": null,
   "metadata": {},
   "outputs": [],
   "source": []
  },
  {
   "cell_type": "code",
   "execution_count": null,
   "metadata": {},
   "outputs": [],
   "source": []
  },
  {
   "cell_type": "code",
   "execution_count": null,
   "metadata": {},
   "outputs": [],
   "source": []
  },
  {
   "cell_type": "code",
   "execution_count": null,
   "metadata": {},
   "outputs": [],
   "source": []
  },
  {
   "cell_type": "code",
   "execution_count": null,
   "metadata": {},
   "outputs": [],
   "source": []
  },
  {
   "cell_type": "code",
   "execution_count": null,
   "metadata": {},
   "outputs": [],
   "source": []
  }
 ],
 "metadata": {
  "kernelspec": {
   "display_name": "Python 3",
   "language": "python",
   "name": "python3"
  },
  "language_info": {
   "codemirror_mode": {
    "name": "ipython",
    "version": 3
   },
   "file_extension": ".py",
   "mimetype": "text/x-python",
   "name": "python",
   "nbconvert_exporter": "python",
   "pygments_lexer": "ipython3",
   "version": "3.7.6"
  }
 },
 "nbformat": 4,
 "nbformat_minor": 4
}
