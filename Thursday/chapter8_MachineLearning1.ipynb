{
 "cells": [
  {
   "cell_type": "markdown",
   "metadata": {
    "colab_type": "text",
    "id": "HrGfVsYC55eL"
   },
   "source": [
    "<font color = \"#CC3D3D\">\n",
    "# End-to-End Machine Learning Project #\n",
    "<p>\n",
    "- #### *Based on CRISP-DM & scikit-learn*    \n",
    "<br>\n",
    "<img align=\"left\" src=\"http://www.kdnuggets.com/wp-content/uploads/crisp-dm-4-problems-fig1.png\" alt=\"CRISP-DM\">"
   ]
  },
  {
   "cell_type": "markdown",
   "metadata": {
    "colab_type": "text",
    "id": "RTnVrBNx55eM"
   },
   "source": [
    "## Step 1: Business Understanding ##\n",
    "\n",
    "1. Business Objectives\n",
    " - 새로운 개인연금상품(PEP: Personal Equity Plan)을 개발하여 기존 고객들을 대상으로 가능한 많은 계좌를 유치\n",
    "2. Analytics Goals\n",
    " - PEP 가입 예측모형 개발\n",
    " - 고객 프로파일 개발\n",
    " - 다이렉트 메일 광고 효율성 제고\n",
    " - 타겟 메일링에 의한 응답률 제고 "
   ]
  },
  {
   "cell_type": "markdown",
   "metadata": {
    "colab_type": "text",
    "id": "b6F-PwAo55eN"
   },
   "source": [
    "## Step 2: Data Understanding ##\n",
    "1. 데이터 획득 절차\n",
    " - 기존고객 DB로부터 시험메일 발송을 위한 표본고객목록을 추출\n",
    " - 새로운 금융상품(PEP)의 제안 메일을 발송\n",
    " - 고객의 반응을 기록\n",
    "2. 분석 데이터\n",
    " - 학습용 데이터 600건\n",
    " - 신규고객 데이터 200건"
   ]
  },
  {
   "cell_type": "code",
   "execution_count": 2,
   "metadata": {
    "colab": {},
    "colab_type": "code",
    "id": "dmudgueV55eO"
   },
   "outputs": [],
   "source": [
    "import pandas as pd\n",
    "from pandas import Series, DataFrame\n",
    "import numpy as np\n",
    "import matplotlib.pyplot as plt\n",
    "%matplotlib inline"
   ]
  },
  {
   "cell_type": "markdown",
   "metadata": {
    "colab_type": "text",
    "id": "6aHVQv0K55eQ"
   },
   "source": [
    "### Collect Initial Data ###"
   ]
  },
  {
   "cell_type": "markdown",
   "metadata": {
    "colab_type": "text",
    "id": "JCPSq7tn55eR"
   },
   "source": [
    "##### for modeling"
   ]
  },
  {
   "cell_type": "code",
   "execution_count": 3,
   "metadata": {
    "colab": {},
    "colab_type": "code",
    "id": "ZLtlrPCt55eS"
   },
   "outputs": [
    {
     "data": {
      "text/html": [
       "<div>\n",
       "<style scoped>\n",
       "    .dataframe tbody tr th:only-of-type {\n",
       "        vertical-align: middle;\n",
       "    }\n",
       "\n",
       "    .dataframe tbody tr th {\n",
       "        vertical-align: top;\n",
       "    }\n",
       "\n",
       "    .dataframe thead th {\n",
       "        text-align: right;\n",
       "    }\n",
       "</style>\n",
       "<table border=\"1\" class=\"dataframe\">\n",
       "  <thead>\n",
       "    <tr style=\"text-align: right;\">\n",
       "      <th></th>\n",
       "      <th>id</th>\n",
       "      <th>age</th>\n",
       "      <th>sex</th>\n",
       "      <th>region</th>\n",
       "      <th>income</th>\n",
       "      <th>married</th>\n",
       "      <th>children</th>\n",
       "      <th>car</th>\n",
       "      <th>save_act</th>\n",
       "      <th>current_act</th>\n",
       "      <th>mortgage</th>\n",
       "      <th>pep</th>\n",
       "    </tr>\n",
       "  </thead>\n",
       "  <tbody>\n",
       "    <tr>\n",
       "      <th>0</th>\n",
       "      <td>ID12101</td>\n",
       "      <td>48.0</td>\n",
       "      <td>0</td>\n",
       "      <td>0</td>\n",
       "      <td>17546.00</td>\n",
       "      <td>0</td>\n",
       "      <td>1</td>\n",
       "      <td>0</td>\n",
       "      <td>0</td>\n",
       "      <td>0</td>\n",
       "      <td>0</td>\n",
       "      <td>1</td>\n",
       "    </tr>\n",
       "    <tr>\n",
       "      <th>1</th>\n",
       "      <td>ID12102</td>\n",
       "      <td>40.0</td>\n",
       "      <td>1</td>\n",
       "      <td>3</td>\n",
       "      <td>30085.10</td>\n",
       "      <td>1</td>\n",
       "      <td>3</td>\n",
       "      <td>1</td>\n",
       "      <td>0</td>\n",
       "      <td>1</td>\n",
       "      <td>1</td>\n",
       "      <td>0</td>\n",
       "    </tr>\n",
       "    <tr>\n",
       "      <th>2</th>\n",
       "      <td>ID12103</td>\n",
       "      <td>NaN</td>\n",
       "      <td>0</td>\n",
       "      <td>0</td>\n",
       "      <td>16575.40</td>\n",
       "      <td>1</td>\n",
       "      <td>0</td>\n",
       "      <td>1</td>\n",
       "      <td>1</td>\n",
       "      <td>1</td>\n",
       "      <td>0</td>\n",
       "      <td>0</td>\n",
       "    </tr>\n",
       "    <tr>\n",
       "      <th>3</th>\n",
       "      <td>ID12104</td>\n",
       "      <td>23.0</td>\n",
       "      <td>0</td>\n",
       "      <td>3</td>\n",
       "      <td>20375.40</td>\n",
       "      <td>1</td>\n",
       "      <td>3</td>\n",
       "      <td>0</td>\n",
       "      <td>0</td>\n",
       "      <td>1</td>\n",
       "      <td>0</td>\n",
       "      <td>0</td>\n",
       "    </tr>\n",
       "    <tr>\n",
       "      <th>4</th>\n",
       "      <td>ID12105</td>\n",
       "      <td>57.0</td>\n",
       "      <td>0</td>\n",
       "      <td>1</td>\n",
       "      <td>50576.30</td>\n",
       "      <td>1</td>\n",
       "      <td>0</td>\n",
       "      <td>0</td>\n",
       "      <td>1</td>\n",
       "      <td>0</td>\n",
       "      <td>0</td>\n",
       "      <td>0</td>\n",
       "    </tr>\n",
       "    <tr>\n",
       "      <th>...</th>\n",
       "      <td>...</td>\n",
       "      <td>...</td>\n",
       "      <td>...</td>\n",
       "      <td>...</td>\n",
       "      <td>...</td>\n",
       "      <td>...</td>\n",
       "      <td>...</td>\n",
       "      <td>...</td>\n",
       "      <td>...</td>\n",
       "      <td>...</td>\n",
       "      <td>...</td>\n",
       "      <td>...</td>\n",
       "    </tr>\n",
       "    <tr>\n",
       "      <th>595</th>\n",
       "      <td>ID12696</td>\n",
       "      <td>61.0</td>\n",
       "      <td>0</td>\n",
       "      <td>0</td>\n",
       "      <td>47025.00</td>\n",
       "      <td>0</td>\n",
       "      <td>2</td>\n",
       "      <td>1</td>\n",
       "      <td>1</td>\n",
       "      <td>1</td>\n",
       "      <td>1</td>\n",
       "      <td>0</td>\n",
       "    </tr>\n",
       "    <tr>\n",
       "      <th>596</th>\n",
       "      <td>ID12697</td>\n",
       "      <td>30.0</td>\n",
       "      <td>0</td>\n",
       "      <td>0</td>\n",
       "      <td>9672.25</td>\n",
       "      <td>1</td>\n",
       "      <td>0</td>\n",
       "      <td>1</td>\n",
       "      <td>1</td>\n",
       "      <td>1</td>\n",
       "      <td>0</td>\n",
       "      <td>0</td>\n",
       "    </tr>\n",
       "    <tr>\n",
       "      <th>597</th>\n",
       "      <td>ID12698</td>\n",
       "      <td>31.0</td>\n",
       "      <td>0</td>\n",
       "      <td>3</td>\n",
       "      <td>15976.30</td>\n",
       "      <td>1</td>\n",
       "      <td>0</td>\n",
       "      <td>1</td>\n",
       "      <td>1</td>\n",
       "      <td>0</td>\n",
       "      <td>0</td>\n",
       "      <td>1</td>\n",
       "    </tr>\n",
       "    <tr>\n",
       "      <th>598</th>\n",
       "      <td>ID12699</td>\n",
       "      <td>29.0</td>\n",
       "      <td>1</td>\n",
       "      <td>0</td>\n",
       "      <td>14711.80</td>\n",
       "      <td>1</td>\n",
       "      <td>0</td>\n",
       "      <td>0</td>\n",
       "      <td>1</td>\n",
       "      <td>0</td>\n",
       "      <td>1</td>\n",
       "      <td>0</td>\n",
       "    </tr>\n",
       "    <tr>\n",
       "      <th>599</th>\n",
       "      <td>ID12700</td>\n",
       "      <td>NaN</td>\n",
       "      <td>1</td>\n",
       "      <td>3</td>\n",
       "      <td>26671.60</td>\n",
       "      <td>0</td>\n",
       "      <td>0</td>\n",
       "      <td>1</td>\n",
       "      <td>0</td>\n",
       "      <td>1</td>\n",
       "      <td>1</td>\n",
       "      <td>1</td>\n",
       "    </tr>\n",
       "  </tbody>\n",
       "</table>\n",
       "<p>600 rows × 12 columns</p>\n",
       "</div>"
      ],
      "text/plain": [
       "          id   age  sex  region    income  married  children  car  save_act  \\\n",
       "0    ID12101  48.0    0       0  17546.00        0         1    0         0   \n",
       "1    ID12102  40.0    1       3  30085.10        1         3    1         0   \n",
       "2    ID12103   NaN    0       0  16575.40        1         0    1         1   \n",
       "3    ID12104  23.0    0       3  20375.40        1         3    0         0   \n",
       "4    ID12105  57.0    0       1  50576.30        1         0    0         1   \n",
       "..       ...   ...  ...     ...       ...      ...       ...  ...       ...   \n",
       "595  ID12696  61.0    0       0  47025.00        0         2    1         1   \n",
       "596  ID12697  30.0    0       0   9672.25        1         0    1         1   \n",
       "597  ID12698  31.0    0       3  15976.30        1         0    1         1   \n",
       "598  ID12699  29.0    1       0  14711.80        1         0    0         1   \n",
       "599  ID12700   NaN    1       3  26671.60        0         0    1         0   \n",
       "\n",
       "     current_act  mortgage  pep  \n",
       "0              0         0    1  \n",
       "1              1         1    0  \n",
       "2              1         0    0  \n",
       "3              1         0    0  \n",
       "4              0         0    0  \n",
       "..           ...       ...  ...  \n",
       "595            1         1    0  \n",
       "596            1         0    0  \n",
       "597            0         0    1  \n",
       "598            0         1    0  \n",
       "599            1         1    1  \n",
       "\n",
       "[600 rows x 12 columns]"
      ]
     },
     "execution_count": 3,
     "metadata": {},
     "output_type": "execute_result"
    }
   ],
   "source": [
    "df = pd.read_csv(\"data_pepTestCustomers.csv\")\n",
    "df"
   ]
  },
  {
   "cell_type": "markdown",
   "metadata": {
    "colab_type": "text",
    "id": "JaFH_Pmh55eU"
   },
   "source": [
    "##### for deployment"
   ]
  },
  {
   "cell_type": "code",
   "execution_count": null,
   "metadata": {
    "colab": {},
    "colab_type": "code",
    "id": "xaS7r86s55eU"
   },
   "outputs": [],
   "source": [
    "new = pd.read_csv(\"data_pepNewCustomers.csv\")\n",
    "new.head()"
   ]
  },
  {
   "cell_type": "markdown",
   "metadata": {
    "colab_type": "text",
    "id": "Uus0MPta55eW"
   },
   "source": [
    "### Describe Data ###"
   ]
  },
  {
   "cell_type": "code",
   "execution_count": null,
   "metadata": {
    "colab": {},
    "colab_type": "code",
    "id": "s0Em_ULP55eX"
   },
   "outputs": [],
   "source": [
    "# 데이터 구조 살펴보기\n",
    "# ex) age의 경우 600개중 540개만 있어서 60개가 결측치로 예상\n",
    "df.info()"
   ]
  },
  {
   "cell_type": "code",
   "execution_count": null,
   "metadata": {
    "colab": {},
    "colab_type": "code",
    "id": "r720EEtN55eb"
   },
   "outputs": [],
   "source": [
    "# 수치형 속성의 요약통계 보기\n",
    "\n",
    "df.describe()"
   ]
  },
  {
   "cell_type": "code",
   "execution_count": null,
   "metadata": {
    "colab": {},
    "colab_type": "code",
    "id": "MgSeeg6y55ed"
   },
   "outputs": [],
   "source": [
    "# 모든 수치형 속성에 대한 히스토그램 한꺼번에 그리기\n",
    "# 숫치형은 age와 income 나머지는 범주형이라 볼 수 있다\n",
    "# bins = 30 은 x축을 30개로 쪼개라\n",
    "df.hist(bins=30, figsize=(20,15))"
   ]
  },
  {
   "cell_type": "code",
   "execution_count": null,
   "metadata": {
    "colab": {},
    "colab_type": "code",
    "id": "E2PFjdKr55ef"
   },
   "outputs": [],
   "source": [
    "# 모형을 적용할 new 데이터에는 class 필드(즉, pep)가 없다.\n",
    "\n",
    "display(df.shape) \n",
    "display(new.shape)"
   ]
  },
  {
   "cell_type": "code",
   "execution_count": null,
   "metadata": {},
   "outputs": [],
   "source": [
    "df.shape\n",
    "new.shape"
   ]
  },
  {
   "cell_type": "markdown",
   "metadata": {
    "colab_type": "text",
    "id": "ZQVOu34m55ei"
   },
   "source": [
    "### Explore Data ###"
   ]
  },
  {
   "cell_type": "markdown",
   "metadata": {
    "colab_type": "text",
    "id": "_QVxxtjU55ei"
   },
   "source": [
    "##### Look for Correlations #####\n",
    "<img align=\"left\" src=\"https://upload.wikimedia.org/wikipedia/commons/thumb/d/d4/Correlation_examples2.svg/506px-Correlation_examples2.svg.png\" alt=\"correlation\">"
   ]
  },
  {
   "cell_type": "code",
   "execution_count": null,
   "metadata": {
    "colab": {},
    "colab_type": "code",
    "id": "iq9T_jbD55ei"
   },
   "outputs": [],
   "source": [
    "# 속성 간 피어슨 상관계수 출력하기\n",
    "# 전체 수치형 데이터를 콜러에이션으로 보여 줌\n",
    "# 상관관계 예측변수를 줄여줌\n",
    "\n",
    "corr = df.corr()\n",
    "corr"
   ]
  },
  {
   "cell_type": "code",
   "execution_count": null,
   "metadata": {
    "colab": {},
    "colab_type": "code",
    "id": "5bo4IJ-B55em"
   },
   "outputs": [],
   "source": [
    "# 속성간 상관계수를 한눈에 파악하기 위해 그림으로 도식하기\n",
    "\n",
    "plt.matshow(corr)"
   ]
  },
  {
   "cell_type": "code",
   "execution_count": null,
   "metadata": {},
   "outputs": [],
   "source": []
  },
  {
   "cell_type": "code",
   "execution_count": null,
   "metadata": {
    "colab": {},
    "colab_type": "code",
    "id": "P9I-3CZY55es"
   },
   "outputs": [],
   "source": [
    "# 클래스 변수인 pep와 각 속성간의 피어슨 상관계수를 내림차순으로 출력하기\n",
    "# pep 데이터 sorting\n",
    "\n",
    "corr.pep.sort_values(ascending=False)"
   ]
  },
  {
   "cell_type": "markdown",
   "metadata": {},
   "source": [
    "##### Find Missing Values"
   ]
  },
  {
   "cell_type": "code",
   "execution_count": null,
   "metadata": {},
   "outputs": [],
   "source": [
    "# 결측값이 존재하는 속성이 무엇인지, 몇개나 있는지 파악할 수 있는 첫번째 방법\n",
    "\n",
    "df.info()"
   ]
  },
  {
   "cell_type": "code",
   "execution_count": null,
   "metadata": {},
   "outputs": [],
   "source": [
    "# 결측값이 존재하는 속성이 무엇인지, 몇개나 있는지 파악할 수 있는 두번째 방법\n",
    "# null 갯수 체크\n",
    "\n",
    "df.isnull().sum()"
   ]
  },
  {
   "cell_type": "markdown",
   "metadata": {
    "colab_type": "text",
    "id": "hIqdDYnN55ev"
   },
   "source": [
    "##### Detect Outliers #####\n",
    "<img align=\"left\" src=\"http://www.whatissixsigma.net/wp-content/uploads/2015/07/Box-Plot-Diagram-to-identify-Outliers-figure-1.png\" alt=\"Boxplot Outlier\">"
   ]
  },
  {
   "cell_type": "code",
   "execution_count": null,
   "metadata": {
    "colab": {},
    "colab_type": "code",
    "id": "P1STkrS955ew"
   },
   "outputs": [],
   "source": [
    "# 나이와 수입 속성에 이상치가 있는지 Boxplot을 그려서 알아본다.\n",
    "# 이상치 발굴은 boxplot에서 박스 밖에 있는 점을 이상치(Outlier)로 본다.\n",
    "\n",
    "df.loc[:,['age','income']].plot.box(subplots=True, layout=(2,1), figsize=(5,5))"
   ]
  },
  {
   "cell_type": "markdown",
   "metadata": {
    "colab_type": "text",
    "id": "bLdREJI855ez"
   },
   "source": [
    "## Step 3: Data Preparation ##"
   ]
  },
  {
   "cell_type": "markdown",
   "metadata": {
    "colab_type": "text",
    "id": "cjxUKc0E55e0"
   },
   "source": [
    "### Clean Data ###\n",
    "##### Replace Missing Values #####"
   ]
  },
  {
   "cell_type": "code",
   "execution_count": null,
   "metadata": {
    "colab": {},
    "colab_type": "code",
    "id": "4yIeSgqM55e0"
   },
   "outputs": [],
   "source": [
    "# Save original data \n",
    "# => 학습 데이터를 조작하다가 문제가 생겨 처음으로 되돌아 가려면 이 셀부터 다시 시작하세요 !!!\n",
    "# 데이터 원본 유지를 이해 copy를 사용\n",
    "\n",
    "mdf = df.copy()"
   ]
  },
  {
   "cell_type": "code",
   "execution_count": null,
   "metadata": {},
   "outputs": [],
   "source": [
    "# 결측값이 있는 속성 파악\n",
    "\n",
    "mdf.info()"
   ]
  },
  {
   "cell_type": "code",
   "execution_count": null,
   "metadata": {
    "colab": {},
    "colab_type": "code",
    "id": "kJfFRL8l55e2"
   },
   "outputs": [],
   "source": [
    "# 나이의 평균값과 나이별 발생빈도 계산하기\n",
    "# 채워넣을 땐 평균 또는 최빈값(가장 많이 나오는 값)을 쓴다\n",
    "\n",
    "display(mdf.age.mean())\n",
    "display(mdf.age.value_counts().head())"
   ]
  },
  {
   "cell_type": "code",
   "execution_count": null,
   "metadata": {
    "colab": {},
    "colab_type": "code",
    "id": "No0NPewT55e6"
   },
   "outputs": [],
   "source": [
    "# 평균값으로 결측값 대체하기\n",
    "# fillna 는 널값을 채우라. 여기서는 평균으로 채우고 있음.\n",
    "# 분석의 상황에 따라 null 값을 그대로 사용함.\n",
    " \n",
    "mdf.age.fillna(round(mdf.age.mean(),0), inplace=True)\n",
    "mdf.info()"
   ]
  },
  {
   "cell_type": "markdown",
   "metadata": {
    "colab_type": "text",
    "id": "xPBW9Hbp55e8"
   },
   "source": [
    "### Construct Data ###\n",
    "##### Derive Attributes #####"
   ]
  },
  {
   "cell_type": "code",
   "execution_count": null,
   "metadata": {
    "colab": {},
    "colab_type": "code",
    "id": "x4qZzZK655e8",
    "scrolled": true
   },
   "outputs": [],
   "source": [
    "# 명목소득 보다 명목소득을 자녀수로 나눈 실질소득이 개인연금 가입에 더 유효한 속성이라고 가정하고 이를 구현\n",
    "# 자식에 따라 realincome 변수를 추가\n",
    "\n",
    "mdf['realincome'] = np.where(mdf['children']==0, mdf['income'], mdf['income']/mdf['children'])\n",
    "mdf.head()"
   ]
  },
  {
   "cell_type": "markdown",
   "metadata": {
    "colab_type": "text",
    "id": "1qKAUMWH55fB"
   },
   "source": [
    "<font color = \"blue\">\n",
    "***[numpy.where(condition, x, y)](https://docs.scipy.org/doc/numpy/reference/generated/numpy.where.html#numpy.where)***<br>\n",
    "***True이면 x를 , 그렇지 않으면 y ***<br>                                 \n",
    "*return elements, either from x or y, depending on condition*"
   ]
  },
  {
   "cell_type": "markdown",
   "metadata": {
    "colab_type": "text",
    "id": "4K1TjCOz55fB"
   },
   "source": [
    "### Select Data ###\n",
    "##### Filter Attributes  #####"
   ]
  },
  {
   "cell_type": "code",
   "execution_count": null,
   "metadata": {
    "colab": {},
    "colab_type": "code",
    "id": "MjtfXWOU55fC"
   },
   "outputs": [],
   "source": [
    "# 파생변수인 실질소득을 유도하는데 사용된 명목소득과 자녀수를 제거\n",
    "# pep와 상관관계가 거의 없는 current_act, car, mortgage, region 속성 제거\n",
    "# 아래 컬럼은 없애고 분석하겠다.\n",
    "\n",
    "columns = ['income', 'children', 'current_act', 'car', 'mortgage', 'region']\n",
    "mdf = mdf.drop(columns, axis=1)\n",
    "mdf.head()"
   ]
  },
  {
   "cell_type": "markdown",
   "metadata": {
    "colab_type": "text",
    "id": "qd18u0p155fE"
   },
   "source": [
    "### Split Data ###\n",
    "<img align=\"left\" src=\"https://www.developer.com/imagesvr_ce/6793/ML4.png\" width=500 height=500 alt=\"Boxplot Outlier\">"
   ]
  },
  {
   "cell_type": "code",
   "execution_count": null,
   "metadata": {
    "colab": {},
    "colab_type": "code",
    "id": "Bk51JIS755fE"
   },
   "outputs": [],
   "source": [
    "# for Hold-out validation\n",
    "\n",
    "from sklearn.model_selection import train_test_split  "
   ]
  },
  {
   "cell_type": "code",
   "execution_count": null,
   "metadata": {
    "colab": {},
    "colab_type": "code",
    "id": "noBquO9G55fG"
   },
   "outputs": [],
   "source": [
    "# scikit-learn에서는 속성과 클래스를 분리하여야 한다.\n",
    "\n",
    "dfX = mdf.drop(['id','pep'], axis=1)  # exclude 'id' attribute & class variable\n",
    "dfy = mdf['pep']                    # class variable\n",
    "X_train, X_test, y_train, y_test = train_test_split(dfX, dfy, test_size=0.25, random_state=0)"
   ]
  },
  {
   "cell_type": "code",
   "execution_count": null,
   "metadata": {
    "colab": {},
    "colab_type": "code",
    "id": "8h_qx8zq55fI"
   },
   "outputs": [],
   "source": [
    "# 지정한 비율(75:25)로 데이터가 잘 나누어졌는지 확인\n",
    "\n",
    "display(X_train.shape, X_test.shape)\n",
    "X_train.head()"
   ]
  },
  {
   "cell_type": "markdown",
   "metadata": {
    "colab_type": "text",
    "id": "rJTXjpmX55fM"
   },
   "source": [
    "## Step 4: Modeling ##\n",
    "<br>\n",
    "<font color = \"blue\">\n",
    "**Scikit-Learn Estimator Interface**\n",
    "1. Import the estimator\n",
    "2. Instantiate the estimator\n",
    "3. Fit the data to the estimator: **.fit()**\n",
    "4. Generate a prediction: **.predict()**\n",
    "5. Evaluate the estimator: **.score()**\n",
    "</font>\n",
    "*ref) \"Introduction to Machine Learning with Python\", pp.254*"
   ]
  },
  {
   "cell_type": "markdown",
   "metadata": {
    "colab_type": "text",
    "id": "ynMDgbAV55fN"
   },
   "source": [
    "### Build Model ###"
   ]
  },
  {
   "cell_type": "markdown",
   "metadata": {
    "colab_type": "text",
    "id": "wGbDUK2H55fO"
   },
   "source": [
    "<font color = \"darkgreen\">\n",
    "##### 1. Decision Trees #####\n",
    "</font>\n",
    "<img align=\"left\" src=\"https://cdn-images-1.medium.com/max/870/1*xzF10JmR3K0rnZ8jtIHI_g.png\" width=700 height=500 alt=\"Decision Tree\">"
   ]
  },
  {
   "cell_type": "markdown",
   "metadata": {},
   "source": [
    "<font color = \"blue\">\n",
    "***[sklearn.tree.DecisionTreeClassifier()](http://scikit-learn.org/stable/modules/generated/sklearn.tree.DecisionTreeClassifier.html)***"
   ]
  },
  {
   "cell_type": "code",
   "execution_count": null,
   "metadata": {
    "colab": {},
    "colab_type": "code",
    "id": "Js4HNHDz55fO"
   },
   "outputs": [],
   "source": [
    "# 1. Import the estimator\n",
    "\n",
    "from sklearn.tree import DecisionTreeClassifier"
   ]
  },
  {
   "cell_type": "code",
   "execution_count": null,
   "metadata": {
    "colab": {},
    "colab_type": "code",
    "id": "pSDift3255fQ"
   },
   "outputs": [],
   "source": [
    "# 2. Instantiate the estimator\n",
    "\n",
    "tree = DecisionTreeClassifier(max_depth=6, random_state=0)"
   ]
  },
  {
   "cell_type": "code",
   "execution_count": null,
   "metadata": {
    "colab": {},
    "colab_type": "code",
    "id": "pDtnaIag55fT"
   },
   "outputs": [],
   "source": [
    "# 3. Fit the data to the estimator\n",
    "\n",
    "tree.fit(X_train, y_train)"
   ]
  },
  {
   "cell_type": "code",
   "execution_count": null,
   "metadata": {
    "colab": {},
    "colab_type": "code",
    "id": "qsJ--LzO55fV"
   },
   "outputs": [],
   "source": [
    "# 4. Generate a prediction\n",
    "\n",
    "pred_tree = tree.predict(X_test); pred_tree"
   ]
  },
  {
   "cell_type": "markdown",
   "metadata": {},
   "source": [
    "<font color = \"darkgreen\">\n",
    "##### 2. SVM (Support Vector Machine) #####\n",
    "<img align=\"left\" src=\"https://78.media.tumblr.com/0e459c9df3dc85c301ae41db5e058cb8/tumblr_inline_n9xq5hiRsC1rmpjcz.jpg\"\n",
    "width=500 height=500 alt=\"SVM\">"
   ]
  },
  {
   "cell_type": "markdown",
   "metadata": {},
   "source": [
    "<font color = \"blue\">\n",
    "***[sklearn.svm.SVC()](http://scikit-learn.org/stable/modules/generated/sklearn.svm.SVC.html)***"
   ]
  },
  {
   "cell_type": "code",
   "execution_count": null,
   "metadata": {},
   "outputs": [],
   "source": [
    "from sklearn.svm import SVC \n",
    "svm = SVC(random_state=0)\n",
    "svm.fit(X_train, y_train)"
   ]
  },
  {
   "cell_type": "markdown",
   "metadata": {},
   "source": [
    "<font color = \"darkgreen\">\n",
    "##### 3. Neural Networks (Multi-layer Perceptron) #####\n",
    "</font>  \n",
    "<img align=\"left\" src=\"https://3.bp.blogspot.com/-vYvrkXroyDY/WdObH7y6rBI/AAAAAAAAAZ0/nqYZCwLD2doT354ZJLI0HBkcY-Pjc8LqACLcBGAs/s1600/neural_nets_thumbnail.png\" width=400 height=300 alt=\"NN\">\n",
    "<img align=\"left\" src=\"https://cdn-images-1.medium.com/max/479/1*QVIyc5HnGDWTNX3m-nIm9w.png\" width=600 height=400 alt=\"NN\">"
   ]
  },
  {
   "cell_type": "markdown",
   "metadata": {},
   "source": [
    "단지 클릭만으로 신경망 체험하기: [Neural Network Playground 실습](https://developers.google.com/machine-learning/crash-course/introduction-to-neural-networks/playground-exercises?hl=ko)"
   ]
  },
  {
   "cell_type": "markdown",
   "metadata": {},
   "source": [
    "<font color = \"blue\">\n",
    "***[sklearn.neural_network.MLPClassifier()](http://scikit-learn.org/stable/modules/generated/sklearn.neural_network.MLPClassifier.html)***"
   ]
  },
  {
   "cell_type": "code",
   "execution_count": 4,
   "metadata": {
    "colab": {},
    "colab_type": "code",
    "id": "wxrM6JbF55fW"
   },
   "outputs": [
    {
     "ename": "NameError",
     "evalue": "name 'X_train' is not defined",
     "output_type": "error",
     "traceback": [
      "\u001b[1;31m---------------------------------------------------------------------------\u001b[0m",
      "\u001b[1;31mNameError\u001b[0m                                 Traceback (most recent call last)",
      "\u001b[1;32m<ipython-input-4-73b17a076832>\u001b[0m in \u001b[0;36m<module>\u001b[1;34m\u001b[0m\n\u001b[0;32m      4\u001b[0m \u001b[1;32mfrom\u001b[0m \u001b[0msklearn\u001b[0m\u001b[1;33m.\u001b[0m\u001b[0mneural_network\u001b[0m \u001b[1;32mimport\u001b[0m \u001b[0mMLPClassifier\u001b[0m\u001b[1;33m\u001b[0m\u001b[1;33m\u001b[0m\u001b[0m\n\u001b[0;32m      5\u001b[0m \u001b[0mmlp\u001b[0m \u001b[1;33m=\u001b[0m \u001b[0mMLPClassifier\u001b[0m\u001b[1;33m(\u001b[0m\u001b[1;33m)\u001b[0m\u001b[1;33m\u001b[0m\u001b[1;33m\u001b[0m\u001b[0m\n\u001b[1;32m----> 6\u001b[1;33m \u001b[0mmlp\u001b[0m\u001b[1;33m.\u001b[0m\u001b[0mfit\u001b[0m\u001b[1;33m(\u001b[0m\u001b[0mX_train\u001b[0m\u001b[1;33m,\u001b[0m \u001b[0my_train\u001b[0m\u001b[1;33m)\u001b[0m\u001b[1;33m\u001b[0m\u001b[1;33m\u001b[0m\u001b[0m\n\u001b[0m",
      "\u001b[1;31mNameError\u001b[0m: name 'X_train' is not defined"
     ]
    }
   ],
   "source": [
    "# 아래에 Neural Network 모형을 생성하는 코드를 작성하시오.\n",
    "# 단, 모형을 저장하는 변수명을 mlp로 할 것!\n",
    "\n",
    "from sklearn.neural_network import MLPClassifier \n",
    "mlp = MLPClassifier()\n",
    "mlp.fit(X_train, y_train)"
   ]
  },
  {
   "cell_type": "markdown",
   "metadata": {
    "colab_type": "text",
    "id": "UCQM7MT655fe"
   },
   "source": [
    "### Assess Model ###"
   ]
  },
  {
   "cell_type": "markdown",
   "metadata": {
    "colab_type": "text",
    "id": "PKZiOmfl55fe"
   },
   "source": [
    "<font color = \"darkgreen\">\n",
    "##### 1. Decision Trees #####"
   ]
  },
  {
   "cell_type": "code",
   "execution_count": null,
   "metadata": {
    "colab": {},
    "colab_type": "code",
    "id": "JXFoFn7j55fe"
   },
   "outputs": [],
   "source": [
    "# 5. Evaluate the estimator\n",
    "# \n",
    "\n",
    "display(tree.score(X_train, y_train))\n",
    "display(tree.score(X_test, y_test))"
   ]
  },
  {
   "cell_type": "markdown",
   "metadata": {
    "colab_type": "text",
    "id": "deAAp9jj55fi"
   },
   "source": [
    "<font color = \"darkgreen\">\n",
    "##### 2. SVM"
   ]
  },
  {
   "cell_type": "code",
   "execution_count": null,
   "metadata": {
    "colab": {},
    "colab_type": "code",
    "id": "NAP7VObV55fj"
   },
   "outputs": [],
   "source": [
    "display(svm.score(X_train, y_train))\n",
    "display(svm.score(X_test, y_test))"
   ]
  },
  {
   "cell_type": "markdown",
   "metadata": {},
   "source": [
    "<font color = \"darkgreen\">\n",
    "##### 3. Neural Networks"
   ]
  },
  {
   "cell_type": "code",
   "execution_count": null,
   "metadata": {},
   "outputs": [],
   "source": [
    "# 아래에 Neural Network 모형의 성능을 평가하는 코드를 작성하시오.\n",
    "\n",
    "display(mlp.score(X_train, y_train))\n",
    "display(mlp.score(X_test, y_test))"
   ]
  },
  {
   "cell_type": "markdown",
   "metadata": {
    "colab_type": "text",
    "id": "2eH3biQf55fl"
   },
   "source": [
    "## Step 5: Evaluation ##"
   ]
  },
  {
   "cell_type": "markdown",
   "metadata": {
    "colab_type": "text",
    "id": "O8VBlwmB55fm"
   },
   "source": [
    "<font color = \"red\">\n",
    "- *Which model is the best ?*\n",
    "- *Is the model useful ?*\n",
    "<font>"
   ]
  },
  {
   "cell_type": "code",
   "execution_count": null,
   "metadata": {
    "colab": {},
    "colab_type": "code",
    "id": "0sEszdbk55fm"
   },
   "outputs": [],
   "source": [
    "best_model = tree   # Change this code if the best model is not decision tree.\n",
    "best_model.score(X_test, y_test)"
   ]
  },
  {
   "cell_type": "code",
   "execution_count": null,
   "metadata": {
    "colab": {},
    "colab_type": "code",
    "id": "RdcLQX5-55fo"
   },
   "outputs": [],
   "source": [
    "# 랜덤 모형의 성능과 개발 모형의 성능을 비교한다.\n",
    "\n",
    "from sklearn.dummy import DummyClassifier\n",
    "print(y_test.value_counts())\n",
    "DummyClassifier(strategy='most_frequent').fit(X_train, y_train).score(X_test, y_test)"
   ]
  },
  {
   "cell_type": "markdown",
   "metadata": {
    "colab_type": "text",
    "id": "68G_maaD55fp"
   },
   "source": [
    "## Step 6: Deployment ##"
   ]
  },
  {
   "cell_type": "code",
   "execution_count": null,
   "metadata": {
    "colab": {},
    "colab_type": "code",
    "id": "ka-V7sgC55ft"
   },
   "outputs": [],
   "source": [
    "# You must do the same preprocessing as the modeling data.\n",
    "\n",
    "ndf = new.copy()\n",
    "ndf['realincome'] = np.where(ndf['children']==0, ndf['income'], ndf['income']/ndf['children'])\n",
    "ndf = ndf.drop(columns, axis=1)\n",
    "ndf.head()"
   ]
  },
  {
   "cell_type": "markdown",
   "metadata": {
    "colab_type": "text",
    "id": "FPy8Dr_A55fv"
   },
   "source": [
    "### A Case: Apply the best model to select target customers ###"
   ]
  },
  {
   "cell_type": "code",
   "execution_count": null,
   "metadata": {
    "colab": {},
    "colab_type": "code",
    "id": "9Q6vtJm_55fx"
   },
   "outputs": [],
   "source": [
    "# 개발 모형에 고객 데이터를 적용하여 개인연금 구매여부를 예측: id 제외\n",
    "\n",
    "ndf['pred'] = best_model.predict(ndf.loc[:,'age':'realincome'])"
   ]
  },
  {
   "cell_type": "code",
   "execution_count": null,
   "metadata": {
    "colab": {},
    "colab_type": "code",
    "id": "L0XH9KwW55fy"
   },
   "outputs": [],
   "source": [
    "# 개인연금 구매확률을 예측: predict_proba() 사용\n",
    "print(best_model.predict_proba(ndf.loc[:,'age':'realincome']))\n",
    "ndf['pred_prob'] = best_model.predict_proba(ndf.loc[:,'age':'realincome'])[:,1]\n",
    "ndf.head()"
   ]
  },
  {
   "cell_type": "code",
   "execution_count": null,
   "metadata": {
    "colab": {},
    "colab_type": "code",
    "id": "jPmfTq5J55f3"
   },
   "outputs": [],
   "source": [
    "# 특정 조건을 만족하는 고객 리스트를 추출하고 저장\n",
    "# query 조건 만족 행을 뽑을 때 사용\n",
    "\n",
    "target = ndf.query('pred == 1 & pred_prob > 0.7')  # PEP에 가입할 확율이 70%가 넘는 고객만 추출\n",
    "target.sort_values(by=\"pred_prob\", ascending=False).to_csv(\"pep_target.csv\", index=False)\n",
    "pd.read_csv(\"pep_target.csv\").tail()"
   ]
  }
 ],
 "metadata": {
  "colab": {
   "name": "code_0416_01.ipynb",
   "provenance": [],
   "version": "0.3.2"
  },
  "kernelspec": {
   "display_name": "Python 3",
   "language": "python",
   "name": "python3"
  },
  "language_info": {
   "codemirror_mode": {
    "name": "ipython",
    "version": 3
   },
   "file_extension": ".py",
   "mimetype": "text/x-python",
   "name": "python",
   "nbconvert_exporter": "python",
   "pygments_lexer": "ipython3",
   "version": "3.7.6"
  }
 },
 "nbformat": 4,
 "nbformat_minor": 1
}
