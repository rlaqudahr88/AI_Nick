{
 "cells": [
  {
   "cell_type": "markdown",
   "metadata": {},
   "source": [
    "##  문자열 구간 지정"
   ]
  },
  {
   "cell_type": "code",
   "execution_count": 4,
   "metadata": {},
   "outputs": [
    {
     "name": "stdout",
     "output_type": "stream",
     "text": [
      "able\n",
      "A tabl\n",
      "나가리라\n"
     ]
    }
   ],
   "source": [
    "txt1 = 'A table that was not right'\n",
    "txt2 = '이 또한 지나가리라'\n",
    "print(txt1[3:7])\n",
    "print(txt1[:6])\n",
    "print(txt2[-4:])"
   ]
  },
  {
   "cell_type": "markdown",
   "metadata": {},
   "source": [
    "## 홀수번째 문자만 출력"
   ]
  },
  {
   "cell_type": "code",
   "execution_count": 8,
   "metadata": {},
   "outputs": [
    {
     "name": "stdout",
     "output_type": "stream",
     "text": [
      "abcdefghijk\n",
      "aceg\n"
     ]
    }
   ],
   "source": [
    "txt = 'aAbBcCdDeEfFgGhHiIjJkK'\n",
    "ret = txt[::2] # 건너 뛰기\n",
    "print(ret)\n",
    "txt2 = 'abcdefg'\n",
    "ret2 = txt2[::2]\n",
    "print(ret2)"
   ]
  },
  {
   "cell_type": "markdown",
   "metadata": {},
   "source": [
    "## 문자열 꺼꾸로 만들기 "
   ]
  },
  {
   "cell_type": "code",
   "execution_count": 11,
   "metadata": {},
   "outputs": [
    {
     "name": "stdout",
     "output_type": "stream",
     "text": [
      "kjihgfedcba\n"
     ]
    }
   ],
   "source": [
    "txt = 'abcdefghijk'\n",
    "ret = txt[::-1] # 거꾸로 print 하기\n",
    "print(ret)"
   ]
  },
  {
   "cell_type": "markdown",
   "metadata": {},
   "source": [
    "## 문자열 대소문자 변환 "
   ]
  },
  {
   "cell_type": "code",
   "execution_count": 12,
   "metadata": {},
   "outputs": [
    {
     "name": "stdout",
     "output_type": "stream",
     "text": [
      "A LOT OF THINGS OCCUR EACH DAY\n",
      "a lot of things occur each day\n"
     ]
    }
   ],
   "source": [
    "txt = 'A lot of Things occur each day'\n",
    "ret1 = txt.upper() # 전채를  대문자로 변환\n",
    "ret2 = txt.lower() # 전채를 소문자로 변환\n",
    "print(ret1)\n",
    "print(ret2)"
   ]
  },
  {
   "cell_type": "markdown",
   "metadata": {},
   "source": [
    "##  문자열 좌우 공백 제거"
   ]
  },
  {
   "cell_type": "code",
   "execution_count": 16,
   "metadata": {},
   "outputs": [
    {
     "name": "stdout",
     "output_type": "stream",
     "text": [
      "<     양쪽에 공백이 있는 문자열 입니다.     >\n",
      "<양쪽에 공백이 있는 문자열 입니다.     >\n",
      "<     양쪽에 공백이 있는 문자열 입니다.>\n",
      "<양쪽에 공백이 있는 문자열 입니다.>\n"
     ]
    }
   ],
   "source": [
    "txt = '     양쪽에 공백이 있는 문자열 입니다.     '\n",
    "print('<' + txt+'>')\n",
    "print('<' + txt.lstrip()+'>')# 왼쪽 공백제거\n",
    "print('<' + txt.rstrip()+'>')# 오른쪽 공백제거\n",
    "print('<' + txt.strip()+'>')# 양쪽 공백제거"
   ]
  },
  {
   "cell_type": "markdown",
   "metadata": {},
   "source": [
    "##  문자열 개수 구하기"
   ]
  },
  {
   "cell_type": "code",
   "execution_count": 18,
   "metadata": {},
   "outputs": [
    {
     "name": "stdout",
     "output_type": "stream",
     "text": [
      "3\n",
      "2\n",
      "8\n"
     ]
    }
   ],
   "source": [
    "txt = 'A lot of things occur each day, every day.'\n",
    "word_count1 = txt.count('o')\n",
    "word_count2 = txt.count('day')\n",
    "word_count3 = txt.count(' ')\n",
    "print(word_count1)\n",
    "print(word_count2)\n",
    "print(word_count3)"
   ]
  },
  {
   "cell_type": "markdown",
   "metadata": {},
   "source": [
    "### 2개 이상의 값 넣기"
   ]
  },
  {
   "cell_type": "code",
   "execution_count": 1,
   "metadata": {},
   "outputs": [
    {
     "data": {
      "text/plain": [
       "'I ate 10 apples. so I was sick for three days.'"
      ]
     },
     "execution_count": 1,
     "metadata": {},
     "output_type": "execute_result"
    }
   ],
   "source": [
    "number = 10 # 숫자 값 \"%d\"\n",
    "day = \"three\" # 문자값 \"%s\"\n",
    "\"I ate %d apples. so I was sick for %s days.\" % (number, day)\n",
    "'I ate 10 apples. so I was sick for three days.'"
   ]
  },
  {
   "cell_type": "markdown",
   "metadata": {},
   "source": [
    "## 문자열 분리(split) "
   ]
  },
  {
   "cell_type": "code",
   "execution_count": 16,
   "metadata": {},
   "outputs": [
    {
     "name": "stdout",
     "output_type": "stream",
     "text": [
      "['http:', '', 'www.naver.com.news', 'today=20200331']\n",
      "['name:홍길동', 'age:17', 'sex:남자', 'nation:조선']\n",
      "name -> 홍길동\n",
      "age -> 17\n",
      "sex -> 남자\n",
      "nation -> 조선\n"
     ]
    }
   ],
   "source": [
    "url = 'http://www.naver.com.news/today=20200331'\n",
    "log = 'name:홍길동 age:17 sex:남자 nation:조선'\n",
    "\n",
    "ret1 = url.split('/')\n",
    "print(ret1)\n",
    "\n",
    "ret2 = log.split()\n",
    "print(ret2)\n",
    "\n",
    "# ret2 name -> 홍길동\n",
    "\n",
    "for data in ret2:\n",
    "    d1, d2 = data.split(':') # useful in deep learning**\n",
    "    print('%s -> %s' % (d1, d2))"
   ]
  },
  {
   "cell_type": "markdown",
   "metadata": {},
   "source": [
    "##  문자열 결합(join)"
   ]
  },
  {
   "cell_type": "code",
   "execution_count": 29,
   "metadata": {},
   "outputs": [
    {
     "name": "stdout",
     "output_type": "stream",
     "text": [
      "2020/03/31 11:38:10||  200||  OK||  이 또한 지나가리라\n"
     ]
    }
   ],
   "source": [
    "loglist = ['2020/03/31 11:38:10', '200', 'OK', '이 또한 지나가리라']\n",
    "bond = '||  '\n",
    "print(bond.join(loglist))"
   ]
  },
  {
   "cell_type": "markdown",
   "metadata": {},
   "source": [
    "##  문자열 바꾸기(replace)"
   ]
  },
  {
   "cell_type": "code",
   "execution_count": 30,
   "metadata": {},
   "outputs": [
    {
     "name": "stdout",
     "output_type": "stream",
     "text": [
      "My password is 0234\n",
      "My password is python234\n",
      "My password is python\n",
      "항상 많은 일들이 일어납니다.\n",
      "매일 많은 사건이 일어납니다.\n"
     ]
    }
   ],
   "source": [
    "txt = 'My password is 1234'\n",
    "print(txt.replace('1', '0'))\n",
    "print(txt.replace('1', 'python'))\n",
    "print(txt.replace('1234', 'python'))\n",
    "\n",
    "txt = '매일 많은 일들이 일어납니다.'\n",
    "print(txt.replace('매일', '항상'))\n",
    "print(txt.replace('일들', '사건'))"
   ]
  },
  {
   "cell_type": "markdown",
   "metadata": {},
   "source": [
    "##  문자열 정렬"
   ]
  },
  {
   "cell_type": "code",
   "execution_count": 3,
   "metadata": {},
   "outputs": [
    {
     "name": "stdout",
     "output_type": "stream",
     "text": [
      "정렬할 문자열을 입력하세요:asdasdasd\n",
      "asdasdasd\n",
      "['a', 'a', 'a', 'd', 'd', 'd', 's', 's', 's']\n",
      "['s', 's', 's', 'd', 'd', 'd', 'a', 'a', 'a']\n",
      "오름차순으로 정렬된 문자열은 <aaadddsss> 압니다.\n",
      "내림차순으로 정렬된 문자열은 <sssdddaaa> 압니다.\n"
     ]
    }
   ],
   "source": [
    "strdata = input('정렬할 문자열을 입력하세요:')\n",
    "print(strdata)\n",
    "print(sorted(strdata))\n",
    "print(sorted(strdata, reverse=True))\n",
    "ret1 = ''.join(sorted(strdata))\n",
    "ret2 = ''.join(sorted(strdata, reverse=True))\n",
    "print('오름차순으로 정렬된 문자열은 <'+ ret1+'> 압니다.')\n",
    "print('내림차순으로 정렬된 문자열은 <'+ ret2+'> 압니다.')"
   ]
  },
  {
   "cell_type": "code",
   "execution_count": null,
   "metadata": {},
   "outputs": [],
   "source": []
  },
  {
   "cell_type": "markdown",
   "metadata": {},
   "source": [
    "##  문자 포맷팅"
   ]
  },
  {
   "cell_type": "code",
   "execution_count": 29,
   "metadata": {},
   "outputs": [
    {
     "name": "stdout",
     "output_type": "stream",
     "text": [
      "나는 자바보다 파이썬에 더 익숙합니다.\n",
      "파이썬은 자바보다 5 배 더 쉽습니다.\n",
      "5 + 10 = 15\n",
      "작년 세계 경제 성장룰은 전년에 비해 5% 포인트 증가했다\n"
     ]
    }
   ],
   "source": [
    "# %s = 문자열에 대응\n",
    "# %c = 문자나 기호 한개에 대응됨\n",
    "# %f = 실수에 대응\n",
    "# %d = 정수에 대응\n",
    "# %% = %라는 기호 자체를 의미\n",
    "\n",
    "txt1 = '자바'; txt2 = '파이썬'\n",
    "num1 = 5; num2 = 10\n",
    "print('나는 %s보다 %s에 더 익숙합니다.' %(txt1, txt2))\n",
    "\n",
    "# 파이썬은 자바보다 num1 + num2 배 더 쉽습니다\n",
    "print('%s은 %s보다 %d 배 더 쉽습니다.' %(txt2, txt1, num1))\n",
    "\n",
    "# 5 + 10 = 15\n",
    "print('%d + %d = %d' %(num1, num2, num1+num2))\n",
    "\n",
    "# 작년 세계 경제 성장룰은 전년에 비해 5% 포인트 증가했다.\n",
    "print('작년 세계 경제 성장룰은 전년에 비해 %d%% 포인트 증가했다'%(num1))"
   ]
  },
  {
   "cell_type": "code",
   "execution_count": 25,
   "metadata": {},
   "outputs": [
    {
     "name": "stdout",
     "output_type": "stream",
     "text": [
      "진행률 0%                                                                                                                                                                                                                                                                                                                                      "
     ]
    }
   ],
   "source": [
    "from time import sleep\n",
    "\n",
    "for i in range(100):\n",
    "    msg = '\\r진행률 %d%%' %(100-i-1) # \\r 줄의 맨처음\n",
    "    print(' '*len(msg), end='') # msg 길이만큼 공백문자를 줄바꿈없이 화면에 출력 \n",
    "    print(msg, end=' ')                           # len = length\n",
    "    sleep(0.1)                "
   ]
  },
  {
   "cell_type": "code",
   "execution_count": 26,
   "metadata": {},
   "outputs": [
    {
     "name": "stdout",
     "output_type": "stream",
     "text": [
      "진행률 0%                                                                                                                                                                                                                                                                                                                                       "
     ]
    }
   ],
   "source": [
    "from time import sleep\n",
    "\n",
    "for i in range(100):\n",
    "    msg = '\\r진행률 %d%%' %(100-i-1) # \\r 줄의 맨처음\n",
    "    print(' '*len(msg), end='') # msg 길이만큼 공백문자를 줄바꿈없이 화면에 출력 \n",
    "    print(msg, end=' ')                           # len = length\n",
    "    sleep(0.1)                "
   ]
  },
  {
   "cell_type": "markdown",
   "metadata": {},
   "source": [
    "###  format 함수를 사용한 포매팅"
   ]
  },
  {
   "cell_type": "code",
   "execution_count": 8,
   "metadata": {},
   "outputs": [
    {
     "name": "stdout",
     "output_type": "stream",
     "text": [
      "I eat 3 apples\n"
     ]
    }
   ],
   "source": [
    "# 숫자 바로 대입하기\n",
    "j = \"I eat {0} apples\".format(3)\n",
    "print(j)"
   ]
  },
  {
   "cell_type": "code",
   "execution_count": 5,
   "metadata": {},
   "outputs": [
    {
     "data": {
      "text/plain": [
       "'I eat five apples'"
      ]
     },
     "execution_count": 5,
     "metadata": {},
     "output_type": "execute_result"
    }
   ],
   "source": [
    "# 문자열 바로 대입하기\n",
    "\"I eat {0} apples\".format(\"five\")"
   ]
  },
  {
   "cell_type": "code",
   "execution_count": 6,
   "metadata": {},
   "outputs": [
    {
     "data": {
      "text/plain": [
       "'I eat 3 apples'"
      ]
     },
     "execution_count": 6,
     "metadata": {},
     "output_type": "execute_result"
    }
   ],
   "source": [
    "# 숫자 값을 가진 변수로 대입하기\n",
    "number = 3\n",
    "\"I eat {0} apples\".format(number)"
   ]
  },
  {
   "cell_type": "code",
   "execution_count": 9,
   "metadata": {
    "scrolled": true
   },
   "outputs": [
    {
     "name": "stdout",
     "output_type": "stream",
     "text": [
      "I ate 10 apples. so I was sick for three days.\n"
     ]
    }
   ],
   "source": [
    "# 2개 이상의 값 넣기\n",
    "number = 10\n",
    "day = \"three\"\n",
    "j = \"I ate {0} apples. so I was sick for {1} days.\".format(number, day)\n",
    "print(j)"
   ]
  },
  {
   "cell_type": "code",
   "execution_count": 10,
   "metadata": {},
   "outputs": [
    {
     "data": {
      "text/plain": [
       "'I ate 10 apples. so I was sick for 3 days.'"
      ]
     },
     "execution_count": 10,
     "metadata": {},
     "output_type": "execute_result"
    }
   ],
   "source": [
    "# 이름으로 넣기\n",
    "\"I ate {number} apples. so I was sick for {day} days.\".format(number=10, day=3)"
   ]
  },
  {
   "cell_type": "code",
   "execution_count": 11,
   "metadata": {},
   "outputs": [
    {
     "data": {
      "text/plain": [
       "'I ate 10 apples. so I was sick for 3 days.'"
      ]
     },
     "execution_count": 11,
     "metadata": {},
     "output_type": "execute_result"
    }
   ],
   "source": [
    "# 인덱스와 이름을 혼용해서 넣기\n",
    "\"I ate {0} apples. so I was sick for {day} days.\".format(10, day=3)"
   ]
  },
  {
   "cell_type": "markdown",
   "metadata": {},
   "source": [
    "###  f 문자열 포매팅"
   ]
  },
  {
   "cell_type": "code",
   "execution_count": 15,
   "metadata": {},
   "outputs": [
    {
     "name": "stdout",
     "output_type": "stream",
     "text": [
      "나의 이름은 홍길동입니다. 나이는 30입니다.\n",
      "나는 내년이면 31살이 된다.\n",
      "나의 이름은 홍길동입니다. 나이는 30입니다.\n"
     ]
    }
   ],
   "source": [
    "# 파이썬 3.6 버전부터는 f 문자열 포매팅 기능을 사용할 수 있다.\n",
    "# 다음과 같이 문자열 앞에 f 접두사를 붙이면 f 문자열 포매팅 기능을 사용할 수 있다.\n",
    "name = '홍길동'\n",
    "age = 30\n",
    "j = f'나의 이름은 {name}입니다. 나이는 {age}입니다.'\n",
    "print(j)\n",
    "\n",
    "k = f'나는 내년이면 {age+1}살이 된다.'\n",
    "print(k)\n",
    "\n",
    "d = {'name':'홍길동', 'age':30}\n",
    "m = f'나의 이름은 {d[\"name\"]}입니다. 나이는 {d[\"age\"]}입니다.'\n",
    "print (m)"
   ]
  },
  {
   "cell_type": "markdown",
   "metadata": {},
   "source": [
    "## 이스케이프 문자 "
   ]
  },
  {
   "cell_type": "code",
   "execution_count": 9,
   "metadata": {},
   "outputs": [
    {
     "name": "stdout",
     "output_type": "stream",
     "text": [
      "나는 파이썬을 사랑합니다. \n",
      "파이썬은 자바보다 쉽습니다.\n",
      "Name: John Smith\tSex: Male\tAge: 22\n",
      "이 문장은 화면폭에 비해 너무 길어 보기가 힘듭니다. 그래서 \\enter 키를 이용해 문장을 다음줄과 연속되도록 했습니다.\n",
      "작은 따옴표(')와 큰 따옴표(\")는 문자열을 정의할 때 사용합니다.\n"
     ]
    }
   ],
   "source": [
    "# \\n 줄바꾸기 - enter\n",
    "# \\t 탭\n",
    "print('나는 파이썬을 사랑합니다. \\n파이썬은 자바보다 쉽습니다.')\n",
    "print('Name: John Smith\\tSex: Male\\tAge: 22')\n",
    "print('이 문장은 화면폭에 비해 너무 길어 보기가 힘듭니다. \\\n",
    "그래서 \\\\enter 키를 이용해 문장을 다음줄과 연속되도록 했습니다.')\n",
    "print('작은 따옴표(\\')와 큰 따옴표(\")는 문자열을 정의할 때 사용합니다.')"
   ]
  },
  {
   "cell_type": "markdown",
   "metadata": {},
   "source": [
    "## 리스트와 튜플 "
   ]
  },
  {
   "cell_type": "code",
   "execution_count": 31,
   "metadata": {},
   "outputs": [
    {
     "name": "stdout",
     "output_type": "stream",
     "text": [
      "[6, 2, 3, 4, 5]\n",
      "안녕하세요\n"
     ]
    }
   ],
   "source": [
    "# [, , ] # 리스트\n",
    "# (, , ) # 튜플\n",
    "# 리스트\n",
    "list1 = [1, 2, 3, 4, 5]\n",
    "list2 = ['a', 'b', 'c']\n",
    "list3 = [1, 'a', 'abc', [1,2,3,4,5], ['a','b','c']]\n",
    "list1[0] = 6\n",
    "print(list1)\n",
    "\n",
    "def myfunc():\n",
    "    print('안녕하세요')\n",
    "list4 = [1,2,myfunc]\n",
    "list4[2]()"
   ]
  },
  {
   "cell_type": "code",
   "execution_count": 33,
   "metadata": {},
   "outputs": [
    {
     "ename": "TypeError",
     "evalue": "'tuple' object does not support item assignment",
     "output_type": "error",
     "traceback": [
      "\u001b[1;31m---------------------------------------------------------------------------\u001b[0m",
      "\u001b[1;31mTypeError\u001b[0m                                 Traceback (most recent call last)",
      "\u001b[1;32m<ipython-input-33-dcc4f878540f>\u001b[0m in \u001b[0;36m<module>\u001b[1;34m\u001b[0m\n\u001b[0;32m      3\u001b[0m \u001b[0mtuple2\u001b[0m \u001b[1;33m=\u001b[0m \u001b[1;33m(\u001b[0m\u001b[1;34m'a'\u001b[0m\u001b[1;33m,\u001b[0m \u001b[1;34m'b'\u001b[0m\u001b[1;33m,\u001b[0m \u001b[1;34m'c'\u001b[0m\u001b[1;33m)\u001b[0m\u001b[1;33m\u001b[0m\u001b[1;33m\u001b[0m\u001b[0m\n\u001b[0;32m      4\u001b[0m \u001b[0mtuple3\u001b[0m \u001b[1;33m=\u001b[0m \u001b[1;33m(\u001b[0m\u001b[1;36m1\u001b[0m\u001b[1;33m,\u001b[0m \u001b[1;34m'a'\u001b[0m\u001b[1;33m,\u001b[0m \u001b[1;34m'abc'\u001b[0m\u001b[1;33m,\u001b[0m \u001b[1;33m[\u001b[0m\u001b[1;36m1\u001b[0m\u001b[1;33m,\u001b[0m\u001b[1;36m2\u001b[0m\u001b[1;33m,\u001b[0m\u001b[1;36m3\u001b[0m\u001b[1;33m,\u001b[0m\u001b[1;36m4\u001b[0m\u001b[1;33m,\u001b[0m\u001b[1;36m5\u001b[0m\u001b[1;33m]\u001b[0m\u001b[1;33m,\u001b[0m \u001b[1;33m[\u001b[0m\u001b[1;34m'a'\u001b[0m\u001b[1;33m,\u001b[0m\u001b[1;34m'b'\u001b[0m\u001b[1;33m,\u001b[0m\u001b[1;34m'c'\u001b[0m\u001b[1;33m]\u001b[0m\u001b[1;33m)\u001b[0m\u001b[1;33m\u001b[0m\u001b[1;33m\u001b[0m\u001b[0m\n\u001b[1;32m----> 5\u001b[1;33m \u001b[0mtuple1\u001b[0m\u001b[1;33m[\u001b[0m\u001b[1;36m0\u001b[0m\u001b[1;33m]\u001b[0m \u001b[1;33m=\u001b[0m \u001b[1;36m6\u001b[0m\u001b[1;33m\u001b[0m\u001b[1;33m\u001b[0m\u001b[0m\n\u001b[0m\u001b[0;32m      6\u001b[0m \u001b[0mprint\u001b[0m\u001b[1;33m(\u001b[0m\u001b[0mtuple1\u001b[0m\u001b[1;33m)\u001b[0m\u001b[1;33m\u001b[0m\u001b[1;33m\u001b[0m\u001b[0m\n",
      "\u001b[1;31mTypeError\u001b[0m: 'tuple' object does not support item assignment"
     ]
    }
   ],
   "source": [
    "# 튜플 리스트 차이점 예문*\n",
    "tuple1 = (1,2,3,4,5)\n",
    "tuple2 = ('a', 'b', 'c')\n",
    "tuple3 = (1, 'a', 'abc', [1,2,3,4,5], ['a','b','c'])\n",
    "tuple1[0] = 6\n",
    "print(tuple1)\n",
    "\n",
    "# 튜플은  - 중간에 수를 못바꾼다** therefore, tuple1[0] = 6 does not work"
   ]
  },
  {
   "cell_type": "code",
   "execution_count": 34,
   "metadata": {},
   "outputs": [
    {
     "name": "stdout",
     "output_type": "stream",
     "text": [
      "(1, 2, 3, 4, 5)\n",
      "안녕하세요\n"
     ]
    }
   ],
   "source": [
    "tuple1 = (1,2,3,4,5)\n",
    "tuple2 = ('a', 'b', 'c')\n",
    "tuple3 = (1, 'a', 'abc', [1,2,3,4,5], ['a','b','c'])\n",
    "print(tuple1)\n",
    "def myfunc():\n",
    "    print('안녕하세요')\n",
    "tuple4 = [1,2,myfunc]\n",
    "tuple4[2]()"
   ]
  },
  {
   "cell_type": "markdown",
   "metadata": {},
   "source": [
    "##  사전"
   ]
  },
  {
   "cell_type": "code",
   "execution_count": 41,
   "metadata": {},
   "outputs": [
    {
     "name": "stdout",
     "output_type": "stream",
     "text": [
      "3\n",
      "{'a': 1, 'b': 2, 'c': 3, 'd': 4}\n",
      "{'a': 1, 'b': 7, 'c': 3, 'd': 4}\n",
      "4\n"
     ]
    }
   ],
   "source": [
    "# key value - eg. index\n",
    "dict1 = {'a':1,'b':2,'c':3}\n",
    "print(dict1['c'])\n",
    "dict1['d'] = 4 # dict1 에 'd':4 까지 너어 준다\n",
    "print(dict1)\n",
    "\n",
    "dict1['b'] = 7\n",
    "print(dict1)\n",
    "print(len(dict1))"
   ]
  },
  {
   "cell_type": "markdown",
   "metadata": {},
   "source": [
    "## 함수 (function)"
   ]
  },
  {
   "cell_type": "code",
   "execution_count": 46,
   "metadata": {},
   "outputs": [
    {
     "name": "stdout",
     "output_type": "stream",
     "text": [
      "4\n",
      "대한민국 ~ 최고\n"
     ]
    }
   ],
   "source": [
    "def add_number(n1,n2): #add_number 라는 함수 이름. 숫자\n",
    "    ret = n1 + n2\n",
    "    return ret\n",
    "def add_txt(t1, t2): # text\n",
    "    print(t1 + t2)\n",
    "\n",
    "print(add_number(1,3))\n",
    "add_txt('대한민국 ~ ', '최고')"
   ]
  },
  {
   "cell_type": "markdown",
   "metadata": {},
   "source": [
    "## 전역 변수와 지역변수 (global variable / local variable)"
   ]
  },
  {
   "cell_type": "code",
   "execution_count": 10,
   "metadata": {},
   "outputs": [],
   "source": [
    "# param = 10 + 1  # Y = 10x + 1 when x = 1, y = 11. When x = 5 y = 51\n",
    "param = 10\n",
    "strdata = '전역변수 / global variable'\n",
    "\n",
    "def func1():\n",
    "    strdata = '지역변수 / local variable'\n",
    "    print(strdata)\n",
    "\n",
    "def func2(param):\n",
    "    param = 1\n",
    "    print(param)\n",
    "\n",
    "def func3():\n",
    "    global param\n",
    "    param = 50"
   ]
  },
  {
   "cell_type": "code",
   "execution_count": 11,
   "metadata": {},
   "outputs": [
    {
     "name": "stdout",
     "output_type": "stream",
     "text": [
      "지역변수 / local variable\n",
      "전역변수 / global variable\n",
      "10\n",
      "1\n",
      "10\n",
      "50\n"
     ]
    }
   ],
   "source": [
    "func1()\n",
    "print(strdata)\n",
    "print(param)\n",
    "\n",
    "func2(param)\n",
    "print(param)\n",
    "\n",
    "func3()\n",
    "print(param)"
   ]
  },
  {
   "cell_type": "markdown",
   "metadata": {},
   "source": [
    "##  리스트\n",
    "### 순차적인 정수 리스트 - (in order(consecutive) integer list)"
   ]
  },
  {
   "cell_type": "code",
   "execution_count": 14,
   "metadata": {},
   "outputs": [
    {
     "name": "stdout",
     "output_type": "stream",
     "text": [
      "[0, 1, 2, 3, 4, 5, 6, 7, 8, 9]\n",
      "[10, 11, 12, 13, 14, 15, 16, 17, 18, 19]\n"
     ]
    }
   ],
   "source": [
    "range1 = range(10)\n",
    "range2 = range(10,20)\n",
    "print(list(range1))\n",
    "print(list(range2))"
   ]
  },
  {
   "cell_type": "markdown",
   "metadata": {},
   "source": [
    "###  리스트에서 특정 위치 요소 얻기"
   ]
  },
  {
   "cell_type": "code",
   "execution_count": 38,
   "metadata": {},
   "outputs": [
    {
     "name": "stdout",
     "output_type": "stream",
     "text": [
      "2\n",
      "b\n",
      "[4, 5, 6]\n",
      "5\n"
     ]
    }
   ],
   "source": [
    "listdata = [1,2,'a','b','c',[4,5,6]]\n",
    "val1 = listdata[1]\n",
    "val2 = listdata[3]\n",
    "val3 = listdata[5]\n",
    "val4 = listdata[5][1]\n",
    "print(val1)\n",
    "print(val2)\n",
    "print(val3)\n",
    "print(val4)"
   ]
  },
  {
   "cell_type": "markdown",
   "metadata": {},
   "source": [
    "###  특정요소의 위치 구하기(index****) 중요단어* position"
   ]
  },
  {
   "cell_type": "code",
   "execution_count": 29,
   "metadata": {},
   "outputs": [
    {
     "name": "stdout",
     "output_type": "stream",
     "text": [
      "지구은(는) 태양게에서 3번째에 위치하고 있습니다.\n",
      "지구은(는) 태양게에서 9번째에 위치하고 있습니다.\n"
     ]
    }
   ],
   "source": [
    "solarsys = ['태양','수성','금성','지구','화성','목성','토성','천왕성','해왕성','지구']\n",
    "planet = '지구'\n",
    "pos = solarsys.index(planet)\n",
    "print('%s은(는) 태양게에서 %d번째에 위치하고 있습니다.' %(planet, pos))\n",
    "pos = solarsys.index(planet, 5)\n",
    "print('%s은(는) 태양게에서 %d번째에 위치하고 있습니다.' %(planet, pos))"
   ]
  },
  {
   "cell_type": "markdown",
   "metadata": {},
   "source": [
    "##  특정위치 요소 변경"
   ]
  },
  {
   "cell_type": "code",
   "execution_count": 43,
   "metadata": {},
   "outputs": [
    {
     "name": "stdout",
     "output_type": "stream",
     "text": [
      "4\n",
      "['태양', '수성', '금성', '지구', 'Mars', '목성', '토성', '천왕성', '해왕성']\n"
     ]
    }
   ],
   "source": [
    "solarsys = ['태양','수성','금성','지구','화성','목성','토성','천왕성','해왕성']\n",
    "planet = '화성'\n",
    "pos = solarsys.index(planet)\n",
    "print(pos)\n",
    "solarsys[pos] = 'Mars'\n",
    "print(solarsys)"
   ]
  },
  {
   "cell_type": "markdown",
   "metadata": {},
   "source": [
    "### 특정 구간의 요소 추출 "
   ]
  },
  {
   "cell_type": "code",
   "execution_count": 47,
   "metadata": {},
   "outputs": [
    {
     "name": "stdout",
     "output_type": "stream",
     "text": [
      "태양계의 암석형 행성: ['수성', '금성', '지구']\n",
      "태양계의 사스형 행성: ['화성', '목성', '토성', '천왕성', '해왕성']\n"
     ]
    }
   ],
   "source": [
    "solarsys = ['태양','수성','금성','지구','화성','목성','토성','천왕성','해왕성']\n",
    "rock_planets = solarsys[1:4]\n",
    "gas_planets = solarsys[4:]\n",
    "print('태양계의 암석형 행성: ', end=''); print(rock_planets)\n",
    "print('태양계의 사스형 행성: ', end=''); print(gas_planets)"
   ]
  },
  {
   "cell_type": "markdown",
   "metadata": {},
   "source": [
    "###  짝수 번째 요소만 추출"
   ]
  },
  {
   "cell_type": "code",
   "execution_count": 54,
   "metadata": {},
   "outputs": [
    {
     "name": "stdout",
     "output_type": "stream",
     "text": [
      "[1, 2, 3, 4, 5, 6, 7, 8, 9, 10, 11, 12, 13, 14, 15, 16, 17, 18, 19, 20]\n",
      "[2, 4, 6, 8, 10, 12, 14, 16, 18, 20]\n"
     ]
    }
   ],
   "source": [
    "listdata = list(range(1, 21))\n",
    "print(listdata)\n",
    "print(listdata[1::2]) # 짝수만 추출"
   ]
  },
  {
   "cell_type": "markdown",
   "metadata": {},
   "source": [
    "###  요소 추가(append) *** 딥러닝에 충요"
   ]
  },
  {
   "cell_type": "code",
   "execution_count": 56,
   "metadata": {},
   "outputs": [
    {
     "name": "stdout",
     "output_type": "stream",
     "text": [
      "리스트에 추가할 값을 입력하세요.[1/3]: 안\n",
      "['안']\n",
      "리스트에 추가할 값을 입력하세요.[2/3]: 녕\n",
      "['안', '녕']\n",
      "리스트에 추가할 값을 입력하세요.[3/3]: 하\n",
      "['안', '녕', '하']\n"
     ]
    }
   ],
   "source": [
    "listdata = []\n",
    "for i in range(3):\n",
    "    txt = input('리스트에 추가할 값을 입력하세요.[%d/3]: ' %(i+1))\n",
    "    listdata.append(txt)\n",
    "    print(listdata)"
   ]
  },
  {
   "cell_type": "code",
   "execution_count": null,
   "metadata": {},
   "outputs": [],
   "source": []
  },
  {
   "cell_type": "markdown",
   "metadata": {},
   "source": [
    "### 특정위치 요소 삽입(insert) "
   ]
  },
  {
   "cell_type": "code",
   "execution_count": 57,
   "metadata": {},
   "outputs": [
    {
     "name": "stdout",
     "output_type": "stream",
     "text": [
      "5\n",
      "['태양', '수성', '금성', '지구', '화성', '소행성', '목성', '토성', '천왕성', '해왕성']\n"
     ]
    }
   ],
   "source": [
    "solarsys = ['태양','수성','금성','지구','화성','목성','토성','천왕성','해왕성']\n",
    "pos = solarsys.index('목성')\n",
    "print(pos)\n",
    "solarsys.insert(pos,'소행성')\n",
    "print(solarsys)"
   ]
  },
  {
   "cell_type": "markdown",
   "metadata": {},
   "source": [
    "###  특정위치 요소 제거(delete)"
   ]
  },
  {
   "cell_type": "code",
   "execution_count": 62,
   "metadata": {},
   "outputs": [
    {
     "name": "stdout",
     "output_type": "stream",
     "text": [
      "['수성', '금성', '지구', '화성', '목성', '토성', '천왕성', '해왕성']\n",
      "['수성', '금성', '지구', '화성', '목성', '토성', '해왕성']\n"
     ]
    }
   ],
   "source": [
    "solarsys = ['태양','수성','금성','지구','화성','목성','토성','천왕성','해왕성']\n",
    "del solarsys[0]\n",
    "print(solarsys)\n",
    "del solarsys[-2]\n",
    "print(solarsys)"
   ]
  },
  {
   "cell_type": "markdown",
   "metadata": {},
   "source": [
    "###  특정 요소 제거(remove)"
   ]
  },
  {
   "cell_type": "code",
   "execution_count": 64,
   "metadata": {},
   "outputs": [
    {
     "name": "stdout",
     "output_type": "stream",
     "text": [
      "['태양', '금성', '지구', '화성', '목성', '토성', '천왕성', '해왕성']\n"
     ]
    }
   ],
   "source": [
    "solarsys = ['태양','수성','금성','지구','화성','목성','토성','천왕성','해왕성']\n",
    "\n",
    "solarsys.remove('수성')\n",
    "print(solarsys)"
   ]
  },
  {
   "cell_type": "markdown",
   "metadata": {},
   "source": [
    "### 특정 구간 요소 제거"
   ]
  },
  {
   "cell_type": "code",
   "execution_count": 66,
   "metadata": {},
   "outputs": [
    {
     "name": "stdout",
     "output_type": "stream",
     "text": [
      "['태양', '토성', '천왕성', '해왕성']\n"
     ]
    }
   ],
   "source": [
    "solarsys = ['태양','수성','금성','지구','화성','목성','토성','천왕성','해왕성']\n",
    "del solarsys[1:6]\n",
    "print(solarsys)"
   ]
  },
  {
   "cell_type": "markdown",
   "metadata": {},
   "source": [
    "### 리스트 제거 "
   ]
  },
  {
   "cell_type": "code",
   "execution_count": 67,
   "metadata": {},
   "outputs": [
    {
     "ename": "NameError",
     "evalue": "name 'solarsys' is not defined",
     "output_type": "error",
     "traceback": [
      "\u001b[1;31m---------------------------------------------------------------------------\u001b[0m",
      "\u001b[1;31mNameError\u001b[0m                                 Traceback (most recent call last)",
      "\u001b[1;32m<ipython-input-67-33b0ee04ffa2>\u001b[0m in \u001b[0;36m<module>\u001b[1;34m\u001b[0m\n\u001b[0;32m      1\u001b[0m \u001b[0msolarsys\u001b[0m \u001b[1;33m=\u001b[0m \u001b[1;33m[\u001b[0m\u001b[1;34m'태양'\u001b[0m\u001b[1;33m,\u001b[0m\u001b[1;34m'수성'\u001b[0m\u001b[1;33m,\u001b[0m\u001b[1;34m'금성'\u001b[0m\u001b[1;33m,\u001b[0m\u001b[1;34m'지구'\u001b[0m\u001b[1;33m,\u001b[0m\u001b[1;34m'화성'\u001b[0m\u001b[1;33m,\u001b[0m\u001b[1;34m'목성'\u001b[0m\u001b[1;33m,\u001b[0m\u001b[1;34m'토성'\u001b[0m\u001b[1;33m,\u001b[0m\u001b[1;34m'천왕성'\u001b[0m\u001b[1;33m,\u001b[0m\u001b[1;34m'해왕성'\u001b[0m\u001b[1;33m]\u001b[0m\u001b[1;33m\u001b[0m\u001b[1;33m\u001b[0m\u001b[0m\n\u001b[0;32m      2\u001b[0m \u001b[1;32mdel\u001b[0m \u001b[0msolarsys\u001b[0m\u001b[1;33m\u001b[0m\u001b[1;33m\u001b[0m\u001b[0m\n\u001b[1;32m----> 3\u001b[1;33m \u001b[0mprint\u001b[0m\u001b[1;33m(\u001b[0m\u001b[0msolarsys\u001b[0m\u001b[1;33m)\u001b[0m\u001b[1;33m\u001b[0m\u001b[1;33m\u001b[0m\u001b[0m\n\u001b[0m",
      "\u001b[1;31mNameError\u001b[0m: name 'solarsys' is not defined"
     ]
    }
   ],
   "source": [
    "solarsys = ['태양','수성','금성','지구','화성','목성','토성','천왕성','해왕성']\n",
    "del solarsys\n",
    "print(solarsys)"
   ]
  },
  {
   "cell_type": "markdown",
   "metadata": {},
   "source": [
    "###  정렬 sort"
   ]
  },
  {
   "cell_type": "code",
   "execution_count": 69,
   "metadata": {},
   "outputs": [
    {
     "name": "stdout",
     "output_type": "stream",
     "text": [
      "['Amy', 'Bob', 'Kelly', 'Mary', 'Michael', 'Sam', 'Tom']\n"
     ]
    }
   ],
   "source": [
    "# 정렬 1\n",
    "namelist = ['Mary','Sam', 'Amy', 'Tom','Michael','Bob','Kelly']\n",
    "namelist.sort()  #alphabetical order\n",
    "print(namelist)"
   ]
  },
  {
   "cell_type": "code",
   "execution_count": 72,
   "metadata": {},
   "outputs": [
    {
     "name": "stdout",
     "output_type": "stream",
     "text": [
      "['Amy', 'Bob', 'Kelly', 'Mary', 'Michael', 'Sam', 'Tom']\n",
      "['Tom', 'Sam', 'Michael', 'Mary', 'Kelly', 'Bob', 'Amy']\n"
     ]
    }
   ],
   "source": [
    "# 정렬 2\n",
    "namelist = ['Mary','Sam', 'Amy', 'Tom','Michael','Bob','Kelly']\n",
    "print(sorted(namelist)) # alphabetical order too\n",
    "print(sorted(namelist, reverse=True))"
   ]
  },
  {
   "cell_type": "code",
   "execution_count": 74,
   "metadata": {},
   "outputs": [
    {
     "name": "stdout",
     "output_type": "stream",
     "text": [
      "[1, 2, 3, 4, 5, 6, 7, 8, 9, 10]\n",
      "[7, 9, 10, 2, 1, 8, 5, 6, 3, 4]\n",
      "[1, 9, 7, 2, 4, 3, 5, 6, 8, 10]\n",
      "[7, 5, 2, 8, 4, 6, 10, 9, 1, 3]\n"
     ]
    }
   ],
   "source": [
    "# 섞기 shuffle\n",
    "from random import shuffle\n",
    "\n",
    "listdata = list(range(1,11))\n",
    "print(listdata)\n",
    "for i in range(3):\n",
    "    shuffle(listdata)\n",
    "    print(listdata)"
   ]
  },
  {
   "cell_type": "markdown",
   "metadata": {},
   "source": [
    "###  인뎃스와 싸으로 추출하기(enumerate)"
   ]
  },
  {
   "cell_type": "code",
   "execution_count": 78,
   "metadata": {},
   "outputs": [
    {
     "name": "stdout",
     "output_type": "stream",
     "text": [
      "[(0, '태양'), (1, '수성'), (2, '금성'), (3, '지구'), (4, '화성'), (5, '목성'), (6, '토성'), (7, '천왕성'), (8, '해왕성')]\n",
      "태양계의 0번째 천체: 태양\n",
      "태양계의 1번째 천체: 수성\n",
      "태양계의 2번째 천체: 금성\n",
      "태양계의 3번째 천체: 지구\n",
      "태양계의 4번째 천체: 화성\n",
      "태양계의 5번째 천체: 목성\n",
      "태양계의 6번째 천체: 토성\n",
      "태양계의 7번째 천체: 천왕성\n",
      "태양계의 8번째 천체: 해왕성\n"
     ]
    }
   ],
   "source": [
    "solarsys = ['태양','수성','금성','지구','화성','목성','토성','천왕성','해왕성']\n",
    "print(list(enumerate(solarsys)))\n",
    "\n",
    "for i, body in enumerate(solarsys):\n",
    "    print('태양계의 %d번째 천체: %s' %(i,body ))\n",
    "    "
   ]
  },
  {
   "cell_type": "markdown",
   "metadata": {},
   "source": [
    "### 합구하기 "
   ]
  },
  {
   "cell_type": "code",
   "execution_count": 79,
   "metadata": {},
   "outputs": [
    {
     "name": "stdout",
     "output_type": "stream",
     "text": [
      "55\n"
     ]
    }
   ],
   "source": [
    "listdata = [1,2,3,4,5,6,7,8,9,10]\n",
    "print(sum(listdata))"
   ]
  },
  {
   "cell_type": "code",
   "execution_count": null,
   "metadata": {},
   "outputs": [],
   "source": []
  },
  {
   "cell_type": "code",
   "execution_count": null,
   "metadata": {},
   "outputs": [],
   "source": []
  },
  {
   "cell_type": "code",
   "execution_count": null,
   "metadata": {},
   "outputs": [],
   "source": []
  },
  {
   "cell_type": "code",
   "execution_count": null,
   "metadata": {},
   "outputs": [],
   "source": []
  }
 ],
 "metadata": {
  "kernelspec": {
   "display_name": "Python 3",
   "language": "python",
   "name": "python3"
  },
  "language_info": {
   "codemirror_mode": {
    "name": "ipython",
    "version": 3
   },
   "file_extension": ".py",
   "mimetype": "text/x-python",
   "name": "python",
   "nbconvert_exporter": "python",
   "pygments_lexer": "ipython3",
   "version": "3.7.6"
  }
 },
 "nbformat": 4,
 "nbformat_minor": 4
}
