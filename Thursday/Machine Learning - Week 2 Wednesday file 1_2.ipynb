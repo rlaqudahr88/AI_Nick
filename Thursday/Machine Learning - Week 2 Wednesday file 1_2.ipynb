{
 "cells": [
  {
   "cell_type": "markdown",
   "metadata": {},
   "source": [
    "#  machine learning example 복습"
   ]
  },
  {
   "cell_type": "markdown",
   "metadata": {},
   "source": [
    "1. Business Understanding\n",
    "Business Objectives - develope new PEP(Personal Equity Plan) for non PEP users\n",
    "Analytics Goal\n",
    "PEP joiner prediction\n",
    "Users database\n",
    "\n",
    "2. Data Understanding\n",
    "Obtain data\n",
    "Analyse Obtained data\n",
    "\n",
    "3. Data Preparation\n",
    "Organize the data so it is functionable\n",
    "\n",
    "\n",
    "4. Modeling\n",
    "Train and Test\n",
    "\n",
    "5. Evaluation\n",
    "Get results - by using Algorithms \n",
    "\n",
    "6. Deployment\n",
    "Use the data in the field.\n"
   ]
  },
  {
   "cell_type": "code",
   "execution_count": 1,
   "metadata": {},
   "outputs": [],
   "source": [
    "import pandas as pd\n",
    "from pandas import Series, DataFrame\n",
    "import numpy as np\n",
    "import matplotlib.pyplot as plt\n",
    "%matplotlib inline"
   ]
  },
  {
   "cell_type": "code",
   "execution_count": 2,
   "metadata": {},
   "outputs": [
    {
     "data": {
      "text/html": [
       "<div>\n",
       "<style scoped>\n",
       "    .dataframe tbody tr th:only-of-type {\n",
       "        vertical-align: middle;\n",
       "    }\n",
       "\n",
       "    .dataframe tbody tr th {\n",
       "        vertical-align: top;\n",
       "    }\n",
       "\n",
       "    .dataframe thead th {\n",
       "        text-align: right;\n",
       "    }\n",
       "</style>\n",
       "<table border=\"1\" class=\"dataframe\">\n",
       "  <thead>\n",
       "    <tr style=\"text-align: right;\">\n",
       "      <th></th>\n",
       "      <th>id</th>\n",
       "      <th>age</th>\n",
       "      <th>sex</th>\n",
       "      <th>region</th>\n",
       "      <th>income</th>\n",
       "      <th>married</th>\n",
       "      <th>children</th>\n",
       "      <th>car</th>\n",
       "      <th>save_act</th>\n",
       "      <th>current_act</th>\n",
       "      <th>mortgage</th>\n",
       "      <th>pep</th>\n",
       "    </tr>\n",
       "  </thead>\n",
       "  <tbody>\n",
       "    <tr>\n",
       "      <th>0</th>\n",
       "      <td>ID12101</td>\n",
       "      <td>48.0</td>\n",
       "      <td>0</td>\n",
       "      <td>0</td>\n",
       "      <td>17546.00</td>\n",
       "      <td>0</td>\n",
       "      <td>1</td>\n",
       "      <td>0</td>\n",
       "      <td>0</td>\n",
       "      <td>0</td>\n",
       "      <td>0</td>\n",
       "      <td>1</td>\n",
       "    </tr>\n",
       "    <tr>\n",
       "      <th>1</th>\n",
       "      <td>ID12102</td>\n",
       "      <td>40.0</td>\n",
       "      <td>1</td>\n",
       "      <td>3</td>\n",
       "      <td>30085.10</td>\n",
       "      <td>1</td>\n",
       "      <td>3</td>\n",
       "      <td>1</td>\n",
       "      <td>0</td>\n",
       "      <td>1</td>\n",
       "      <td>1</td>\n",
       "      <td>0</td>\n",
       "    </tr>\n",
       "    <tr>\n",
       "      <th>2</th>\n",
       "      <td>ID12103</td>\n",
       "      <td>NaN</td>\n",
       "      <td>0</td>\n",
       "      <td>0</td>\n",
       "      <td>16575.40</td>\n",
       "      <td>1</td>\n",
       "      <td>0</td>\n",
       "      <td>1</td>\n",
       "      <td>1</td>\n",
       "      <td>1</td>\n",
       "      <td>0</td>\n",
       "      <td>0</td>\n",
       "    </tr>\n",
       "    <tr>\n",
       "      <th>3</th>\n",
       "      <td>ID12104</td>\n",
       "      <td>23.0</td>\n",
       "      <td>0</td>\n",
       "      <td>3</td>\n",
       "      <td>20375.40</td>\n",
       "      <td>1</td>\n",
       "      <td>3</td>\n",
       "      <td>0</td>\n",
       "      <td>0</td>\n",
       "      <td>1</td>\n",
       "      <td>0</td>\n",
       "      <td>0</td>\n",
       "    </tr>\n",
       "    <tr>\n",
       "      <th>4</th>\n",
       "      <td>ID12105</td>\n",
       "      <td>57.0</td>\n",
       "      <td>0</td>\n",
       "      <td>1</td>\n",
       "      <td>50576.30</td>\n",
       "      <td>1</td>\n",
       "      <td>0</td>\n",
       "      <td>0</td>\n",
       "      <td>1</td>\n",
       "      <td>0</td>\n",
       "      <td>0</td>\n",
       "      <td>0</td>\n",
       "    </tr>\n",
       "    <tr>\n",
       "      <th>...</th>\n",
       "      <td>...</td>\n",
       "      <td>...</td>\n",
       "      <td>...</td>\n",
       "      <td>...</td>\n",
       "      <td>...</td>\n",
       "      <td>...</td>\n",
       "      <td>...</td>\n",
       "      <td>...</td>\n",
       "      <td>...</td>\n",
       "      <td>...</td>\n",
       "      <td>...</td>\n",
       "      <td>...</td>\n",
       "    </tr>\n",
       "    <tr>\n",
       "      <th>595</th>\n",
       "      <td>ID12696</td>\n",
       "      <td>61.0</td>\n",
       "      <td>0</td>\n",
       "      <td>0</td>\n",
       "      <td>47025.00</td>\n",
       "      <td>0</td>\n",
       "      <td>2</td>\n",
       "      <td>1</td>\n",
       "      <td>1</td>\n",
       "      <td>1</td>\n",
       "      <td>1</td>\n",
       "      <td>0</td>\n",
       "    </tr>\n",
       "    <tr>\n",
       "      <th>596</th>\n",
       "      <td>ID12697</td>\n",
       "      <td>30.0</td>\n",
       "      <td>0</td>\n",
       "      <td>0</td>\n",
       "      <td>9672.25</td>\n",
       "      <td>1</td>\n",
       "      <td>0</td>\n",
       "      <td>1</td>\n",
       "      <td>1</td>\n",
       "      <td>1</td>\n",
       "      <td>0</td>\n",
       "      <td>0</td>\n",
       "    </tr>\n",
       "    <tr>\n",
       "      <th>597</th>\n",
       "      <td>ID12698</td>\n",
       "      <td>31.0</td>\n",
       "      <td>0</td>\n",
       "      <td>3</td>\n",
       "      <td>15976.30</td>\n",
       "      <td>1</td>\n",
       "      <td>0</td>\n",
       "      <td>1</td>\n",
       "      <td>1</td>\n",
       "      <td>0</td>\n",
       "      <td>0</td>\n",
       "      <td>1</td>\n",
       "    </tr>\n",
       "    <tr>\n",
       "      <th>598</th>\n",
       "      <td>ID12699</td>\n",
       "      <td>29.0</td>\n",
       "      <td>1</td>\n",
       "      <td>0</td>\n",
       "      <td>14711.80</td>\n",
       "      <td>1</td>\n",
       "      <td>0</td>\n",
       "      <td>0</td>\n",
       "      <td>1</td>\n",
       "      <td>0</td>\n",
       "      <td>1</td>\n",
       "      <td>0</td>\n",
       "    </tr>\n",
       "    <tr>\n",
       "      <th>599</th>\n",
       "      <td>ID12700</td>\n",
       "      <td>NaN</td>\n",
       "      <td>1</td>\n",
       "      <td>3</td>\n",
       "      <td>26671.60</td>\n",
       "      <td>0</td>\n",
       "      <td>0</td>\n",
       "      <td>1</td>\n",
       "      <td>0</td>\n",
       "      <td>1</td>\n",
       "      <td>1</td>\n",
       "      <td>1</td>\n",
       "    </tr>\n",
       "  </tbody>\n",
       "</table>\n",
       "<p>600 rows × 12 columns</p>\n",
       "</div>"
      ],
      "text/plain": [
       "          id   age  sex  region    income  married  children  car  save_act  \\\n",
       "0    ID12101  48.0    0       0  17546.00        0         1    0         0   \n",
       "1    ID12102  40.0    1       3  30085.10        1         3    1         0   \n",
       "2    ID12103   NaN    0       0  16575.40        1         0    1         1   \n",
       "3    ID12104  23.0    0       3  20375.40        1         3    0         0   \n",
       "4    ID12105  57.0    0       1  50576.30        1         0    0         1   \n",
       "..       ...   ...  ...     ...       ...      ...       ...  ...       ...   \n",
       "595  ID12696  61.0    0       0  47025.00        0         2    1         1   \n",
       "596  ID12697  30.0    0       0   9672.25        1         0    1         1   \n",
       "597  ID12698  31.0    0       3  15976.30        1         0    1         1   \n",
       "598  ID12699  29.0    1       0  14711.80        1         0    0         1   \n",
       "599  ID12700   NaN    1       3  26671.60        0         0    1         0   \n",
       "\n",
       "     current_act  mortgage  pep  \n",
       "0              0         0    1  \n",
       "1              1         1    0  \n",
       "2              1         0    0  \n",
       "3              1         0    0  \n",
       "4              0         0    0  \n",
       "..           ...       ...  ...  \n",
       "595            1         1    0  \n",
       "596            1         0    0  \n",
       "597            0         0    1  \n",
       "598            0         1    0  \n",
       "599            1         1    1  \n",
       "\n",
       "[600 rows x 12 columns]"
      ]
     },
     "execution_count": 2,
     "metadata": {},
     "output_type": "execute_result"
    }
   ],
   "source": [
    "# collected data\n",
    "df = pd.read_csv(\"data_pepTestCustomers.csv\")\n",
    "df"
   ]
  },
  {
   "cell_type": "code",
   "execution_count": 3,
   "metadata": {},
   "outputs": [
    {
     "data": {
      "text/html": [
       "<div>\n",
       "<style scoped>\n",
       "    .dataframe tbody tr th:only-of-type {\n",
       "        vertical-align: middle;\n",
       "    }\n",
       "\n",
       "    .dataframe tbody tr th {\n",
       "        vertical-align: top;\n",
       "    }\n",
       "\n",
       "    .dataframe thead th {\n",
       "        text-align: right;\n",
       "    }\n",
       "</style>\n",
       "<table border=\"1\" class=\"dataframe\">\n",
       "  <thead>\n",
       "    <tr style=\"text-align: right;\">\n",
       "      <th></th>\n",
       "      <th>id</th>\n",
       "      <th>age</th>\n",
       "      <th>sex</th>\n",
       "      <th>region</th>\n",
       "      <th>income</th>\n",
       "      <th>married</th>\n",
       "      <th>children</th>\n",
       "      <th>car</th>\n",
       "      <th>save_act</th>\n",
       "      <th>current_act</th>\n",
       "      <th>mortgage</th>\n",
       "    </tr>\n",
       "  </thead>\n",
       "  <tbody>\n",
       "    <tr>\n",
       "      <th>0</th>\n",
       "      <td>ID12701</td>\n",
       "      <td>23</td>\n",
       "      <td>1</td>\n",
       "      <td>0</td>\n",
       "      <td>18766.90</td>\n",
       "      <td>1</td>\n",
       "      <td>0</td>\n",
       "      <td>1</td>\n",
       "      <td>1</td>\n",
       "      <td>0</td>\n",
       "      <td>1</td>\n",
       "    </tr>\n",
       "    <tr>\n",
       "      <th>1</th>\n",
       "      <td>ID12702</td>\n",
       "      <td>30</td>\n",
       "      <td>1</td>\n",
       "      <td>1</td>\n",
       "      <td>9915.67</td>\n",
       "      <td>0</td>\n",
       "      <td>1</td>\n",
       "      <td>0</td>\n",
       "      <td>1</td>\n",
       "      <td>0</td>\n",
       "      <td>1</td>\n",
       "    </tr>\n",
       "    <tr>\n",
       "      <th>2</th>\n",
       "      <td>ID12703</td>\n",
       "      <td>45</td>\n",
       "      <td>0</td>\n",
       "      <td>1</td>\n",
       "      <td>21881.60</td>\n",
       "      <td>0</td>\n",
       "      <td>0</td>\n",
       "      <td>1</td>\n",
       "      <td>1</td>\n",
       "      <td>1</td>\n",
       "      <td>0</td>\n",
       "    </tr>\n",
       "    <tr>\n",
       "      <th>3</th>\n",
       "      <td>ID12704</td>\n",
       "      <td>50</td>\n",
       "      <td>1</td>\n",
       "      <td>3</td>\n",
       "      <td>46794.40</td>\n",
       "      <td>1</td>\n",
       "      <td>2</td>\n",
       "      <td>0</td>\n",
       "      <td>1</td>\n",
       "      <td>0</td>\n",
       "      <td>1</td>\n",
       "    </tr>\n",
       "    <tr>\n",
       "      <th>4</th>\n",
       "      <td>ID12705</td>\n",
       "      <td>41</td>\n",
       "      <td>0</td>\n",
       "      <td>0</td>\n",
       "      <td>20721.10</td>\n",
       "      <td>1</td>\n",
       "      <td>0</td>\n",
       "      <td>1</td>\n",
       "      <td>1</td>\n",
       "      <td>1</td>\n",
       "      <td>0</td>\n",
       "    </tr>\n",
       "  </tbody>\n",
       "</table>\n",
       "</div>"
      ],
      "text/plain": [
       "        id  age  sex  region    income  married  children  car  save_act  \\\n",
       "0  ID12701   23    1       0  18766.90        1         0    1         1   \n",
       "1  ID12702   30    1       1   9915.67        0         1    0         1   \n",
       "2  ID12703   45    0       1  21881.60        0         0    1         1   \n",
       "3  ID12704   50    1       3  46794.40        1         2    0         1   \n",
       "4  ID12705   41    0       0  20721.10        1         0    1         1   \n",
       "\n",
       "   current_act  mortgage  \n",
       "0            0         1  \n",
       "1            0         1  \n",
       "2            1         0  \n",
       "3            0         1  \n",
       "4            1         0  "
      ]
     },
     "execution_count": 3,
     "metadata": {},
     "output_type": "execute_result"
    }
   ],
   "source": [
    "# For deployment\n",
    "new = pd.read_csv(\"data_pepNewCustomers.csv\")\n",
    "new.head()"
   ]
  },
  {
   "cell_type": "code",
   "execution_count": 4,
   "metadata": {},
   "outputs": [
    {
     "name": "stdout",
     "output_type": "stream",
     "text": [
      "<class 'pandas.core.frame.DataFrame'>\n",
      "RangeIndex: 600 entries, 0 to 599\n",
      "Data columns (total 12 columns):\n",
      " #   Column       Non-Null Count  Dtype  \n",
      "---  ------       --------------  -----  \n",
      " 0   id           600 non-null    object \n",
      " 1   age          540 non-null    float64\n",
      " 2   sex          600 non-null    int64  \n",
      " 3   region       600 non-null    int64  \n",
      " 4   income       600 non-null    float64\n",
      " 5   married      600 non-null    int64  \n",
      " 6   children     600 non-null    int64  \n",
      " 7   car          600 non-null    int64  \n",
      " 8   save_act     600 non-null    int64  \n",
      " 9   current_act  600 non-null    int64  \n",
      " 10  mortgage     600 non-null    int64  \n",
      " 11  pep          600 non-null    int64  \n",
      "dtypes: float64(2), int64(9), object(1)\n",
      "memory usage: 56.4+ KB\n"
     ]
    }
   ],
   "source": [
    "df.info()\n",
    "# age 60개 비여있다"
   ]
  },
  {
   "cell_type": "code",
   "execution_count": 5,
   "metadata": {},
   "outputs": [
    {
     "data": {
      "text/html": [
       "<div>\n",
       "<style scoped>\n",
       "    .dataframe tbody tr th:only-of-type {\n",
       "        vertical-align: middle;\n",
       "    }\n",
       "\n",
       "    .dataframe tbody tr th {\n",
       "        vertical-align: top;\n",
       "    }\n",
       "\n",
       "    .dataframe thead th {\n",
       "        text-align: right;\n",
       "    }\n",
       "</style>\n",
       "<table border=\"1\" class=\"dataframe\">\n",
       "  <thead>\n",
       "    <tr style=\"text-align: right;\">\n",
       "      <th></th>\n",
       "      <th>age</th>\n",
       "      <th>sex</th>\n",
       "      <th>region</th>\n",
       "      <th>income</th>\n",
       "      <th>married</th>\n",
       "      <th>children</th>\n",
       "      <th>car</th>\n",
       "      <th>save_act</th>\n",
       "      <th>current_act</th>\n",
       "      <th>mortgage</th>\n",
       "      <th>pep</th>\n",
       "    </tr>\n",
       "  </thead>\n",
       "  <tbody>\n",
       "    <tr>\n",
       "      <th>count</th>\n",
       "      <td>540.000000</td>\n",
       "      <td>600.000000</td>\n",
       "      <td>600.000000</td>\n",
       "      <td>600.000000</td>\n",
       "      <td>600.000000</td>\n",
       "      <td>600.000000</td>\n",
       "      <td>600.000000</td>\n",
       "      <td>600.000000</td>\n",
       "      <td>600.000000</td>\n",
       "      <td>600.000000</td>\n",
       "      <td>600.000000</td>\n",
       "    </tr>\n",
       "    <tr>\n",
       "      <th>mean</th>\n",
       "      <td>42.662963</td>\n",
       "      <td>0.500000</td>\n",
       "      <td>1.231667</td>\n",
       "      <td>27619.973883</td>\n",
       "      <td>0.660000</td>\n",
       "      <td>1.011667</td>\n",
       "      <td>0.493333</td>\n",
       "      <td>0.690000</td>\n",
       "      <td>0.758333</td>\n",
       "      <td>0.348333</td>\n",
       "      <td>0.456667</td>\n",
       "    </tr>\n",
       "    <tr>\n",
       "      <th>std</th>\n",
       "      <td>14.299387</td>\n",
       "      <td>0.500417</td>\n",
       "      <td>1.286113</td>\n",
       "      <td>13187.408966</td>\n",
       "      <td>0.474104</td>\n",
       "      <td>1.056752</td>\n",
       "      <td>0.500373</td>\n",
       "      <td>0.462879</td>\n",
       "      <td>0.428451</td>\n",
       "      <td>0.476840</td>\n",
       "      <td>0.498534</td>\n",
       "    </tr>\n",
       "    <tr>\n",
       "      <th>min</th>\n",
       "      <td>18.000000</td>\n",
       "      <td>0.000000</td>\n",
       "      <td>0.000000</td>\n",
       "      <td>5014.210000</td>\n",
       "      <td>0.000000</td>\n",
       "      <td>0.000000</td>\n",
       "      <td>0.000000</td>\n",
       "      <td>0.000000</td>\n",
       "      <td>0.000000</td>\n",
       "      <td>0.000000</td>\n",
       "      <td>0.000000</td>\n",
       "    </tr>\n",
       "    <tr>\n",
       "      <th>25%</th>\n",
       "      <td>31.000000</td>\n",
       "      <td>0.000000</td>\n",
       "      <td>0.000000</td>\n",
       "      <td>17264.500000</td>\n",
       "      <td>0.000000</td>\n",
       "      <td>0.000000</td>\n",
       "      <td>0.000000</td>\n",
       "      <td>0.000000</td>\n",
       "      <td>1.000000</td>\n",
       "      <td>0.000000</td>\n",
       "      <td>0.000000</td>\n",
       "    </tr>\n",
       "    <tr>\n",
       "      <th>50%</th>\n",
       "      <td>42.500000</td>\n",
       "      <td>0.500000</td>\n",
       "      <td>1.000000</td>\n",
       "      <td>24925.300000</td>\n",
       "      <td>1.000000</td>\n",
       "      <td>1.000000</td>\n",
       "      <td>0.000000</td>\n",
       "      <td>1.000000</td>\n",
       "      <td>1.000000</td>\n",
       "      <td>0.000000</td>\n",
       "      <td>0.000000</td>\n",
       "    </tr>\n",
       "    <tr>\n",
       "      <th>75%</th>\n",
       "      <td>56.000000</td>\n",
       "      <td>1.000000</td>\n",
       "      <td>3.000000</td>\n",
       "      <td>36172.675000</td>\n",
       "      <td>1.000000</td>\n",
       "      <td>2.000000</td>\n",
       "      <td>1.000000</td>\n",
       "      <td>1.000000</td>\n",
       "      <td>1.000000</td>\n",
       "      <td>1.000000</td>\n",
       "      <td>1.000000</td>\n",
       "    </tr>\n",
       "    <tr>\n",
       "      <th>max</th>\n",
       "      <td>67.000000</td>\n",
       "      <td>1.000000</td>\n",
       "      <td>3.000000</td>\n",
       "      <td>95435.200000</td>\n",
       "      <td>1.000000</td>\n",
       "      <td>3.000000</td>\n",
       "      <td>1.000000</td>\n",
       "      <td>1.000000</td>\n",
       "      <td>1.000000</td>\n",
       "      <td>1.000000</td>\n",
       "      <td>1.000000</td>\n",
       "    </tr>\n",
       "  </tbody>\n",
       "</table>\n",
       "</div>"
      ],
      "text/plain": [
       "              age         sex      region        income     married  \\\n",
       "count  540.000000  600.000000  600.000000    600.000000  600.000000   \n",
       "mean    42.662963    0.500000    1.231667  27619.973883    0.660000   \n",
       "std     14.299387    0.500417    1.286113  13187.408966    0.474104   \n",
       "min     18.000000    0.000000    0.000000   5014.210000    0.000000   \n",
       "25%     31.000000    0.000000    0.000000  17264.500000    0.000000   \n",
       "50%     42.500000    0.500000    1.000000  24925.300000    1.000000   \n",
       "75%     56.000000    1.000000    3.000000  36172.675000    1.000000   \n",
       "max     67.000000    1.000000    3.000000  95435.200000    1.000000   \n",
       "\n",
       "         children         car    save_act  current_act    mortgage         pep  \n",
       "count  600.000000  600.000000  600.000000   600.000000  600.000000  600.000000  \n",
       "mean     1.011667    0.493333    0.690000     0.758333    0.348333    0.456667  \n",
       "std      1.056752    0.500373    0.462879     0.428451    0.476840    0.498534  \n",
       "min      0.000000    0.000000    0.000000     0.000000    0.000000    0.000000  \n",
       "25%      0.000000    0.000000    0.000000     1.000000    0.000000    0.000000  \n",
       "50%      1.000000    0.000000    1.000000     1.000000    0.000000    0.000000  \n",
       "75%      2.000000    1.000000    1.000000     1.000000    1.000000    1.000000  \n",
       "max      3.000000    1.000000    1.000000     1.000000    1.000000    1.000000  "
      ]
     },
     "execution_count": 5,
     "metadata": {},
     "output_type": "execute_result"
    }
   ],
   "source": [
    "# 수치형 속성의 요약통계 보기\n",
    "df.describe()"
   ]
  },
  {
   "cell_type": "code",
   "execution_count": 6,
   "metadata": {},
   "outputs": [
    {
     "data": {
      "text/plain": [
       "array([[<matplotlib.axes._subplots.AxesSubplot object at 0x00000200278317C8>,\n",
       "        <matplotlib.axes._subplots.AxesSubplot object at 0x0000020027B12E48>,\n",
       "        <matplotlib.axes._subplots.AxesSubplot object at 0x0000020027B4FE08>],\n",
       "       [<matplotlib.axes._subplots.AxesSubplot object at 0x0000020027B86F08>,\n",
       "        <matplotlib.axes._subplots.AxesSubplot object at 0x0000020027BBDFC8>,\n",
       "        <matplotlib.axes._subplots.AxesSubplot object at 0x0000020027BFA148>],\n",
       "       [<matplotlib.axes._subplots.AxesSubplot object at 0x0000020027C38EC8>,\n",
       "        <matplotlib.axes._subplots.AxesSubplot object at 0x0000020027C6B348>,\n",
       "        <matplotlib.axes._subplots.AxesSubplot object at 0x0000020027C77348>],\n",
       "       [<matplotlib.axes._subplots.AxesSubplot object at 0x0000020027CAF548>,\n",
       "        <matplotlib.axes._subplots.AxesSubplot object at 0x0000020027D155C8>,\n",
       "        <matplotlib.axes._subplots.AxesSubplot object at 0x0000020027D4D708>]],\n",
       "      dtype=object)"
      ]
     },
     "execution_count": 6,
     "metadata": {},
     "output_type": "execute_result"
    },
    {
     "data": {
      "image/png": "[encoded data removed]",
      "text/plain": [
       "<Figure size 1440x1080 with 12 Axes>"
      ]
     },
     "metadata": {
      "needs_background": "light"
     },
     "output_type": "display_data"
    }
   ],
   "source": [
    "# 모든 수치형 속성에 대한 히스토그램 한꺼번에 그리기\n",
    "# 숫치형은 age와 income 나머지는 범주형이라 볼 수 있다\n",
    "# bins = 30 은 x축을 30개로 쪼개라\n",
    "df.hist(bins=30, figsize=(20,15))"
   ]
  },
  {
   "cell_type": "code",
   "execution_count": 7,
   "metadata": {},
   "outputs": [
    {
     "data": {
      "text/plain": [
       "(600, 12)"
      ]
     },
     "metadata": {},
     "output_type": "display_data"
    },
    {
     "data": {
      "text/plain": [
       "(200, 11)"
      ]
     },
     "metadata": {},
     "output_type": "display_data"
    }
   ],
   "source": [
    "# 모형을 적용할 new 데이터에는 class 필드(즉, pep)가 없다.\n",
    "display(df.shape) \n",
    "display(new.shape)"
   ]
  },
  {
   "cell_type": "code",
   "execution_count": 8,
   "metadata": {},
   "outputs": [
    {
     "data": {
      "text/plain": [
       "(200, 11)"
      ]
     },
     "execution_count": 8,
     "metadata": {},
     "output_type": "execute_result"
    }
   ],
   "source": [
    "df.shape\n",
    "new.shape"
   ]
  },
  {
   "cell_type": "code",
   "execution_count": 9,
   "metadata": {},
   "outputs": [
    {
     "data": {
      "text/html": [
       "<div>\n",
       "<style scoped>\n",
       "    .dataframe tbody tr th:only-of-type {\n",
       "        vertical-align: middle;\n",
       "    }\n",
       "\n",
       "    .dataframe tbody tr th {\n",
       "        vertical-align: top;\n",
       "    }\n",
       "\n",
       "    .dataframe thead th {\n",
       "        text-align: right;\n",
       "    }\n",
       "</style>\n",
       "<table border=\"1\" class=\"dataframe\">\n",
       "  <thead>\n",
       "    <tr style=\"text-align: right;\">\n",
       "      <th></th>\n",
       "      <th>age</th>\n",
       "      <th>sex</th>\n",
       "      <th>region</th>\n",
       "      <th>income</th>\n",
       "      <th>married</th>\n",
       "      <th>children</th>\n",
       "      <th>car</th>\n",
       "      <th>save_act</th>\n",
       "      <th>current_act</th>\n",
       "      <th>mortgage</th>\n",
       "      <th>pep</th>\n",
       "    </tr>\n",
       "  </thead>\n",
       "  <tbody>\n",
       "    <tr>\n",
       "      <th>age</th>\n",
       "      <td>1.000000</td>\n",
       "      <td>-0.127984</td>\n",
       "      <td>0.025891</td>\n",
       "      <td>0.743619</td>\n",
       "      <td>0.017157</td>\n",
       "      <td>0.023944</td>\n",
       "      <td>0.068454</td>\n",
       "      <td>0.171417</td>\n",
       "      <td>-0.035449</td>\n",
       "      <td>-0.030696</td>\n",
       "      <td>0.193604</td>\n",
       "    </tr>\n",
       "    <tr>\n",
       "      <th>sex</th>\n",
       "      <td>-0.127984</td>\n",
       "      <td>1.000000</td>\n",
       "      <td>-0.035018</td>\n",
       "      <td>-0.030606</td>\n",
       "      <td>0.021110</td>\n",
       "      <td>-0.014206</td>\n",
       "      <td>0.006667</td>\n",
       "      <td>0.007207</td>\n",
       "      <td>-0.019466</td>\n",
       "      <td>0.066465</td>\n",
       "      <td>0.046843</td>\n",
       "    </tr>\n",
       "    <tr>\n",
       "      <th>region</th>\n",
       "      <td>0.025891</td>\n",
       "      <td>-0.035018</td>\n",
       "      <td>1.000000</td>\n",
       "      <td>0.009813</td>\n",
       "      <td>0.006188</td>\n",
       "      <td>0.011520</td>\n",
       "      <td>0.021860</td>\n",
       "      <td>0.084382</td>\n",
       "      <td>-0.013356</td>\n",
       "      <td>0.026083</td>\n",
       "      <td>-0.027279</td>\n",
       "    </tr>\n",
       "    <tr>\n",
       "      <th>income</th>\n",
       "      <td>0.743619</td>\n",
       "      <td>-0.030606</td>\n",
       "      <td>0.009813</td>\n",
       "      <td>1.000000</td>\n",
       "      <td>-0.002977</td>\n",
       "      <td>0.042774</td>\n",
       "      <td>0.072590</td>\n",
       "      <td>0.265233</td>\n",
       "      <td>0.035036</td>\n",
       "      <td>-0.019666</td>\n",
       "      <td>0.225086</td>\n",
       "    </tr>\n",
       "    <tr>\n",
       "      <th>married</th>\n",
       "      <td>0.017157</td>\n",
       "      <td>0.021110</td>\n",
       "      <td>0.006188</td>\n",
       "      <td>-0.002977</td>\n",
       "      <td>1.000000</td>\n",
       "      <td>-0.048716</td>\n",
       "      <td>-0.009571</td>\n",
       "      <td>0.028604</td>\n",
       "      <td>-0.059996</td>\n",
       "      <td>-0.021711</td>\n",
       "      <td>-0.189578</td>\n",
       "    </tr>\n",
       "    <tr>\n",
       "      <th>children</th>\n",
       "      <td>0.023944</td>\n",
       "      <td>-0.014206</td>\n",
       "      <td>0.011520</td>\n",
       "      <td>0.042774</td>\n",
       "      <td>-0.048716</td>\n",
       "      <td>1.000000</td>\n",
       "      <td>0.036455</td>\n",
       "      <td>0.041536</td>\n",
       "      <td>0.006238</td>\n",
       "      <td>-0.074339</td>\n",
       "      <td>-0.057663</td>\n",
       "    </tr>\n",
       "    <tr>\n",
       "      <th>car</th>\n",
       "      <td>0.068454</td>\n",
       "      <td>0.006667</td>\n",
       "      <td>0.021860</td>\n",
       "      <td>0.072590</td>\n",
       "      <td>-0.009571</td>\n",
       "      <td>0.036455</td>\n",
       "      <td>1.000000</td>\n",
       "      <td>0.034310</td>\n",
       "      <td>-0.034783</td>\n",
       "      <td>-0.007743</td>\n",
       "      <td>0.018917</td>\n",
       "    </tr>\n",
       "    <tr>\n",
       "      <th>save_act</th>\n",
       "      <td>0.171417</td>\n",
       "      <td>0.007207</td>\n",
       "      <td>0.084382</td>\n",
       "      <td>0.265233</td>\n",
       "      <td>0.028604</td>\n",
       "      <td>0.041536</td>\n",
       "      <td>0.034310</td>\n",
       "      <td>1.000000</td>\n",
       "      <td>0.042511</td>\n",
       "      <td>-0.001588</td>\n",
       "      <td>-0.072779</td>\n",
       "    </tr>\n",
       "    <tr>\n",
       "      <th>current_act</th>\n",
       "      <td>-0.035449</td>\n",
       "      <td>-0.019466</td>\n",
       "      <td>-0.013356</td>\n",
       "      <td>0.035036</td>\n",
       "      <td>-0.059996</td>\n",
       "      <td>0.006238</td>\n",
       "      <td>-0.034783</td>\n",
       "      <td>0.042511</td>\n",
       "      <td>1.000000</td>\n",
       "      <td>-0.036704</td>\n",
       "      <td>0.025141</td>\n",
       "    </tr>\n",
       "    <tr>\n",
       "      <th>mortgage</th>\n",
       "      <td>-0.030696</td>\n",
       "      <td>0.066465</td>\n",
       "      <td>0.026083</td>\n",
       "      <td>-0.019666</td>\n",
       "      <td>-0.021711</td>\n",
       "      <td>-0.074339</td>\n",
       "      <td>-0.007743</td>\n",
       "      <td>-0.001588</td>\n",
       "      <td>-0.036704</td>\n",
       "      <td>1.000000</td>\n",
       "      <td>-0.024182</td>\n",
       "    </tr>\n",
       "    <tr>\n",
       "      <th>pep</th>\n",
       "      <td>0.193604</td>\n",
       "      <td>0.046843</td>\n",
       "      <td>-0.027279</td>\n",
       "      <td>0.225086</td>\n",
       "      <td>-0.189578</td>\n",
       "      <td>-0.057663</td>\n",
       "      <td>0.018917</td>\n",
       "      <td>-0.072779</td>\n",
       "      <td>0.025141</td>\n",
       "      <td>-0.024182</td>\n",
       "      <td>1.000000</td>\n",
       "    </tr>\n",
       "  </tbody>\n",
       "</table>\n",
       "</div>"
      ],
      "text/plain": [
       "                  age       sex    region    income   married  children  \\\n",
       "age          1.000000 -0.127984  0.025891  0.743619  0.017157  0.023944   \n",
       "sex         -0.127984  1.000000 -0.035018 -0.030606  0.021110 -0.014206   \n",
       "region       0.025891 -0.035018  1.000000  0.009813  0.006188  0.011520   \n",
       "income       0.743619 -0.030606  0.009813  1.000000 -0.002977  0.042774   \n",
       "married      0.017157  0.021110  0.006188 -0.002977  1.000000 -0.048716   \n",
       "children     0.023944 -0.014206  0.011520  0.042774 -0.048716  1.000000   \n",
       "car          0.068454  0.006667  0.021860  0.072590 -0.009571  0.036455   \n",
       "save_act     0.171417  0.007207  0.084382  0.265233  0.028604  0.041536   \n",
       "current_act -0.035449 -0.019466 -0.013356  0.035036 -0.059996  0.006238   \n",
       "mortgage    -0.030696  0.066465  0.026083 -0.019666 -0.021711 -0.074339   \n",
       "pep          0.193604  0.046843 -0.027279  0.225086 -0.189578 -0.057663   \n",
       "\n",
       "                  car  save_act  current_act  mortgage       pep  \n",
       "age          0.068454  0.171417    -0.035449 -0.030696  0.193604  \n",
       "sex          0.006667  0.007207    -0.019466  0.066465  0.046843  \n",
       "region       0.021860  0.084382    -0.013356  0.026083 -0.027279  \n",
       "income       0.072590  0.265233     0.035036 -0.019666  0.225086  \n",
       "married     -0.009571  0.028604    -0.059996 -0.021711 -0.189578  \n",
       "children     0.036455  0.041536     0.006238 -0.074339 -0.057663  \n",
       "car          1.000000  0.034310    -0.034783 -0.007743  0.018917  \n",
       "save_act     0.034310  1.000000     0.042511 -0.001588 -0.072779  \n",
       "current_act -0.034783  0.042511     1.000000 -0.036704  0.025141  \n",
       "mortgage    -0.007743 -0.001588    -0.036704  1.000000 -0.024182  \n",
       "pep          0.018917 -0.072779     0.025141 -0.024182  1.000000  "
      ]
     },
     "execution_count": 9,
     "metadata": {},
     "output_type": "execute_result"
    }
   ],
   "source": [
    "# 속성 간 피어슨 상관계수 출력하기\n",
    "# 전체 수치형 데이터를 콜러에이션으로 보여 줌\n",
    "# 상관관계 예측변수를 줄여줌\n",
    "\n",
    "corr = df.corr() #어떤게 관게가 좋은지 보여줌\n",
    "corr # 1.000 은 재외, 왜냐면 나와 나 를 비교기때문. 의미 없다."
   ]
  },
  {
   "cell_type": "code",
   "execution_count": 10,
   "metadata": {},
   "outputs": [
    {
     "data": {
      "text/plain": [
       "<matplotlib.image.AxesImage at 0x200289b9c88>"
      ]
     },
     "execution_count": 10,
     "metadata": {},
     "output_type": "execute_result"
    },
    {
     "data": {
      "image/png": "[encoded data removed]",
      "text/plain": [
       "<Figure size 288x288 with 1 Axes>"
      ]
     },
     "metadata": {
      "needs_background": "light"
     },
     "output_type": "display_data"
    }
   ],
   "source": [
    "# 속성간 상관계수를 한눈에 파악하기 위해 그림으로 도식하기\n",
    "\n",
    "plt.matshow(corr)"
   ]
  },
  {
   "cell_type": "code",
   "execution_count": 11,
   "metadata": {},
   "outputs": [],
   "source": [
    "##상관계수 파이썬 시각화\n",
    "import seaborn as sns"
   ]
  },
  {
   "cell_type": "code",
   "execution_count": 12,
   "metadata": {},
   "outputs": [
    {
     "data": {
      "text/plain": [
       "<seaborn.matrix.ClusterGrid at 0x2002a8ea448>"
      ]
     },
     "execution_count": 12,
     "metadata": {},
     "output_type": "execute_result"
    },
    {
     "data": {
      "image/png": "[encoded data removed]",
      "text/plain": [
       "<Figure size 720x720 with 4 Axes>"
      ]
     },
     "metadata": {
      "needs_background": "light"
     },
     "output_type": "display_data"
    }
   ],
   "source": [
    "sns.clustermap(corr, \n",
    "               annot = True,      # 실제 값 화면에 나타내기\n",
    "               cmap = 'RdYlBu_r',  # Red, Yellow, Blue 색상으로 표시\n",
    "               vmin = -1, vmax = 1, #컬러차트 -1 ~ 1 범위로 표시\n",
    "              )"
   ]
  },
  {
   "cell_type": "code",
   "execution_count": 13,
   "metadata": {},
   "outputs": [
    {
     "data": {
      "text/plain": [
       "pep            1.000000\n",
       "income         0.225086\n",
       "age            0.193604\n",
       "sex            0.046843\n",
       "current_act    0.025141\n",
       "car            0.018917\n",
       "mortgage      -0.024182\n",
       "region        -0.027279\n",
       "children      -0.057663\n",
       "save_act      -0.072779\n",
       "married       -0.189578\n",
       "Name: pep, dtype: float64"
      ]
     },
     "execution_count": 13,
     "metadata": {},
     "output_type": "execute_result"
    }
   ],
   "source": [
    "# 클래스 변수인 pep와 각 속성간의 피어슨 상관계수를 내림차순으로 출력하기\n",
    "# pep 데이터 sorting\n",
    "\n",
    "corr.pep.sort_values(ascending=False)"
   ]
  },
  {
   "cell_type": "markdown",
   "metadata": {},
   "source": [
    "##### Detect Outliers #####\n",
    "<img align=\"left\" src=\"http://www.whatissixsigma.net/wp-content/uploads/2015/07/Box-Plot-Diagram-to-identify-Outliers-figure-1.png\" alt=\"Boxplot Outlier\">"
   ]
  },
  {
   "cell_type": "code",
   "execution_count": 14,
   "metadata": {},
   "outputs": [
    {
     "data": {
      "text/plain": [
       "age       AxesSubplot(0.125,0.536818;0.775x0.343182)\n",
       "income       AxesSubplot(0.125,0.125;0.775x0.343182)\n",
       "dtype: object"
      ]
     },
     "execution_count": 14,
     "metadata": {},
     "output_type": "execute_result"
    },
    {
     "data": {
      "image/png": "[encoded data removed]",
      "text/plain": [
       "<Figure size 360x360 with 2 Axes>"
      ]
     },
     "metadata": {
      "needs_background": "light"
     },
     "output_type": "display_data"
    }
   ],
   "source": [
    "# age와 income에 이상치가 있는지 Boxplot을 그려서 알아본다.\n",
    "# 이상치 발굴은 boxplot에서 박스 밖에 있는 점을 이상치(Outlier)로 본다.\n",
    "\n",
    "df.loc[:,['age','income']].plot.box(subplots=True, layout=(2,1), figsize=(5,5))"
   ]
  },
  {
   "cell_type": "code",
   "execution_count": 15,
   "metadata": {},
   "outputs": [],
   "source": [
    "# Data Preparation\n",
    "# Save original data \n",
    "# => 학습 데이터를 조작하다가 문제가 생겨 처음으로 되돌아 가려면 이 셀부터 다시 시작하세요 !!!\n",
    "# 데이터 원본 유지를 이해 copy를 사용\n",
    "\n",
    "mdf = df.copy()"
   ]
  },
  {
   "cell_type": "code",
   "execution_count": 16,
   "metadata": {},
   "outputs": [
    {
     "name": "stdout",
     "output_type": "stream",
     "text": [
      "<class 'pandas.core.frame.DataFrame'>\n",
      "RangeIndex: 600 entries, 0 to 599\n",
      "Data columns (total 12 columns):\n",
      " #   Column       Non-Null Count  Dtype  \n",
      "---  ------       --------------  -----  \n",
      " 0   id           600 non-null    object \n",
      " 1   age          540 non-null    float64\n",
      " 2   sex          600 non-null    int64  \n",
      " 3   region       600 non-null    int64  \n",
      " 4   income       600 non-null    float64\n",
      " 5   married      600 non-null    int64  \n",
      " 6   children     600 non-null    int64  \n",
      " 7   car          600 non-null    int64  \n",
      " 8   save_act     600 non-null    int64  \n",
      " 9   current_act  600 non-null    int64  \n",
      " 10  mortgage     600 non-null    int64  \n",
      " 11  pep          600 non-null    int64  \n",
      "dtypes: float64(2), int64(9), object(1)\n",
      "memory usage: 56.4+ KB\n"
     ]
    }
   ],
   "source": [
    "mdf.info()"
   ]
  },
  {
   "cell_type": "code",
   "execution_count": 17,
   "metadata": {},
   "outputs": [
    {
     "data": {
      "text/plain": [
       "42.662962962962965"
      ]
     },
     "metadata": {},
     "output_type": "display_data"
    },
    {
     "data": {
      "text/plain": [
       "40.0    19\n",
       "64.0    18\n",
       "58.0    17\n",
       "27.0    17\n",
       "43.0    17\n",
       "Name: age, dtype: int64"
      ]
     },
     "metadata": {},
     "output_type": "display_data"
    }
   ],
   "source": [
    "# 나이의 평균값과 나이별 발생빈도 계산하기\n",
    "# 채워넣을 땐 평균 또는 최빈값(가장 많이 나오는 값)을 쓴다\n",
    "\n",
    "display(mdf.age.mean())\n",
    "display(mdf.age.value_counts().head())\n",
    "# 평균나이 42.6\n",
    "#40살이 19명\n",
    "#64살이 18명\n",
    "# 등등"
   ]
  },
  {
   "cell_type": "code",
   "execution_count": 18,
   "metadata": {},
   "outputs": [
    {
     "name": "stdout",
     "output_type": "stream",
     "text": [
      "<class 'pandas.core.frame.DataFrame'>\n",
      "RangeIndex: 600 entries, 0 to 599\n",
      "Data columns (total 12 columns):\n",
      " #   Column       Non-Null Count  Dtype  \n",
      "---  ------       --------------  -----  \n",
      " 0   id           600 non-null    object \n",
      " 1   age          600 non-null    float64\n",
      " 2   sex          600 non-null    int64  \n",
      " 3   region       600 non-null    int64  \n",
      " 4   income       600 non-null    float64\n",
      " 5   married      600 non-null    int64  \n",
      " 6   children     600 non-null    int64  \n",
      " 7   car          600 non-null    int64  \n",
      " 8   save_act     600 non-null    int64  \n",
      " 9   current_act  600 non-null    int64  \n",
      " 10  mortgage     600 non-null    int64  \n",
      " 11  pep          600 non-null    int64  \n",
      "dtypes: float64(2), int64(9), object(1)\n",
      "memory usage: 56.4+ KB\n"
     ]
    }
   ],
   "source": [
    "# 평균값으로 결측값 대체하기\n",
    "# fillna 는 널값을 채우라. 여기서는 평균으로 채우고 있음.\n",
    "# 분석의 상황에 따라 null 값을 그대로 사용함.\n",
    " \n",
    "mdf.age.fillna(round(mdf.age.mean(),0), inplace=True)\n",
    "mdf.info()"
   ]
  },
  {
   "cell_type": "code",
   "execution_count": 19,
   "metadata": {},
   "outputs": [
    {
     "data": {
      "text/plain": [
       "42.696666666666665"
      ]
     },
     "metadata": {},
     "output_type": "display_data"
    },
    {
     "data": {
      "text/plain": [
       "43.0    77\n",
       "40.0    19\n",
       "64.0    18\n",
       "58.0    17\n",
       "27.0    17\n",
       "Name: age, dtype: int64"
      ]
     },
     "metadata": {},
     "output_type": "display_data"
    }
   ],
   "source": [
    "display(mdf.age.mean())\n",
    "display(mdf.age.value_counts().head())"
   ]
  },
  {
   "cell_type": "code",
   "execution_count": 20,
   "metadata": {},
   "outputs": [
    {
     "data": {
      "text/html": [
       "<div>\n",
       "<style scoped>\n",
       "    .dataframe tbody tr th:only-of-type {\n",
       "        vertical-align: middle;\n",
       "    }\n",
       "\n",
       "    .dataframe tbody tr th {\n",
       "        vertical-align: top;\n",
       "    }\n",
       "\n",
       "    .dataframe thead th {\n",
       "        text-align: right;\n",
       "    }\n",
       "</style>\n",
       "<table border=\"1\" class=\"dataframe\">\n",
       "  <thead>\n",
       "    <tr style=\"text-align: right;\">\n",
       "      <th></th>\n",
       "      <th>id</th>\n",
       "      <th>age</th>\n",
       "      <th>sex</th>\n",
       "      <th>region</th>\n",
       "      <th>income</th>\n",
       "      <th>married</th>\n",
       "      <th>children</th>\n",
       "      <th>car</th>\n",
       "      <th>save_act</th>\n",
       "      <th>current_act</th>\n",
       "      <th>mortgage</th>\n",
       "      <th>pep</th>\n",
       "      <th>realincome</th>\n",
       "    </tr>\n",
       "  </thead>\n",
       "  <tbody>\n",
       "    <tr>\n",
       "      <th>0</th>\n",
       "      <td>ID12101</td>\n",
       "      <td>48.0</td>\n",
       "      <td>0</td>\n",
       "      <td>0</td>\n",
       "      <td>17546.0</td>\n",
       "      <td>0</td>\n",
       "      <td>1</td>\n",
       "      <td>0</td>\n",
       "      <td>0</td>\n",
       "      <td>0</td>\n",
       "      <td>0</td>\n",
       "      <td>1</td>\n",
       "      <td>17546.000000</td>\n",
       "    </tr>\n",
       "    <tr>\n",
       "      <th>1</th>\n",
       "      <td>ID12102</td>\n",
       "      <td>40.0</td>\n",
       "      <td>1</td>\n",
       "      <td>3</td>\n",
       "      <td>30085.1</td>\n",
       "      <td>1</td>\n",
       "      <td>3</td>\n",
       "      <td>1</td>\n",
       "      <td>0</td>\n",
       "      <td>1</td>\n",
       "      <td>1</td>\n",
       "      <td>0</td>\n",
       "      <td>10028.366667</td>\n",
       "    </tr>\n",
       "    <tr>\n",
       "      <th>2</th>\n",
       "      <td>ID12103</td>\n",
       "      <td>43.0</td>\n",
       "      <td>0</td>\n",
       "      <td>0</td>\n",
       "      <td>16575.4</td>\n",
       "      <td>1</td>\n",
       "      <td>0</td>\n",
       "      <td>1</td>\n",
       "      <td>1</td>\n",
       "      <td>1</td>\n",
       "      <td>0</td>\n",
       "      <td>0</td>\n",
       "      <td>16575.400000</td>\n",
       "    </tr>\n",
       "    <tr>\n",
       "      <th>3</th>\n",
       "      <td>ID12104</td>\n",
       "      <td>23.0</td>\n",
       "      <td>0</td>\n",
       "      <td>3</td>\n",
       "      <td>20375.4</td>\n",
       "      <td>1</td>\n",
       "      <td>3</td>\n",
       "      <td>0</td>\n",
       "      <td>0</td>\n",
       "      <td>1</td>\n",
       "      <td>0</td>\n",
       "      <td>0</td>\n",
       "      <td>6791.800000</td>\n",
       "    </tr>\n",
       "    <tr>\n",
       "      <th>4</th>\n",
       "      <td>ID12105</td>\n",
       "      <td>57.0</td>\n",
       "      <td>0</td>\n",
       "      <td>1</td>\n",
       "      <td>50576.3</td>\n",
       "      <td>1</td>\n",
       "      <td>0</td>\n",
       "      <td>0</td>\n",
       "      <td>1</td>\n",
       "      <td>0</td>\n",
       "      <td>0</td>\n",
       "      <td>0</td>\n",
       "      <td>50576.300000</td>\n",
       "    </tr>\n",
       "  </tbody>\n",
       "</table>\n",
       "</div>"
      ],
      "text/plain": [
       "        id   age  sex  region   income  married  children  car  save_act  \\\n",
       "0  ID12101  48.0    0       0  17546.0        0         1    0         0   \n",
       "1  ID12102  40.0    1       3  30085.1        1         3    1         0   \n",
       "2  ID12103  43.0    0       0  16575.4        1         0    1         1   \n",
       "3  ID12104  23.0    0       3  20375.4        1         3    0         0   \n",
       "4  ID12105  57.0    0       1  50576.3        1         0    0         1   \n",
       "\n",
       "   current_act  mortgage  pep    realincome  \n",
       "0            0         0    1  17546.000000  \n",
       "1            1         1    0  10028.366667  \n",
       "2            1         0    0  16575.400000  \n",
       "3            1         0    0   6791.800000  \n",
       "4            0         0    0  50576.300000  "
      ]
     },
     "execution_count": 20,
     "metadata": {},
     "output_type": "execute_result"
    }
   ],
   "source": [
    "# Construct Data\n",
    "# 명목소득 보다 명목소득을 자녀수로 나눈 실질소득이 개인연금 가입에 더 유효한 속성이라고 가정하고 이를 구현\n",
    "# 자식에 따라 realincome 변수를 추가\n",
    "# 중요한 부분****** column 추가*** 예측하기 더 좋다**\n",
    "mdf['realincome'] = np.where(mdf['children']==0, mdf['income'], mdf['income']/mdf['children'])\n",
    "mdf.head()\n",
    "#np.where(mdf['children']==0 # 자녀가 없는건 따로 빼논다.\n",
    "#이런 파생변수를 잘 만들어야 됀다****"
   ]
  },
  {
   "cell_type": "code",
   "execution_count": 21,
   "metadata": {},
   "outputs": [],
   "source": [
    "# Select - Constructed DATA!*"
   ]
  },
  {
   "cell_type": "markdown",
   "metadata": {},
   "source": [
    "### Split Data ###\n",
    "<img align=\"left\" src=\"https://www.developer.com/imagesvr_ce/6793/ML4.png\" width=500 height=500 alt=\"Boxplot Outlier\">"
   ]
  },
  {
   "cell_type": "code",
   "execution_count": 22,
   "metadata": {},
   "outputs": [],
   "source": [
    "# for Hold-out validation\n",
    "\n",
    "from sklearn.model_selection import train_test_split"
   ]
  },
  {
   "cell_type": "code",
   "execution_count": 23,
   "metadata": {},
   "outputs": [],
   "source": [
    "# scikit-learn에서는 속성과 클래스를 분리하여야 한다.\n",
    "#X 값 - id 는 object 그리고 pep. 의미 없다 해서 뺌\n",
    "\n",
    "dfX = mdf.drop(['id','pep'], axis=1)  # exclude 'id' attribute & class variable\n",
    "dfy = mdf['pep']                    # class variable\n",
    "X_train, X_test, y_train, y_test = train_test_split(dfX, dfy, test_size=0.25, random_state=0)"
   ]
  },
  {
   "cell_type": "code",
   "execution_count": 24,
   "metadata": {},
   "outputs": [
    {
     "data": {
      "text/plain": [
       "(450, 11)"
      ]
     },
     "metadata": {},
     "output_type": "display_data"
    },
    {
     "data": {
      "text/plain": [
       "(150, 11)"
      ]
     },
     "metadata": {},
     "output_type": "display_data"
    },
    {
     "data": {
      "text/html": [
       "<div>\n",
       "<style scoped>\n",
       "    .dataframe tbody tr th:only-of-type {\n",
       "        vertical-align: middle;\n",
       "    }\n",
       "\n",
       "    .dataframe tbody tr th {\n",
       "        vertical-align: top;\n",
       "    }\n",
       "\n",
       "    .dataframe thead th {\n",
       "        text-align: right;\n",
       "    }\n",
       "</style>\n",
       "<table border=\"1\" class=\"dataframe\">\n",
       "  <thead>\n",
       "    <tr style=\"text-align: right;\">\n",
       "      <th></th>\n",
       "      <th>age</th>\n",
       "      <th>sex</th>\n",
       "      <th>region</th>\n",
       "      <th>income</th>\n",
       "      <th>married</th>\n",
       "      <th>children</th>\n",
       "      <th>car</th>\n",
       "      <th>save_act</th>\n",
       "      <th>current_act</th>\n",
       "      <th>mortgage</th>\n",
       "      <th>realincome</th>\n",
       "    </tr>\n",
       "  </thead>\n",
       "  <tbody>\n",
       "    <tr>\n",
       "      <th>46</th>\n",
       "      <td>50.0</td>\n",
       "      <td>0</td>\n",
       "      <td>0</td>\n",
       "      <td>13283.9</td>\n",
       "      <td>0</td>\n",
       "      <td>1</td>\n",
       "      <td>1</td>\n",
       "      <td>1</td>\n",
       "      <td>1</td>\n",
       "      <td>0</td>\n",
       "      <td>13283.9</td>\n",
       "    </tr>\n",
       "    <tr>\n",
       "      <th>263</th>\n",
       "      <td>60.0</td>\n",
       "      <td>0</td>\n",
       "      <td>0</td>\n",
       "      <td>46358.4</td>\n",
       "      <td>1</td>\n",
       "      <td>0</td>\n",
       "      <td>1</td>\n",
       "      <td>1</td>\n",
       "      <td>1</td>\n",
       "      <td>1</td>\n",
       "      <td>46358.4</td>\n",
       "    </tr>\n",
       "    <tr>\n",
       "      <th>458</th>\n",
       "      <td>18.0</td>\n",
       "      <td>1</td>\n",
       "      <td>2</td>\n",
       "      <td>13700.2</td>\n",
       "      <td>0</td>\n",
       "      <td>1</td>\n",
       "      <td>0</td>\n",
       "      <td>1</td>\n",
       "      <td>1</td>\n",
       "      <td>0</td>\n",
       "      <td>13700.2</td>\n",
       "    </tr>\n",
       "    <tr>\n",
       "      <th>230</th>\n",
       "      <td>59.0</td>\n",
       "      <td>0</td>\n",
       "      <td>0</td>\n",
       "      <td>30189.4</td>\n",
       "      <td>1</td>\n",
       "      <td>0</td>\n",
       "      <td>1</td>\n",
       "      <td>0</td>\n",
       "      <td>1</td>\n",
       "      <td>1</td>\n",
       "      <td>30189.4</td>\n",
       "    </tr>\n",
       "    <tr>\n",
       "      <th>107</th>\n",
       "      <td>23.0</td>\n",
       "      <td>1</td>\n",
       "      <td>0</td>\n",
       "      <td>13039.9</td>\n",
       "      <td>1</td>\n",
       "      <td>0</td>\n",
       "      <td>0</td>\n",
       "      <td>0</td>\n",
       "      <td>1</td>\n",
       "      <td>0</td>\n",
       "      <td>13039.9</td>\n",
       "    </tr>\n",
       "  </tbody>\n",
       "</table>\n",
       "</div>"
      ],
      "text/plain": [
       "      age  sex  region   income  married  children  car  save_act  \\\n",
       "46   50.0    0       0  13283.9        0         1    1         1   \n",
       "263  60.0    0       0  46358.4        1         0    1         1   \n",
       "458  18.0    1       2  13700.2        0         1    0         1   \n",
       "230  59.0    0       0  30189.4        1         0    1         0   \n",
       "107  23.0    1       0  13039.9        1         0    0         0   \n",
       "\n",
       "     current_act  mortgage  realincome  \n",
       "46             1         0     13283.9  \n",
       "263            1         1     46358.4  \n",
       "458            1         0     13700.2  \n",
       "230            1         1     30189.4  \n",
       "107            1         0     13039.9  "
      ]
     },
     "execution_count": 24,
     "metadata": {},
     "output_type": "execute_result"
    }
   ],
   "source": [
    "# 지정한 비율(75:25)로 데이터가 잘 나누어졌는지 확인\n",
    "\n",
    "display(X_train.shape, X_test.shape)\n",
    "X_train.head()"
   ]
  },
  {
   "cell_type": "code",
   "execution_count": 25,
   "metadata": {},
   "outputs": [],
   "source": [
    "#인재 이걸가지고 modeling을 해보자"
   ]
  },
  {
   "cell_type": "markdown",
   "metadata": {},
   "source": [
    "<font color = \"darkgreen\">\n",
    "##### 1. Decision Trees #####\n",
    "</font>\n",
    "<img align=\"left\" src=\"https://cdn-images-1.medium.com/max/870/1*xzF10JmR3K0rnZ8jtIHI_g.png\" width=700 height=500 alt=\"Decision Tree\">"
   ]
  },
  {
   "cell_type": "code",
   "execution_count": 26,
   "metadata": {},
   "outputs": [],
   "source": [
    "# 1. Import the estimator\n",
    "\n",
    "from sklearn.tree import DecisionTreeClassifier"
   ]
  },
  {
   "cell_type": "code",
   "execution_count": 27,
   "metadata": {},
   "outputs": [],
   "source": [
    "# 2. Instantiate the estimator\n",
    "\n",
    "tree = DecisionTreeClassifier(max_depth=6, random_state=0)"
   ]
  },
  {
   "cell_type": "code",
   "execution_count": 28,
   "metadata": {},
   "outputs": [
    {
     "data": {
      "text/plain": [
       "DecisionTreeClassifier(ccp_alpha=0.0, class_weight=None, criterion='gini',\n",
       "                       max_depth=6, max_features=None, max_leaf_nodes=None,\n",
       "                       min_impurity_decrease=0.0, min_impurity_split=None,\n",
       "                       min_samples_leaf=1, min_samples_split=2,\n",
       "                       min_weight_fraction_leaf=0.0, presort='deprecated',\n",
       "                       random_state=0, splitter='best')"
      ]
     },
     "execution_count": 28,
     "metadata": {},
     "output_type": "execute_result"
    }
   ],
   "source": [
    "# 3. Fit the data to the estimator\n",
    "\n",
    "tree.fit(X_train, y_train)"
   ]
  },
  {
   "cell_type": "code",
   "execution_count": 29,
   "metadata": {},
   "outputs": [
    {
     "data": {
      "text/plain": [
       "array([0, 1, 1, 1, 1, 0, 0, 0, 0, 0, 0, 1, 1, 0, 0, 0, 0, 1, 1, 0, 0, 0,\n",
       "       0, 1, 0, 1, 0, 1, 0, 0, 0, 0, 1, 0, 0, 1, 1, 0, 1, 0, 0, 1, 0, 1,\n",
       "       0, 1, 0, 0, 0, 1, 0, 1, 0, 0, 0, 0, 1, 1, 1, 0, 1, 0, 1, 0, 1, 1,\n",
       "       0, 0, 0, 1, 0, 0, 1, 1, 0, 1, 1, 0, 0, 0, 0, 0, 1, 0, 1, 0, 0, 0,\n",
       "       0, 1, 1, 0, 0, 1, 0, 1, 1, 0, 0, 1, 1, 1, 0, 0, 1, 0, 0, 0, 0, 1,\n",
       "       0, 0, 1, 0, 1, 1, 1, 1, 0, 0, 1, 0, 1, 1, 0, 0, 0, 1, 1, 0, 0, 0,\n",
       "       1, 0, 0, 0, 0, 1, 1, 1, 0, 0, 0, 0, 0, 0, 1, 0, 1, 0], dtype=int64)"
      ]
     },
     "execution_count": 29,
     "metadata": {},
     "output_type": "execute_result"
    }
   ],
   "source": [
    "# 4. Generate a prediction\n",
    "\n",
    "pred_tree = tree.predict(X_test); pred_tree"
   ]
  },
  {
   "cell_type": "code",
   "execution_count": 30,
   "metadata": {},
   "outputs": [
    {
     "data": {
      "text/plain": [
       "0.94"
      ]
     },
     "metadata": {},
     "output_type": "display_data"
    },
    {
     "data": {
      "text/plain": [
       "0.8666666666666667"
      ]
     },
     "metadata": {},
     "output_type": "display_data"
    }
   ],
   "source": [
    "#Assess Model\n",
    "# 5. Evaluate the estimator\n",
    "# \n",
    "\n",
    "display(tree.score(X_train, y_train))\n",
    "display(tree.score(X_test, y_test))"
   ]
  },
  {
   "cell_type": "markdown",
   "metadata": {},
   "source": [
    "<font color = \"darkgreen\">\n",
    "##### 2. SVM (Support Vector Machine) #####\n",
    "<img align=\"left\" src=\"https://78.media.tumblr.com/0e459c9df3dc85c301ae41db5e058cb8/tumblr_inline_n9xq5hiRsC1rmpjcz.jpg\"\n",
    "width=500 height=500 alt=\"SVM\">"
   ]
  },
  {
   "cell_type": "code",
   "execution_count": 31,
   "metadata": {},
   "outputs": [
    {
     "data": {
      "text/plain": [
       "SVC(C=1.0, break_ties=False, cache_size=200, class_weight=None, coef0=0.0,\n",
       "    decision_function_shape='ovr', degree=3, gamma='scale', kernel='rbf',\n",
       "    max_iter=-1, probability=False, random_state=0, shrinking=True, tol=0.001,\n",
       "    verbose=False)"
      ]
     },
     "execution_count": 31,
     "metadata": {},
     "output_type": "execute_result"
    }
   ],
   "source": [
    "from sklearn.svm import SVC \n",
    "svm = SVC(random_state=0) #svc 형으로 학습을 시켰다\n",
    "svm.fit(X_train, y_train)"
   ]
  },
  {
   "cell_type": "code",
   "execution_count": 32,
   "metadata": {},
   "outputs": [
    {
     "data": {
      "text/plain": [
       "0.66"
      ]
     },
     "metadata": {},
     "output_type": "display_data"
    },
    {
     "data": {
      "text/plain": [
       "0.6333333333333333"
      ]
     },
     "metadata": {},
     "output_type": "display_data"
    }
   ],
   "source": [
    "#Assess Model\n",
    "# 5. Evaluate the estimator\n",
    "# \n",
    "display(svm.score(X_train, y_train))\n",
    "display(svm.score(X_test, y_test))"
   ]
  },
  {
   "cell_type": "markdown",
   "metadata": {},
   "source": [
    "<font color = \"darkgreen\">\n",
    "##### 3. Neural Networks (Multi-layer Perceptron) #####\n",
    "</font>  \n",
    "<img align=\"left\" src=\"https://3.bp.blogspot.com/-vYvrkXroyDY/WdObH7y6rBI/AAAAAAAAAZ0/nqYZCwLD2doT354ZJLI0HBkcY-Pjc8LqACLcBGAs/s1600/neural_nets_thumbnail.png\" width=400 height=300 alt=\"NN\">\n",
    "<img align=\"left\" src=\"https://cdn-images-1.medium.com/max/479/1*QVIyc5HnGDWTNX3m-nIm9w.png\" width=600 height=400 alt=\"NN\">"
   ]
  },
  {
   "cell_type": "code",
   "execution_count": 33,
   "metadata": {},
   "outputs": [
    {
     "data": {
      "text/plain": [
       "MLPClassifier(activation='relu', alpha=0.0001, batch_size='auto', beta_1=0.9,\n",
       "              beta_2=0.999, early_stopping=False, epsilon=1e-08,\n",
       "              hidden_layer_sizes=(100,), learning_rate='constant',\n",
       "              learning_rate_init=0.001, max_fun=15000, max_iter=200,\n",
       "              momentum=0.9, n_iter_no_change=10, nesterovs_momentum=True,\n",
       "              power_t=0.5, random_state=None, shuffle=True, solver='adam',\n",
       "              tol=0.0001, validation_fraction=0.1, verbose=False,\n",
       "              warm_start=False)"
      ]
     },
     "execution_count": 33,
     "metadata": {},
     "output_type": "execute_result"
    }
   ],
   "source": [
    "# 아래에 Neural Network 모형을 생성하는 코드를 작성하시오.\n",
    "# 단, 모형을 저장하는 변수명을 mlp로 할 것!\n",
    "\n",
    "from sklearn.neural_network import MLPClassifier \n",
    "mlp = MLPClassifier()\n",
    "mlp.fit(X_train, y_train)"
   ]
  },
  {
   "cell_type": "code",
   "execution_count": 34,
   "metadata": {},
   "outputs": [
    {
     "data": {
      "text/plain": [
       "0.5333333333333333"
      ]
     },
     "metadata": {},
     "output_type": "display_data"
    },
    {
     "data": {
      "text/plain": [
       "0.5733333333333334"
      ]
     },
     "metadata": {},
     "output_type": "display_data"
    }
   ],
   "source": [
    "# 아래에 Neural Network 모형의 성능을 평가하는 코드를 작성하시오.\n",
    "\n",
    "display(mlp.score(X_train, y_train))\n",
    "display(mlp.score(X_test, y_test))"
   ]
  },
  {
   "cell_type": "code",
   "execution_count": 35,
   "metadata": {},
   "outputs": [],
   "source": [
    "# Evaluation"
   ]
  },
  {
   "cell_type": "code",
   "execution_count": 36,
   "metadata": {},
   "outputs": [
    {
     "data": {
      "text/plain": [
       "0.8666666666666667"
      ]
     },
     "execution_count": 36,
     "metadata": {},
     "output_type": "execute_result"
    }
   ],
   "source": [
    "best_model = tree   # Change this code if the best model is not decision tree.\n",
    "best_model.score(X_test, y_test)"
   ]
  },
  {
   "cell_type": "code",
   "execution_count": 37,
   "metadata": {},
   "outputs": [
    {
     "name": "stdout",
     "output_type": "stream",
     "text": [
      "0    78\n",
      "1    72\n",
      "Name: pep, dtype: int64\n"
     ]
    },
    {
     "data": {
      "text/plain": [
       "0.52"
      ]
     },
     "execution_count": 37,
     "metadata": {},
     "output_type": "execute_result"
    }
   ],
   "source": [
    "# 랜덤 모형의 성능과 개발 모형의 성능을 비교한다.\n",
    "\n",
    "from sklearn.dummy import DummyClassifier\n",
    "print(y_test.value_counts())\n",
    "DummyClassifier(strategy='most_frequent').fit(X_train, y_train).score(X_test, y_test)\n",
    "# 0 이 78게\n",
    "#1 이 72게"
   ]
  },
  {
   "cell_type": "code",
   "execution_count": 38,
   "metadata": {},
   "outputs": [],
   "source": [
    "# Deployment"
   ]
  },
  {
   "cell_type": "code",
   "execution_count": 39,
   "metadata": {},
   "outputs": [
    {
     "data": {
      "text/html": [
       "<div>\n",
       "<style scoped>\n",
       "    .dataframe tbody tr th:only-of-type {\n",
       "        vertical-align: middle;\n",
       "    }\n",
       "\n",
       "    .dataframe tbody tr th {\n",
       "        vertical-align: top;\n",
       "    }\n",
       "\n",
       "    .dataframe thead th {\n",
       "        text-align: right;\n",
       "    }\n",
       "</style>\n",
       "<table border=\"1\" class=\"dataframe\">\n",
       "  <thead>\n",
       "    <tr style=\"text-align: right;\">\n",
       "      <th></th>\n",
       "      <th>id</th>\n",
       "      <th>age</th>\n",
       "      <th>sex</th>\n",
       "      <th>region</th>\n",
       "      <th>income</th>\n",
       "      <th>married</th>\n",
       "      <th>children</th>\n",
       "      <th>car</th>\n",
       "      <th>save_act</th>\n",
       "      <th>current_act</th>\n",
       "      <th>mortgage</th>\n",
       "      <th>realincome</th>\n",
       "    </tr>\n",
       "  </thead>\n",
       "  <tbody>\n",
       "    <tr>\n",
       "      <th>0</th>\n",
       "      <td>ID12701</td>\n",
       "      <td>23</td>\n",
       "      <td>1</td>\n",
       "      <td>0</td>\n",
       "      <td>18766.90</td>\n",
       "      <td>1</td>\n",
       "      <td>0</td>\n",
       "      <td>1</td>\n",
       "      <td>1</td>\n",
       "      <td>0</td>\n",
       "      <td>1</td>\n",
       "      <td>18766.90</td>\n",
       "    </tr>\n",
       "    <tr>\n",
       "      <th>1</th>\n",
       "      <td>ID12702</td>\n",
       "      <td>30</td>\n",
       "      <td>1</td>\n",
       "      <td>1</td>\n",
       "      <td>9915.67</td>\n",
       "      <td>0</td>\n",
       "      <td>1</td>\n",
       "      <td>0</td>\n",
       "      <td>1</td>\n",
       "      <td>0</td>\n",
       "      <td>1</td>\n",
       "      <td>9915.67</td>\n",
       "    </tr>\n",
       "    <tr>\n",
       "      <th>2</th>\n",
       "      <td>ID12703</td>\n",
       "      <td>45</td>\n",
       "      <td>0</td>\n",
       "      <td>1</td>\n",
       "      <td>21881.60</td>\n",
       "      <td>0</td>\n",
       "      <td>0</td>\n",
       "      <td>1</td>\n",
       "      <td>1</td>\n",
       "      <td>1</td>\n",
       "      <td>0</td>\n",
       "      <td>21881.60</td>\n",
       "    </tr>\n",
       "    <tr>\n",
       "      <th>3</th>\n",
       "      <td>ID12704</td>\n",
       "      <td>50</td>\n",
       "      <td>1</td>\n",
       "      <td>3</td>\n",
       "      <td>46794.40</td>\n",
       "      <td>1</td>\n",
       "      <td>2</td>\n",
       "      <td>0</td>\n",
       "      <td>1</td>\n",
       "      <td>0</td>\n",
       "      <td>1</td>\n",
       "      <td>23397.20</td>\n",
       "    </tr>\n",
       "    <tr>\n",
       "      <th>4</th>\n",
       "      <td>ID12705</td>\n",
       "      <td>41</td>\n",
       "      <td>0</td>\n",
       "      <td>0</td>\n",
       "      <td>20721.10</td>\n",
       "      <td>1</td>\n",
       "      <td>0</td>\n",
       "      <td>1</td>\n",
       "      <td>1</td>\n",
       "      <td>1</td>\n",
       "      <td>0</td>\n",
       "      <td>20721.10</td>\n",
       "    </tr>\n",
       "  </tbody>\n",
       "</table>\n",
       "</div>"
      ],
      "text/plain": [
       "        id  age  sex  region    income  married  children  car  save_act  \\\n",
       "0  ID12701   23    1       0  18766.90        1         0    1         1   \n",
       "1  ID12702   30    1       1   9915.67        0         1    0         1   \n",
       "2  ID12703   45    0       1  21881.60        0         0    1         1   \n",
       "3  ID12704   50    1       3  46794.40        1         2    0         1   \n",
       "4  ID12705   41    0       0  20721.10        1         0    1         1   \n",
       "\n",
       "   current_act  mortgage  realincome  \n",
       "0            0         1    18766.90  \n",
       "1            0         1     9915.67  \n",
       "2            1         0    21881.60  \n",
       "3            0         1    23397.20  \n",
       "4            1         0    20721.10  "
      ]
     },
     "execution_count": 39,
     "metadata": {},
     "output_type": "execute_result"
    }
   ],
   "source": [
    "# You must do the same preprocessing as the modeling data.\n",
    "columns = ['income', 'children', 'current_act', 'car', 'mortgage', 'region']\n",
    "ndf = new.copy()\n",
    "ndf['realincome'] = np.where(ndf['children']==0, ndf['income'], ndf['income']/ndf['children'])\n",
    "ndf.head()"
   ]
  },
  {
   "cell_type": "code",
   "execution_count": 40,
   "metadata": {},
   "outputs": [],
   "source": [
    "# A Case: Apply the best model to select target customers"
   ]
  },
  {
   "cell_type": "code",
   "execution_count": 41,
   "metadata": {},
   "outputs": [],
   "source": [
    "# 개발 모형에 고객 데이터를 적용하여 개인연금 구매여부를 예측: id 제외\n",
    "\n",
    "ndf['pred'] = best_model.predict(ndf.loc[:,'age':'realincome'])"
   ]
  },
  {
   "cell_type": "code",
   "execution_count": 42,
   "metadata": {},
   "outputs": [
    {
     "name": "stdout",
     "output_type": "stream",
     "text": [
      "[[0.9047619  0.0952381 ]\n",
      " [1.         0.        ]\n",
      " [0.         1.        ]\n",
      " [0.         1.        ]\n",
      " [0.91025641 0.08974359]\n",
      " [0.         1.        ]\n",
      " [0.9047619  0.0952381 ]\n",
      " [0.         1.        ]\n",
      " [0.66666667 0.33333333]\n",
      " [0.         1.        ]\n",
      " [0.9047619  0.0952381 ]\n",
      " [0.         1.        ]\n",
      " [0.91025641 0.08974359]\n",
      " [0.91025641 0.08974359]\n",
      " [1.         0.        ]\n",
      " [0.         1.        ]\n",
      " [0.9047619  0.0952381 ]\n",
      " [0.         1.        ]\n",
      " [0.         1.        ]\n",
      " [1.         0.        ]\n",
      " [0.         1.        ]\n",
      " [0.86956522 0.13043478]\n",
      " [0.25       0.75      ]\n",
      " [0.9047619  0.0952381 ]\n",
      " [1.         0.        ]\n",
      " [0.         1.        ]\n",
      " [0.91025641 0.08974359]\n",
      " [0.9047619  0.0952381 ]\n",
      " [0.         1.        ]\n",
      " [0.         1.        ]\n",
      " [0.         1.        ]\n",
      " [0.86956522 0.13043478]\n",
      " [0.         1.        ]\n",
      " [1.         0.        ]\n",
      " [0.91025641 0.08974359]\n",
      " [0.91025641 0.08974359]\n",
      " [0.91025641 0.08974359]\n",
      " [0.9047619  0.0952381 ]\n",
      " [1.         0.        ]\n",
      " [1.         0.        ]\n",
      " [0.         1.        ]\n",
      " [1.         0.        ]\n",
      " [0.         1.        ]\n",
      " [0.         1.        ]\n",
      " [0.         1.        ]\n",
      " [0.         1.        ]\n",
      " [0.         1.        ]\n",
      " [1.         0.        ]\n",
      " [0.91025641 0.08974359]\n",
      " [0.91025641 0.08974359]\n",
      " [0.9047619  0.0952381 ]\n",
      " [0.         1.        ]\n",
      " [0.         1.        ]\n",
      " [0.         1.        ]\n",
      " [1.         0.        ]\n",
      " [0.         1.        ]\n",
      " [1.         0.        ]\n",
      " [1.         0.        ]\n",
      " [0.86956522 0.13043478]\n",
      " [0.         1.        ]\n",
      " [0.         1.        ]\n",
      " [1.         0.        ]\n",
      " [0.         1.        ]\n",
      " [0.         1.        ]\n",
      " [1.         0.        ]\n",
      " [0.         1.        ]\n",
      " [1.         0.        ]\n",
      " [0.         1.        ]\n",
      " [1.         0.        ]\n",
      " [0.         1.        ]\n",
      " [0.         1.        ]\n",
      " [0.91025641 0.08974359]\n",
      " [1.         0.        ]\n",
      " [0.         1.        ]\n",
      " [0.91025641 0.08974359]\n",
      " [0.         1.        ]\n",
      " [0.91025641 0.08974359]\n",
      " [0.         1.        ]\n",
      " [0.66666667 0.33333333]\n",
      " [0.9047619  0.0952381 ]\n",
      " [0.         1.        ]\n",
      " [0.25       0.75      ]\n",
      " [1.         0.        ]\n",
      " [0.         1.        ]\n",
      " [0.91025641 0.08974359]\n",
      " [0.         1.        ]\n",
      " [1.         0.        ]\n",
      " [0.5        0.5       ]\n",
      " [1.         0.        ]\n",
      " [0.         1.        ]\n",
      " [0.         1.        ]\n",
      " [0.91025641 0.08974359]\n",
      " [0.91025641 0.08974359]\n",
      " [1.         0.        ]\n",
      " [0.91025641 0.08974359]\n",
      " [0.86956522 0.13043478]\n",
      " [0.         1.        ]\n",
      " [0.         1.        ]\n",
      " [0.91025641 0.08974359]\n",
      " [0.9047619  0.0952381 ]\n",
      " [0.91025641 0.08974359]\n",
      " [0.         1.        ]\n",
      " [0.5        0.5       ]\n",
      " [0.         1.        ]\n",
      " [1.         0.        ]\n",
      " [1.         0.        ]\n",
      " [0.5        0.5       ]\n",
      " [0.         1.        ]\n",
      " [0.86956522 0.13043478]\n",
      " [0.         1.        ]\n",
      " [0.         1.        ]\n",
      " [0.         1.        ]\n",
      " [1.         0.        ]\n",
      " [0.         1.        ]\n",
      " [1.         0.        ]\n",
      " [0.86956522 0.13043478]\n",
      " [0.         1.        ]\n",
      " [0.         1.        ]\n",
      " [1.         0.        ]\n",
      " [0.         1.        ]\n",
      " [0.         1.        ]\n",
      " [0.91025641 0.08974359]\n",
      " [0.         1.        ]\n",
      " [1.         0.        ]\n",
      " [0.         1.        ]\n",
      " [1.         0.        ]\n",
      " [1.         0.        ]\n",
      " [1.         0.        ]\n",
      " [0.         1.        ]\n",
      " [0.         1.        ]\n",
      " [0.         1.        ]\n",
      " [0.86956522 0.13043478]\n",
      " [0.         1.        ]\n",
      " [0.91025641 0.08974359]\n",
      " [0.57142857 0.42857143]\n",
      " [0.         1.        ]\n",
      " [0.91025641 0.08974359]\n",
      " [0.         1.        ]\n",
      " [1.         0.        ]\n",
      " [0.         1.        ]\n",
      " [0.86956522 0.13043478]\n",
      " [1.         0.        ]\n",
      " [0.5        0.5       ]\n",
      " [0.9047619  0.0952381 ]\n",
      " [0.         1.        ]\n",
      " [0.         1.        ]\n",
      " [1.         0.        ]\n",
      " [0.         1.        ]\n",
      " [0.         1.        ]\n",
      " [0.91025641 0.08974359]\n",
      " [0.         1.        ]\n",
      " [1.         0.        ]\n",
      " [0.         1.        ]\n",
      " [0.57142857 0.42857143]\n",
      " [0.         1.        ]\n",
      " [0.5        0.5       ]\n",
      " [0.91025641 0.08974359]\n",
      " [0.86956522 0.13043478]\n",
      " [0.91025641 0.08974359]\n",
      " [0.         1.        ]\n",
      " [0.9047619  0.0952381 ]\n",
      " [0.5        0.5       ]\n",
      " [0.57142857 0.42857143]\n",
      " [0.9047619  0.0952381 ]\n",
      " [1.         0.        ]\n",
      " [0.86956522 0.13043478]\n",
      " [1.         0.        ]\n",
      " [0.         1.        ]\n",
      " [1.         0.        ]\n",
      " [1.         0.        ]\n",
      " [0.9047619  0.0952381 ]\n",
      " [1.         0.        ]\n",
      " [0.         1.        ]\n",
      " [1.         0.        ]\n",
      " [0.86956522 0.13043478]\n",
      " [1.         0.        ]\n",
      " [1.         0.        ]\n",
      " [0.91025641 0.08974359]\n",
      " [0.5        0.5       ]\n",
      " [0.9047619  0.0952381 ]\n",
      " [1.         0.        ]\n",
      " [0.57142857 0.42857143]\n",
      " [0.         1.        ]\n",
      " [0.25       0.75      ]\n",
      " [1.         0.        ]\n",
      " [1.         0.        ]\n",
      " [1.         0.        ]\n",
      " [1.         0.        ]\n",
      " [0.86956522 0.13043478]\n",
      " [1.         0.        ]\n",
      " [0.         1.        ]\n",
      " [0.9047619  0.0952381 ]\n",
      " [0.91025641 0.08974359]\n",
      " [1.         0.        ]\n",
      " [1.         0.        ]\n",
      " [0.25       0.75      ]\n",
      " [1.         0.        ]\n",
      " [0.         1.        ]\n",
      " [0.91025641 0.08974359]\n",
      " [0.86956522 0.13043478]]\n"
     ]
    },
    {
     "data": {
      "text/html": [
       "<div>\n",
       "<style scoped>\n",
       "    .dataframe tbody tr th:only-of-type {\n",
       "        vertical-align: middle;\n",
       "    }\n",
       "\n",
       "    .dataframe tbody tr th {\n",
       "        vertical-align: top;\n",
       "    }\n",
       "\n",
       "    .dataframe thead th {\n",
       "        text-align: right;\n",
       "    }\n",
       "</style>\n",
       "<table border=\"1\" class=\"dataframe\">\n",
       "  <thead>\n",
       "    <tr style=\"text-align: right;\">\n",
       "      <th></th>\n",
       "      <th>id</th>\n",
       "      <th>age</th>\n",
       "      <th>sex</th>\n",
       "      <th>region</th>\n",
       "      <th>income</th>\n",
       "      <th>married</th>\n",
       "      <th>children</th>\n",
       "      <th>car</th>\n",
       "      <th>save_act</th>\n",
       "      <th>current_act</th>\n",
       "      <th>mortgage</th>\n",
       "      <th>realincome</th>\n",
       "      <th>pred</th>\n",
       "      <th>pred_prob</th>\n",
       "    </tr>\n",
       "  </thead>\n",
       "  <tbody>\n",
       "    <tr>\n",
       "      <th>0</th>\n",
       "      <td>ID12701</td>\n",
       "      <td>23</td>\n",
       "      <td>1</td>\n",
       "      <td>0</td>\n",
       "      <td>18766.90</td>\n",
       "      <td>1</td>\n",
       "      <td>0</td>\n",
       "      <td>1</td>\n",
       "      <td>1</td>\n",
       "      <td>0</td>\n",
       "      <td>1</td>\n",
       "      <td>18766.90</td>\n",
       "      <td>0</td>\n",
       "      <td>0.095238</td>\n",
       "    </tr>\n",
       "    <tr>\n",
       "      <th>1</th>\n",
       "      <td>ID12702</td>\n",
       "      <td>30</td>\n",
       "      <td>1</td>\n",
       "      <td>1</td>\n",
       "      <td>9915.67</td>\n",
       "      <td>0</td>\n",
       "      <td>1</td>\n",
       "      <td>0</td>\n",
       "      <td>1</td>\n",
       "      <td>0</td>\n",
       "      <td>1</td>\n",
       "      <td>9915.67</td>\n",
       "      <td>0</td>\n",
       "      <td>0.000000</td>\n",
       "    </tr>\n",
       "    <tr>\n",
       "      <th>2</th>\n",
       "      <td>ID12703</td>\n",
       "      <td>45</td>\n",
       "      <td>0</td>\n",
       "      <td>1</td>\n",
       "      <td>21881.60</td>\n",
       "      <td>0</td>\n",
       "      <td>0</td>\n",
       "      <td>1</td>\n",
       "      <td>1</td>\n",
       "      <td>1</td>\n",
       "      <td>0</td>\n",
       "      <td>21881.60</td>\n",
       "      <td>1</td>\n",
       "      <td>1.000000</td>\n",
       "    </tr>\n",
       "    <tr>\n",
       "      <th>3</th>\n",
       "      <td>ID12704</td>\n",
       "      <td>50</td>\n",
       "      <td>1</td>\n",
       "      <td>3</td>\n",
       "      <td>46794.40</td>\n",
       "      <td>1</td>\n",
       "      <td>2</td>\n",
       "      <td>0</td>\n",
       "      <td>1</td>\n",
       "      <td>0</td>\n",
       "      <td>1</td>\n",
       "      <td>23397.20</td>\n",
       "      <td>1</td>\n",
       "      <td>1.000000</td>\n",
       "    </tr>\n",
       "    <tr>\n",
       "      <th>4</th>\n",
       "      <td>ID12705</td>\n",
       "      <td>41</td>\n",
       "      <td>0</td>\n",
       "      <td>0</td>\n",
       "      <td>20721.10</td>\n",
       "      <td>1</td>\n",
       "      <td>0</td>\n",
       "      <td>1</td>\n",
       "      <td>1</td>\n",
       "      <td>1</td>\n",
       "      <td>0</td>\n",
       "      <td>20721.10</td>\n",
       "      <td>0</td>\n",
       "      <td>0.089744</td>\n",
       "    </tr>\n",
       "  </tbody>\n",
       "</table>\n",
       "</div>"
      ],
      "text/plain": [
       "        id  age  sex  region    income  married  children  car  save_act  \\\n",
       "0  ID12701   23    1       0  18766.90        1         0    1         1   \n",
       "1  ID12702   30    1       1   9915.67        0         1    0         1   \n",
       "2  ID12703   45    0       1  21881.60        0         0    1         1   \n",
       "3  ID12704   50    1       3  46794.40        1         2    0         1   \n",
       "4  ID12705   41    0       0  20721.10        1         0    1         1   \n",
       "\n",
       "   current_act  mortgage  realincome  pred  pred_prob  \n",
       "0            0         1    18766.90     0   0.095238  \n",
       "1            0         1     9915.67     0   0.000000  \n",
       "2            1         0    21881.60     1   1.000000  \n",
       "3            0         1    23397.20     1   1.000000  \n",
       "4            1         0    20721.10     0   0.089744  "
      ]
     },
     "execution_count": 42,
     "metadata": {},
     "output_type": "execute_result"
    }
   ],
   "source": [
    "# 개인연금 구매확률을 예측: predict_proba() 사용\n",
    "print(best_model.predict_proba(ndf.loc[:,'age':'realincome']))\n",
    "ndf['pred_prob'] = best_model.predict_proba(ndf.loc[:,'age':'realincome'])[:,1]\n",
    "ndf.head()"
   ]
  },
  {
   "cell_type": "code",
   "execution_count": 43,
   "metadata": {},
   "outputs": [
    {
     "data": {
      "text/html": [
       "<div>\n",
       "<style scoped>\n",
       "    .dataframe tbody tr th:only-of-type {\n",
       "        vertical-align: middle;\n",
       "    }\n",
       "\n",
       "    .dataframe tbody tr th {\n",
       "        vertical-align: top;\n",
       "    }\n",
       "\n",
       "    .dataframe thead th {\n",
       "        text-align: right;\n",
       "    }\n",
       "</style>\n",
       "<table border=\"1\" class=\"dataframe\">\n",
       "  <thead>\n",
       "    <tr style=\"text-align: right;\">\n",
       "      <th></th>\n",
       "      <th>id</th>\n",
       "      <th>age</th>\n",
       "      <th>sex</th>\n",
       "      <th>region</th>\n",
       "      <th>income</th>\n",
       "      <th>married</th>\n",
       "      <th>children</th>\n",
       "      <th>car</th>\n",
       "      <th>save_act</th>\n",
       "      <th>current_act</th>\n",
       "      <th>mortgage</th>\n",
       "      <th>realincome</th>\n",
       "      <th>pred</th>\n",
       "      <th>pred_prob</th>\n",
       "    </tr>\n",
       "  </thead>\n",
       "  <tbody>\n",
       "    <tr>\n",
       "      <th>75</th>\n",
       "      <td>ID12752</td>\n",
       "      <td>61</td>\n",
       "      <td>1</td>\n",
       "      <td>1</td>\n",
       "      <td>40315.6</td>\n",
       "      <td>1</td>\n",
       "      <td>2</td>\n",
       "      <td>1</td>\n",
       "      <td>1</td>\n",
       "      <td>1</td>\n",
       "      <td>0</td>\n",
       "      <td>20157.8</td>\n",
       "      <td>1</td>\n",
       "      <td>1.00</td>\n",
       "    </tr>\n",
       "    <tr>\n",
       "      <th>76</th>\n",
       "      <td>ID12723</td>\n",
       "      <td>54</td>\n",
       "      <td>1</td>\n",
       "      <td>1</td>\n",
       "      <td>49986.7</td>\n",
       "      <td>1</td>\n",
       "      <td>1</td>\n",
       "      <td>1</td>\n",
       "      <td>1</td>\n",
       "      <td>1</td>\n",
       "      <td>0</td>\n",
       "      <td>49986.7</td>\n",
       "      <td>1</td>\n",
       "      <td>0.75</td>\n",
       "    </tr>\n",
       "    <tr>\n",
       "      <th>77</th>\n",
       "      <td>ID12884</td>\n",
       "      <td>66</td>\n",
       "      <td>0</td>\n",
       "      <td>0</td>\n",
       "      <td>60635.6</td>\n",
       "      <td>1</td>\n",
       "      <td>1</td>\n",
       "      <td>1</td>\n",
       "      <td>1</td>\n",
       "      <td>1</td>\n",
       "      <td>1</td>\n",
       "      <td>60635.6</td>\n",
       "      <td>1</td>\n",
       "      <td>0.75</td>\n",
       "    </tr>\n",
       "    <tr>\n",
       "      <th>78</th>\n",
       "      <td>ID12896</td>\n",
       "      <td>66</td>\n",
       "      <td>1</td>\n",
       "      <td>0</td>\n",
       "      <td>58792.6</td>\n",
       "      <td>0</td>\n",
       "      <td>1</td>\n",
       "      <td>1</td>\n",
       "      <td>1</td>\n",
       "      <td>1</td>\n",
       "      <td>1</td>\n",
       "      <td>58792.6</td>\n",
       "      <td>1</td>\n",
       "      <td>0.75</td>\n",
       "    </tr>\n",
       "    <tr>\n",
       "      <th>79</th>\n",
       "      <td>ID12782</td>\n",
       "      <td>44</td>\n",
       "      <td>1</td>\n",
       "      <td>1</td>\n",
       "      <td>39202.2</td>\n",
       "      <td>0</td>\n",
       "      <td>1</td>\n",
       "      <td>1</td>\n",
       "      <td>1</td>\n",
       "      <td>1</td>\n",
       "      <td>1</td>\n",
       "      <td>39202.2</td>\n",
       "      <td>1</td>\n",
       "      <td>0.75</td>\n",
       "    </tr>\n",
       "  </tbody>\n",
       "</table>\n",
       "</div>"
      ],
      "text/plain": [
       "         id  age  sex  region   income  married  children  car  save_act  \\\n",
       "75  ID12752   61    1       1  40315.6        1         2    1         1   \n",
       "76  ID12723   54    1       1  49986.7        1         1    1         1   \n",
       "77  ID12884   66    0       0  60635.6        1         1    1         1   \n",
       "78  ID12896   66    1       0  58792.6        0         1    1         1   \n",
       "79  ID12782   44    1       1  39202.2        0         1    1         1   \n",
       "\n",
       "    current_act  mortgage  realincome  pred  pred_prob  \n",
       "75            1         0     20157.8     1       1.00  \n",
       "76            1         0     49986.7     1       0.75  \n",
       "77            1         1     60635.6     1       0.75  \n",
       "78            1         1     58792.6     1       0.75  \n",
       "79            1         1     39202.2     1       0.75  "
      ]
     },
     "execution_count": 43,
     "metadata": {},
     "output_type": "execute_result"
    }
   ],
   "source": [
    "# 특정 조건을 만족하는 고객 리스트를 추출하고 저장\n",
    "# query 조건 만족 행을 뽑을 때 사용\n",
    "\n",
    "target = ndf.query('pred == 1 & pred_prob > 0.7')  # PEP에 가입할 확율이 70%가 넘는 고객만 추출\n",
    "target.sort_values(by=\"pred_prob\", ascending=False).to_csv(\"pep_target.csv\", index=False)\n",
    "pd.read_csv(\"pep_target.csv\").tail()"
   ]
  },
  {
   "cell_type": "code",
   "execution_count": 44,
   "metadata": {},
   "outputs": [],
   "source": [
    "# Gradient Boosting 알고리즘해서 확율을 더 올려보자\n",
    "# 이 알고리즘은, 한 큰나무안에 여러 나무를 너어 한나무 그다음나무 오류를 수정해\n",
    "# 나가는 방식\n",
    "\n",
    "# Random Forest 는 여러 나무를 돌려보는것.\n"
   ]
  },
  {
   "cell_type": "code",
   "execution_count": 45,
   "metadata": {},
   "outputs": [],
   "source": [
    "from sklearn.ensemble import GradientBoostingClassifier"
   ]
  },
  {
   "cell_type": "code",
   "execution_count": 46,
   "metadata": {},
   "outputs": [
    {
     "data": {
      "text/plain": [
       "0.9511111111111111"
      ]
     },
     "metadata": {},
     "output_type": "display_data"
    },
    {
     "data": {
      "text/plain": [
       "0.9066666666666666"
      ]
     },
     "metadata": {},
     "output_type": "display_data"
    }
   ],
   "source": [
    "grad_model = GradientBoostingClassifier()\n",
    "\n",
    "grad_model.fit(X_train,y_train)\n",
    "train_score = grad_model.score(X_train, y_train)\n",
    "test_score = grad_model.score(X_test, y_test)\n",
    "display(train_score, test_score)"
   ]
  },
  {
   "cell_type": "code",
   "execution_count": 47,
   "metadata": {},
   "outputs": [
    {
     "data": {
      "text/plain": [
       "GradientBoostingClassifier(ccp_alpha=0.0, criterion='friedman_mse', init=None,\n",
       "                           learning_rate=0.1, loss='deviance', max_depth=3,\n",
       "                           max_features=None, max_leaf_nodes=None,\n",
       "                           min_impurity_decrease=0.0, min_impurity_split=None,\n",
       "                           min_samples_leaf=1, min_samples_split=2,\n",
       "                           min_weight_fraction_leaf=0.0, n_estimators=100,\n",
       "                           n_iter_no_change=None, presort='deprecated',\n",
       "                           random_state=None, subsample=1.0, tol=0.0001,\n",
       "                           validation_fraction=0.1, verbose=0,\n",
       "                           warm_start=False)"
      ]
     },
     "execution_count": 47,
     "metadata": {},
     "output_type": "execute_result"
    }
   ],
   "source": [
    "grad_model"
   ]
  },
  {
   "cell_type": "markdown",
   "metadata": {},
   "source": [
    "- 주목해야 할 인자는 n_estimators 와 max_depth, learning_rate 이다.\n",
    "- n_estimators 는 나무의 갯수이다.\n",
    "- 그래디언트 부스팅은 깊이를 작게하고 나무의 갯수를 늘리는 전략을 많이 취한다.\n",
    "- learning_rate는 학습률로서, 이전에 만든 나무의 오류에 기반하여 얼마나 많이 수정해 나갈지의 비율을 의미한다. 값이 클수록 복잡한 모델을 만들게 된다."
   ]
  },
  {
   "cell_type": "code",
   "execution_count": 48,
   "metadata": {},
   "outputs": [
    {
     "data": {
      "text/plain": [
       "1.0"
      ]
     },
     "metadata": {},
     "output_type": "display_data"
    },
    {
     "data": {
      "text/plain": [
       "0.8333333333333334"
      ]
     },
     "metadata": {},
     "output_type": "display_data"
    }
   ],
   "source": [
    "grad_model =GradientBoostingClassifier(n_estimators=100000, max_depth=1000)\n",
    "grad_model.fit(X_train, y_train)\n",
    "\n",
    "train_score = grad_model.score(X_train, y_train)\n",
    "test_score = grad_model.score(X_test, y_test)\n",
    "display(train_score, test_score)"
   ]
  },
  {
   "cell_type": "code",
   "execution_count": null,
   "metadata": {},
   "outputs": [],
   "source": []
  },
  {
   "cell_type": "code",
   "execution_count": 81,
   "metadata": {},
   "outputs": [
    {
     "name": "stdout",
     "output_type": "stream",
     "text": [
      "Collecting package metadata (current_repodata.json): ...working... done\n",
      "Solving environment: ...working... done\n",
      "\n",
      "## Package Plan ##\n",
      "\n",
      "  environment location: C:\\Users\\TJ\\anaconda3\n",
      "\n",
      "  added / updated specs:\n",
      "    - scikit-plot\n",
      "\n",
      "\n",
      "The following packages will be downloaded:\n",
      "\n",
      "    package                    |            build\n",
      "    ---------------------------|-----------------\n",
      "    conda-4.8.3                |   py37hc8dfbb8_1         3.1 MB  conda-forge\n",
      "    python_abi-3.7             |          1_cp37m           4 KB  conda-forge\n",
      "    scikit-plot-0.3.7          |             py_1          25 KB  conda-forge\n",
      "    ------------------------------------------------------------\n",
      "                                           Total:         3.1 MB\n",
      "\n",
      "The following NEW packages will be INSTALLED:\n",
      "\n",
      "  python_abi         conda-forge/win-64::python_abi-3.7-1_cp37m\n",
      "  scikit-plot        conda-forge/noarch::scikit-plot-0.3.7-py_1\n",
      "\n",
      "The following packages will be UPDATED:\n",
      "\n",
      "  conda                       pkgs/main::conda-4.8.2-py37_0 --> conda-forge::conda-4.8.3-py37hc8dfbb8_1\n",
      "\n",
      "\n",
      "\n",
      "Downloading and Extracting Packages\n",
      "\n",
      "conda-4.8.3          | 3.1 MB    |            |   0% \n",
      "conda-4.8.3          | 3.1 MB    | 3          |   3% \n",
      "conda-4.8.3          | 3.1 MB    | ####2      |  43% \n",
      "conda-4.8.3          | 3.1 MB    | ########2  |  83% \n",
      "conda-4.8.3          | 3.1 MB    | ########## | 100% \n",
      "\n",
      "python_abi-3.7       | 4 KB      |            |   0% \n",
      "python_abi-3.7       | 4 KB      | ########## | 100% \n",
      "\n",
      "scikit-plot-0.3.7    | 25 KB     |            |   0% \n",
      "scikit-plot-0.3.7    | 25 KB     | ########## | 100% \n",
      "Preparing transaction: ...working... done\n",
      "Verifying transaction: ...working... done\n",
      "Executing transaction: ...working... done\n",
      "\n",
      "Note: you may need to restart the kernel to use updated packages.\n"
     ]
    },
    {
     "name": "stderr",
     "output_type": "stream",
     "text": [
      "\n",
      "\n",
      "==> WARNING: A newer version of conda exists. <==\n",
      "  current version: 4.8.2\n",
      "  latest version: 4.8.3\n",
      "\n",
      "Please update conda by running\n",
      "\n",
      "    $ conda update -n base -c defaults conda\n",
      "\n",
      "\n"
     ]
    }
   ],
   "source": [
    "conda install -c conda-forge scikit-plot"
   ]
  },
  {
   "cell_type": "code",
   "execution_count": 50,
   "metadata": {},
   "outputs": [
    {
     "data": {
      "image/png": "[encoded data removed]",
      "text/plain": [
       "<Figure size 432x288 with 1 Axes>"
      ]
     },
     "metadata": {
      "needs_background": "light"
     },
     "output_type": "display_data"
    }
   ],
   "source": [
    "import scikitplot as skplt\n",
    "from sklearn.naive_bayes import GaussianNB\n",
    "nb = GaussianNB()\n",
    "nb = nb.fit(X_train, y_train)\n",
    "y_probas = nb.predict_proba(X_test)\n",
    "skplt.metrics.plot_roc(y_test, y_probas)\n",
    "plt.show()"
   ]
  },
  {
   "cell_type": "code",
   "execution_count": 52,
   "metadata": {},
   "outputs": [
    {
     "data": {
      "image/png": "[encoded data removed]",
      "text/plain": [
       "<Figure size 432x288 with 1 Axes>"
      ]
     },
     "metadata": {
      "needs_background": "light"
     },
     "output_type": "display_data"
    }
   ],
   "source": [
    "from sklearn.linear_model import LogisticRegression\n",
    "lr = LogisticRegression()\n",
    "lr = lr.fit(X_train, y_train)\n",
    "y_probas = lr.predict_proba(X_test)\n",
    "skplt.metrics.plot_ks_statistic(y_test, y_probas)\n",
    "plt.show()"
   ]
  },
  {
   "cell_type": "code",
   "execution_count": 53,
   "metadata": {},
   "outputs": [
    {
     "data": {
      "image/png": "[encoded data removed]",
      "text/plain": [
       "<Figure size 432x288 with 1 Axes>"
      ]
     },
     "metadata": {
      "needs_background": "light"
     },
     "output_type": "display_data"
    }
   ],
   "source": [
    "import scikitplot as skplt\n",
    "nb = GaussianNB()\n",
    "nb.fit(X_train, y_train)\n",
    "y_probas = nb.predict_proba(X_test)\n",
    "skplt.metrics.plot_precision_recall(y_test, y_probas)\n",
    "plt.show()"
   ]
  },
  {
   "cell_type": "code",
   "execution_count": 54,
   "metadata": {},
   "outputs": [
    {
     "data": {
      "image/png": "[encoded data removed]",
      "text/plain": [
       "<Figure size 432x288 with 1 Axes>"
      ]
     },
     "metadata": {
      "needs_background": "light"
     },
     "output_type": "display_data"
    }
   ],
   "source": [
    "\n",
    "lr = LogisticRegression()\n",
    "lr = lr.fit(X_train, y_train)\n",
    "y_probas = lr.predict_proba(X_test)\n",
    "skplt.metrics.plot_cumulative_gain(y_test, y_probas)\n",
    "plt.show()"
   ]
  },
  {
   "cell_type": "code",
   "execution_count": null,
   "metadata": {},
   "outputs": [],
   "source": []
  },
  {
   "cell_type": "code",
   "execution_count": null,
   "metadata": {},
   "outputs": [],
   "source": []
  },
  {
   "cell_type": "code",
   "execution_count": 54,
   "metadata": {},
   "outputs": [],
   "source": [
    "from sklearn.linear_model import LogisticRegression\n",
    "from sklearn.neighbors import KNeighborsClassifier\n",
    "from sklearn.tree import DecisionTreeClassifier\n",
    "\n",
    "model = KNeighborsClassifier()"
   ]
  },
  {
   "cell_type": "code",
   "execution_count": 55,
   "metadata": {},
   "outputs": [
    {
     "data": {
      "text/plain": [
       "array([0.63333333, 0.62222222, 0.7       , 0.66666667, 0.68888889])"
      ]
     },
     "execution_count": 55,
     "metadata": {},
     "output_type": "execute_result"
    }
   ],
   "source": [
    "# 크로스 밸리데이션\n",
    "from sklearn.model_selection import cross_val_score\n",
    "scores = cross_val_score(model, X_train, y_train); scores\n",
    "# 예제 데이터가 심플하여 일반적인 예측 알고리즘에서도 결과가 좋다"
   ]
  },
  {
   "cell_type": "code",
   "execution_count": 56,
   "metadata": {},
   "outputs": [
    {
     "data": {
      "text/plain": [
       "array([0.77777778, 0.44444444, 0.77777778, 0.55555556, 0.44444444,\n",
       "       0.88888889, 0.44444444, 0.77777778, 0.44444444, 0.55555556,\n",
       "       0.55555556, 0.55555556, 0.88888889, 0.66666667, 0.55555556,\n",
       "       0.77777778, 1.        , 0.66666667, 0.66666667, 0.33333333,\n",
       "       0.77777778, 0.66666667, 0.55555556, 0.66666667, 0.55555556,\n",
       "       0.44444444, 0.55555556, 0.66666667, 0.44444444, 0.66666667,\n",
       "       0.55555556, 0.66666667, 0.77777778, 0.88888889, 0.77777778,\n",
       "       0.77777778, 0.66666667, 0.77777778, 0.55555556, 0.66666667,\n",
       "       0.44444444, 0.88888889, 0.88888889, 0.66666667, 0.88888889,\n",
       "       0.66666667, 0.66666667, 0.77777778, 0.44444444, 0.66666667])"
      ]
     },
     "execution_count": 56,
     "metadata": {},
     "output_type": "execute_result"
    }
   ],
   "source": [
    "# k를 조정하여 다섯번(cv=5) 돌려본다.\n",
    "scores = cross_val_score(model, X_train, y_train, cv=50); scores"
   ]
  },
  {
   "cell_type": "code",
   "execution_count": 57,
   "metadata": {},
   "outputs": [
    {
     "name": "stdout",
     "output_type": "stream",
     "text": [
      "Mean: 0.658\n",
      "Std: 0.152\n",
      "Min: 0.333\n",
      "Max: 1.000\n"
     ]
    }
   ],
   "source": [
    "print(\"Mean: {:.3f}\\nStd: {:.3f}\\nMin: {:.3f}\\nMax: {:.3f}\".format(\n",
    "    scores.mean(), scores.std(), scores.min(), scores.max()))\n",
    "# 분산이 작으면 Overfitting 이 적다"
   ]
  },
  {
   "cell_type": "code",
   "execution_count": 58,
   "metadata": {},
   "outputs": [
    {
     "data": {
      "text/plain": [
       "0.6444444444444445"
      ]
     },
     "execution_count": 58,
     "metadata": {},
     "output_type": "execute_result"
    }
   ],
   "source": [
    "# 하나씩 빼면서 돌린다. 테이터 데이터를 하나로 두는 것. 데이터 수많큼 크로스 벨리데이션 한다.\n",
    "from sklearn.model_selection import LeaveOneOut\n",
    "scores = cross_val_score(model, X_train, y_train, cv=LeaveOneOut())\n",
    "scores.mean()"
   ]
  },
  {
   "cell_type": "code",
   "execution_count": 59,
   "metadata": {},
   "outputs": [
    {
     "data": {
      "text/plain": [
       "0.6493333333333334"
      ]
     },
     "execution_count": 59,
     "metadata": {},
     "output_type": "execute_result"
    }
   ],
   "source": [
    "from sklearn.model_selection import ShuffleSplit\n",
    "\n",
    "sscv = ShuffleSplit(test_size=.5, train_size=.5, n_splits=10)\n",
    "scores = cross_val_score(model, X_train, y_train, cv=sscv)\n",
    "scores.mean()"
   ]
  },
  {
   "cell_type": "code",
   "execution_count": 60,
   "metadata": {},
   "outputs": [
    {
     "data": {
      "text/plain": [
       "{'n_neighbors': range(1, 5), 'weights': ['uniform', 'distance']}"
      ]
     },
     "execution_count": 60,
     "metadata": {},
     "output_type": "execute_result"
    }
   ],
   "source": [
    "# 파라미터는 dict 타입으로 지정됨.\n",
    "param_grid = {'n_neighbors': range(1,5),\n",
    "              'weights': ['uniform','distance']}\n",
    "param_grid"
   ]
  },
  {
   "cell_type": "code",
   "execution_count": 61,
   "metadata": {},
   "outputs": [],
   "source": [
    "#  자동으로 복수개의 내부 모형을 생성하고 이를 모두 실행시켜서 \n",
    "#  최적 파라미터를 찾아준다\n",
    "from sklearn.model_selection import GridSearchCV\n",
    "grid_search = GridSearchCV(KNeighborsClassifier(), param_grid, cv=5, n_jobs=-1)\n",
    "#n_jobs=-1: 너가 가지고 있는 컴퓨터 리소스를 최대한 이용해 돌려라\n",
    "# 1 : 2 core를 사용하라"
   ]
  },
  {
   "cell_type": "code",
   "execution_count": 62,
   "metadata": {},
   "outputs": [
    {
     "name": "stdout",
     "output_type": "stream",
     "text": [
      "90.7 ms ± 4.88 ms per loop (mean ± std. dev. of 7 runs, 1 loop each)\n"
     ]
    }
   ],
   "source": [
    "%%timeit # 아래소스가 돌때 얼마나 걸리는지 알려\n",
    "grid_search.fit(X_train, y_train)"
   ]
  },
  {
   "cell_type": "code",
   "execution_count": 63,
   "metadata": {},
   "outputs": [
    {
     "data": {
      "text/plain": [
       "(0.66, 0.7)"
      ]
     },
     "execution_count": 63,
     "metadata": {},
     "output_type": "execute_result"
    }
   ],
   "source": [
    "grid_search.score(X_test, y_test), KNeighborsClassifier().fit(X_train, y_train).score(X_test, y_test)"
   ]
  },
  {
   "cell_type": "code",
   "execution_count": 64,
   "metadata": {},
   "outputs": [
    {
     "name": "stdout",
     "output_type": "stream",
     "text": [
      "Best parameters: {'n_neighbors': 4, 'weights': 'uniform'}\n",
      "Best CV score: 0.66\n"
     ]
    }
   ],
   "source": [
    "print(\"Best parameters: {}\".format(grid_search.best_params_))\n",
    "print(\"Best CV score: {:.2f}\".format(grid_search.best_score_))"
   ]
  },
  {
   "cell_type": "code",
   "execution_count": 65,
   "metadata": {},
   "outputs": [
    {
     "name": "stdout",
     "output_type": "stream",
     "text": [
      "Best estimator:\n",
      "KNeighborsClassifier(algorithm='auto', leaf_size=30, metric='minkowski',\n",
      "                     metric_params=None, n_jobs=None, n_neighbors=4, p=2,\n",
      "                     weights='uniform')\n"
     ]
    }
   ],
   "source": [
    "print(\"Best estimator:\\n{}\".format(grid_search.best_estimator_))"
   ]
  },
  {
   "cell_type": "code",
   "execution_count": 66,
   "metadata": {},
   "outputs": [],
   "source": [
    "# In the case of SVM\n",
    "param_grid = [{'kernel': ['rbf'],\n",
    "               'C': [0.001, 0.01, 0.1, 1, 10, 100],\n",
    "               'gamma': [0.001, 0.01, 0.1, 1, 10, 100]},\n",
    "              {'kernel': ['linear'],\n",
    "               'C': [0.001, 0.01, 0.1, 1, 10, 100]}]"
   ]
  },
  {
   "cell_type": "code",
   "execution_count": 67,
   "metadata": {},
   "outputs": [
    {
     "data": {
      "text/plain": [
       "{'n_neighbors': <scipy.stats._distn_infrastructure.rv_frozen at 0x2745b08fe08>,\n",
       " 'weights': ['uniform', 'distance']}"
      ]
     },
     "execution_count": 67,
     "metadata": {},
     "output_type": "execute_result"
    }
   ],
   "source": [
    "#from scipy.stats import uniform as sp_rand\n",
    "from scipy.stats import randint as sp_randint\n",
    "# sp_randint(1, 100) : 1 ~ 100까지 랜덤한 정수값을 리턴\n",
    "# 랜덤CV가 돌때 함수가 실행\n",
    "param_grid = {'n_neighbors': sp_randint(1, 100), \n",
    "              'weights': ['uniform','distance']}\n",
    "param_grid"
   ]
  },
  {
   "cell_type": "code",
   "execution_count": 68,
   "metadata": {},
   "outputs": [
    {
     "data": {
      "text/plain": [
       "RandomizedSearchCV(cv=None, error_score=nan,\n",
       "                   estimator=KNeighborsClassifier(algorithm='auto',\n",
       "                                                  leaf_size=30,\n",
       "                                                  metric='minkowski',\n",
       "                                                  metric_params=None,\n",
       "                                                  n_jobs=None, n_neighbors=5,\n",
       "                                                  p=2, weights='uniform'),\n",
       "                   iid='deprecated', n_iter=20, n_jobs=None,\n",
       "                   param_distributions={'n_neighbors': <scipy.stats._distn_infrastructure.rv_frozen object at 0x000002745B08FE08>,\n",
       "                                        'weights': ['uniform', 'distance']},\n",
       "                   pre_dispatch='2*n_jobs', random_state=1, refit=True,\n",
       "                   return_train_score=False, scoring=None, verbose=0)"
      ]
     },
     "execution_count": 68,
     "metadata": {},
     "output_type": "execute_result"
    }
   ],
   "source": [
    "from sklearn.model_selection import RandomizedSearchCV\n",
    "rand_search = RandomizedSearchCV(KNeighborsClassifier(), param_distributions=param_grid, n_iter=20, random_state=1)\n",
    "# n_iter=20 : 이 중에 20개의 조합을 Random 하게 선택\n",
    "rand_search.fit(X_train, y_train)"
   ]
  },
  {
   "cell_type": "code",
   "execution_count": 69,
   "metadata": {},
   "outputs": [
    {
     "data": {
      "text/plain": [
       "0.7"
      ]
     },
     "execution_count": 69,
     "metadata": {},
     "output_type": "execute_result"
    }
   ],
   "source": [
    "rand_search.score(X_test, y_test)"
   ]
  },
  {
   "cell_type": "code",
   "execution_count": 70,
   "metadata": {},
   "outputs": [
    {
     "name": "stdout",
     "output_type": "stream",
     "text": [
      "Best estimator:\n",
      "KNeighborsClassifier(algorithm='auto', leaf_size=30, metric='minkowski',\n",
      "                     metric_params=None, n_jobs=None, n_neighbors=15, p=2,\n",
      "                     weights='uniform')\n"
     ]
    }
   ],
   "source": [
    "print(\"Best estimator:\\n{}\".format(rand_search.best_estimator_))"
   ]
  },
  {
   "cell_type": "code",
   "execution_count": 71,
   "metadata": {},
   "outputs": [],
   "source": [
    "from sklearn.dummy import DummyClassifier\n",
    "dummy = DummyClassifier(strategy='most_frequent').fit(X_train, y_train)\n",
    "pred_dummy = dummy.predict(X_test)"
   ]
  },
  {
   "cell_type": "code",
   "execution_count": 72,
   "metadata": {},
   "outputs": [],
   "source": [
    "from sklearn.tree import DecisionTreeClassifier\n",
    "tree = DecisionTreeClassifier(max_depth=2).fit(X_train, y_train)\n",
    "pred_tree = tree.predict(X_test)"
   ]
  },
  {
   "cell_type": "code",
   "execution_count": 73,
   "metadata": {},
   "outputs": [
    {
     "name": "stdout",
     "output_type": "stream",
     "text": [
      "Dummy model:\n",
      "0.52\n",
      "Decision tree:\n",
      "0.7866666666666666\n"
     ]
    }
   ],
   "source": [
    "from sklearn.metrics import accuracy_score\n",
    "print(\"Dummy model:\")\n",
    "print(accuracy_score(y_test, pred_dummy))\n",
    "print(\"Decision tree:\")\n",
    "print(accuracy_score(y_test, pred_tree))"
   ]
  },
  {
   "cell_type": "code",
   "execution_count": 74,
   "metadata": {},
   "outputs": [
    {
     "name": "stdout",
     "output_type": "stream",
     "text": [
      "Dummy model:\n",
      "[[78  0]\n",
      " [72  0]]\n",
      "Decision tree:\n",
      "[[74  4]\n",
      " [28 44]]\n"
     ]
    }
   ],
   "source": [
    "from sklearn.metrics import confusion_matrix\n",
    "print(\"Dummy model:\")\n",
    "print(confusion_matrix(y_test, pred_dummy))\n",
    "print(\"Decision tree:\")\n",
    "print(confusion_matrix(y_test, pred_tree))"
   ]
  },
  {
   "cell_type": "code",
   "execution_count": 75,
   "metadata": {},
   "outputs": [],
   "source": [
    "from sklearn.metrics import roc_curve\n",
    "from sklearn.metrics import auc"
   ]
  },
  {
   "cell_type": "code",
   "execution_count": 57,
   "metadata": {},
   "outputs": [
    {
     "data": {
      "image/png": "[encoded data removed]",
      "text/plain": [
       "<Figure size 432x288 with 1 Axes>"
      ]
     },
     "metadata": {
      "needs_background": "light"
     },
     "output_type": "display_data"
    }
   ],
   "source": [
    "import scikitplot as skplt\n",
    "from sklearn.naive_bayes import GaussianNB\n",
    "nb = GaussianNB()\n",
    "nb = nb.fit(X_train, y_train)\n",
    "y_probas = nb.predict_proba(X_test)\n",
    "skplt.metrics.plot_roc(y_test, y_probas)\n",
    "plt.show()"
   ]
  },
  {
   "cell_type": "code",
   "execution_count": 56,
   "metadata": {},
   "outputs": [
    {
     "name": "stdout",
     "output_type": "stream",
     "text": [
      "Collecting mglearn\n",
      "  Downloading mglearn-0.1.7.tar.gz (540 kB)\n",
      "Requirement already satisfied: numpy in c:\\users\\tj\\anaconda3\\lib\\site-packages (from mglearn) (1.18.1)\n",
      "Requirement already satisfied: matplotlib in c:\\users\\tj\\anaconda3\\lib\\site-packages (from mglearn) (3.1.3)\n",
      "Requirement already satisfied: scikit-learn in c:\\users\\tj\\anaconda3\\lib\\site-packages (from mglearn) (0.22.1)\n",
      "Requirement already satisfied: pandas in c:\\users\\tj\\anaconda3\\lib\\site-packages (from mglearn) (1.0.1)\n",
      "Requirement already satisfied: pillow in c:\\users\\tj\\anaconda3\\lib\\site-packages (from mglearn) (7.0.0)\n",
      "Requirement already satisfied: cycler in c:\\users\\tj\\anaconda3\\lib\\site-packages (from mglearn) (0.10.0)\n",
      "Requirement already satisfied: imageio in c:\\users\\tj\\anaconda3\\lib\\site-packages (from mglearn) (2.6.1)\n",
      "Requirement already satisfied: pyparsing!=2.0.4,!=2.1.2,!=2.1.6,>=2.0.1 in c:\\users\\tj\\anaconda3\\lib\\site-packages (from matplotlib->mglearn) (2.4.6)\n",
      "Requirement already satisfied: kiwisolver>=1.0.1 in c:\\users\\tj\\anaconda3\\lib\\site-packages (from matplotlib->mglearn) (1.1.0)\n",
      "Requirement already satisfied: python-dateutil>=2.1 in c:\\users\\tj\\anaconda3\\lib\\site-packages (from matplotlib->mglearn) (2.8.1)\n",
      "Requirement already satisfied: joblib>=0.11 in c:\\users\\tj\\anaconda3\\lib\\site-packages (from scikit-learn->mglearn) (0.14.1)\n",
      "Requirement already satisfied: scipy>=0.17.0 in c:\\users\\tj\\anaconda3\\lib\\site-packages (from scikit-learn->mglearn) (1.4.1)\n",
      "Requirement already satisfied: pytz>=2017.2 in c:\\users\\tj\\anaconda3\\lib\\site-packages (from pandas->mglearn) (2019.3)\n",
      "Requirement already satisfied: six in c:\\users\\tj\\anaconda3\\lib\\site-packages (from cycler->mglearn) (1.14.0)\n",
      "Requirement already satisfied: setuptools in c:\\users\\tj\\anaconda3\\lib\\site-packages (from kiwisolver>=1.0.1->matplotlib->mglearn) (45.2.0.post20200210)\n",
      "Building wheels for collected packages: mglearn\n",
      "  Building wheel for mglearn (setup.py): started\n",
      "  Building wheel for mglearn (setup.py): finished with status 'done'\n",
      "  Created wheel for mglearn: filename=mglearn-0.1.7-py2.py3-none-any.whl size=582711 sha256=011c939ac643caa498f9fef507b4e5027a2936339c05181cc2f478435bf504c0\n",
      "  Stored in directory: c:\\users\\tj\\appdata\\local\\pip\\cache\\wheels\\58\\01\\29\\2ff749b641757ff133833c59a56c88ef6a5f966050db2d31fe\n",
      "Successfully built mglearn\n",
      "Installing collected packages: mglearn\n",
      "Successfully installed mglearn-0.1.7\n"
     ]
    }
   ],
   "source": [
    "!pip install mglearn"
   ]
  },
  {
   "cell_type": "code",
   "execution_count": null,
   "metadata": {},
   "outputs": [],
   "source": []
  },
  {
   "cell_type": "code",
   "execution_count": 59,
   "metadata": {},
   "outputs": [],
   "source": [
    "from sklearn.dummy import DummyClassifier\n",
    "dummy = DummyClassifier(strategy='most_frequent').fit(X_train, y_train)\n",
    "pred_dummy = dummy.predict(X_test)"
   ]
  },
  {
   "cell_type": "code",
   "execution_count": 60,
   "metadata": {},
   "outputs": [],
   "source": [
    "from sklearn.tree import DecisionTreeClassifier\n",
    "tree = DecisionTreeClassifier(max_depth=2).fit(X_train, y_train)\n",
    "pred_tree = tree.predict(X_test)"
   ]
  },
  {
   "cell_type": "code",
   "execution_count": 61,
   "metadata": {},
   "outputs": [
    {
     "name": "stdout",
     "output_type": "stream",
     "text": [
      "Dummy model:\n",
      "0.52\n",
      "Decision tree:\n",
      "0.7866666666666666\n"
     ]
    }
   ],
   "source": [
    "from sklearn.metrics import accuracy_score\n",
    "print(\"Dummy model:\")\n",
    "print(accuracy_score(y_test, pred_dummy))\n",
    "print(\"Decision tree:\")\n",
    "print(accuracy_score(y_test, pred_tree))"
   ]
  },
  {
   "cell_type": "code",
   "execution_count": 62,
   "metadata": {},
   "outputs": [
    {
     "name": "stdout",
     "output_type": "stream",
     "text": [
      "Dummy model:\n",
      "[[78  0]\n",
      " [72  0]]\n",
      "Decision tree:\n",
      "[[74  4]\n",
      " [28 44]]\n"
     ]
    }
   ],
   "source": [
    "from sklearn.metrics import confusion_matrix\n",
    "print(\"Dummy model:\")\n",
    "print(confusion_matrix(y_test, pred_dummy))\n",
    "print(\"Decision tree:\")\n",
    "print(confusion_matrix(y_test, pred_tree))"
   ]
  },
  {
   "cell_type": "code",
   "execution_count": 63,
   "metadata": {},
   "outputs": [
    {
     "name": "stdout",
     "output_type": "stream",
     "text": [
      "Dummy model:\n",
      "              precision    recall  f1-score   support\n",
      "\n",
      "       not 9       0.52      1.00      0.68        78\n",
      "           9       0.00      0.00      0.00        72\n",
      "\n",
      "    accuracy                           0.52       150\n",
      "   macro avg       0.26      0.50      0.34       150\n",
      "weighted avg       0.27      0.52      0.36       150\n",
      "\n",
      "\n",
      "Decision tree:\n",
      "              precision    recall  f1-score   support\n",
      "\n",
      "       not 9       0.73      0.95      0.82        78\n",
      "           9       0.92      0.61      0.73        72\n",
      "\n",
      "    accuracy                           0.79       150\n",
      "   macro avg       0.82      0.78      0.78       150\n",
      "weighted avg       0.82      0.79      0.78       150\n",
      "\n"
     ]
    },
    {
     "name": "stderr",
     "output_type": "stream",
     "text": [
      "C:\\Users\\TJ\\anaconda3\\lib\\site-packages\\sklearn\\metrics\\_classification.py:1272: UndefinedMetricWarning: Precision and F-score are ill-defined and being set to 0.0 in labels with no predicted samples. Use `zero_division` parameter to control this behavior.\n",
      "  _warn_prf(average, modifier, msg_start, len(result))\n"
     ]
    }
   ],
   "source": [
    "from sklearn.metrics import classification_report\n",
    "print(\"Dummy model:\")\n",
    "print(classification_report(y_test, pred_dummy, \n",
    "                            target_names=[\"not 9\", \"9\"]))\n",
    "print(\"\\nDecision tree:\")\n",
    "print(classification_report(y_test, pred_tree, \n",
    "                            target_names=[\"not 9\", \"9\"]))"
   ]
  },
  {
   "cell_type": "code",
   "execution_count": null,
   "metadata": {},
   "outputs": [],
   "source": []
  }
 ],
 "metadata": {
  "kernelspec": {
   "display_name": "Python 3",
   "language": "python",
   "name": "python3"
  },
  "language_info": {
   "codemirror_mode": {
    "name": "ipython",
    "version": 3
   },
   "file_extension": ".py",
   "mimetype": "text/x-python",
   "name": "python",
   "nbconvert_exporter": "python",
   "pygments_lexer": "ipython3",
   "version": "3.7.6"
  }
 },
 "nbformat": 4,
 "nbformat_minor": 4
}
