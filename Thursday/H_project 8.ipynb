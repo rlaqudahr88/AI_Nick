{
 "cells": [
  {
   "cell_type": "code",
   "execution_count": 65,
   "metadata": {},
   "outputs": [],
   "source": [
    "import pandas as pd\n",
    "from pandas import Series, DataFrame\n",
    "import numpy as np\n",
    "import matplotlib.pyplot as plt\n",
    "%matplotlib inline\n",
    "\n",
    "import seaborn as sns"
   ]
  },
  {
   "cell_type": "code",
   "execution_count": 66,
   "metadata": {},
   "outputs": [],
   "source": [
    "train = pd.read_csv('train.csv', engine='python')\n",
    "test = pd.read_csv('test.csv', engine = 'python')"
   ]
  },
  {
   "cell_type": "code",
   "execution_count": 67,
   "metadata": {},
   "outputs": [
    {
     "name": "stdout",
     "output_type": "stream",
     "text": [
      "<class 'pandas.core.frame.DataFrame'>\n",
      "RangeIndex: 5000 entries, 0 to 4999\n",
      "Data columns (total 18 columns):\n",
      " #   Column     Non-Null Count  Dtype  \n",
      "---  ------     --------------  -----  \n",
      " 0   custid     5000 non-null   int64  \n",
      " 1   gender     5000 non-null   int64  \n",
      " 2   총구매액       5000 non-null   int64  \n",
      " 3   구매건수       5000 non-null   int64  \n",
      " 4   평균구매가격     5000 non-null   int64  \n",
      " 5   평균할부개월수    5000 non-null   float64\n",
      " 6   구매브랜드종류    5000 non-null   int64  \n",
      " 7   내점일수       5000 non-null   int64  \n",
      " 8   수입상품_구매비율  5000 non-null   float64\n",
      " 9   주말방문비율     5000 non-null   float64\n",
      " 10  가을_구매건수    4055 non-null   float64\n",
      " 11  겨울_구매건수    4103 non-null   float64\n",
      " 12  봄_구매건수     4311 non-null   float64\n",
      " 13  여름_구매건수    3978 non-null   float64\n",
      " 14  아침_구매건수    3558 non-null   float64\n",
      " 15  저녁_구매건수    4033 non-null   float64\n",
      " 16  점심_구매건수    4855 non-null   float64\n",
      " 17  주구매코너      5000 non-null   object \n",
      "dtypes: float64(10), int64(7), object(1)\n",
      "memory usage: 703.2+ KB\n"
     ]
    }
   ],
   "source": [
    "train.info()"
   ]
  },
  {
   "cell_type": "code",
   "execution_count": 68,
   "metadata": {},
   "outputs": [
    {
     "data": {
      "text/html": [
       "<div>\n",
       "<style scoped>\n",
       "    .dataframe tbody tr th:only-of-type {\n",
       "        vertical-align: middle;\n",
       "    }\n",
       "\n",
       "    .dataframe tbody tr th {\n",
       "        vertical-align: top;\n",
       "    }\n",
       "\n",
       "    .dataframe thead th {\n",
       "        text-align: right;\n",
       "    }\n",
       "</style>\n",
       "<table border=\"1\" class=\"dataframe\">\n",
       "  <thead>\n",
       "    <tr style=\"text-align: right;\">\n",
       "      <th></th>\n",
       "      <th>custid</th>\n",
       "      <th>gender</th>\n",
       "      <th>총구매액</th>\n",
       "      <th>구매건수</th>\n",
       "      <th>평균구매가격</th>\n",
       "      <th>평균할부개월수</th>\n",
       "      <th>구매브랜드종류</th>\n",
       "      <th>내점일수</th>\n",
       "      <th>수입상품_구매비율</th>\n",
       "      <th>주말방문비율</th>\n",
       "      <th>가을_구매건수</th>\n",
       "      <th>겨울_구매건수</th>\n",
       "      <th>봄_구매건수</th>\n",
       "      <th>여름_구매건수</th>\n",
       "      <th>아침_구매건수</th>\n",
       "      <th>저녁_구매건수</th>\n",
       "      <th>점심_구매건수</th>\n",
       "      <th>주구매코너</th>\n",
       "    </tr>\n",
       "  </thead>\n",
       "  <tbody>\n",
       "    <tr>\n",
       "      <th>0</th>\n",
       "      <td>18</td>\n",
       "      <td>0</td>\n",
       "      <td>680100</td>\n",
       "      <td>15</td>\n",
       "      <td>45340</td>\n",
       "      <td>1.7</td>\n",
       "      <td>9</td>\n",
       "      <td>10</td>\n",
       "      <td>26.7</td>\n",
       "      <td>100.0</td>\n",
       "      <td>NaN</td>\n",
       "      <td>9.0</td>\n",
       "      <td>6.0</td>\n",
       "      <td>NaN</td>\n",
       "      <td>NaN</td>\n",
       "      <td>6.0</td>\n",
       "      <td>9.0</td>\n",
       "      <td>화장품</td>\n",
       "    </tr>\n",
       "    <tr>\n",
       "      <th>1</th>\n",
       "      <td>21</td>\n",
       "      <td>0</td>\n",
       "      <td>353450</td>\n",
       "      <td>9</td>\n",
       "      <td>39272</td>\n",
       "      <td>1.2</td>\n",
       "      <td>6</td>\n",
       "      <td>8</td>\n",
       "      <td>11.1</td>\n",
       "      <td>37.5</td>\n",
       "      <td>NaN</td>\n",
       "      <td>5.0</td>\n",
       "      <td>4.0</td>\n",
       "      <td>NaN</td>\n",
       "      <td>3.0</td>\n",
       "      <td>NaN</td>\n",
       "      <td>6.0</td>\n",
       "      <td>영캐주얼</td>\n",
       "    </tr>\n",
       "    <tr>\n",
       "      <th>2</th>\n",
       "      <td>23</td>\n",
       "      <td>0</td>\n",
       "      <td>5671400</td>\n",
       "      <td>36</td>\n",
       "      <td>157539</td>\n",
       "      <td>2.8</td>\n",
       "      <td>22</td>\n",
       "      <td>16</td>\n",
       "      <td>5.6</td>\n",
       "      <td>37.5</td>\n",
       "      <td>7.0</td>\n",
       "      <td>17.0</td>\n",
       "      <td>12.0</td>\n",
       "      <td>NaN</td>\n",
       "      <td>10.0</td>\n",
       "      <td>11.0</td>\n",
       "      <td>15.0</td>\n",
       "      <td>장신구</td>\n",
       "    </tr>\n",
       "    <tr>\n",
       "      <th>3</th>\n",
       "      <td>26</td>\n",
       "      <td>0</td>\n",
       "      <td>1964000</td>\n",
       "      <td>28</td>\n",
       "      <td>70143</td>\n",
       "      <td>1.4</td>\n",
       "      <td>15</td>\n",
       "      <td>14</td>\n",
       "      <td>39.3</td>\n",
       "      <td>28.6</td>\n",
       "      <td>5.0</td>\n",
       "      <td>8.0</td>\n",
       "      <td>15.0</td>\n",
       "      <td>NaN</td>\n",
       "      <td>NaN</td>\n",
       "      <td>18.0</td>\n",
       "      <td>10.0</td>\n",
       "      <td>화장품</td>\n",
       "    </tr>\n",
       "    <tr>\n",
       "      <th>4</th>\n",
       "      <td>35</td>\n",
       "      <td>0</td>\n",
       "      <td>885000</td>\n",
       "      <td>5</td>\n",
       "      <td>177000</td>\n",
       "      <td>6.0</td>\n",
       "      <td>5</td>\n",
       "      <td>2</td>\n",
       "      <td>0.0</td>\n",
       "      <td>100.0</td>\n",
       "      <td>NaN</td>\n",
       "      <td>NaN</td>\n",
       "      <td>5.0</td>\n",
       "      <td>NaN</td>\n",
       "      <td>NaN</td>\n",
       "      <td>5.0</td>\n",
       "      <td>NaN</td>\n",
       "      <td>피혁A</td>\n",
       "    </tr>\n",
       "  </tbody>\n",
       "</table>\n",
       "</div>"
      ],
      "text/plain": [
       "   custid  gender     총구매액  구매건수  평균구매가격  평균할부개월수  구매브랜드종류  내점일수  수입상품_구매비율  \\\n",
       "0      18       0   680100    15   45340      1.7        9    10       26.7   \n",
       "1      21       0   353450     9   39272      1.2        6     8       11.1   \n",
       "2      23       0  5671400    36  157539      2.8       22    16        5.6   \n",
       "3      26       0  1964000    28   70143      1.4       15    14       39.3   \n",
       "4      35       0   885000     5  177000      6.0        5     2        0.0   \n",
       "\n",
       "   주말방문비율  가을_구매건수  겨울_구매건수  봄_구매건수  여름_구매건수  아침_구매건수  저녁_구매건수  점심_구매건수 주구매코너  \n",
       "0   100.0      NaN      9.0     6.0      NaN      NaN      6.0      9.0   화장품  \n",
       "1    37.5      NaN      5.0     4.0      NaN      3.0      NaN      6.0  영캐주얼  \n",
       "2    37.5      7.0     17.0    12.0      NaN     10.0     11.0     15.0   장신구  \n",
       "3    28.6      5.0      8.0    15.0      NaN      NaN     18.0     10.0   화장품  \n",
       "4   100.0      NaN      NaN     5.0      NaN      NaN      5.0      NaN   피혁A  "
      ]
     },
     "execution_count": 68,
     "metadata": {},
     "output_type": "execute_result"
    }
   ],
   "source": [
    "train.head()"
   ]
  },
  {
   "cell_type": "code",
   "execution_count": 69,
   "metadata": {},
   "outputs": [],
   "source": [
    "train = train.fillna(0)\n",
    "test = test.fillna(0)"
   ]
  },
  {
   "cell_type": "code",
   "execution_count": 70,
   "metadata": {},
   "outputs": [
    {
     "name": "stdout",
     "output_type": "stream",
     "text": [
      "<class 'pandas.core.frame.DataFrame'>\n",
      "RangeIndex: 5000 entries, 0 to 4999\n",
      "Data columns (total 18 columns):\n",
      " #   Column     Non-Null Count  Dtype  \n",
      "---  ------     --------------  -----  \n",
      " 0   custid     5000 non-null   int64  \n",
      " 1   gender     5000 non-null   int64  \n",
      " 2   총구매액       5000 non-null   int64  \n",
      " 3   구매건수       5000 non-null   int64  \n",
      " 4   평균구매가격     5000 non-null   int64  \n",
      " 5   평균할부개월수    5000 non-null   float64\n",
      " 6   구매브랜드종류    5000 non-null   int64  \n",
      " 7   내점일수       5000 non-null   int64  \n",
      " 8   수입상품_구매비율  5000 non-null   float64\n",
      " 9   주말방문비율     5000 non-null   float64\n",
      " 10  가을_구매건수    5000 non-null   float64\n",
      " 11  겨울_구매건수    5000 non-null   float64\n",
      " 12  봄_구매건수     5000 non-null   float64\n",
      " 13  여름_구매건수    5000 non-null   float64\n",
      " 14  아침_구매건수    5000 non-null   float64\n",
      " 15  저녁_구매건수    5000 non-null   float64\n",
      " 16  점심_구매건수    5000 non-null   float64\n",
      " 17  주구매코너      5000 non-null   object \n",
      "dtypes: float64(10), int64(7), object(1)\n",
      "memory usage: 703.2+ KB\n"
     ]
    }
   ],
   "source": [
    "train.info()"
   ]
  },
  {
   "cell_type": "code",
   "execution_count": 71,
   "metadata": {},
   "outputs": [],
   "source": [
    "train_ID = train['custid']\n",
    "test_id = test['custid']\n",
    "\n",
    "train.drop('custid', axis=1, inplace=True)\n",
    "test.drop('custid', axis=1, inplace=True)"
   ]
  },
  {
   "cell_type": "code",
   "execution_count": 72,
   "metadata": {},
   "outputs": [
    {
     "name": "stdout",
     "output_type": "stream",
     "text": [
      "<class 'pandas.core.frame.DataFrame'>\n",
      "RangeIndex: 5000 entries, 0 to 4999\n",
      "Data columns (total 17 columns):\n",
      " #   Column     Non-Null Count  Dtype  \n",
      "---  ------     --------------  -----  \n",
      " 0   gender     5000 non-null   int64  \n",
      " 1   총구매액       5000 non-null   int64  \n",
      " 2   구매건수       5000 non-null   int64  \n",
      " 3   평균구매가격     5000 non-null   int64  \n",
      " 4   평균할부개월수    5000 non-null   float64\n",
      " 5   구매브랜드종류    5000 non-null   int64  \n",
      " 6   내점일수       5000 non-null   int64  \n",
      " 7   수입상품_구매비율  5000 non-null   float64\n",
      " 8   주말방문비율     5000 non-null   float64\n",
      " 9   가을_구매건수    5000 non-null   float64\n",
      " 10  겨울_구매건수    5000 non-null   float64\n",
      " 11  봄_구매건수     5000 non-null   float64\n",
      " 12  여름_구매건수    5000 non-null   float64\n",
      " 13  아침_구매건수    5000 non-null   float64\n",
      " 14  저녁_구매건수    5000 non-null   float64\n",
      " 15  점심_구매건수    5000 non-null   float64\n",
      " 16  주구매코너      5000 non-null   object \n",
      "dtypes: float64(10), int64(6), object(1)\n",
      "memory usage: 664.2+ KB\n"
     ]
    }
   ],
   "source": [
    "train.info()"
   ]
  },
  {
   "cell_type": "code",
   "execution_count": 73,
   "metadata": {},
   "outputs": [
    {
     "name": "stdout",
     "output_type": "stream",
     "text": [
      "<class 'pandas.core.frame.DataFrame'>\n",
      "RangeIndex: 5000 entries, 0 to 4999\n",
      "Data columns (total 17 columns):\n",
      " #   Column          Non-Null Count  Dtype  \n",
      "---  ------          --------------  -----  \n",
      " 0   gender          5000 non-null   int64  \n",
      " 1   tot_price       5000 non-null   int64  \n",
      " 2   count           5000 non-null   int64  \n",
      " 3   avg_price       5000 non-null   int64  \n",
      " 4   avg_install     5000 non-null   float64\n",
      " 5   brand_category  5000 non-null   int64  \n",
      " 6   visited         5000 non-null   int64  \n",
      " 7   income_rate     5000 non-null   float64\n",
      " 8   week_visited    5000 non-null   float64\n",
      " 9   fall_count      5000 non-null   float64\n",
      " 10  wint_count      5000 non-null   float64\n",
      " 11  spring_count    5000 non-null   float64\n",
      " 12  summer_count    5000 non-null   float64\n",
      " 13  morning_count   5000 non-null   float64\n",
      " 14  night_count     5000 non-null   float64\n",
      " 15  after_count     5000 non-null   float64\n",
      " 16  major           5000 non-null   object \n",
      "dtypes: float64(10), int64(6), object(1)\n",
      "memory usage: 664.2+ KB\n"
     ]
    }
   ],
   "source": [
    "# 한글로 하면 계속 에러날거같으니까\n",
    "# 그냥 죄다 영어로 바꾸자\n",
    "# 나중에 어렵게하고싶지 않아.\n",
    "\n",
    "train=train.rename(columns={'총구매액':'tot_price', '구매건수':'count', \n",
    "                         '평균구매가격':'avg_price', '평균할부개월수':'avg_install',\n",
    "                         '구매브랜드종류':'brand_category', '내점일수':'visited', \n",
    "                         '수입상품_구매비율':'income_rate', '주말방문비율':'week_visited',\n",
    "                         '가을_구매건수':'fall_count', '겨울_구매건수':'wint_count',\n",
    "                         '봄_구매건수':'spring_count', '여름_구매건수':'summer_count',\n",
    "                         '아침_구매건수':'morning_count', '저녁_구매건수':'night_count',\n",
    "                         '점심_구매건수':'after_count', '주구매코너':'major'})\n",
    "train.info()"
   ]
  },
  {
   "cell_type": "code",
   "execution_count": 74,
   "metadata": {},
   "outputs": [
    {
     "data": {
      "text/plain": [
       "일반식품        1306\n",
       "화장품         1206\n",
       "유니캐주얼        410\n",
       "유아동복         383\n",
       "스포츠          301\n",
       "영캐주얼         246\n",
       "캐릭터캐주얼       188\n",
       "수입명품         136\n",
       "섬유            96\n",
       "트래디셔널캐주얼      91\n",
       "니트단품          91\n",
       "정장셔츠          90\n",
       "엘레강스캐주얼       78\n",
       "피혁A           75\n",
       "장신구           68\n",
       "피혁B           56\n",
       "디자이너부띠끄       51\n",
       "문화완구          38\n",
       "조리욕실          28\n",
       "가전            18\n",
       "기타바이어         12\n",
       "도자기크리스탈       11\n",
       "침구수예           8\n",
       "가구             7\n",
       "타운모피           6\n",
       "Name: major, dtype: int64"
      ]
     },
     "execution_count": 74,
     "metadata": {},
     "output_type": "execute_result"
    }
   ],
   "source": [
    "# 수치형으로 입력할경우 순위가 생기기떄문에 안됨\n",
    "# 그래서 one-hot 인코딩으로 \n",
    "\n",
    "\n",
    "\n",
    "train['major'].value_counts()"
   ]
  },
  {
   "cell_type": "code",
   "execution_count": 75,
   "metadata": {},
   "outputs": [
    {
     "data": {
      "text/plain": [
       "14    1306\n",
       "24    1206\n",
       "12     410\n",
       "13     383\n",
       "9      301\n",
       "11     246\n",
       "19     188\n",
       "8      136\n",
       "7       96\n",
       "21      91\n",
       "3       91\n",
       "16      90\n",
       "10      78\n",
       "22      75\n",
       "15      68\n",
       "23      56\n",
       "5       51\n",
       "6       38\n",
       "17      28\n",
       "1       18\n",
       "2       12\n",
       "4       11\n",
       "18       8\n",
       "0        7\n",
       "20       6\n",
       "Name: major, dtype: int64"
      ]
     },
     "execution_count": 75,
     "metadata": {},
     "output_type": "execute_result"
    }
   ],
   "source": [
    "# major를 숫자화 한다\n",
    "train['major'] = train['major'].astype('category')\n",
    "train['major'] = train['major'].cat.codes\n",
    "train['major'].value_counts()"
   ]
  },
  {
   "cell_type": "code",
   "execution_count": 76,
   "metadata": {},
   "outputs": [
    {
     "data": {
      "text/html": [
       "<div>\n",
       "<style scoped>\n",
       "    .dataframe tbody tr th:only-of-type {\n",
       "        vertical-align: middle;\n",
       "    }\n",
       "\n",
       "    .dataframe tbody tr th {\n",
       "        vertical-align: top;\n",
       "    }\n",
       "\n",
       "    .dataframe thead th {\n",
       "        text-align: right;\n",
       "    }\n",
       "</style>\n",
       "<table border=\"1\" class=\"dataframe\">\n",
       "  <thead>\n",
       "    <tr style=\"text-align: right;\">\n",
       "      <th></th>\n",
       "      <th>gender</th>\n",
       "      <th>tot_price</th>\n",
       "      <th>count</th>\n",
       "      <th>avg_price</th>\n",
       "      <th>avg_install</th>\n",
       "      <th>brand_category</th>\n",
       "      <th>visited</th>\n",
       "      <th>income_rate</th>\n",
       "      <th>week_visited</th>\n",
       "      <th>fall_count</th>\n",
       "      <th>wint_count</th>\n",
       "      <th>spring_count</th>\n",
       "      <th>summer_count</th>\n",
       "      <th>morning_count</th>\n",
       "      <th>night_count</th>\n",
       "      <th>after_count</th>\n",
       "      <th>major</th>\n",
       "    </tr>\n",
       "  </thead>\n",
       "  <tbody>\n",
       "    <tr>\n",
       "      <th>gender</th>\n",
       "      <td>1.000000</td>\n",
       "      <td>0.099137</td>\n",
       "      <td>0.094022</td>\n",
       "      <td>0.072181</td>\n",
       "      <td>-0.020066</td>\n",
       "      <td>0.083988</td>\n",
       "      <td>0.084255</td>\n",
       "      <td>-0.021294</td>\n",
       "      <td>0.020457</td>\n",
       "      <td>0.088600</td>\n",
       "      <td>0.065261</td>\n",
       "      <td>0.076116</td>\n",
       "      <td>0.101900</td>\n",
       "      <td>0.127779</td>\n",
       "      <td>-0.021618</td>\n",
       "      <td>0.097237</td>\n",
       "      <td>-0.039270</td>\n",
       "    </tr>\n",
       "    <tr>\n",
       "      <th>tot_price</th>\n",
       "      <td>0.099137</td>\n",
       "      <td>1.000000</td>\n",
       "      <td>0.712183</td>\n",
       "      <td>0.376395</td>\n",
       "      <td>0.137335</td>\n",
       "      <td>0.714774</td>\n",
       "      <td>0.617210</td>\n",
       "      <td>-0.048053</td>\n",
       "      <td>-0.048515</td>\n",
       "      <td>0.657523</td>\n",
       "      <td>0.620446</td>\n",
       "      <td>0.635757</td>\n",
       "      <td>0.619743</td>\n",
       "      <td>0.456158</td>\n",
       "      <td>0.398494</td>\n",
       "      <td>0.709572</td>\n",
       "      <td>-0.141735</td>\n",
       "    </tr>\n",
       "    <tr>\n",
       "      <th>count</th>\n",
       "      <td>0.094022</td>\n",
       "      <td>0.712183</td>\n",
       "      <td>1.000000</td>\n",
       "      <td>-0.057376</td>\n",
       "      <td>-0.037878</td>\n",
       "      <td>0.869075</td>\n",
       "      <td>0.942115</td>\n",
       "      <td>-0.210022</td>\n",
       "      <td>-0.096558</td>\n",
       "      <td>0.896969</td>\n",
       "      <td>0.879652</td>\n",
       "      <td>0.895580</td>\n",
       "      <td>0.883784</td>\n",
       "      <td>0.672721</td>\n",
       "      <td>0.643764</td>\n",
       "      <td>0.945027</td>\n",
       "      <td>-0.143826</td>\n",
       "    </tr>\n",
       "    <tr>\n",
       "      <th>avg_price</th>\n",
       "      <td>0.072181</td>\n",
       "      <td>0.376395</td>\n",
       "      <td>-0.057376</td>\n",
       "      <td>1.000000</td>\n",
       "      <td>0.407556</td>\n",
       "      <td>0.002931</td>\n",
       "      <td>-0.091136</td>\n",
       "      <td>0.189608</td>\n",
       "      <td>0.036426</td>\n",
       "      <td>-0.036019</td>\n",
       "      <td>-0.052918</td>\n",
       "      <td>-0.048857</td>\n",
       "      <td>-0.064851</td>\n",
       "      <td>-0.040362</td>\n",
       "      <td>-0.092749</td>\n",
       "      <td>-0.028726</td>\n",
       "      <td>-0.044333</td>\n",
       "    </tr>\n",
       "    <tr>\n",
       "      <th>avg_install</th>\n",
       "      <td>-0.020066</td>\n",
       "      <td>0.137335</td>\n",
       "      <td>-0.037878</td>\n",
       "      <td>0.407556</td>\n",
       "      <td>1.000000</td>\n",
       "      <td>-0.002074</td>\n",
       "      <td>-0.076343</td>\n",
       "      <td>0.097727</td>\n",
       "      <td>-0.001625</td>\n",
       "      <td>-0.018789</td>\n",
       "      <td>-0.039526</td>\n",
       "      <td>-0.033855</td>\n",
       "      <td>-0.041831</td>\n",
       "      <td>-0.047450</td>\n",
       "      <td>-0.051170</td>\n",
       "      <td>-0.014389</td>\n",
       "      <td>-0.021258</td>\n",
       "    </tr>\n",
       "    <tr>\n",
       "      <th>brand_category</th>\n",
       "      <td>0.083988</td>\n",
       "      <td>0.714774</td>\n",
       "      <td>0.869075</td>\n",
       "      <td>0.002931</td>\n",
       "      <td>-0.002074</td>\n",
       "      <td>1.000000</td>\n",
       "      <td>0.780303</td>\n",
       "      <td>-0.234547</td>\n",
       "      <td>-0.080674</td>\n",
       "      <td>0.777740</td>\n",
       "      <td>0.774681</td>\n",
       "      <td>0.784562</td>\n",
       "      <td>0.755035</td>\n",
       "      <td>0.582657</td>\n",
       "      <td>0.578552</td>\n",
       "      <td>0.813712</td>\n",
       "      <td>-0.166345</td>\n",
       "    </tr>\n",
       "    <tr>\n",
       "      <th>visited</th>\n",
       "      <td>0.084255</td>\n",
       "      <td>0.617210</td>\n",
       "      <td>0.942115</td>\n",
       "      <td>-0.091136</td>\n",
       "      <td>-0.076343</td>\n",
       "      <td>0.780303</td>\n",
       "      <td>1.000000</td>\n",
       "      <td>-0.225363</td>\n",
       "      <td>-0.114795</td>\n",
       "      <td>0.843133</td>\n",
       "      <td>0.836375</td>\n",
       "      <td>0.843763</td>\n",
       "      <td>0.827751</td>\n",
       "      <td>0.638138</td>\n",
       "      <td>0.634809</td>\n",
       "      <td>0.875888</td>\n",
       "      <td>-0.136688</td>\n",
       "    </tr>\n",
       "    <tr>\n",
       "      <th>income_rate</th>\n",
       "      <td>-0.021294</td>\n",
       "      <td>-0.048053</td>\n",
       "      <td>-0.210022</td>\n",
       "      <td>0.189608</td>\n",
       "      <td>0.097727</td>\n",
       "      <td>-0.234547</td>\n",
       "      <td>-0.225363</td>\n",
       "      <td>1.000000</td>\n",
       "      <td>0.016123</td>\n",
       "      <td>-0.183411</td>\n",
       "      <td>-0.185994</td>\n",
       "      <td>-0.193382</td>\n",
       "      <td>-0.184013</td>\n",
       "      <td>-0.133133</td>\n",
       "      <td>-0.170649</td>\n",
       "      <td>-0.186310</td>\n",
       "      <td>0.277087</td>\n",
       "    </tr>\n",
       "    <tr>\n",
       "      <th>week_visited</th>\n",
       "      <td>0.020457</td>\n",
       "      <td>-0.048515</td>\n",
       "      <td>-0.096558</td>\n",
       "      <td>0.036426</td>\n",
       "      <td>-0.001625</td>\n",
       "      <td>-0.080674</td>\n",
       "      <td>-0.114795</td>\n",
       "      <td>0.016123</td>\n",
       "      <td>1.000000</td>\n",
       "      <td>-0.084014</td>\n",
       "      <td>-0.071125</td>\n",
       "      <td>-0.093424</td>\n",
       "      <td>-0.092989</td>\n",
       "      <td>-0.113193</td>\n",
       "      <td>-0.006852</td>\n",
       "      <td>-0.094814</td>\n",
       "      <td>0.064942</td>\n",
       "    </tr>\n",
       "    <tr>\n",
       "      <th>fall_count</th>\n",
       "      <td>0.088600</td>\n",
       "      <td>0.657523</td>\n",
       "      <td>0.896969</td>\n",
       "      <td>-0.036019</td>\n",
       "      <td>-0.018789</td>\n",
       "      <td>0.777740</td>\n",
       "      <td>0.843133</td>\n",
       "      <td>-0.183411</td>\n",
       "      <td>-0.084014</td>\n",
       "      <td>1.000000</td>\n",
       "      <td>0.729604</td>\n",
       "      <td>0.732474</td>\n",
       "      <td>0.735223</td>\n",
       "      <td>0.607713</td>\n",
       "      <td>0.572024</td>\n",
       "      <td>0.848190</td>\n",
       "      <td>-0.119888</td>\n",
       "    </tr>\n",
       "    <tr>\n",
       "      <th>wint_count</th>\n",
       "      <td>0.065261</td>\n",
       "      <td>0.620446</td>\n",
       "      <td>0.879652</td>\n",
       "      <td>-0.052918</td>\n",
       "      <td>-0.039526</td>\n",
       "      <td>0.774681</td>\n",
       "      <td>0.836375</td>\n",
       "      <td>-0.185994</td>\n",
       "      <td>-0.071125</td>\n",
       "      <td>0.729604</td>\n",
       "      <td>1.000000</td>\n",
       "      <td>0.744485</td>\n",
       "      <td>0.677058</td>\n",
       "      <td>0.581196</td>\n",
       "      <td>0.601396</td>\n",
       "      <td>0.820325</td>\n",
       "      <td>-0.114669</td>\n",
       "    </tr>\n",
       "    <tr>\n",
       "      <th>spring_count</th>\n",
       "      <td>0.076116</td>\n",
       "      <td>0.635757</td>\n",
       "      <td>0.895580</td>\n",
       "      <td>-0.048857</td>\n",
       "      <td>-0.033855</td>\n",
       "      <td>0.784562</td>\n",
       "      <td>0.843763</td>\n",
       "      <td>-0.193382</td>\n",
       "      <td>-0.093424</td>\n",
       "      <td>0.732474</td>\n",
       "      <td>0.744485</td>\n",
       "      <td>1.000000</td>\n",
       "      <td>0.705626</td>\n",
       "      <td>0.615851</td>\n",
       "      <td>0.574172</td>\n",
       "      <td>0.841591</td>\n",
       "      <td>-0.129715</td>\n",
       "    </tr>\n",
       "    <tr>\n",
       "      <th>summer_count</th>\n",
       "      <td>0.101900</td>\n",
       "      <td>0.619743</td>\n",
       "      <td>0.883784</td>\n",
       "      <td>-0.064851</td>\n",
       "      <td>-0.041831</td>\n",
       "      <td>0.755035</td>\n",
       "      <td>0.827751</td>\n",
       "      <td>-0.184013</td>\n",
       "      <td>-0.092989</td>\n",
       "      <td>0.735223</td>\n",
       "      <td>0.677058</td>\n",
       "      <td>0.705626</td>\n",
       "      <td>1.000000</td>\n",
       "      <td>0.587149</td>\n",
       "      <td>0.545850</td>\n",
       "      <td>0.848644</td>\n",
       "      <td>-0.144630</td>\n",
       "    </tr>\n",
       "    <tr>\n",
       "      <th>morning_count</th>\n",
       "      <td>0.127779</td>\n",
       "      <td>0.456158</td>\n",
       "      <td>0.672721</td>\n",
       "      <td>-0.040362</td>\n",
       "      <td>-0.047450</td>\n",
       "      <td>0.582657</td>\n",
       "      <td>0.638138</td>\n",
       "      <td>-0.133133</td>\n",
       "      <td>-0.113193</td>\n",
       "      <td>0.607713</td>\n",
       "      <td>0.581196</td>\n",
       "      <td>0.615851</td>\n",
       "      <td>0.587149</td>\n",
       "      <td>1.000000</td>\n",
       "      <td>0.143963</td>\n",
       "      <td>0.526168</td>\n",
       "      <td>-0.116397</td>\n",
       "    </tr>\n",
       "    <tr>\n",
       "      <th>night_count</th>\n",
       "      <td>-0.021618</td>\n",
       "      <td>0.398494</td>\n",
       "      <td>0.643764</td>\n",
       "      <td>-0.092749</td>\n",
       "      <td>-0.051170</td>\n",
       "      <td>0.578552</td>\n",
       "      <td>0.634809</td>\n",
       "      <td>-0.170649</td>\n",
       "      <td>-0.006852</td>\n",
       "      <td>0.572024</td>\n",
       "      <td>0.601396</td>\n",
       "      <td>0.574172</td>\n",
       "      <td>0.545850</td>\n",
       "      <td>0.143963</td>\n",
       "      <td>1.000000</td>\n",
       "      <td>0.474426</td>\n",
       "      <td>-0.076110</td>\n",
       "    </tr>\n",
       "    <tr>\n",
       "      <th>after_count</th>\n",
       "      <td>0.097237</td>\n",
       "      <td>0.709572</td>\n",
       "      <td>0.945027</td>\n",
       "      <td>-0.028726</td>\n",
       "      <td>-0.014389</td>\n",
       "      <td>0.813712</td>\n",
       "      <td>0.875888</td>\n",
       "      <td>-0.186310</td>\n",
       "      <td>-0.094814</td>\n",
       "      <td>0.848190</td>\n",
       "      <td>0.820325</td>\n",
       "      <td>0.841591</td>\n",
       "      <td>0.848644</td>\n",
       "      <td>0.526168</td>\n",
       "      <td>0.474426</td>\n",
       "      <td>1.000000</td>\n",
       "      <td>-0.134694</td>\n",
       "    </tr>\n",
       "    <tr>\n",
       "      <th>major</th>\n",
       "      <td>-0.039270</td>\n",
       "      <td>-0.141735</td>\n",
       "      <td>-0.143826</td>\n",
       "      <td>-0.044333</td>\n",
       "      <td>-0.021258</td>\n",
       "      <td>-0.166345</td>\n",
       "      <td>-0.136688</td>\n",
       "      <td>0.277087</td>\n",
       "      <td>0.064942</td>\n",
       "      <td>-0.119888</td>\n",
       "      <td>-0.114669</td>\n",
       "      <td>-0.129715</td>\n",
       "      <td>-0.144630</td>\n",
       "      <td>-0.116397</td>\n",
       "      <td>-0.076110</td>\n",
       "      <td>-0.134694</td>\n",
       "      <td>1.000000</td>\n",
       "    </tr>\n",
       "  </tbody>\n",
       "</table>\n",
       "</div>"
      ],
      "text/plain": [
       "                  gender  tot_price     count  avg_price  avg_install  \\\n",
       "gender          1.000000   0.099137  0.094022   0.072181    -0.020066   \n",
       "tot_price       0.099137   1.000000  0.712183   0.376395     0.137335   \n",
       "count           0.094022   0.712183  1.000000  -0.057376    -0.037878   \n",
       "avg_price       0.072181   0.376395 -0.057376   1.000000     0.407556   \n",
       "avg_install    -0.020066   0.137335 -0.037878   0.407556     1.000000   \n",
       "brand_category  0.083988   0.714774  0.869075   0.002931    -0.002074   \n",
       "visited         0.084255   0.617210  0.942115  -0.091136    -0.076343   \n",
       "income_rate    -0.021294  -0.048053 -0.210022   0.189608     0.097727   \n",
       "week_visited    0.020457  -0.048515 -0.096558   0.036426    -0.001625   \n",
       "fall_count      0.088600   0.657523  0.896969  -0.036019    -0.018789   \n",
       "wint_count      0.065261   0.620446  0.879652  -0.052918    -0.039526   \n",
       "spring_count    0.076116   0.635757  0.895580  -0.048857    -0.033855   \n",
       "summer_count    0.101900   0.619743  0.883784  -0.064851    -0.041831   \n",
       "morning_count   0.127779   0.456158  0.672721  -0.040362    -0.047450   \n",
       "night_count    -0.021618   0.398494  0.643764  -0.092749    -0.051170   \n",
       "after_count     0.097237   0.709572  0.945027  -0.028726    -0.014389   \n",
       "major          -0.039270  -0.141735 -0.143826  -0.044333    -0.021258   \n",
       "\n",
       "                brand_category   visited  income_rate  week_visited  \\\n",
       "gender                0.083988  0.084255    -0.021294      0.020457   \n",
       "tot_price             0.714774  0.617210    -0.048053     -0.048515   \n",
       "count                 0.869075  0.942115    -0.210022     -0.096558   \n",
       "avg_price             0.002931 -0.091136     0.189608      0.036426   \n",
       "avg_install          -0.002074 -0.076343     0.097727     -0.001625   \n",
       "brand_category        1.000000  0.780303    -0.234547     -0.080674   \n",
       "visited               0.780303  1.000000    -0.225363     -0.114795   \n",
       "income_rate          -0.234547 -0.225363     1.000000      0.016123   \n",
       "week_visited         -0.080674 -0.114795     0.016123      1.000000   \n",
       "fall_count            0.777740  0.843133    -0.183411     -0.084014   \n",
       "wint_count            0.774681  0.836375    -0.185994     -0.071125   \n",
       "spring_count          0.784562  0.843763    -0.193382     -0.093424   \n",
       "summer_count          0.755035  0.827751    -0.184013     -0.092989   \n",
       "morning_count         0.582657  0.638138    -0.133133     -0.113193   \n",
       "night_count           0.578552  0.634809    -0.170649     -0.006852   \n",
       "after_count           0.813712  0.875888    -0.186310     -0.094814   \n",
       "major                -0.166345 -0.136688     0.277087      0.064942   \n",
       "\n",
       "                fall_count  wint_count  spring_count  summer_count  \\\n",
       "gender            0.088600    0.065261      0.076116      0.101900   \n",
       "tot_price         0.657523    0.620446      0.635757      0.619743   \n",
       "count             0.896969    0.879652      0.895580      0.883784   \n",
       "avg_price        -0.036019   -0.052918     -0.048857     -0.064851   \n",
       "avg_install      -0.018789   -0.039526     -0.033855     -0.041831   \n",
       "brand_category    0.777740    0.774681      0.784562      0.755035   \n",
       "visited           0.843133    0.836375      0.843763      0.827751   \n",
       "income_rate      -0.183411   -0.185994     -0.193382     -0.184013   \n",
       "week_visited     -0.084014   -0.071125     -0.093424     -0.092989   \n",
       "fall_count        1.000000    0.729604      0.732474      0.735223   \n",
       "wint_count        0.729604    1.000000      0.744485      0.677058   \n",
       "spring_count      0.732474    0.744485      1.000000      0.705626   \n",
       "summer_count      0.735223    0.677058      0.705626      1.000000   \n",
       "morning_count     0.607713    0.581196      0.615851      0.587149   \n",
       "night_count       0.572024    0.601396      0.574172      0.545850   \n",
       "after_count       0.848190    0.820325      0.841591      0.848644   \n",
       "major            -0.119888   -0.114669     -0.129715     -0.144630   \n",
       "\n",
       "                morning_count  night_count  after_count     major  \n",
       "gender               0.127779    -0.021618     0.097237 -0.039270  \n",
       "tot_price            0.456158     0.398494     0.709572 -0.141735  \n",
       "count                0.672721     0.643764     0.945027 -0.143826  \n",
       "avg_price           -0.040362    -0.092749    -0.028726 -0.044333  \n",
       "avg_install         -0.047450    -0.051170    -0.014389 -0.021258  \n",
       "brand_category       0.582657     0.578552     0.813712 -0.166345  \n",
       "visited              0.638138     0.634809     0.875888 -0.136688  \n",
       "income_rate         -0.133133    -0.170649    -0.186310  0.277087  \n",
       "week_visited        -0.113193    -0.006852    -0.094814  0.064942  \n",
       "fall_count           0.607713     0.572024     0.848190 -0.119888  \n",
       "wint_count           0.581196     0.601396     0.820325 -0.114669  \n",
       "spring_count         0.615851     0.574172     0.841591 -0.129715  \n",
       "summer_count         0.587149     0.545850     0.848644 -0.144630  \n",
       "morning_count        1.000000     0.143963     0.526168 -0.116397  \n",
       "night_count          0.143963     1.000000     0.474426 -0.076110  \n",
       "after_count          0.526168     0.474426     1.000000 -0.134694  \n",
       "major               -0.116397    -0.076110    -0.134694  1.000000  "
      ]
     },
     "execution_count": 76,
     "metadata": {},
     "output_type": "execute_result"
    }
   ],
   "source": [
    "df_corr = train.corr()\n",
    "df_corr"
   ]
  },
  {
   "cell_type": "code",
   "execution_count": 77,
   "metadata": {},
   "outputs": [
    {
     "data": {
      "text/html": [
       "<div>\n",
       "<style scoped>\n",
       "    .dataframe tbody tr th:only-of-type {\n",
       "        vertical-align: middle;\n",
       "    }\n",
       "\n",
       "    .dataframe tbody tr th {\n",
       "        vertical-align: top;\n",
       "    }\n",
       "\n",
       "    .dataframe thead th {\n",
       "        text-align: right;\n",
       "    }\n",
       "</style>\n",
       "<table border=\"1\" class=\"dataframe\">\n",
       "  <thead>\n",
       "    <tr style=\"text-align: right;\">\n",
       "      <th></th>\n",
       "      <th>gender</th>\n",
       "    </tr>\n",
       "  </thead>\n",
       "  <tbody>\n",
       "    <tr>\n",
       "      <th>gender</th>\n",
       "      <td>1.000000</td>\n",
       "    </tr>\n",
       "    <tr>\n",
       "      <th>morning_count</th>\n",
       "      <td>0.127779</td>\n",
       "    </tr>\n",
       "    <tr>\n",
       "      <th>summer_count</th>\n",
       "      <td>0.101900</td>\n",
       "    </tr>\n",
       "    <tr>\n",
       "      <th>tot_price</th>\n",
       "      <td>0.099137</td>\n",
       "    </tr>\n",
       "    <tr>\n",
       "      <th>after_count</th>\n",
       "      <td>0.097237</td>\n",
       "    </tr>\n",
       "    <tr>\n",
       "      <th>count</th>\n",
       "      <td>0.094022</td>\n",
       "    </tr>\n",
       "    <tr>\n",
       "      <th>fall_count</th>\n",
       "      <td>0.088600</td>\n",
       "    </tr>\n",
       "    <tr>\n",
       "      <th>visited</th>\n",
       "      <td>0.084255</td>\n",
       "    </tr>\n",
       "    <tr>\n",
       "      <th>brand_category</th>\n",
       "      <td>0.083988</td>\n",
       "    </tr>\n",
       "    <tr>\n",
       "      <th>spring_count</th>\n",
       "      <td>0.076116</td>\n",
       "    </tr>\n",
       "    <tr>\n",
       "      <th>avg_price</th>\n",
       "      <td>0.072181</td>\n",
       "    </tr>\n",
       "    <tr>\n",
       "      <th>wint_count</th>\n",
       "      <td>0.065261</td>\n",
       "    </tr>\n",
       "    <tr>\n",
       "      <th>major</th>\n",
       "      <td>0.039270</td>\n",
       "    </tr>\n",
       "    <tr>\n",
       "      <th>night_count</th>\n",
       "      <td>0.021618</td>\n",
       "    </tr>\n",
       "    <tr>\n",
       "      <th>income_rate</th>\n",
       "      <td>0.021294</td>\n",
       "    </tr>\n",
       "    <tr>\n",
       "      <th>week_visited</th>\n",
       "      <td>0.020457</td>\n",
       "    </tr>\n",
       "    <tr>\n",
       "      <th>avg_install</th>\n",
       "      <td>0.020066</td>\n",
       "    </tr>\n",
       "  </tbody>\n",
       "</table>\n",
       "</div>"
      ],
      "text/plain": [
       "                  gender\n",
       "gender          1.000000\n",
       "morning_count   0.127779\n",
       "summer_count    0.101900\n",
       "tot_price       0.099137\n",
       "after_count     0.097237\n",
       "count           0.094022\n",
       "fall_count      0.088600\n",
       "visited         0.084255\n",
       "brand_category  0.083988\n",
       "spring_count    0.076116\n",
       "avg_price       0.072181\n",
       "wint_count      0.065261\n",
       "major           0.039270\n",
       "night_count     0.021618\n",
       "income_rate     0.021294\n",
       "week_visited    0.020457\n",
       "avg_install     0.020066"
      ]
     },
     "execution_count": 77,
     "metadata": {},
     "output_type": "execute_result"
    }
   ],
   "source": [
    "pd.DataFrame(abs(train.corr()['gender']).sort_values(ascending = False))"
   ]
  },
  {
   "cell_type": "code",
   "execution_count": 78,
   "metadata": {},
   "outputs": [
    {
     "data": {
      "text/plain": [
       "gender            1.000000\n",
       "morning_count     0.016327\n",
       "summer_count      0.010384\n",
       "tot_price         0.009828\n",
       "after_count       0.009455\n",
       "count             0.008840\n",
       "fall_count        0.007850\n",
       "visited           0.007099\n",
       "brand_category    0.007054\n",
       "spring_count      0.005794\n",
       "avg_price         0.005210\n",
       "wint_count        0.004259\n",
       "major             0.001542\n",
       "night_count       0.000467\n",
       "income_rate       0.000453\n",
       "week_visited      0.000418\n",
       "avg_install       0.000403\n",
       "Name: gender, dtype: float64"
      ]
     },
     "execution_count": 78,
     "metadata": {},
     "output_type": "execute_result"
    }
   ],
   "source": [
    "## get the most important variables. \n",
    "corr = train.corr()**2\n",
    "corr.gender.sort_values(ascending=False)"
   ]
  },
  {
   "cell_type": "code",
   "execution_count": 79,
   "metadata": {},
   "outputs": [
    {
     "data": {
      "image/png": "[encoded data removed]",
      "text/plain": [
       "<Figure size 1080x864 with 2 Axes>"
      ]
     },
     "metadata": {},
     "output_type": "display_data"
    }
   ],
   "source": [
    "## heatmeap to see the correlation between features. \n",
    "# Generate a mask for the upper triangle (taken from seaborn example gallery)\n",
    "import numpy as np\n",
    "mask = np.zeros_like(train.corr(), dtype=np.bool)\n",
    "mask[np.triu_indices_from(mask)] = True\n",
    "sns.set_style('whitegrid')\n",
    "plt.subplots(figsize = (15,12))\n",
    "sns.heatmap(train.corr(), \n",
    "            annot=True,\n",
    "            mask = mask,\n",
    "            cmap = 'RdBu', ## in order to reverse the bar replace \"RdBu\" with \"RdBu_r\"\n",
    "            linewidths=.9, \n",
    "            linecolor='white',\n",
    "            fmt='.2g',\n",
    "            center = 0,\n",
    "            square=True)\n",
    "plt.title(\"Correlations Among Features\", y = 1.03,fontsize = 20, pad = 40);"
   ]
  },
  {
   "cell_type": "markdown",
   "metadata": {},
   "source": [
    "count and season count\n",
    "\n",
    "tot_price and count\n",
    "\n",
    "after_count and season count\n",
    "\n",
    "visited and brand category\n",
    "\n",
    "visited and count"
   ]
  },
  {
   "cell_type": "code",
   "execution_count": 132,
   "metadata": {},
   "outputs": [
    {
     "name": "stdout",
     "output_type": "stream",
     "text": [
      "Male after_count mean: 7.047337278106509\n",
      "female after_count mean: 7.595860879563093\n",
      "The mean difference between male and female after_count rate: 0.5485236014565835\n"
     ]
    }
   ],
   "source": [
    "#Computing T-statistics and P-value\n",
    "male_mean = train[train['gender'] == 1].night_count.mean()\n",
    "\n",
    "female_mean = train[train['gender'] == 0].night_count.mean()\n",
    "print (\"Male after_count mean: \" + str(male_mean))\n",
    "print (\"female after_count mean: \" + str(female_mean))\n",
    "\n",
    "print (\"The mean difference between male and female after_count rate: \" + str(female_mean - male_mean))"
   ]
  },
  {
   "cell_type": "code",
   "execution_count": 133,
   "metadata": {},
   "outputs": [
    {
     "name": "stdout",
     "output_type": "stream",
     "text": [
      "Male mean sample mean: 25.3\n",
      "Male mean sample mean: 19.59\n",
      "Difference between male and female mean sample mean: -5.71\n"
     ]
    }
   ],
   "source": [
    "# separating male and female dataframe. \n",
    "import random\n",
    "male = train[train['gender'] == 1]\n",
    "female = train[train['gender'] == 0]\n",
    "\n",
    "## empty list for storing mean sample\n",
    "m_mean_samples = []\n",
    "f_mean_samples = []\n",
    "\n",
    "for i in range(50):\n",
    "    m_mean_samples.append(np.mean(random.sample(list(male['after_count']),50,)))\n",
    "    f_mean_samples.append(np.mean(random.sample(list(female['after_count']),50,)))\n",
    "    \n",
    "\n",
    "# Print them out\n",
    "print (f\"Male mean sample mean: {round(np.mean(m_mean_samples),2)}\")\n",
    "print (f\"Male mean sample mean: {round(np.mean(f_mean_samples),2)}\")\n",
    "print (f\"Difference between male and female mean sample mean: {round(np.mean(f_mean_samples) - np.mean(m_mean_samples),2)}\")"
   ]
  },
  {
   "cell_type": "code",
   "execution_count": 81,
   "metadata": {},
   "outputs": [],
   "source": [
    "#feature engineering\n",
    "# introduce new feature\n",
    "train['tot_exported_goods'] = np.where((train['income_rate']!=0),\n",
    "                                (train['income_rate']* train['tot_price']) / 100, 0)"
   ]
  },
  {
   "cell_type": "code",
   "execution_count": 82,
   "metadata": {},
   "outputs": [
    {
     "data": {
      "text/html": [
       "<div>\n",
       "<style scoped>\n",
       "    .dataframe tbody tr th:only-of-type {\n",
       "        vertical-align: middle;\n",
       "    }\n",
       "\n",
       "    .dataframe tbody tr th {\n",
       "        vertical-align: top;\n",
       "    }\n",
       "\n",
       "    .dataframe thead th {\n",
       "        text-align: right;\n",
       "    }\n",
       "</style>\n",
       "<table border=\"1\" class=\"dataframe\">\n",
       "  <thead>\n",
       "    <tr style=\"text-align: right;\">\n",
       "      <th></th>\n",
       "      <th>gender</th>\n",
       "      <th>tot_price</th>\n",
       "      <th>count</th>\n",
       "      <th>avg_price</th>\n",
       "      <th>avg_install</th>\n",
       "      <th>brand_category</th>\n",
       "      <th>visited</th>\n",
       "      <th>income_rate</th>\n",
       "      <th>week_visited</th>\n",
       "      <th>major</th>\n",
       "      <th>tot_exported_goods</th>\n",
       "      <th>morning_price</th>\n",
       "      <th>after_price</th>\n",
       "      <th>night_price</th>\n",
       "      <th>spring_price</th>\n",
       "      <th>summer_price</th>\n",
       "      <th>fall_price</th>\n",
       "      <th>wint_price</th>\n",
       "      <th>visited_price</th>\n",
       "    </tr>\n",
       "  </thead>\n",
       "  <tbody>\n",
       "    <tr>\n",
       "      <th>39</th>\n",
       "      <td>0</td>\n",
       "      <td>454800</td>\n",
       "      <td>5</td>\n",
       "      <td>90960</td>\n",
       "      <td>3.0</td>\n",
       "      <td>4</td>\n",
       "      <td>4</td>\n",
       "      <td>20.0</td>\n",
       "      <td>25.0</td>\n",
       "      <td>2</td>\n",
       "      <td>90960.00</td>\n",
       "      <td>0.000</td>\n",
       "      <td>90960.000</td>\n",
       "      <td>363840.000</td>\n",
       "      <td>454800.000</td>\n",
       "      <td>0.000</td>\n",
       "      <td>0.000</td>\n",
       "      <td>0.000</td>\n",
       "      <td>1.250</td>\n",
       "    </tr>\n",
       "    <tr>\n",
       "      <th>478</th>\n",
       "      <td>0</td>\n",
       "      <td>4712934</td>\n",
       "      <td>19</td>\n",
       "      <td>248049</td>\n",
       "      <td>2.3</td>\n",
       "      <td>10</td>\n",
       "      <td>12</td>\n",
       "      <td>10.5</td>\n",
       "      <td>33.3</td>\n",
       "      <td>2</td>\n",
       "      <td>494858.07</td>\n",
       "      <td>992196.632</td>\n",
       "      <td>3224639.053</td>\n",
       "      <td>496098.316</td>\n",
       "      <td>744147.474</td>\n",
       "      <td>992196.632</td>\n",
       "      <td>1736344.105</td>\n",
       "      <td>1240245.789</td>\n",
       "      <td>1.583</td>\n",
       "    </tr>\n",
       "    <tr>\n",
       "      <th>1126</th>\n",
       "      <td>1</td>\n",
       "      <td>1497200</td>\n",
       "      <td>12</td>\n",
       "      <td>124767</td>\n",
       "      <td>3.8</td>\n",
       "      <td>8</td>\n",
       "      <td>8</td>\n",
       "      <td>25.0</td>\n",
       "      <td>62.5</td>\n",
       "      <td>2</td>\n",
       "      <td>374300.00</td>\n",
       "      <td>124766.667</td>\n",
       "      <td>499066.667</td>\n",
       "      <td>873366.667</td>\n",
       "      <td>249533.333</td>\n",
       "      <td>499066.667</td>\n",
       "      <td>748600.000</td>\n",
       "      <td>0.000</td>\n",
       "      <td>1.500</td>\n",
       "    </tr>\n",
       "    <tr>\n",
       "      <th>1265</th>\n",
       "      <td>0</td>\n",
       "      <td>951000</td>\n",
       "      <td>12</td>\n",
       "      <td>79250</td>\n",
       "      <td>1.7</td>\n",
       "      <td>10</td>\n",
       "      <td>3</td>\n",
       "      <td>0.0</td>\n",
       "      <td>33.3</td>\n",
       "      <td>2</td>\n",
       "      <td>0.00</td>\n",
       "      <td>554750.000</td>\n",
       "      <td>396250.000</td>\n",
       "      <td>0.000</td>\n",
       "      <td>158500.000</td>\n",
       "      <td>0.000</td>\n",
       "      <td>792500.000</td>\n",
       "      <td>0.000</td>\n",
       "      <td>4.000</td>\n",
       "    </tr>\n",
       "    <tr>\n",
       "      <th>1612</th>\n",
       "      <td>0</td>\n",
       "      <td>253000</td>\n",
       "      <td>8</td>\n",
       "      <td>31625</td>\n",
       "      <td>1.0</td>\n",
       "      <td>6</td>\n",
       "      <td>7</td>\n",
       "      <td>12.5</td>\n",
       "      <td>14.3</td>\n",
       "      <td>2</td>\n",
       "      <td>31625.00</td>\n",
       "      <td>63250.000</td>\n",
       "      <td>189750.000</td>\n",
       "      <td>0.000</td>\n",
       "      <td>94875.000</td>\n",
       "      <td>158125.000</td>\n",
       "      <td>0.000</td>\n",
       "      <td>0.000</td>\n",
       "      <td>1.143</td>\n",
       "    </tr>\n",
       "  </tbody>\n",
       "</table>\n",
       "</div>"
      ],
      "text/plain": [
       "      gender  tot_price  count  avg_price  avg_install  brand_category  \\\n",
       "39         0     454800      5      90960          3.0               4   \n",
       "478        0    4712934     19     248049          2.3              10   \n",
       "1126       1    1497200     12     124767          3.8               8   \n",
       "1265       0     951000     12      79250          1.7              10   \n",
       "1612       0     253000      8      31625          1.0               6   \n",
       "\n",
       "      visited  income_rate  week_visited  major  tot_exported_goods  \\\n",
       "39          4         20.0          25.0      2            90960.00   \n",
       "478        12         10.5          33.3      2           494858.07   \n",
       "1126        8         25.0          62.5      2           374300.00   \n",
       "1265        3          0.0          33.3      2                0.00   \n",
       "1612        7         12.5          14.3      2            31625.00   \n",
       "\n",
       "      morning_price  after_price  night_price  spring_price  summer_price  \\\n",
       "39            0.000    90960.000   363840.000    454800.000         0.000   \n",
       "478      992196.632  3224639.053   496098.316    744147.474    992196.632   \n",
       "1126     124766.667   499066.667   873366.667    249533.333    499066.667   \n",
       "1265     554750.000   396250.000        0.000    158500.000         0.000   \n",
       "1612      63250.000   189750.000        0.000     94875.000    158125.000   \n",
       "\n",
       "       fall_price   wint_price  visited_price  \n",
       "39          0.000        0.000          1.250  \n",
       "478   1736344.105  1240245.789          1.583  \n",
       "1126   748600.000        0.000          1.500  \n",
       "1265   792500.000        0.000          4.000  \n",
       "1612        0.000        0.000          1.143  "
      ]
     },
     "execution_count": 82,
     "metadata": {},
     "output_type": "execute_result"
    }
   ],
   "source": [
    "#feature engineering\n",
    "\n",
    "# 건수 Feature들을 최소단위 정보인 구매건당 구매액로 변경\n",
    "def createFeatures(df_p):\n",
    "    df_p['morning_price'] = np.round(df_p['tot_price']*(df_p['morning_count'] /df_p['count'] ), 3)\n",
    "    df_p['after_price'] = np.round(df_p['tot_price']*(df_p['after_count'] /df_p['count'] ), 3)\n",
    "    df_p['night_price'] = np.round(df_p['tot_price']*(df_p['night_count'] /df_p['count'] ), 3)  \n",
    "    df_p['spring_price']   = np.round(df_p['tot_price']*(df_p['spring_count'] /df_p['count'] ), 3) \n",
    "    df_p['summer_price'] = np.round(df_p['tot_price']*(df_p['summer_count'] /df_p['count'] ), 3) \n",
    "    df_p['fall_price'] = np.round(df_p['tot_price']*(df_p['fall_count'] /df_p['count'] ), 3)  \n",
    "    df_p['wint_price'] = np.round(df_p['tot_price']*(df_p['wint_count'] /df_p['count'] ), 3)  \n",
    "    df_p['visited_price'] = np.round(df_p['count'] /df_p['visited'], 3)\n",
    "\n",
    "def dropFeatures(df_p):\n",
    "    drop_cols = ['morning_count', 'after_count', 'night_count',\n",
    "         'spring_count', 'summer_count', 'fall_count', 'wint_count'] \n",
    "    \n",
    "    return df_p.drop(drop_cols, axis=1)\n",
    "\n",
    "createFeatures(train)\n",
    "dataPP = dropFeatures(train) \n",
    "dataPP[(dataPP['major']==2)].head()"
   ]
  },
  {
   "cell_type": "code",
   "execution_count": 83,
   "metadata": {},
   "outputs": [
    {
     "data": {
      "text/html": [
       "<div>\n",
       "<style scoped>\n",
       "    .dataframe tbody tr th:only-of-type {\n",
       "        vertical-align: middle;\n",
       "    }\n",
       "\n",
       "    .dataframe tbody tr th {\n",
       "        vertical-align: top;\n",
       "    }\n",
       "\n",
       "    .dataframe thead th {\n",
       "        text-align: right;\n",
       "    }\n",
       "</style>\n",
       "<table border=\"1\" class=\"dataframe\">\n",
       "  <thead>\n",
       "    <tr style=\"text-align: right;\">\n",
       "      <th></th>\n",
       "      <th>gender</th>\n",
       "      <th>tot_price</th>\n",
       "      <th>count</th>\n",
       "      <th>avg_price</th>\n",
       "      <th>avg_install</th>\n",
       "      <th>brand_category</th>\n",
       "      <th>visited</th>\n",
       "      <th>income_rate</th>\n",
       "      <th>week_visited</th>\n",
       "      <th>fall_count</th>\n",
       "      <th>...</th>\n",
       "      <th>major</th>\n",
       "      <th>tot_exported_goods</th>\n",
       "      <th>morning_price</th>\n",
       "      <th>after_price</th>\n",
       "      <th>night_price</th>\n",
       "      <th>spring_price</th>\n",
       "      <th>summer_price</th>\n",
       "      <th>fall_price</th>\n",
       "      <th>wint_price</th>\n",
       "      <th>visited_price</th>\n",
       "    </tr>\n",
       "  </thead>\n",
       "  <tbody>\n",
       "    <tr>\n",
       "      <th>0</th>\n",
       "      <td>0</td>\n",
       "      <td>680100</td>\n",
       "      <td>15</td>\n",
       "      <td>45340</td>\n",
       "      <td>1.7</td>\n",
       "      <td>9</td>\n",
       "      <td>10</td>\n",
       "      <td>26.7</td>\n",
       "      <td>100.0</td>\n",
       "      <td>0.0</td>\n",
       "      <td>...</td>\n",
       "      <td>24</td>\n",
       "      <td>181586.700</td>\n",
       "      <td>0.000</td>\n",
       "      <td>408060.000</td>\n",
       "      <td>272040.000</td>\n",
       "      <td>272040.000</td>\n",
       "      <td>0.000</td>\n",
       "      <td>0.000</td>\n",
       "      <td>408060.000</td>\n",
       "      <td>1.500</td>\n",
       "    </tr>\n",
       "    <tr>\n",
       "      <th>1</th>\n",
       "      <td>0</td>\n",
       "      <td>353450</td>\n",
       "      <td>9</td>\n",
       "      <td>39272</td>\n",
       "      <td>1.2</td>\n",
       "      <td>6</td>\n",
       "      <td>8</td>\n",
       "      <td>11.1</td>\n",
       "      <td>37.5</td>\n",
       "      <td>0.0</td>\n",
       "      <td>...</td>\n",
       "      <td>11</td>\n",
       "      <td>39232.950</td>\n",
       "      <td>117816.667</td>\n",
       "      <td>235633.333</td>\n",
       "      <td>0.000</td>\n",
       "      <td>157088.889</td>\n",
       "      <td>0.000</td>\n",
       "      <td>0.000</td>\n",
       "      <td>196361.111</td>\n",
       "      <td>1.125</td>\n",
       "    </tr>\n",
       "    <tr>\n",
       "      <th>2</th>\n",
       "      <td>0</td>\n",
       "      <td>5671400</td>\n",
       "      <td>36</td>\n",
       "      <td>157539</td>\n",
       "      <td>2.8</td>\n",
       "      <td>22</td>\n",
       "      <td>16</td>\n",
       "      <td>5.6</td>\n",
       "      <td>37.5</td>\n",
       "      <td>7.0</td>\n",
       "      <td>...</td>\n",
       "      <td>15</td>\n",
       "      <td>317598.400</td>\n",
       "      <td>1575388.889</td>\n",
       "      <td>2363083.333</td>\n",
       "      <td>1732927.778</td>\n",
       "      <td>1890466.667</td>\n",
       "      <td>0.000</td>\n",
       "      <td>1102772.222</td>\n",
       "      <td>2678161.111</td>\n",
       "      <td>2.250</td>\n",
       "    </tr>\n",
       "    <tr>\n",
       "      <th>3</th>\n",
       "      <td>0</td>\n",
       "      <td>1964000</td>\n",
       "      <td>28</td>\n",
       "      <td>70143</td>\n",
       "      <td>1.4</td>\n",
       "      <td>15</td>\n",
       "      <td>14</td>\n",
       "      <td>39.3</td>\n",
       "      <td>28.6</td>\n",
       "      <td>5.0</td>\n",
       "      <td>...</td>\n",
       "      <td>24</td>\n",
       "      <td>771852.000</td>\n",
       "      <td>0.000</td>\n",
       "      <td>701428.571</td>\n",
       "      <td>1262571.429</td>\n",
       "      <td>1052142.857</td>\n",
       "      <td>0.000</td>\n",
       "      <td>350714.286</td>\n",
       "      <td>561142.857</td>\n",
       "      <td>2.000</td>\n",
       "    </tr>\n",
       "    <tr>\n",
       "      <th>4</th>\n",
       "      <td>0</td>\n",
       "      <td>885000</td>\n",
       "      <td>5</td>\n",
       "      <td>177000</td>\n",
       "      <td>6.0</td>\n",
       "      <td>5</td>\n",
       "      <td>2</td>\n",
       "      <td>0.0</td>\n",
       "      <td>100.0</td>\n",
       "      <td>0.0</td>\n",
       "      <td>...</td>\n",
       "      <td>22</td>\n",
       "      <td>0.000</td>\n",
       "      <td>0.000</td>\n",
       "      <td>0.000</td>\n",
       "      <td>885000.000</td>\n",
       "      <td>885000.000</td>\n",
       "      <td>0.000</td>\n",
       "      <td>0.000</td>\n",
       "      <td>0.000</td>\n",
       "      <td>2.500</td>\n",
       "    </tr>\n",
       "    <tr>\n",
       "      <th>...</th>\n",
       "      <td>...</td>\n",
       "      <td>...</td>\n",
       "      <td>...</td>\n",
       "      <td>...</td>\n",
       "      <td>...</td>\n",
       "      <td>...</td>\n",
       "      <td>...</td>\n",
       "      <td>...</td>\n",
       "      <td>...</td>\n",
       "      <td>...</td>\n",
       "      <td>...</td>\n",
       "      <td>...</td>\n",
       "      <td>...</td>\n",
       "      <td>...</td>\n",
       "      <td>...</td>\n",
       "      <td>...</td>\n",
       "      <td>...</td>\n",
       "      <td>...</td>\n",
       "      <td>...</td>\n",
       "      <td>...</td>\n",
       "      <td>...</td>\n",
       "    </tr>\n",
       "    <tr>\n",
       "      <th>4995</th>\n",
       "      <td>1</td>\n",
       "      <td>6666517</td>\n",
       "      <td>93</td>\n",
       "      <td>71683</td>\n",
       "      <td>1.8</td>\n",
       "      <td>27</td>\n",
       "      <td>39</td>\n",
       "      <td>10.8</td>\n",
       "      <td>43.6</td>\n",
       "      <td>13.0</td>\n",
       "      <td>...</td>\n",
       "      <td>14</td>\n",
       "      <td>719983.836</td>\n",
       "      <td>573463.828</td>\n",
       "      <td>3154051.054</td>\n",
       "      <td>2939002.118</td>\n",
       "      <td>1003561.699</td>\n",
       "      <td>2365538.290</td>\n",
       "      <td>931878.720</td>\n",
       "      <td>2365538.290</td>\n",
       "      <td>2.385</td>\n",
       "    </tr>\n",
       "    <tr>\n",
       "      <th>4996</th>\n",
       "      <td>0</td>\n",
       "      <td>3112100</td>\n",
       "      <td>17</td>\n",
       "      <td>183065</td>\n",
       "      <td>3.6</td>\n",
       "      <td>10</td>\n",
       "      <td>13</td>\n",
       "      <td>29.4</td>\n",
       "      <td>38.5</td>\n",
       "      <td>4.0</td>\n",
       "      <td>...</td>\n",
       "      <td>5</td>\n",
       "      <td>914957.400</td>\n",
       "      <td>549194.118</td>\n",
       "      <td>2562905.882</td>\n",
       "      <td>0.000</td>\n",
       "      <td>1098388.235</td>\n",
       "      <td>183064.706</td>\n",
       "      <td>732258.824</td>\n",
       "      <td>1098388.235</td>\n",
       "      <td>1.308</td>\n",
       "    </tr>\n",
       "    <tr>\n",
       "      <th>4997</th>\n",
       "      <td>1</td>\n",
       "      <td>5852482</td>\n",
       "      <td>37</td>\n",
       "      <td>158175</td>\n",
       "      <td>2.6</td>\n",
       "      <td>14</td>\n",
       "      <td>21</td>\n",
       "      <td>40.5</td>\n",
       "      <td>19.0</td>\n",
       "      <td>12.0</td>\n",
       "      <td>...</td>\n",
       "      <td>24</td>\n",
       "      <td>2370255.210</td>\n",
       "      <td>2530803.027</td>\n",
       "      <td>3321678.973</td>\n",
       "      <td>0.000</td>\n",
       "      <td>949051.135</td>\n",
       "      <td>2056277.459</td>\n",
       "      <td>1898102.270</td>\n",
       "      <td>949051.135</td>\n",
       "      <td>1.762</td>\n",
       "    </tr>\n",
       "    <tr>\n",
       "      <th>4998</th>\n",
       "      <td>1</td>\n",
       "      <td>654498</td>\n",
       "      <td>13</td>\n",
       "      <td>50346</td>\n",
       "      <td>2.5</td>\n",
       "      <td>10</td>\n",
       "      <td>7</td>\n",
       "      <td>7.7</td>\n",
       "      <td>14.3</td>\n",
       "      <td>6.0</td>\n",
       "      <td>...</td>\n",
       "      <td>22</td>\n",
       "      <td>50396.346</td>\n",
       "      <td>0.000</td>\n",
       "      <td>553806.000</td>\n",
       "      <td>100692.000</td>\n",
       "      <td>100692.000</td>\n",
       "      <td>50346.000</td>\n",
       "      <td>302076.000</td>\n",
       "      <td>201384.000</td>\n",
       "      <td>1.857</td>\n",
       "    </tr>\n",
       "    <tr>\n",
       "      <th>4999</th>\n",
       "      <td>1</td>\n",
       "      <td>2554723</td>\n",
       "      <td>32</td>\n",
       "      <td>79835</td>\n",
       "      <td>1.7</td>\n",
       "      <td>9</td>\n",
       "      <td>26</td>\n",
       "      <td>21.9</td>\n",
       "      <td>34.6</td>\n",
       "      <td>6.0</td>\n",
       "      <td>...</td>\n",
       "      <td>14</td>\n",
       "      <td>559484.337</td>\n",
       "      <td>638680.750</td>\n",
       "      <td>1516866.781</td>\n",
       "      <td>399175.469</td>\n",
       "      <td>798350.938</td>\n",
       "      <td>878186.031</td>\n",
       "      <td>479010.562</td>\n",
       "      <td>399175.469</td>\n",
       "      <td>1.231</td>\n",
       "    </tr>\n",
       "  </tbody>\n",
       "</table>\n",
       "<p>5000 rows × 26 columns</p>\n",
       "</div>"
      ],
      "text/plain": [
       "      gender  tot_price  count  avg_price  avg_install  brand_category  \\\n",
       "0          0     680100     15      45340          1.7               9   \n",
       "1          0     353450      9      39272          1.2               6   \n",
       "2          0    5671400     36     157539          2.8              22   \n",
       "3          0    1964000     28      70143          1.4              15   \n",
       "4          0     885000      5     177000          6.0               5   \n",
       "...      ...        ...    ...        ...          ...             ...   \n",
       "4995       1    6666517     93      71683          1.8              27   \n",
       "4996       0    3112100     17     183065          3.6              10   \n",
       "4997       1    5852482     37     158175          2.6              14   \n",
       "4998       1     654498     13      50346          2.5              10   \n",
       "4999       1    2554723     32      79835          1.7               9   \n",
       "\n",
       "      visited  income_rate  week_visited  fall_count  ...  major  \\\n",
       "0          10         26.7         100.0         0.0  ...     24   \n",
       "1           8         11.1          37.5         0.0  ...     11   \n",
       "2          16          5.6          37.5         7.0  ...     15   \n",
       "3          14         39.3          28.6         5.0  ...     24   \n",
       "4           2          0.0         100.0         0.0  ...     22   \n",
       "...       ...          ...           ...         ...  ...    ...   \n",
       "4995       39         10.8          43.6        13.0  ...     14   \n",
       "4996       13         29.4          38.5         4.0  ...      5   \n",
       "4997       21         40.5          19.0        12.0  ...     24   \n",
       "4998        7          7.7          14.3         6.0  ...     22   \n",
       "4999       26         21.9          34.6         6.0  ...     14   \n",
       "\n",
       "      tot_exported_goods  morning_price  after_price  night_price  \\\n",
       "0             181586.700          0.000   408060.000   272040.000   \n",
       "1              39232.950     117816.667   235633.333        0.000   \n",
       "2             317598.400    1575388.889  2363083.333  1732927.778   \n",
       "3             771852.000          0.000   701428.571  1262571.429   \n",
       "4                  0.000          0.000        0.000   885000.000   \n",
       "...                  ...            ...          ...          ...   \n",
       "4995          719983.836     573463.828  3154051.054  2939002.118   \n",
       "4996          914957.400     549194.118  2562905.882        0.000   \n",
       "4997         2370255.210    2530803.027  3321678.973        0.000   \n",
       "4998           50396.346          0.000   553806.000   100692.000   \n",
       "4999          559484.337     638680.750  1516866.781   399175.469   \n",
       "\n",
       "      spring_price  summer_price   fall_price   wint_price  visited_price  \n",
       "0       272040.000         0.000        0.000   408060.000          1.500  \n",
       "1       157088.889         0.000        0.000   196361.111          1.125  \n",
       "2      1890466.667         0.000  1102772.222  2678161.111          2.250  \n",
       "3      1052142.857         0.000   350714.286   561142.857          2.000  \n",
       "4       885000.000         0.000        0.000        0.000          2.500  \n",
       "...            ...           ...          ...          ...            ...  \n",
       "4995   1003561.699   2365538.290   931878.720  2365538.290          2.385  \n",
       "4996   1098388.235    183064.706   732258.824  1098388.235          1.308  \n",
       "4997    949051.135   2056277.459  1898102.270   949051.135          1.762  \n",
       "4998    100692.000     50346.000   302076.000   201384.000          1.857  \n",
       "4999    798350.938    878186.031   479010.562   399175.469          1.231  \n",
       "\n",
       "[5000 rows x 26 columns]"
      ]
     },
     "execution_count": 83,
     "metadata": {},
     "output_type": "execute_result"
    }
   ],
   "source": [
    "train"
   ]
  },
  {
   "cell_type": "code",
   "execution_count": 84,
   "metadata": {},
   "outputs": [
    {
     "data": {
      "text/html": [
       "<div>\n",
       "<style scoped>\n",
       "    .dataframe tbody tr th:only-of-type {\n",
       "        vertical-align: middle;\n",
       "    }\n",
       "\n",
       "    .dataframe tbody tr th {\n",
       "        vertical-align: top;\n",
       "    }\n",
       "\n",
       "    .dataframe thead th {\n",
       "        text-align: right;\n",
       "    }\n",
       "</style>\n",
       "<table border=\"1\" class=\"dataframe\">\n",
       "  <thead>\n",
       "    <tr style=\"text-align: right;\">\n",
       "      <th></th>\n",
       "      <th>gender</th>\n",
       "      <th>tot_price</th>\n",
       "      <th>count</th>\n",
       "      <th>avg_price</th>\n",
       "      <th>avg_install</th>\n",
       "      <th>brand_category</th>\n",
       "      <th>visited</th>\n",
       "      <th>income_rate</th>\n",
       "      <th>week_visited</th>\n",
       "      <th>major</th>\n",
       "      <th>tot_exported_goods</th>\n",
       "      <th>morning_price</th>\n",
       "      <th>after_price</th>\n",
       "      <th>night_price</th>\n",
       "      <th>spring_price</th>\n",
       "      <th>summer_price</th>\n",
       "      <th>fall_price</th>\n",
       "      <th>wint_price</th>\n",
       "      <th>visited_price</th>\n",
       "    </tr>\n",
       "  </thead>\n",
       "  <tbody>\n",
       "    <tr>\n",
       "      <th>0</th>\n",
       "      <td>0</td>\n",
       "      <td>680100</td>\n",
       "      <td>15</td>\n",
       "      <td>45340</td>\n",
       "      <td>1.7</td>\n",
       "      <td>9</td>\n",
       "      <td>10</td>\n",
       "      <td>26.7</td>\n",
       "      <td>100.0</td>\n",
       "      <td>24</td>\n",
       "      <td>181586.700</td>\n",
       "      <td>0.000</td>\n",
       "      <td>408060.000</td>\n",
       "      <td>272040.000</td>\n",
       "      <td>272040.000</td>\n",
       "      <td>0.000</td>\n",
       "      <td>0.000</td>\n",
       "      <td>408060.000</td>\n",
       "      <td>1.500</td>\n",
       "    </tr>\n",
       "    <tr>\n",
       "      <th>1</th>\n",
       "      <td>0</td>\n",
       "      <td>353450</td>\n",
       "      <td>9</td>\n",
       "      <td>39272</td>\n",
       "      <td>1.2</td>\n",
       "      <td>6</td>\n",
       "      <td>8</td>\n",
       "      <td>11.1</td>\n",
       "      <td>37.5</td>\n",
       "      <td>11</td>\n",
       "      <td>39232.950</td>\n",
       "      <td>117816.667</td>\n",
       "      <td>235633.333</td>\n",
       "      <td>0.000</td>\n",
       "      <td>157088.889</td>\n",
       "      <td>0.000</td>\n",
       "      <td>0.000</td>\n",
       "      <td>196361.111</td>\n",
       "      <td>1.125</td>\n",
       "    </tr>\n",
       "    <tr>\n",
       "      <th>2</th>\n",
       "      <td>0</td>\n",
       "      <td>5671400</td>\n",
       "      <td>36</td>\n",
       "      <td>157539</td>\n",
       "      <td>2.8</td>\n",
       "      <td>22</td>\n",
       "      <td>16</td>\n",
       "      <td>5.6</td>\n",
       "      <td>37.5</td>\n",
       "      <td>15</td>\n",
       "      <td>317598.400</td>\n",
       "      <td>1575388.889</td>\n",
       "      <td>2363083.333</td>\n",
       "      <td>1732927.778</td>\n",
       "      <td>1890466.667</td>\n",
       "      <td>0.000</td>\n",
       "      <td>1102772.222</td>\n",
       "      <td>2678161.111</td>\n",
       "      <td>2.250</td>\n",
       "    </tr>\n",
       "    <tr>\n",
       "      <th>3</th>\n",
       "      <td>0</td>\n",
       "      <td>1964000</td>\n",
       "      <td>28</td>\n",
       "      <td>70143</td>\n",
       "      <td>1.4</td>\n",
       "      <td>15</td>\n",
       "      <td>14</td>\n",
       "      <td>39.3</td>\n",
       "      <td>28.6</td>\n",
       "      <td>24</td>\n",
       "      <td>771852.000</td>\n",
       "      <td>0.000</td>\n",
       "      <td>701428.571</td>\n",
       "      <td>1262571.429</td>\n",
       "      <td>1052142.857</td>\n",
       "      <td>0.000</td>\n",
       "      <td>350714.286</td>\n",
       "      <td>561142.857</td>\n",
       "      <td>2.000</td>\n",
       "    </tr>\n",
       "    <tr>\n",
       "      <th>4</th>\n",
       "      <td>0</td>\n",
       "      <td>885000</td>\n",
       "      <td>5</td>\n",
       "      <td>177000</td>\n",
       "      <td>6.0</td>\n",
       "      <td>5</td>\n",
       "      <td>2</td>\n",
       "      <td>0.0</td>\n",
       "      <td>100.0</td>\n",
       "      <td>22</td>\n",
       "      <td>0.000</td>\n",
       "      <td>0.000</td>\n",
       "      <td>0.000</td>\n",
       "      <td>885000.000</td>\n",
       "      <td>885000.000</td>\n",
       "      <td>0.000</td>\n",
       "      <td>0.000</td>\n",
       "      <td>0.000</td>\n",
       "      <td>2.500</td>\n",
       "    </tr>\n",
       "    <tr>\n",
       "      <th>...</th>\n",
       "      <td>...</td>\n",
       "      <td>...</td>\n",
       "      <td>...</td>\n",
       "      <td>...</td>\n",
       "      <td>...</td>\n",
       "      <td>...</td>\n",
       "      <td>...</td>\n",
       "      <td>...</td>\n",
       "      <td>...</td>\n",
       "      <td>...</td>\n",
       "      <td>...</td>\n",
       "      <td>...</td>\n",
       "      <td>...</td>\n",
       "      <td>...</td>\n",
       "      <td>...</td>\n",
       "      <td>...</td>\n",
       "      <td>...</td>\n",
       "      <td>...</td>\n",
       "      <td>...</td>\n",
       "    </tr>\n",
       "    <tr>\n",
       "      <th>4995</th>\n",
       "      <td>1</td>\n",
       "      <td>6666517</td>\n",
       "      <td>93</td>\n",
       "      <td>71683</td>\n",
       "      <td>1.8</td>\n",
       "      <td>27</td>\n",
       "      <td>39</td>\n",
       "      <td>10.8</td>\n",
       "      <td>43.6</td>\n",
       "      <td>14</td>\n",
       "      <td>719983.836</td>\n",
       "      <td>573463.828</td>\n",
       "      <td>3154051.054</td>\n",
       "      <td>2939002.118</td>\n",
       "      <td>1003561.699</td>\n",
       "      <td>2365538.290</td>\n",
       "      <td>931878.720</td>\n",
       "      <td>2365538.290</td>\n",
       "      <td>2.385</td>\n",
       "    </tr>\n",
       "    <tr>\n",
       "      <th>4996</th>\n",
       "      <td>0</td>\n",
       "      <td>3112100</td>\n",
       "      <td>17</td>\n",
       "      <td>183065</td>\n",
       "      <td>3.6</td>\n",
       "      <td>10</td>\n",
       "      <td>13</td>\n",
       "      <td>29.4</td>\n",
       "      <td>38.5</td>\n",
       "      <td>5</td>\n",
       "      <td>914957.400</td>\n",
       "      <td>549194.118</td>\n",
       "      <td>2562905.882</td>\n",
       "      <td>0.000</td>\n",
       "      <td>1098388.235</td>\n",
       "      <td>183064.706</td>\n",
       "      <td>732258.824</td>\n",
       "      <td>1098388.235</td>\n",
       "      <td>1.308</td>\n",
       "    </tr>\n",
       "    <tr>\n",
       "      <th>4997</th>\n",
       "      <td>1</td>\n",
       "      <td>5852482</td>\n",
       "      <td>37</td>\n",
       "      <td>158175</td>\n",
       "      <td>2.6</td>\n",
       "      <td>14</td>\n",
       "      <td>21</td>\n",
       "      <td>40.5</td>\n",
       "      <td>19.0</td>\n",
       "      <td>24</td>\n",
       "      <td>2370255.210</td>\n",
       "      <td>2530803.027</td>\n",
       "      <td>3321678.973</td>\n",
       "      <td>0.000</td>\n",
       "      <td>949051.135</td>\n",
       "      <td>2056277.459</td>\n",
       "      <td>1898102.270</td>\n",
       "      <td>949051.135</td>\n",
       "      <td>1.762</td>\n",
       "    </tr>\n",
       "    <tr>\n",
       "      <th>4998</th>\n",
       "      <td>1</td>\n",
       "      <td>654498</td>\n",
       "      <td>13</td>\n",
       "      <td>50346</td>\n",
       "      <td>2.5</td>\n",
       "      <td>10</td>\n",
       "      <td>7</td>\n",
       "      <td>7.7</td>\n",
       "      <td>14.3</td>\n",
       "      <td>22</td>\n",
       "      <td>50396.346</td>\n",
       "      <td>0.000</td>\n",
       "      <td>553806.000</td>\n",
       "      <td>100692.000</td>\n",
       "      <td>100692.000</td>\n",
       "      <td>50346.000</td>\n",
       "      <td>302076.000</td>\n",
       "      <td>201384.000</td>\n",
       "      <td>1.857</td>\n",
       "    </tr>\n",
       "    <tr>\n",
       "      <th>4999</th>\n",
       "      <td>1</td>\n",
       "      <td>2554723</td>\n",
       "      <td>32</td>\n",
       "      <td>79835</td>\n",
       "      <td>1.7</td>\n",
       "      <td>9</td>\n",
       "      <td>26</td>\n",
       "      <td>21.9</td>\n",
       "      <td>34.6</td>\n",
       "      <td>14</td>\n",
       "      <td>559484.337</td>\n",
       "      <td>638680.750</td>\n",
       "      <td>1516866.781</td>\n",
       "      <td>399175.469</td>\n",
       "      <td>798350.938</td>\n",
       "      <td>878186.031</td>\n",
       "      <td>479010.562</td>\n",
       "      <td>399175.469</td>\n",
       "      <td>1.231</td>\n",
       "    </tr>\n",
       "  </tbody>\n",
       "</table>\n",
       "<p>5000 rows × 19 columns</p>\n",
       "</div>"
      ],
      "text/plain": [
       "      gender  tot_price  count  avg_price  avg_install  brand_category  \\\n",
       "0          0     680100     15      45340          1.7               9   \n",
       "1          0     353450      9      39272          1.2               6   \n",
       "2          0    5671400     36     157539          2.8              22   \n",
       "3          0    1964000     28      70143          1.4              15   \n",
       "4          0     885000      5     177000          6.0               5   \n",
       "...      ...        ...    ...        ...          ...             ...   \n",
       "4995       1    6666517     93      71683          1.8              27   \n",
       "4996       0    3112100     17     183065          3.6              10   \n",
       "4997       1    5852482     37     158175          2.6              14   \n",
       "4998       1     654498     13      50346          2.5              10   \n",
       "4999       1    2554723     32      79835          1.7               9   \n",
       "\n",
       "      visited  income_rate  week_visited  major  tot_exported_goods  \\\n",
       "0          10         26.7         100.0     24          181586.700   \n",
       "1           8         11.1          37.5     11           39232.950   \n",
       "2          16          5.6          37.5     15          317598.400   \n",
       "3          14         39.3          28.6     24          771852.000   \n",
       "4           2          0.0         100.0     22               0.000   \n",
       "...       ...          ...           ...    ...                 ...   \n",
       "4995       39         10.8          43.6     14          719983.836   \n",
       "4996       13         29.4          38.5      5          914957.400   \n",
       "4997       21         40.5          19.0     24         2370255.210   \n",
       "4998        7          7.7          14.3     22           50396.346   \n",
       "4999       26         21.9          34.6     14          559484.337   \n",
       "\n",
       "      morning_price  after_price  night_price  spring_price  summer_price  \\\n",
       "0             0.000   408060.000   272040.000    272040.000         0.000   \n",
       "1        117816.667   235633.333        0.000    157088.889         0.000   \n",
       "2       1575388.889  2363083.333  1732927.778   1890466.667         0.000   \n",
       "3             0.000   701428.571  1262571.429   1052142.857         0.000   \n",
       "4             0.000        0.000   885000.000    885000.000         0.000   \n",
       "...             ...          ...          ...           ...           ...   \n",
       "4995     573463.828  3154051.054  2939002.118   1003561.699   2365538.290   \n",
       "4996     549194.118  2562905.882        0.000   1098388.235    183064.706   \n",
       "4997    2530803.027  3321678.973        0.000    949051.135   2056277.459   \n",
       "4998          0.000   553806.000   100692.000    100692.000     50346.000   \n",
       "4999     638680.750  1516866.781   399175.469    798350.938    878186.031   \n",
       "\n",
       "       fall_price   wint_price  visited_price  \n",
       "0           0.000   408060.000          1.500  \n",
       "1           0.000   196361.111          1.125  \n",
       "2     1102772.222  2678161.111          2.250  \n",
       "3      350714.286   561142.857          2.000  \n",
       "4           0.000        0.000          2.500  \n",
       "...           ...          ...            ...  \n",
       "4995   931878.720  2365538.290          2.385  \n",
       "4996   732258.824  1098388.235          1.308  \n",
       "4997  1898102.270   949051.135          1.762  \n",
       "4998   302076.000   201384.000          1.857  \n",
       "4999   479010.562   399175.469          1.231  \n",
       "\n",
       "[5000 rows x 19 columns]"
      ]
     },
     "execution_count": 84,
     "metadata": {},
     "output_type": "execute_result"
    }
   ],
   "source": [
    "dataPP"
   ]
  },
  {
   "cell_type": "code",
   "execution_count": 85,
   "metadata": {},
   "outputs": [
    {
     "data": {
      "text/plain": [
       "gender                1.000000\n",
       "morning_price         0.014550\n",
       "summer_price          0.010433\n",
       "tot_price             0.009828\n",
       "fall_price            0.009134\n",
       "after_price           0.008952\n",
       "count                 0.008840\n",
       "visited               0.007099\n",
       "brand_category        0.007054\n",
       "spring_price          0.006574\n",
       "wint_price            0.005555\n",
       "avg_price             0.005210\n",
       "tot_exported_goods    0.004293\n",
       "visited_price         0.002412\n",
       "major                 0.001542\n",
       "income_rate           0.000453\n",
       "week_visited          0.000418\n",
       "avg_install           0.000403\n",
       "night_price           0.000226\n",
       "Name: gender, dtype: float64"
      ]
     },
     "execution_count": 85,
     "metadata": {},
     "output_type": "execute_result"
    }
   ],
   "source": [
    "## get the most important variables. \n",
    "corr = dataPP.corr()**2\n",
    "corr.gender.sort_values(ascending=False)"
   ]
  },
  {
   "cell_type": "code",
   "execution_count": 86,
   "metadata": {},
   "outputs": [
    {
     "data": {
      "image/png": "[encoded data removed]",
      "text/plain": [
       "<Figure size 1080x864 with 2 Axes>"
      ]
     },
     "metadata": {},
     "output_type": "display_data"
    }
   ],
   "source": [
    "## heatmeap to see the correlation between features. \n",
    "# Generate a mask for the upper triangle (taken from seaborn example gallery)\n",
    "import numpy as np\n",
    "mask = np.zeros_like(dataPP.corr(), dtype=np.bool)\n",
    "mask[np.triu_indices_from(mask)] = True\n",
    "sns.set_style('whitegrid')\n",
    "plt.subplots(figsize = (15,12))\n",
    "sns.heatmap(dataPP.corr(), \n",
    "            annot=True,\n",
    "            mask = mask,\n",
    "            cmap = 'RdBu', ## in order to reverse the bar replace \"RdBu\" with \"RdBu_r\"\n",
    "            linewidths=.9, \n",
    "            linecolor='white',\n",
    "            fmt='.2g',\n",
    "            center = 0,\n",
    "            square=True)\n",
    "plt.title(\"Correlations Among Features\", y = 1.03,fontsize = 20, pad = 40);"
   ]
  },
  {
   "cell_type": "code",
   "execution_count": null,
   "metadata": {},
   "outputs": [],
   "source": []
  },
  {
   "cell_type": "code",
   "execution_count": 87,
   "metadata": {},
   "outputs": [],
   "source": [
    "# Pre-Modeling Tasks\n",
    "# separating our independent and dependent variable\n",
    "X = dataPP.drop(['gender', 'avg_install','income_rate'], axis = 1)\n",
    "y = dataPP[\"gender\"]"
   ]
  },
  {
   "cell_type": "code",
   "execution_count": 88,
   "metadata": {},
   "outputs": [],
   "source": [
    "from sklearn.model_selection import train_test_split\n",
    "X_train, X_test, y_train, y_test = train_test_split(X, y,test_size = .33, random_state=0)"
   ]
  },
  {
   "cell_type": "code",
   "execution_count": 89,
   "metadata": {},
   "outputs": [
    {
     "data": {
      "text/html": [
       "<div>\n",
       "<style scoped>\n",
       "    .dataframe tbody tr th:only-of-type {\n",
       "        vertical-align: middle;\n",
       "    }\n",
       "\n",
       "    .dataframe tbody tr th {\n",
       "        vertical-align: top;\n",
       "    }\n",
       "\n",
       "    .dataframe thead th {\n",
       "        text-align: right;\n",
       "    }\n",
       "</style>\n",
       "<table border=\"1\" class=\"dataframe\">\n",
       "  <thead>\n",
       "    <tr style=\"text-align: right;\">\n",
       "      <th></th>\n",
       "      <th>gender</th>\n",
       "      <th>tot_price</th>\n",
       "      <th>count</th>\n",
       "      <th>avg_price</th>\n",
       "      <th>avg_install</th>\n",
       "      <th>brand_category</th>\n",
       "      <th>visited</th>\n",
       "      <th>income_rate</th>\n",
       "      <th>week_visited</th>\n",
       "      <th>major</th>\n",
       "      <th>tot_exported_goods</th>\n",
       "      <th>morning_price</th>\n",
       "      <th>after_price</th>\n",
       "      <th>night_price</th>\n",
       "      <th>spring_price</th>\n",
       "      <th>summer_price</th>\n",
       "      <th>fall_price</th>\n",
       "      <th>wint_price</th>\n",
       "      <th>visited_price</th>\n",
       "    </tr>\n",
       "  </thead>\n",
       "  <tbody>\n",
       "    <tr>\n",
       "      <th>0</th>\n",
       "      <td>0</td>\n",
       "      <td>680100</td>\n",
       "      <td>15</td>\n",
       "      <td>45340</td>\n",
       "      <td>1.7</td>\n",
       "      <td>9</td>\n",
       "      <td>10</td>\n",
       "      <td>26.7</td>\n",
       "      <td>100.0</td>\n",
       "      <td>24</td>\n",
       "      <td>181586.700</td>\n",
       "      <td>0.000</td>\n",
       "      <td>408060.000</td>\n",
       "      <td>272040.000</td>\n",
       "      <td>272040.000</td>\n",
       "      <td>0.000</td>\n",
       "      <td>0.000</td>\n",
       "      <td>408060.000</td>\n",
       "      <td>1.500</td>\n",
       "    </tr>\n",
       "    <tr>\n",
       "      <th>1</th>\n",
       "      <td>0</td>\n",
       "      <td>353450</td>\n",
       "      <td>9</td>\n",
       "      <td>39272</td>\n",
       "      <td>1.2</td>\n",
       "      <td>6</td>\n",
       "      <td>8</td>\n",
       "      <td>11.1</td>\n",
       "      <td>37.5</td>\n",
       "      <td>11</td>\n",
       "      <td>39232.950</td>\n",
       "      <td>117816.667</td>\n",
       "      <td>235633.333</td>\n",
       "      <td>0.000</td>\n",
       "      <td>157088.889</td>\n",
       "      <td>0.000</td>\n",
       "      <td>0.000</td>\n",
       "      <td>196361.111</td>\n",
       "      <td>1.125</td>\n",
       "    </tr>\n",
       "    <tr>\n",
       "      <th>2</th>\n",
       "      <td>0</td>\n",
       "      <td>5671400</td>\n",
       "      <td>36</td>\n",
       "      <td>157539</td>\n",
       "      <td>2.8</td>\n",
       "      <td>22</td>\n",
       "      <td>16</td>\n",
       "      <td>5.6</td>\n",
       "      <td>37.5</td>\n",
       "      <td>15</td>\n",
       "      <td>317598.400</td>\n",
       "      <td>1575388.889</td>\n",
       "      <td>2363083.333</td>\n",
       "      <td>1732927.778</td>\n",
       "      <td>1890466.667</td>\n",
       "      <td>0.000</td>\n",
       "      <td>1102772.222</td>\n",
       "      <td>2678161.111</td>\n",
       "      <td>2.250</td>\n",
       "    </tr>\n",
       "    <tr>\n",
       "      <th>3</th>\n",
       "      <td>0</td>\n",
       "      <td>1964000</td>\n",
       "      <td>28</td>\n",
       "      <td>70143</td>\n",
       "      <td>1.4</td>\n",
       "      <td>15</td>\n",
       "      <td>14</td>\n",
       "      <td>39.3</td>\n",
       "      <td>28.6</td>\n",
       "      <td>24</td>\n",
       "      <td>771852.000</td>\n",
       "      <td>0.000</td>\n",
       "      <td>701428.571</td>\n",
       "      <td>1262571.429</td>\n",
       "      <td>1052142.857</td>\n",
       "      <td>0.000</td>\n",
       "      <td>350714.286</td>\n",
       "      <td>561142.857</td>\n",
       "      <td>2.000</td>\n",
       "    </tr>\n",
       "    <tr>\n",
       "      <th>4</th>\n",
       "      <td>0</td>\n",
       "      <td>885000</td>\n",
       "      <td>5</td>\n",
       "      <td>177000</td>\n",
       "      <td>6.0</td>\n",
       "      <td>5</td>\n",
       "      <td>2</td>\n",
       "      <td>0.0</td>\n",
       "      <td>100.0</td>\n",
       "      <td>22</td>\n",
       "      <td>0.000</td>\n",
       "      <td>0.000</td>\n",
       "      <td>0.000</td>\n",
       "      <td>885000.000</td>\n",
       "      <td>885000.000</td>\n",
       "      <td>0.000</td>\n",
       "      <td>0.000</td>\n",
       "      <td>0.000</td>\n",
       "      <td>2.500</td>\n",
       "    </tr>\n",
       "    <tr>\n",
       "      <th>...</th>\n",
       "      <td>...</td>\n",
       "      <td>...</td>\n",
       "      <td>...</td>\n",
       "      <td>...</td>\n",
       "      <td>...</td>\n",
       "      <td>...</td>\n",
       "      <td>...</td>\n",
       "      <td>...</td>\n",
       "      <td>...</td>\n",
       "      <td>...</td>\n",
       "      <td>...</td>\n",
       "      <td>...</td>\n",
       "      <td>...</td>\n",
       "      <td>...</td>\n",
       "      <td>...</td>\n",
       "      <td>...</td>\n",
       "      <td>...</td>\n",
       "      <td>...</td>\n",
       "      <td>...</td>\n",
       "    </tr>\n",
       "    <tr>\n",
       "      <th>4995</th>\n",
       "      <td>1</td>\n",
       "      <td>6666517</td>\n",
       "      <td>93</td>\n",
       "      <td>71683</td>\n",
       "      <td>1.8</td>\n",
       "      <td>27</td>\n",
       "      <td>39</td>\n",
       "      <td>10.8</td>\n",
       "      <td>43.6</td>\n",
       "      <td>14</td>\n",
       "      <td>719983.836</td>\n",
       "      <td>573463.828</td>\n",
       "      <td>3154051.054</td>\n",
       "      <td>2939002.118</td>\n",
       "      <td>1003561.699</td>\n",
       "      <td>2365538.290</td>\n",
       "      <td>931878.720</td>\n",
       "      <td>2365538.290</td>\n",
       "      <td>2.385</td>\n",
       "    </tr>\n",
       "    <tr>\n",
       "      <th>4996</th>\n",
       "      <td>0</td>\n",
       "      <td>3112100</td>\n",
       "      <td>17</td>\n",
       "      <td>183065</td>\n",
       "      <td>3.6</td>\n",
       "      <td>10</td>\n",
       "      <td>13</td>\n",
       "      <td>29.4</td>\n",
       "      <td>38.5</td>\n",
       "      <td>5</td>\n",
       "      <td>914957.400</td>\n",
       "      <td>549194.118</td>\n",
       "      <td>2562905.882</td>\n",
       "      <td>0.000</td>\n",
       "      <td>1098388.235</td>\n",
       "      <td>183064.706</td>\n",
       "      <td>732258.824</td>\n",
       "      <td>1098388.235</td>\n",
       "      <td>1.308</td>\n",
       "    </tr>\n",
       "    <tr>\n",
       "      <th>4997</th>\n",
       "      <td>1</td>\n",
       "      <td>5852482</td>\n",
       "      <td>37</td>\n",
       "      <td>158175</td>\n",
       "      <td>2.6</td>\n",
       "      <td>14</td>\n",
       "      <td>21</td>\n",
       "      <td>40.5</td>\n",
       "      <td>19.0</td>\n",
       "      <td>24</td>\n",
       "      <td>2370255.210</td>\n",
       "      <td>2530803.027</td>\n",
       "      <td>3321678.973</td>\n",
       "      <td>0.000</td>\n",
       "      <td>949051.135</td>\n",
       "      <td>2056277.459</td>\n",
       "      <td>1898102.270</td>\n",
       "      <td>949051.135</td>\n",
       "      <td>1.762</td>\n",
       "    </tr>\n",
       "    <tr>\n",
       "      <th>4998</th>\n",
       "      <td>1</td>\n",
       "      <td>654498</td>\n",
       "      <td>13</td>\n",
       "      <td>50346</td>\n",
       "      <td>2.5</td>\n",
       "      <td>10</td>\n",
       "      <td>7</td>\n",
       "      <td>7.7</td>\n",
       "      <td>14.3</td>\n",
       "      <td>22</td>\n",
       "      <td>50396.346</td>\n",
       "      <td>0.000</td>\n",
       "      <td>553806.000</td>\n",
       "      <td>100692.000</td>\n",
       "      <td>100692.000</td>\n",
       "      <td>50346.000</td>\n",
       "      <td>302076.000</td>\n",
       "      <td>201384.000</td>\n",
       "      <td>1.857</td>\n",
       "    </tr>\n",
       "    <tr>\n",
       "      <th>4999</th>\n",
       "      <td>1</td>\n",
       "      <td>2554723</td>\n",
       "      <td>32</td>\n",
       "      <td>79835</td>\n",
       "      <td>1.7</td>\n",
       "      <td>9</td>\n",
       "      <td>26</td>\n",
       "      <td>21.9</td>\n",
       "      <td>34.6</td>\n",
       "      <td>14</td>\n",
       "      <td>559484.337</td>\n",
       "      <td>638680.750</td>\n",
       "      <td>1516866.781</td>\n",
       "      <td>399175.469</td>\n",
       "      <td>798350.938</td>\n",
       "      <td>878186.031</td>\n",
       "      <td>479010.562</td>\n",
       "      <td>399175.469</td>\n",
       "      <td>1.231</td>\n",
       "    </tr>\n",
       "  </tbody>\n",
       "</table>\n",
       "<p>5000 rows × 19 columns</p>\n",
       "</div>"
      ],
      "text/plain": [
       "      gender  tot_price  count  avg_price  avg_install  brand_category  \\\n",
       "0          0     680100     15      45340          1.7               9   \n",
       "1          0     353450      9      39272          1.2               6   \n",
       "2          0    5671400     36     157539          2.8              22   \n",
       "3          0    1964000     28      70143          1.4              15   \n",
       "4          0     885000      5     177000          6.0               5   \n",
       "...      ...        ...    ...        ...          ...             ...   \n",
       "4995       1    6666517     93      71683          1.8              27   \n",
       "4996       0    3112100     17     183065          3.6              10   \n",
       "4997       1    5852482     37     158175          2.6              14   \n",
       "4998       1     654498     13      50346          2.5              10   \n",
       "4999       1    2554723     32      79835          1.7               9   \n",
       "\n",
       "      visited  income_rate  week_visited  major  tot_exported_goods  \\\n",
       "0          10         26.7         100.0     24          181586.700   \n",
       "1           8         11.1          37.5     11           39232.950   \n",
       "2          16          5.6          37.5     15          317598.400   \n",
       "3          14         39.3          28.6     24          771852.000   \n",
       "4           2          0.0         100.0     22               0.000   \n",
       "...       ...          ...           ...    ...                 ...   \n",
       "4995       39         10.8          43.6     14          719983.836   \n",
       "4996       13         29.4          38.5      5          914957.400   \n",
       "4997       21         40.5          19.0     24         2370255.210   \n",
       "4998        7          7.7          14.3     22           50396.346   \n",
       "4999       26         21.9          34.6     14          559484.337   \n",
       "\n",
       "      morning_price  after_price  night_price  spring_price  summer_price  \\\n",
       "0             0.000   408060.000   272040.000    272040.000         0.000   \n",
       "1        117816.667   235633.333        0.000    157088.889         0.000   \n",
       "2       1575388.889  2363083.333  1732927.778   1890466.667         0.000   \n",
       "3             0.000   701428.571  1262571.429   1052142.857         0.000   \n",
       "4             0.000        0.000   885000.000    885000.000         0.000   \n",
       "...             ...          ...          ...           ...           ...   \n",
       "4995     573463.828  3154051.054  2939002.118   1003561.699   2365538.290   \n",
       "4996     549194.118  2562905.882        0.000   1098388.235    183064.706   \n",
       "4997    2530803.027  3321678.973        0.000    949051.135   2056277.459   \n",
       "4998          0.000   553806.000   100692.000    100692.000     50346.000   \n",
       "4999     638680.750  1516866.781   399175.469    798350.938    878186.031   \n",
       "\n",
       "       fall_price   wint_price  visited_price  \n",
       "0           0.000   408060.000          1.500  \n",
       "1           0.000   196361.111          1.125  \n",
       "2     1102772.222  2678161.111          2.250  \n",
       "3      350714.286   561142.857          2.000  \n",
       "4           0.000        0.000          2.500  \n",
       "...           ...          ...            ...  \n",
       "4995   931878.720  2365538.290          2.385  \n",
       "4996   732258.824  1098388.235          1.308  \n",
       "4997  1898102.270   949051.135          1.762  \n",
       "4998   302076.000   201384.000          1.857  \n",
       "4999   479010.562   399175.469          1.231  \n",
       "\n",
       "[5000 rows x 19 columns]"
      ]
     },
     "execution_count": 89,
     "metadata": {},
     "output_type": "execute_result"
    }
   ],
   "source": [
    "dataPP"
   ]
  },
  {
   "cell_type": "code",
   "execution_count": 90,
   "metadata": {},
   "outputs": [],
   "source": [
    "# Feature Scaling\n",
    "## We will be using standardscaler to transform\n",
    "from sklearn.preprocessing import StandardScaler\n",
    "st_scale = StandardScaler()\n",
    "\n",
    "## transforming \"train_x\"\n",
    "X_train = st_scale.fit_transform(X_train)\n",
    "## transforming \"test_x\"\n",
    "X_test = st_scale.transform(X_test)\n",
    "\n",
    "## transforming \"The testset\"\n",
    "#test = st_scale.transform(test)"
   ]
  },
  {
   "cell_type": "code",
   "execution_count": 91,
   "metadata": {},
   "outputs": [
    {
     "data": {
      "text/plain": [
       "3350"
      ]
     },
     "execution_count": 91,
     "metadata": {},
     "output_type": "execute_result"
    }
   ],
   "source": [
    "len(X_train)"
   ]
  },
  {
   "cell_type": "code",
   "execution_count": 92,
   "metadata": {},
   "outputs": [
    {
     "data": {
      "text/plain": [
       "1650"
      ]
     },
     "execution_count": 92,
     "metadata": {},
     "output_type": "execute_result"
    }
   ],
   "source": [
    "len(X_test)"
   ]
  },
  {
   "cell_type": "code",
   "execution_count": 93,
   "metadata": {},
   "outputs": [],
   "source": [
    "#modeling\n",
    "\n",
    "# import LogisticRegression model in python. \n",
    "from sklearn.linear_model import LogisticRegression\n",
    "from sklearn.metrics import mean_absolute_error, accuracy_score\n",
    "\n",
    "## call on the model object\n",
    "logreg = LogisticRegression(solver='liblinear',\n",
    "                            penalty= 'l1',random_state = 42\n",
    "                                \n",
    "                            )\n",
    "\n",
    "## fit the model with \"train_x\" and \"train_y\"\n",
    "logreg.fit(X_train,y_train)\n",
    "\n",
    "## Once the model is trained we want to find out how well the model is performing, so we test the model. \n",
    "## we use \"X_test\" portion of the data(this data was not used to fit the model) to predict model outcome. \n",
    "y_pred = logreg.predict(X_test)\n",
    "\n",
    "## Once predicted we save that outcome in \"y_pred\" variable.\n",
    "## Then we compare the predicted value( \"y_pred\") and actual value(\"test_y\") to see how well our model is performing. "
   ]
  },
  {
   "cell_type": "code",
   "execution_count": 94,
   "metadata": {},
   "outputs": [
    {
     "name": "stdout",
     "output_type": "stream",
     "text": [
      "0.702\n"
     ]
    }
   ],
   "source": [
    "#Extra Trees Classifier\n",
    "from sklearn.ensemble import ExtraTreesClassifier\n",
    "ExtraTreesClassifier = ExtraTreesClassifier()\n",
    "ExtraTreesClassifier.fit(X, y)\n",
    "y_pred = ExtraTreesClassifier.predict(X_test)\n",
    "extraTree_accy = round(accuracy_score(y_pred, y_test), 3)\n",
    "print(extraTree_accy)"
   ]
  },
  {
   "cell_type": "code",
   "execution_count": 95,
   "metadata": {},
   "outputs": [],
   "source": [
    "#modeling\n",
    "\n",
    "# import LogisticRegression model in python. \n",
    "from sklearn.linear_model import LogisticRegression\n",
    "from sklearn.metrics import mean_absolute_error, accuracy_score\n",
    "\n",
    "## call on the model object\n",
    "logreg = LogisticRegression(solver='liblinear',\n",
    "                            penalty= 'l1',random_state = 42\n",
    "                                \n",
    "                            )\n",
    "\n",
    "## fit the model with \"train_x\" and \"train_y\"\n",
    "logreg.fit(X_train,y_train)\n",
    "\n",
    "## Once the model is trained we want to find out how well the model is performing, so we test the model. \n",
    "## we use \"X_test\" portion of the data(this data was not used to fit the model) to predict model outcome. \n",
    "y_pred = logreg.predict(X_test)\n",
    "\n",
    "## Once predicted we save that outcome in \"y_pred\" variable.\n",
    "## Then we compare the predicted value( \"y_pred\") and actual value(\"test_y\") to see how well our model is performing. "
   ]
  },
  {
   "cell_type": "code",
   "execution_count": 96,
   "metadata": {},
   "outputs": [
    {
     "data": {
      "text/html": [
       "<div>\n",
       "<style scoped>\n",
       "    .dataframe tbody tr th:only-of-type {\n",
       "        vertical-align: middle;\n",
       "    }\n",
       "\n",
       "    .dataframe tbody tr th {\n",
       "        vertical-align: top;\n",
       "    }\n",
       "\n",
       "    .dataframe thead th {\n",
       "        text-align: right;\n",
       "    }\n",
       "</style>\n",
       "<table border=\"1\" class=\"dataframe\">\n",
       "  <thead>\n",
       "    <tr style=\"text-align: right;\">\n",
       "      <th></th>\n",
       "      <th>Predicted female gender</th>\n",
       "      <th>Predicted male gender</th>\n",
       "    </tr>\n",
       "  </thead>\n",
       "  <tbody>\n",
       "    <tr>\n",
       "      <th>female</th>\n",
       "      <td>1126</td>\n",
       "      <td>33</td>\n",
       "    </tr>\n",
       "    <tr>\n",
       "      <th>male</th>\n",
       "      <td>463</td>\n",
       "      <td>28</td>\n",
       "    </tr>\n",
       "  </tbody>\n",
       "</table>\n",
       "</div>"
      ],
      "text/plain": [
       "        Predicted female gender  Predicted male gender\n",
       "female                     1126                     33\n",
       "male                        463                     28"
      ]
     },
     "execution_count": 96,
     "metadata": {},
     "output_type": "execute_result"
    }
   ],
   "source": [
    "from sklearn.metrics import classification_report, confusion_matrix\n",
    "# printing confision matrix`\n",
    "pd.DataFrame(confusion_matrix(y_test,y_pred),\\\n",
    "            columns=[\"Predicted female gender\", \"Predicted male gender\"],\\\n",
    "            index=[\"female\",\"male\"] )"
   ]
  },
  {
   "cell_type": "code",
   "execution_count": 97,
   "metadata": {},
   "outputs": [
    {
     "data": {
      "text/plain": [
       "0.6993939393939393"
      ]
     },
     "execution_count": 97,
     "metadata": {},
     "output_type": "execute_result"
    }
   ],
   "source": [
    "from sklearn.metrics import accuracy_score\n",
    "accuracy_score(y_test, y_pred)"
   ]
  },
  {
   "cell_type": "code",
   "execution_count": 98,
   "metadata": {},
   "outputs": [
    {
     "data": {
      "text/plain": [
       "0.05702647657841141"
      ]
     },
     "execution_count": 98,
     "metadata": {},
     "output_type": "execute_result"
    }
   ],
   "source": [
    "from sklearn.metrics import recall_score\n",
    "recall_score(y_test, y_pred)"
   ]
  },
  {
   "cell_type": "code",
   "execution_count": 99,
   "metadata": {},
   "outputs": [
    {
     "data": {
      "text/plain": [
       "0.45901639344262296"
      ]
     },
     "execution_count": 99,
     "metadata": {},
     "output_type": "execute_result"
    }
   ],
   "source": [
    "from sklearn.metrics import precision_score\n",
    "precision_score(y_test, y_pred)"
   ]
  },
  {
   "cell_type": "code",
   "execution_count": 100,
   "metadata": {},
   "outputs": [
    {
     "name": "stdout",
     "output_type": "stream",
     "text": [
      "              precision    recall  f1-score   support\n",
      "\n",
      "           0       0.71      0.97      0.82      1159\n",
      "           1       0.46      0.06      0.10       491\n",
      "\n",
      "    accuracy                           0.70      1650\n",
      "   macro avg       0.58      0.51      0.46      1650\n",
      "weighted avg       0.63      0.70      0.61      1650\n",
      "\n"
     ]
    }
   ],
   "source": [
    "from sklearn.metrics import classification_report, balanced_accuracy_score\n",
    "print(classification_report(y_test, y_pred))"
   ]
  },
  {
   "cell_type": "code",
   "execution_count": 101,
   "metadata": {},
   "outputs": [
    {
     "name": "stdout",
     "output_type": "stream",
     "text": [
      "Confusion matrix, without normalization\n",
      "[[1126   33]\n",
      " [ 463   28]]\n",
      "Normalized confusion matrix\n",
      "[[0.97 0.03]\n",
      " [0.94 0.06]]\n"
     ]
    },
    {
     "data": {
      "image/png": "[encoded data removed]",
      "text/plain": [
       "<Figure size 432x288 with 2 Axes>"
      ]
     },
     "metadata": {},
     "output_type": "display_data"
    },
    {
     "data": {
      "image/png": "[encoded data removed]",
      "text/plain": [
       "<Figure size 432x288 with 2 Axes>"
      ]
     },
     "metadata": {},
     "output_type": "display_data"
    }
   ],
   "source": [
    "from sklearn.utils.multiclass import unique_labels\n",
    "from sklearn.metrics import confusion_matrix\n",
    "\n",
    "\n",
    "def plot_confusion_matrix(y_true, y_pred, classes,\n",
    "                          normalize=False,\n",
    "                          title=None,\n",
    "                          cmap=plt.cm.Blues):\n",
    "    \"\"\"\n",
    "    This function prints and plots the confusion matrix.\n",
    "    Normalization can be applied by setting `normalize=True`.\n",
    "    \"\"\"\n",
    "    if not title:\n",
    "        if normalize:\n",
    "            title = 'Normalized confusion matrix'\n",
    "        else:\n",
    "            title = 'Confusion matrix, without normalization'\n",
    "\n",
    "    # Compute confusion matrix\n",
    "    cm = confusion_matrix(y_true, y_pred)\n",
    "    # Only use the labels that appear in the data\n",
    "    classes = classes[unique_labels(y_true, y_pred)]\n",
    "    if normalize:\n",
    "        cm = cm.astype('float') / cm.sum(axis=1)[:, np.newaxis]\n",
    "        print(\"Normalized confusion matrix\")\n",
    "    else:\n",
    "        print('Confusion matrix, without normalization')\n",
    "\n",
    "    print(cm)\n",
    "\n",
    "    fig, ax = plt.subplots()\n",
    "    im = ax.imshow(cm, interpolation='nearest', cmap=cmap)\n",
    "    ax.figure.colorbar(im, ax=ax)\n",
    "    # We want to show all ticks...\n",
    "    ax.set(xticks=np.arange(cm.shape[1]),\n",
    "           yticks=np.arange(cm.shape[0]),\n",
    "           # ... and label them with the respective list entries\n",
    "           xticklabels=classes, yticklabels=classes,\n",
    "           title=title,\n",
    "           ylabel='True label',\n",
    "           xlabel='Predicted label')\n",
    "\n",
    "    # Rotate the tick labels and set their alignment.\n",
    "    plt.setp(ax.get_xticklabels(), rotation=45, ha=\"right\",\n",
    "             rotation_mode=\"anchor\")\n",
    "\n",
    "    # Loop over data dimensions and create text annotations.\n",
    "    fmt = '.2f' if normalize else 'd'\n",
    "    thresh = cm.max() / 2.\n",
    "    for i in range(cm.shape[0]):\n",
    "        for j in range(cm.shape[1]):\n",
    "            ax.text(j, i, format(cm[i, j], fmt),\n",
    "                    ha=\"center\", va=\"center\",\n",
    "                    color=\"white\" if cm[i, j] > thresh else \"black\")\n",
    "    fig.tight_layout()\n",
    "    return ax\n",
    "\n",
    "\n",
    "np.set_printoptions(precision=2)\n",
    "\n",
    "class_names = np.array(['female','male'])\n",
    "\n",
    "# Plot non-normalized confusion matrix\n",
    "plot_confusion_matrix(y_test, y_pred, classes=class_names,\n",
    "                      title='Confusion matrix, without normalization')\n",
    "\n",
    "# Plot normalized confusion matrix\n",
    "plot_confusion_matrix(y_test, y_pred, classes=class_names, normalize=True,\n",
    "                      title='Normalized confusion matrix')\n",
    "\n",
    "plt.show()"
   ]
  },
  {
   "cell_type": "code",
   "execution_count": 102,
   "metadata": {},
   "outputs": [
    {
     "name": "stdout",
     "output_type": "stream",
     "text": [
      "0.5736149746340075\n"
     ]
    },
    {
     "data": {
      "image/png": "[encoded data removed]",
      "text/plain": [
       "<Figure size 792x648 with 1 Axes>"
      ]
     },
     "metadata": {},
     "output_type": "display_data"
    }
   ],
   "source": [
    "from sklearn.metrics import roc_curve, auc\n",
    "#plt.style.use('seaborn-pastel')\n",
    "y_score = logreg.decision_function(X_test)\n",
    "\n",
    "FPR, TPR, _ = roc_curve(y_test, y_score)\n",
    "ROC_AUC = auc(FPR, TPR)\n",
    "print (ROC_AUC)\n",
    "\n",
    "plt.figure(figsize =[11,9])\n",
    "plt.plot(FPR, TPR, label= 'ROC curve(area = %0.2f)'%ROC_AUC, linewidth= 4)\n",
    "plt.plot([0,1],[0,1], 'k--', linewidth = 4)\n",
    "plt.xlim([0.0,1.0])\n",
    "plt.ylim([0.0,1.05])\n",
    "plt.xlabel('False Positive Rate', fontsize = 18)\n",
    "plt.ylabel('True Positive Rate', fontsize = 18)\n",
    "plt.title('ROC for Gender', fontsize= 18)\n",
    "plt.show()"
   ]
  },
  {
   "cell_type": "code",
   "execution_count": 103,
   "metadata": {},
   "outputs": [
    {
     "data": {
      "image/png": "[encoded data removed]",
      "text/plain": [
       "<Figure size 792x648 with 1 Axes>"
      ]
     },
     "metadata": {},
     "output_type": "display_data"
    }
   ],
   "source": [
    "from sklearn.metrics import precision_recall_curve\n",
    "\n",
    "y_score = logreg.decision_function(X_test)\n",
    "\n",
    "precision, recall, _ = precision_recall_curve(y_test, y_score)\n",
    "PR_AUC = auc(recall, precision)\n",
    "\n",
    "plt.figure(figsize=[11,9])\n",
    "plt.plot(recall, precision, label='PR curve (area = %0.2f)' % PR_AUC, linewidth=4)\n",
    "plt.xlabel('Recall', fontsize=18)\n",
    "plt.ylabel('Precision', fontsize=18)\n",
    "plt.title('Precision Recall Curve for gender', fontsize=18)\n",
    "plt.legend(loc=\"lower right\")\n",
    "plt.show()"
   ]
  },
  {
   "cell_type": "code",
   "execution_count": 104,
   "metadata": {},
   "outputs": [],
   "source": [
    "# using cross validation\n",
    "sc = st_scale"
   ]
  },
  {
   "cell_type": "code",
   "execution_count": 105,
   "metadata": {},
   "outputs": [
    {
     "name": "stdout",
     "output_type": "stream",
     "text": [
      "Cross-Validation accuracy scores:[0.7  0.69 0.69 0.69 0.7  0.7  0.69 0.7  0.69 0.69]\n",
      "Mean Cross-Validation accuracy score: 0.69384\n"
     ]
    }
   ],
   "source": [
    "## Using StratifiedShuffleSplit\n",
    "## We can use KFold, StratifiedShuffleSplit, StratiriedKFold or ShuffleSplit, They are all close cousins. look at sklearn userguide for more info.   \n",
    "from sklearn.model_selection import StratifiedShuffleSplit, cross_val_score\n",
    "cv = StratifiedShuffleSplit(n_splits = 10, test_size = .25, random_state = 0 ) # run model 10x with 60/30 split intentionally leaving out 10%\n",
    "## Using standard scale for the whole dataset.\n",
    "\n",
    "## saving the feature names for decision tree display\n",
    "column_names = X.columns\n",
    "\n",
    "X = sc.fit_transform(X)\n",
    "accuracies = cross_val_score(LogisticRegression(solver='liblinear'), X,y, cv  = cv)\n",
    "print (\"Cross-Validation accuracy scores:{}\".format(accuracies))\n",
    "print (\"Mean Cross-Validation accuracy score: {}\".format(round(accuracies.mean(),5)))"
   ]
  },
  {
   "cell_type": "code",
   "execution_count": 106,
   "metadata": {},
   "outputs": [
    {
     "data": {
      "text/plain": [
       "GridSearchCV(cv=StratifiedShuffleSplit(n_splits=10, random_state=None, test_size=0.25,\n",
       "            train_size=None),\n",
       "             error_score=nan,\n",
       "             estimator=LogisticRegression(C=1.0, class_weight=None, dual=False,\n",
       "                                          fit_intercept=True,\n",
       "                                          intercept_scaling=1, l1_ratio=None,\n",
       "                                          max_iter=100, multi_class='auto',\n",
       "                                          n_jobs=None, penalty='l2',\n",
       "                                          random_state=None, solver='lbfgs',\n",
       "                                          tol=0.0001, verbose=0,\n",
       "                                          warm_start=False),\n",
       "             iid='deprecated', n_jobs=-1,\n",
       "             param_grid={'C': [0.2, 0.3, 0.4, 0.5, 0.6, 0.7, 0.8, 0.9, 1, 2, 3,\n",
       "                               4, 5, 6, 7, 8, 9, 10, 12, 13, 14, 15, 16, 16.5,\n",
       "                               17, 17.5, 18],\n",
       "                         'penalty': ['l1', 'l2']},\n",
       "             pre_dispatch='2*n_jobs', refit=True, return_train_score=False,\n",
       "             scoring='accuracy', verbose=0)"
      ]
     },
     "execution_count": 106,
     "metadata": {},
     "output_type": "execute_result"
    }
   ],
   "source": [
    "#Grid Search on Logistic Regression\n",
    "from sklearn.model_selection import GridSearchCV, StratifiedKFold\n",
    "## C_vals is the alpla value of lasso and ridge regression(as alpha increases the model complexity decreases,)\n",
    "## remember effective alpha scores are 0<alpha<infinity \n",
    "C_vals = [0.2,0.3,0.4,0.5,0.6,0.7,0.8,0.9,1,2,3,4,5,6,7,8,9,10,12,13,14,15,16,16.5,17,17.5,18]\n",
    "## Choosing penalties(Lasso(l1) or Ridge(l2))\n",
    "penalties = ['l1','l2']\n",
    "## Choose a cross validation strategy. \n",
    "cv = StratifiedShuffleSplit(n_splits = 10, test_size = .25)\n",
    "\n",
    "## setting param for param_grid in GridSearchCV. \n",
    "param = {'penalty': penalties, 'C': C_vals}\n",
    "\n",
    "logreg = LogisticRegression(solver='liblinear')\n",
    "## Calling on GridSearchCV object. \n",
    "grid = GridSearchCV(estimator=LogisticRegression(), \n",
    "                           param_grid = param,\n",
    "                           scoring = 'accuracy',\n",
    "                            n_jobs =-1,\n",
    "                           cv = cv\n",
    "                          )\n",
    "## Fitting the model\n",
    "grid.fit(X, y)"
   ]
  },
  {
   "cell_type": "code",
   "execution_count": 107,
   "metadata": {},
   "outputs": [
    {
     "name": "stdout",
     "output_type": "stream",
     "text": [
      "0.69416\n",
      "{'C': 0.2, 'penalty': 'l2'}\n",
      "LogisticRegression(C=0.2, class_weight=None, dual=False, fit_intercept=True,\n",
      "                   intercept_scaling=1, l1_ratio=None, max_iter=100,\n",
      "                   multi_class='auto', n_jobs=None, penalty='l2',\n",
      "                   random_state=None, solver='lbfgs', tol=0.0001, verbose=0,\n",
      "                   warm_start=False)\n"
     ]
    }
   ],
   "source": [
    "## Getting the best of everything. \n",
    "print (grid.best_score_)\n",
    "print (grid.best_params_)\n",
    "print(grid.best_estimator_)"
   ]
  },
  {
   "cell_type": "code",
   "execution_count": 108,
   "metadata": {},
   "outputs": [
    {
     "data": {
      "text/plain": [
       "0.6932"
      ]
     },
     "execution_count": 108,
     "metadata": {},
     "output_type": "execute_result"
    }
   ],
   "source": [
    "### Using the best parameters from the grid-search.\n",
    "logreg_grid = grid.best_estimator_\n",
    "logreg_grid.score(X,y)"
   ]
  },
  {
   "cell_type": "code",
   "execution_count": 109,
   "metadata": {},
   "outputs": [
    {
     "name": "stdout",
     "output_type": "stream",
     "text": [
      "Cross-Validation accuracy scores:[0.65 0.65 0.65 0.63 0.63 0.65 0.62 0.63 0.65 0.65]\n",
      "Mean Cross-Validation accuracy score: 0.641\n"
     ]
    }
   ],
   "source": [
    "#K-Nearest Neighbor classifier(KNN)\n",
    "## Importing the model. \n",
    "from sklearn.neighbors import KNeighborsClassifier\n",
    "## calling on the model oject. \n",
    "knn = KNeighborsClassifier(metric='minkowski', p=2)\n",
    "## knn classifier works by doing euclidian distance \n",
    "\n",
    "\n",
    "## doing 10 fold staratified-shuffle-split cross validation \n",
    "cv = StratifiedShuffleSplit(n_splits=10, test_size=.25, random_state=2)\n",
    "\n",
    "accuracies = cross_val_score(knn, X,y, cv = cv, scoring='accuracy')\n",
    "print (\"Cross-Validation accuracy scores:{}\".format(accuracies))\n",
    "print (\"Mean Cross-Validation accuracy score: {}\".format(round(accuracies.mean(),3)))"
   ]
  },
  {
   "cell_type": "code",
   "execution_count": 110,
   "metadata": {},
   "outputs": [
    {
     "name": "stdout",
     "output_type": "stream",
     "text": [
      "Accuracy scores are: [0.5860799999999998, 0.6664000000000001, 0.62448, 0.66992, 0.6412, 0.67384, 0.6530400000000001, 0.67712, 0.66072, 0.6802400000000001, 0.6669599999999999, 0.6806399999999999, 0.67208, 0.67904, 0.6735200000000001, 0.68328, 0.6788, 0.6856, 0.68024, 0.68712, 0.6825600000000001, 0.68776, 0.68336, 0.68664, 0.6850400000000001, 0.68888, 0.6860800000000001, 0.68904, 0.6877600000000001, 0.68912]\n",
      "\n",
      "Mean accuracy score: 0.6728853333333333\n"
     ]
    }
   ],
   "source": [
    "## Search for an optimal value of k for KNN.\n",
    "k_range = range(1,31)\n",
    "k_scores = []\n",
    "for k in k_range:\n",
    "    knn = KNeighborsClassifier(n_neighbors=k)\n",
    "    scores = cross_val_score(knn, X,y, cv = cv, scoring = 'accuracy')\n",
    "    k_scores.append(scores.mean())\n",
    "print(\"Accuracy scores are: {}\\n\".format(k_scores))\n",
    "print (\"Mean accuracy score: {}\".format(np.mean(k_scores)))"
   ]
  },
  {
   "cell_type": "code",
   "execution_count": 111,
   "metadata": {},
   "outputs": [
    {
     "data": {
      "text/plain": [
       "[<matplotlib.lines.Line2D at 0x1f556337a48>]"
      ]
     },
     "execution_count": 111,
     "metadata": {},
     "output_type": "execute_result"
    },
    {
     "data": {
      "image/png": "[encoded data removed]",
      "text/plain": [
       "<Figure size 432x288 with 1 Axes>"
      ]
     },
     "metadata": {},
     "output_type": "display_data"
    }
   ],
   "source": [
    "from matplotlib import pyplot as plt\n",
    "plt.plot(k_range, k_scores)"
   ]
  },
  {
   "cell_type": "code",
   "execution_count": 112,
   "metadata": {},
   "outputs": [
    {
     "data": {
      "text/plain": [
       "GridSearchCV(cv=StratifiedShuffleSplit(n_splits=10, random_state=15, test_size=0.3,\n",
       "            train_size=None),\n",
       "             error_score=nan,\n",
       "             estimator=KNeighborsClassifier(algorithm='auto', leaf_size=30,\n",
       "                                            metric='minkowski',\n",
       "                                            metric_params=None, n_jobs=None,\n",
       "                                            n_neighbors=5, p=2,\n",
       "                                            weights='uniform'),\n",
       "             iid='deprecated', n_jobs=-1,\n",
       "             param_grid={'n_neighbors': range(1, 31),\n",
       "                         'weights': ['uniform', 'distance']},\n",
       "             pre_dispatch='2*n_jobs', refit=True, return_train_score=False,\n",
       "             scoring=None, verbose=False)"
      ]
     },
     "execution_count": 112,
     "metadata": {},
     "output_type": "execute_result"
    }
   ],
   "source": [
    "#Grid search on KNN classifier\n",
    "from sklearn.model_selection import GridSearchCV\n",
    "## trying out multiple values for k\n",
    "k_range = range(1,31)\n",
    "## \n",
    "weights_options=['uniform','distance']\n",
    "# \n",
    "param = {'n_neighbors':k_range, 'weights':weights_options}\n",
    "## Using startifiedShufflesplit. \n",
    "cv = StratifiedShuffleSplit(n_splits=10, test_size=.30, random_state=15)\n",
    "# estimator = knn, param_grid = param, n_jobs = -1 to instruct scikit learn to use all available processors. \n",
    "grid = GridSearchCV(KNeighborsClassifier(), param,cv=cv,verbose = False, n_jobs=-1)\n",
    "## Fitting the model. \n",
    "grid.fit(X,y)"
   ]
  },
  {
   "cell_type": "code",
   "execution_count": 113,
   "metadata": {},
   "outputs": [
    {
     "name": "stdout",
     "output_type": "stream",
     "text": [
      "0.6892666666666666\n",
      "{'n_neighbors': 28, 'weights': 'uniform'}\n",
      "KNeighborsClassifier(algorithm='auto', leaf_size=30, metric='minkowski',\n",
      "                     metric_params=None, n_jobs=None, n_neighbors=28, p=2,\n",
      "                     weights='uniform')\n"
     ]
    }
   ],
   "source": [
    "print(grid.best_score_)\n",
    "print(grid.best_params_)\n",
    "print(grid.best_estimator_)"
   ]
  },
  {
   "cell_type": "code",
   "execution_count": 114,
   "metadata": {},
   "outputs": [
    {
     "data": {
      "text/plain": [
       "0.7004"
      ]
     },
     "execution_count": 114,
     "metadata": {},
     "output_type": "execute_result"
    }
   ],
   "source": [
    "#Using best estimator from grid search using KNN.\n",
    "### Using the best parameters from the grid-search.\n",
    "knn_grid= grid.best_estimator_\n",
    "knn_grid.score(X,y)"
   ]
  },
  {
   "cell_type": "code",
   "execution_count": 115,
   "metadata": {},
   "outputs": [
    {
     "data": {
      "text/plain": [
       "RandomizedSearchCV(cv=StratifiedShuffleSplit(n_splits=10, random_state=None, test_size=0.3,\n",
       "            train_size=None),\n",
       "                   error_score=nan,\n",
       "                   estimator=KNeighborsClassifier(algorithm='auto',\n",
       "                                                  leaf_size=30,\n",
       "                                                  metric='minkowski',\n",
       "                                                  metric_params=None,\n",
       "                                                  n_jobs=None, n_neighbors=5,\n",
       "                                                  p=2, weights='uniform'),\n",
       "                   iid='deprecated', n_iter=40, n_jobs=-1,\n",
       "                   param_distributions={'n_neighbors': range(1, 31),\n",
       "                                        'weights': ['uniform', 'distance']},\n",
       "                   pre_dispatch='2*n_jobs', random_state=None, refit=True,\n",
       "                   return_train_score=False, scoring=None, verbose=False)"
      ]
     },
     "execution_count": 115,
     "metadata": {},
     "output_type": "execute_result"
    }
   ],
   "source": [
    "#Using RandomizedSearchCV\n",
    "from sklearn.model_selection import RandomizedSearchCV\n",
    "## trying out multiple values for k\n",
    "k_range = range(1,31)\n",
    "## \n",
    "weights_options=['uniform','distance']\n",
    "# \n",
    "param = {'n_neighbors':k_range, 'weights':weights_options}\n",
    "## Using startifiedShufflesplit. \n",
    "cv = StratifiedShuffleSplit(n_splits=10, test_size=.30)\n",
    "# estimator = knn, param_grid = param, n_jobs = -1 to instruct scikit learn to use all available processors. \n",
    "## for RandomizedSearchCV, \n",
    "grid = RandomizedSearchCV(KNeighborsClassifier(), param,cv=cv,verbose = False, n_jobs=-1, n_iter=40)\n",
    "## Fitting the model. \n",
    "grid.fit(X,y)"
   ]
  },
  {
   "cell_type": "code",
   "execution_count": 116,
   "metadata": {},
   "outputs": [
    {
     "name": "stdout",
     "output_type": "stream",
     "text": [
      "0.6868666666666666\n",
      "{'weights': 'uniform', 'n_neighbors': 20}\n",
      "KNeighborsClassifier(algorithm='auto', leaf_size=30, metric='minkowski',\n",
      "                     metric_params=None, n_jobs=None, n_neighbors=20, p=2,\n",
      "                     weights='uniform')\n"
     ]
    }
   ],
   "source": [
    "print (grid.best_score_)\n",
    "print (grid.best_params_)\n",
    "print(grid.best_estimator_)"
   ]
  },
  {
   "cell_type": "code",
   "execution_count": 117,
   "metadata": {},
   "outputs": [
    {
     "data": {
      "text/plain": [
       "0.706"
      ]
     },
     "execution_count": 117,
     "metadata": {},
     "output_type": "execute_result"
    }
   ],
   "source": [
    "### Using the best parameters from the grid-search.\n",
    "knn_ran_grid = grid.best_estimator_\n",
    "knn_ran_grid.score(X,y)"
   ]
  },
  {
   "cell_type": "code",
   "execution_count": 118,
   "metadata": {},
   "outputs": [
    {
     "name": "stdout",
     "output_type": "stream",
     "text": [
      "0.664\n"
     ]
    }
   ],
   "source": [
    "#Gaussian Naive Bayes\n",
    "from sklearn.naive_bayes import GaussianNB\n",
    "from sklearn.metrics import accuracy_score\n",
    "\n",
    "gaussian = GaussianNB()\n",
    "gaussian.fit(X, y)\n",
    "y_pred = gaussian.predict(X_test)\n",
    "gaussian_accy = round(accuracy_score(y_pred, y_test), 3)\n",
    "print(gaussian_accy)"
   ]
  },
  {
   "cell_type": "code",
   "execution_count": 119,
   "metadata": {},
   "outputs": [
    {
     "data": {
      "text/plain": [
       "GridSearchCV(cv=StratifiedShuffleSplit(n_splits=10, random_state=15, test_size=0.3,\n",
       "            train_size=None),\n",
       "             error_score=nan,\n",
       "             estimator=SVC(C=1.0, break_ties=False, cache_size=200,\n",
       "                           class_weight=None, coef0=0.0,\n",
       "                           decision_function_shape='ovr', degree=3,\n",
       "                           gamma='scale', kernel='rbf', max_iter=-1,\n",
       "                           probability=True, random_state=None, shrinking=True,\n",
       "                           tol=0.001, verbose=False),\n",
       "             iid='deprecated', n_jobs=None,\n",
       "             param_grid={'C': [0.001, 0.01, 0.1, 1, 1.5, 2, 2.5, 3, 4, 5, 10],\n",
       "                         'gamma': [0.0001, 0.001, 0.01, 0.1, 1]},\n",
       "             pre_dispatch='2*n_jobs', refit=True, return_train_score=False,\n",
       "             scoring=None, verbose=0)"
      ]
     },
     "execution_count": 119,
     "metadata": {},
     "output_type": "execute_result"
    }
   ],
   "source": [
    "#Support Vector Machines(SVM)\n",
    "from sklearn.svm import SVC\n",
    "Cs = [0.001, 0.01, 0.1, 1,1.5,2,2.5,3,4,5, 10] ## penalty parameter C for the error term. \n",
    "gammas = [0.0001,0.001, 0.01, 0.1, 1]\n",
    "param_grid = {'C': Cs, 'gamma' : gammas}\n",
    "cv = StratifiedShuffleSplit(n_splits=10, test_size=.30, random_state=15)\n",
    "grid_search = GridSearchCV(SVC(kernel = 'rbf', probability=True), param_grid, cv=cv) ## 'rbf' stands for gaussian kernel\n",
    "grid_search.fit(X,y)"
   ]
  },
  {
   "cell_type": "code",
   "execution_count": 120,
   "metadata": {},
   "outputs": [
    {
     "name": "stdout",
     "output_type": "stream",
     "text": [
      "0.696\n",
      "{'C': 0.001, 'gamma': 0.0001}\n",
      "SVC(C=0.001, break_ties=False, cache_size=200, class_weight=None, coef0=0.0,\n",
      "    decision_function_shape='ovr', degree=3, gamma=0.0001, kernel='rbf',\n",
      "    max_iter=-1, probability=True, random_state=None, shrinking=True, tol=0.001,\n",
      "    verbose=False)\n"
     ]
    }
   ],
   "source": [
    "print(grid_search.best_score_)\n",
    "print(grid_search.best_params_)\n",
    "print(grid_search.best_estimator_)"
   ]
  },
  {
   "cell_type": "code",
   "execution_count": 121,
   "metadata": {},
   "outputs": [
    {
     "data": {
      "text/plain": [
       "0.6958"
      ]
     },
     "execution_count": 121,
     "metadata": {},
     "output_type": "execute_result"
    }
   ],
   "source": [
    "# using the best found hyper paremeters to get the score. \n",
    "svm_grid = grid_search.best_estimator_\n",
    "svm_grid.score(X,y)"
   ]
  },
  {
   "cell_type": "code",
   "execution_count": 122,
   "metadata": {},
   "outputs": [
    {
     "data": {
      "text/plain": [
       "GridSearchCV(cv=StratifiedKFold(n_splits=20, random_state=15, shuffle=True),\n",
       "             error_score=nan,\n",
       "             estimator=DecisionTreeClassifier(ccp_alpha=0.0, class_weight=None,\n",
       "                                              criterion='gini', max_depth=None,\n",
       "                                              max_features=None,\n",
       "                                              max_leaf_nodes=None,\n",
       "                                              min_impurity_decrease=0.0,\n",
       "                                              min_impurity_split=None,\n",
       "                                              min_samples_leaf=1,\n",
       "                                              min_samples_split=2,\n",
       "                                              min_weight_fraction_leaf=0.0,\n",
       "                                              presort='deprecated',\n",
       "                                              random_state=None,\n",
       "                                              splitter='best'),\n",
       "             iid='deprecated', n_jobs=-1,\n",
       "             param_grid={'criterion': ['entropy', 'gini'],\n",
       "                         'max_depth': range(1, 30),\n",
       "                         'max_features': [21, 22, 23, 24, 25, 26, 28, 29, 30,\n",
       "                                          'auto']},\n",
       "             pre_dispatch='2*n_jobs', refit=True, return_train_score=False,\n",
       "             scoring=None, verbose=False)"
      ]
     },
     "execution_count": 122,
     "metadata": {},
     "output_type": "execute_result"
    }
   ],
   "source": [
    "#Decision Tree Classifier\n",
    "from sklearn.tree import DecisionTreeClassifier\n",
    "max_depth = range(1,30)\n",
    "max_feature = [21,22,23,24,25,26,28,29,30,'auto']\n",
    "criterion=[\"entropy\", \"gini\"]\n",
    "\n",
    "param = {'max_depth':max_depth, \n",
    "         'max_features':max_feature, \n",
    "         'criterion': criterion}\n",
    "grid = GridSearchCV(DecisionTreeClassifier(), \n",
    "                                param_grid = param, \n",
    "                                 verbose=False, \n",
    "                                 cv=StratifiedKFold(n_splits=20, random_state=15, shuffle=True),\n",
    "                                n_jobs = -1)\n",
    "grid.fit(X, y) "
   ]
  },
  {
   "cell_type": "code",
   "execution_count": 123,
   "metadata": {},
   "outputs": [
    {
     "name": "stdout",
     "output_type": "stream",
     "text": [
      "{'criterion': 'entropy', 'max_depth': 1, 'max_features': 'auto'}\n",
      "0.6958\n",
      "DecisionTreeClassifier(ccp_alpha=0.0, class_weight=None, criterion='entropy',\n",
      "                       max_depth=1, max_features='auto', max_leaf_nodes=None,\n",
      "                       min_impurity_decrease=0.0, min_impurity_split=None,\n",
      "                       min_samples_leaf=1, min_samples_split=2,\n",
      "                       min_weight_fraction_leaf=0.0, presort='deprecated',\n",
      "                       random_state=None, splitter='best')\n"
     ]
    }
   ],
   "source": [
    "print( grid.best_params_)\n",
    "print (grid.best_score_)\n",
    "print (grid.best_estimator_)"
   ]
  },
  {
   "cell_type": "code",
   "execution_count": 124,
   "metadata": {},
   "outputs": [
    {
     "data": {
      "text/plain": [
       "0.6958"
      ]
     },
     "execution_count": 124,
     "metadata": {},
     "output_type": "execute_result"
    }
   ],
   "source": [
    "dectree_grid = grid.best_estimator_\n",
    "## using the best found hyper paremeters to get the score. \n",
    "dectree_grid.score(X,y)"
   ]
  },
  {
   "cell_type": "code",
   "execution_count": 125,
   "metadata": {},
   "outputs": [
    {
     "name": "stdout",
     "output_type": "stream",
     "text": [
      "Collecting package metadata (current_repodata.json): ...working... done\n",
      "Solving environment: ...working... failed with initial frozen solve. Retrying with flexible solve.\n",
      "Collecting package metadata (repodata.json): ...working... done\n",
      "Solving environment: ...working... failed with initial frozen solve. Retrying with flexible solve.\n",
      "\n",
      "Note: you may need to restart the kernel to use updated packages.\n"
     ]
    },
    {
     "name": "stderr",
     "output_type": "stream",
     "text": [
      "\n",
      "PackagesNotFoundError: The following packages are not available from current channels:\n",
      "\n",
      "  - pydot-ng\n",
      "\n",
      "Current channels:\n",
      "\n",
      "  - https://repo.anaconda.com/pkgs/main/win-64\n",
      "  - https://repo.anaconda.com/pkgs/main/noarch\n",
      "  - https://repo.anaconda.com/pkgs/r/win-64\n",
      "  - https://repo.anaconda.com/pkgs/r/noarch\n",
      "  - https://repo.anaconda.com/pkgs/msys2/win-64\n",
      "  - https://repo.anaconda.com/pkgs/msys2/noarch\n",
      "\n",
      "To search for alternate channels that may provide the conda package you're\n",
      "looking for, navigate to\n",
      "\n",
      "    https://anaconda.org\n",
      "\n",
      "and use the search bar at the top of the page.\n",
      "\n",
      "\n"
     ]
    }
   ],
   "source": [
    "conda install pydot-ng"
   ]
  },
  {
   "cell_type": "code",
   "execution_count": 136,
   "metadata": {},
   "outputs": [
    {
     "name": "stdout",
     "output_type": "stream",
     "text": [
      "Requirement already satisfied: pyparsing in c:\\users\\user\\anaconda3\\lib\\site-packages (2.4.6)\n",
      "Note: you may need to restart the kernel to use updated packages.\n"
     ]
    }
   ],
   "source": [
    "#pip install pyparsing\n",
    "#pip install graphviz\n",
    "#pip install pydot\n",
    "#conda install graphviz"
   ]
  },
  {
   "cell_type": "code",
   "execution_count": 171,
   "metadata": {},
   "outputs": [
    {
     "name": "stdout",
     "output_type": "stream",
     "text": [
      "Requirement already satisfied: graphviz in c:\\users\\user\\anaconda3\\lib\\site-packages (0.13.2)\n",
      "Note: you may need to restart the kernel to use updated packages.\n"
     ]
    }
   ],
   "source": [
    "pip install graphviz"
   ]
  },
  {
   "cell_type": "code",
   "execution_count": 172,
   "metadata": {},
   "outputs": [
    {
     "ename": "FileNotFoundError",
     "evalue": "[WinError 2] \"dot\" not found in path.",
     "output_type": "error",
     "traceback": [
      "\u001b[1;31m---------------------------------------------------------------------------\u001b[0m",
      "\u001b[1;31mFileNotFoundError\u001b[0m                         Traceback (most recent call last)",
      "\u001b[1;32m~\\anaconda3\\lib\\site-packages\\pydot.py\u001b[0m in \u001b[0;36mcreate\u001b[1;34m(self, prog, format, encoding)\u001b[0m\n\u001b[0;32m   1914\u001b[0m                 \u001b[0marguments\u001b[0m\u001b[1;33m=\u001b[0m\u001b[0marguments\u001b[0m\u001b[1;33m,\u001b[0m\u001b[1;33m\u001b[0m\u001b[1;33m\u001b[0m\u001b[0m\n\u001b[1;32m-> 1915\u001b[1;33m                 \u001b[0mworking_dir\u001b[0m\u001b[1;33m=\u001b[0m\u001b[0mtmp_dir\u001b[0m\u001b[1;33m,\u001b[0m\u001b[1;33m\u001b[0m\u001b[1;33m\u001b[0m\u001b[0m\n\u001b[0m\u001b[0;32m   1916\u001b[0m             )\n",
      "\u001b[1;32m~\\anaconda3\\lib\\site-packages\\pydot.py\u001b[0m in \u001b[0;36mcall_graphviz\u001b[1;34m(program, arguments, working_dir, **kwargs)\u001b[0m\n\u001b[0;32m    135\u001b[0m         \u001b[0mstdout\u001b[0m\u001b[1;33m=\u001b[0m\u001b[0msubprocess\u001b[0m\u001b[1;33m.\u001b[0m\u001b[0mPIPE\u001b[0m\u001b[1;33m,\u001b[0m\u001b[1;33m\u001b[0m\u001b[1;33m\u001b[0m\u001b[0m\n\u001b[1;32m--> 136\u001b[1;33m         \u001b[1;33m**\u001b[0m\u001b[0mkwargs\u001b[0m\u001b[1;33m\u001b[0m\u001b[1;33m\u001b[0m\u001b[0m\n\u001b[0m\u001b[0;32m    137\u001b[0m     )\n",
      "\u001b[1;32m~\\anaconda3\\lib\\subprocess.py\u001b[0m in \u001b[0;36m__init__\u001b[1;34m(self, args, bufsize, executable, stdin, stdout, stderr, preexec_fn, close_fds, shell, cwd, env, universal_newlines, startupinfo, creationflags, restore_signals, start_new_session, pass_fds, encoding, errors, text)\u001b[0m\n\u001b[0;32m    799\u001b[0m                                 \u001b[0merrread\u001b[0m\u001b[1;33m,\u001b[0m \u001b[0merrwrite\u001b[0m\u001b[1;33m,\u001b[0m\u001b[1;33m\u001b[0m\u001b[1;33m\u001b[0m\u001b[0m\n\u001b[1;32m--> 800\u001b[1;33m                                 restore_signals, start_new_session)\n\u001b[0m\u001b[0;32m    801\u001b[0m         \u001b[1;32mexcept\u001b[0m\u001b[1;33m:\u001b[0m\u001b[1;33m\u001b[0m\u001b[1;33m\u001b[0m\u001b[0m\n",
      "\u001b[1;32m~\\anaconda3\\lib\\subprocess.py\u001b[0m in \u001b[0;36m_execute_child\u001b[1;34m(self, args, executable, preexec_fn, close_fds, pass_fds, cwd, env, startupinfo, creationflags, shell, p2cread, p2cwrite, c2pread, c2pwrite, errread, errwrite, unused_restore_signals, unused_start_new_session)\u001b[0m\n\u001b[0;32m   1206\u001b[0m                                          \u001b[0mos\u001b[0m\u001b[1;33m.\u001b[0m\u001b[0mfspath\u001b[0m\u001b[1;33m(\u001b[0m\u001b[0mcwd\u001b[0m\u001b[1;33m)\u001b[0m \u001b[1;32mif\u001b[0m \u001b[0mcwd\u001b[0m \u001b[1;32mis\u001b[0m \u001b[1;32mnot\u001b[0m \u001b[1;32mNone\u001b[0m \u001b[1;32melse\u001b[0m \u001b[1;32mNone\u001b[0m\u001b[1;33m,\u001b[0m\u001b[1;33m\u001b[0m\u001b[1;33m\u001b[0m\u001b[0m\n\u001b[1;32m-> 1207\u001b[1;33m                                          startupinfo)\n\u001b[0m\u001b[0;32m   1208\u001b[0m             \u001b[1;32mfinally\u001b[0m\u001b[1;33m:\u001b[0m\u001b[1;33m\u001b[0m\u001b[1;33m\u001b[0m\u001b[0m\n",
      "\u001b[1;31mFileNotFoundError\u001b[0m: [WinError 2] 지정된 파일을 찾을 수 없습니다",
      "\nDuring handling of the above exception, another exception occurred:\n",
      "\u001b[1;31mFileNotFoundError\u001b[0m                         Traceback (most recent call last)",
      "\u001b[1;32m<ipython-input-172-469d0b885d4f>\u001b[0m in \u001b[0;36m<module>\u001b[1;34m\u001b[0m\n\u001b[0;32m     19\u001b[0m \u001b[1;31m#graph\u001b[0m\u001b[1;33m\u001b[0m\u001b[1;33m\u001b[0m\u001b[1;33m\u001b[0m\u001b[0m\n\u001b[0;32m     20\u001b[0m \u001b[1;33m\u001b[0m\u001b[0m\n\u001b[1;32m---> 21\u001b[1;33m \u001b[0mImage\u001b[0m\u001b[1;33m(\u001b[0m\u001b[0mgraph\u001b[0m\u001b[1;33m.\u001b[0m\u001b[0mcreate_png\u001b[0m\u001b[1;33m(\u001b[0m\u001b[1;33m)\u001b[0m\u001b[1;33m)\u001b[0m\u001b[1;33m\u001b[0m\u001b[1;33m\u001b[0m\u001b[0m\n\u001b[0m",
      "\u001b[1;32m~\\anaconda3\\lib\\site-packages\\pydot.py\u001b[0m in \u001b[0;36mnew_method\u001b[1;34m(f, prog, encoding)\u001b[0m\n\u001b[0;32m   1721\u001b[0m                 \u001b[1;34m\"\"\"Refer to docstring of method `create`.\"\"\"\u001b[0m\u001b[1;33m\u001b[0m\u001b[1;33m\u001b[0m\u001b[0m\n\u001b[0;32m   1722\u001b[0m                 return self.create(\n\u001b[1;32m-> 1723\u001b[1;33m                     format=f, prog=prog, encoding=encoding)\n\u001b[0m\u001b[0;32m   1724\u001b[0m             \u001b[0mname\u001b[0m \u001b[1;33m=\u001b[0m \u001b[1;34m'create_{fmt}'\u001b[0m\u001b[1;33m.\u001b[0m\u001b[0mformat\u001b[0m\u001b[1;33m(\u001b[0m\u001b[0mfmt\u001b[0m\u001b[1;33m=\u001b[0m\u001b[0mfrmt\u001b[0m\u001b[1;33m)\u001b[0m\u001b[1;33m\u001b[0m\u001b[1;33m\u001b[0m\u001b[0m\n\u001b[0;32m   1725\u001b[0m             \u001b[0mself\u001b[0m\u001b[1;33m.\u001b[0m\u001b[0m__setattr__\u001b[0m\u001b[1;33m(\u001b[0m\u001b[0mname\u001b[0m\u001b[1;33m,\u001b[0m \u001b[0mnew_method\u001b[0m\u001b[1;33m)\u001b[0m\u001b[1;33m\u001b[0m\u001b[1;33m\u001b[0m\u001b[0m\n",
      "\u001b[1;32m~\\anaconda3\\lib\\site-packages\\pydot.py\u001b[0m in \u001b[0;36mcreate\u001b[1;34m(self, prog, format, encoding)\u001b[0m\n\u001b[0;32m   1920\u001b[0m                 args[1] = '\"{prog}\" not found in path.'.format(\n\u001b[0;32m   1921\u001b[0m                     prog=prog)\n\u001b[1;32m-> 1922\u001b[1;33m                 \u001b[1;32mraise\u001b[0m \u001b[0mOSError\u001b[0m\u001b[1;33m(\u001b[0m\u001b[1;33m*\u001b[0m\u001b[0margs\u001b[0m\u001b[1;33m)\u001b[0m\u001b[1;33m\u001b[0m\u001b[1;33m\u001b[0m\u001b[0m\n\u001b[0m\u001b[0;32m   1923\u001b[0m             \u001b[1;32melse\u001b[0m\u001b[1;33m:\u001b[0m\u001b[1;33m\u001b[0m\u001b[1;33m\u001b[0m\u001b[0m\n\u001b[0;32m   1924\u001b[0m                 \u001b[1;32mraise\u001b[0m\u001b[1;33m\u001b[0m\u001b[1;33m\u001b[0m\u001b[0m\n",
      "\u001b[1;31mFileNotFoundError\u001b[0m: [WinError 2] \"dot\" not found in path."
     ]
    }
   ],
   "source": [
    "from sklearn.externals.six import StringIO\n",
    "from sklearn.tree import export_graphviz\n",
    "import pydot\n",
    "from IPython.display import Image\n",
    "dot_data = StringIO()  \n",
    "export_graphviz(dectree_grid, out_file=dot_data,  \n",
    "                feature_names=column_names,  class_names = ([\"0\" if int(i) is 1 else \"1\" for i in y.unique()]),\n",
    "                filled=True, rounded=True,\n",
    "                proportion=True,\n",
    "                special_characters=True)  \n",
    "(graph,) = pydot.graph_from_dot_data(dot_data.getvalue())\n",
    "\n",
    "## alternative tree\n",
    "#import graphviz\n",
    "#from sklearn import tree\n",
    "#dot_data = tree.export_graphviz(decision_tree=dectree_grid, out_file=None, feature_names=column_names, )\n",
    "#graph = graphviz.Source(dot_data)\n",
    "#graph.render(\"house\")\n",
    "#graph\n",
    "\n",
    "Image(graph.create_png())"
   ]
  },
  {
   "cell_type": "code",
   "execution_count": 138,
   "metadata": {},
   "outputs": [
    {
     "data": {
      "text/html": [
       "<div>\n",
       "<style scoped>\n",
       "    .dataframe tbody tr th:only-of-type {\n",
       "        vertical-align: middle;\n",
       "    }\n",
       "\n",
       "    .dataframe tbody tr th {\n",
       "        vertical-align: top;\n",
       "    }\n",
       "\n",
       "    .dataframe thead th {\n",
       "        text-align: right;\n",
       "    }\n",
       "</style>\n",
       "<table border=\"1\" class=\"dataframe\">\n",
       "  <thead>\n",
       "    <tr style=\"text-align: right;\">\n",
       "      <th></th>\n",
       "      <th>importance</th>\n",
       "    </tr>\n",
       "  </thead>\n",
       "  <tbody>\n",
       "    <tr>\n",
       "      <th>after_price</th>\n",
       "      <td>1.0</td>\n",
       "    </tr>\n",
       "    <tr>\n",
       "      <th>tot_price</th>\n",
       "      <td>0.0</td>\n",
       "    </tr>\n",
       "    <tr>\n",
       "      <th>count</th>\n",
       "      <td>0.0</td>\n",
       "    </tr>\n",
       "    <tr>\n",
       "      <th>avg_price</th>\n",
       "      <td>0.0</td>\n",
       "    </tr>\n",
       "    <tr>\n",
       "      <th>brand_category</th>\n",
       "      <td>0.0</td>\n",
       "    </tr>\n",
       "    <tr>\n",
       "      <th>visited</th>\n",
       "      <td>0.0</td>\n",
       "    </tr>\n",
       "    <tr>\n",
       "      <th>week_visited</th>\n",
       "      <td>0.0</td>\n",
       "    </tr>\n",
       "    <tr>\n",
       "      <th>major</th>\n",
       "      <td>0.0</td>\n",
       "    </tr>\n",
       "    <tr>\n",
       "      <th>tot_exported_goods</th>\n",
       "      <td>0.0</td>\n",
       "    </tr>\n",
       "    <tr>\n",
       "      <th>morning_price</th>\n",
       "      <td>0.0</td>\n",
       "    </tr>\n",
       "  </tbody>\n",
       "</table>\n",
       "</div>"
      ],
      "text/plain": [
       "                    importance\n",
       "after_price                1.0\n",
       "tot_price                  0.0\n",
       "count                      0.0\n",
       "avg_price                  0.0\n",
       "brand_category             0.0\n",
       "visited                    0.0\n",
       "week_visited               0.0\n",
       "major                      0.0\n",
       "tot_exported_goods         0.0\n",
       "morning_price              0.0"
      ]
     },
     "execution_count": 138,
     "metadata": {},
     "output_type": "execute_result"
    }
   ],
   "source": [
    "## feature importance\n",
    "feature_importances = pd.DataFrame(dectree_grid.feature_importances_,\n",
    "                                   index = column_names,\n",
    "                                    columns=['importance'])\n",
    "feature_importances.sort_values(by='importance', ascending=False).head(10)"
   ]
  },
  {
   "cell_type": "code",
   "execution_count": null,
   "metadata": {},
   "outputs": [],
   "source": [
    "pip install graphviz"
   ]
  },
  {
   "cell_type": "code",
   "execution_count": 139,
   "metadata": {},
   "outputs": [
    {
     "data": {
      "text/plain": [
       "GridSearchCV(cv=StratifiedShuffleSplit(n_splits=10, random_state=15, test_size=0.3,\n",
       "            train_size=None),\n",
       "             error_score=nan,\n",
       "             estimator=RandomForestClassifier(bootstrap=True, ccp_alpha=0.0,\n",
       "                                              class_weight=None,\n",
       "                                              criterion='gini', max_depth=None,\n",
       "                                              max_features='auto',\n",
       "                                              max_leaf_nodes=None,\n",
       "                                              max_samples=None,\n",
       "                                              min_impurity_decrease=0.0,\n",
       "                                              min_impurity_split=None,\n",
       "                                              min_samples_leaf=1,\n",
       "                                              min_samples_split=2,\n",
       "                                              min_weight_fraction_leaf=0.0,\n",
       "                                              n_estimators=100, n_jobs=None,\n",
       "                                              oob_score=False,\n",
       "                                              random_state=None, verbose=0,\n",
       "                                              warm_start=False),\n",
       "             iid='deprecated', n_jobs=-1,\n",
       "             param_grid={'criterion': ['gini', 'entropy'],\n",
       "                         'max_depth': range(1, 10),\n",
       "                         'n_estimators': [140, 145, 150, 155, 160]},\n",
       "             pre_dispatch='2*n_jobs', refit=True, return_train_score=False,\n",
       "             scoring=None, verbose=0)"
      ]
     },
     "execution_count": 139,
     "metadata": {},
     "output_type": "execute_result"
    }
   ],
   "source": [
    "#random forest classifier\n",
    "from sklearn.model_selection import GridSearchCV, StratifiedKFold, StratifiedShuffleSplit\n",
    "from sklearn.ensemble import RandomForestClassifier\n",
    "n_estimators = [140,145,150,155,160];\n",
    "max_depth = range(1,10);\n",
    "criterions = ['gini', 'entropy'];\n",
    "cv = StratifiedShuffleSplit(n_splits=10, test_size=.30, random_state=15)\n",
    "\n",
    "\n",
    "parameters = {'n_estimators':n_estimators,\n",
    "              'max_depth':max_depth,\n",
    "              'criterion': criterions\n",
    "              \n",
    "        }\n",
    "grid = GridSearchCV(estimator=RandomForestClassifier(max_features='auto'),\n",
    "                                 param_grid=parameters,\n",
    "                                 cv=cv,\n",
    "                                 n_jobs = -1)\n",
    "grid.fit(X,y) "
   ]
  },
  {
   "cell_type": "code",
   "execution_count": 140,
   "metadata": {},
   "outputs": [
    {
     "name": "stdout",
     "output_type": "stream",
     "text": [
      "0.696\n",
      "{'criterion': 'gini', 'max_depth': 1, 'n_estimators': 140}\n",
      "RandomForestClassifier(bootstrap=True, ccp_alpha=0.0, class_weight=None,\n",
      "                       criterion='gini', max_depth=1, max_features='auto',\n",
      "                       max_leaf_nodes=None, max_samples=None,\n",
      "                       min_impurity_decrease=0.0, min_impurity_split=None,\n",
      "                       min_samples_leaf=1, min_samples_split=2,\n",
      "                       min_weight_fraction_leaf=0.0, n_estimators=140,\n",
      "                       n_jobs=None, oob_score=False, random_state=None,\n",
      "                       verbose=0, warm_start=False)\n"
     ]
    }
   ],
   "source": [
    "print (grid.best_score_)\n",
    "print (grid.best_params_)\n",
    "print (grid.best_estimator_)"
   ]
  },
  {
   "cell_type": "code",
   "execution_count": 141,
   "metadata": {},
   "outputs": [
    {
     "data": {
      "text/plain": [
       "0.6958"
      ]
     },
     "execution_count": 141,
     "metadata": {},
     "output_type": "execute_result"
    }
   ],
   "source": [
    "rf_grid = grid.best_estimator_\n",
    "rf_grid.score(X,y)"
   ]
  },
  {
   "cell_type": "code",
   "execution_count": 142,
   "metadata": {},
   "outputs": [
    {
     "data": {
      "text/html": [
       "<div>\n",
       "<style scoped>\n",
       "    .dataframe tbody tr th:only-of-type {\n",
       "        vertical-align: middle;\n",
       "    }\n",
       "\n",
       "    .dataframe tbody tr th {\n",
       "        vertical-align: top;\n",
       "    }\n",
       "\n",
       "    .dataframe thead th {\n",
       "        text-align: right;\n",
       "    }\n",
       "</style>\n",
       "<table border=\"1\" class=\"dataframe\">\n",
       "  <thead>\n",
       "    <tr style=\"text-align: right;\">\n",
       "      <th></th>\n",
       "      <th>importance</th>\n",
       "    </tr>\n",
       "  </thead>\n",
       "  <tbody>\n",
       "    <tr>\n",
       "      <th>morning_price</th>\n",
       "      <td>0.292857</td>\n",
       "    </tr>\n",
       "    <tr>\n",
       "      <th>tot_price</th>\n",
       "      <td>0.150000</td>\n",
       "    </tr>\n",
       "    <tr>\n",
       "      <th>summer_price</th>\n",
       "      <td>0.142857</td>\n",
       "    </tr>\n",
       "    <tr>\n",
       "      <th>after_price</th>\n",
       "      <td>0.107143</td>\n",
       "    </tr>\n",
       "    <tr>\n",
       "      <th>tot_exported_goods</th>\n",
       "      <td>0.092857</td>\n",
       "    </tr>\n",
       "    <tr>\n",
       "      <th>count</th>\n",
       "      <td>0.057143</td>\n",
       "    </tr>\n",
       "    <tr>\n",
       "      <th>avg_price</th>\n",
       "      <td>0.050000</td>\n",
       "    </tr>\n",
       "    <tr>\n",
       "      <th>fall_price</th>\n",
       "      <td>0.035714</td>\n",
       "    </tr>\n",
       "    <tr>\n",
       "      <th>wint_price</th>\n",
       "      <td>0.035714</td>\n",
       "    </tr>\n",
       "    <tr>\n",
       "      <th>spring_price</th>\n",
       "      <td>0.028571</td>\n",
       "    </tr>\n",
       "  </tbody>\n",
       "</table>\n",
       "</div>"
      ],
      "text/plain": [
       "                    importance\n",
       "morning_price         0.292857\n",
       "tot_price             0.150000\n",
       "summer_price          0.142857\n",
       "after_price           0.107143\n",
       "tot_exported_goods    0.092857\n",
       "count                 0.057143\n",
       "avg_price             0.050000\n",
       "fall_price            0.035714\n",
       "wint_price            0.035714\n",
       "spring_price          0.028571"
      ]
     },
     "execution_count": 142,
     "metadata": {},
     "output_type": "execute_result"
    }
   ],
   "source": [
    "## feature importance\n",
    "feature_importances = pd.DataFrame(rf_grid.feature_importances_,\n",
    "                                   index = column_names,\n",
    "                                    columns=['importance'])\n",
    "feature_importances.sort_values(by='importance', ascending=False).head(10)"
   ]
  },
  {
   "cell_type": "code",
   "execution_count": 143,
   "metadata": {},
   "outputs": [
    {
     "data": {
      "text/plain": [
       "GridSearchCV(cv=StratifiedShuffleSplit(n_splits=10, random_state=15, test_size=0.3,\n",
       "            train_size=None),\n",
       "             error_score=nan,\n",
       "             estimator=BaggingClassifier(base_estimator=None, bootstrap=True,\n",
       "                                         bootstrap_features=False,\n",
       "                                         max_features=1.0, max_samples=1.0,\n",
       "                                         n_estimators=10, n_jobs=None,\n",
       "                                         oob_score=False, random_state=None,\n",
       "                                         verbose=0, warm_start=False),\n",
       "             iid='deprecated', n_jobs=-1,\n",
       "             param_grid={'n_estimators': [10, 30, 50, 70, 80, 150, 160, 170,\n",
       "                                          175, 180, 185]},\n",
       "             pre_dispatch='2*n_jobs', refit=True, return_train_score=False,\n",
       "             scoring=None, verbose=0)"
      ]
     },
     "execution_count": 143,
     "metadata": {},
     "output_type": "execute_result"
    }
   ],
   "source": [
    "# Bagging Classifier\n",
    "from sklearn.ensemble import BaggingClassifier\n",
    "n_estimators = [10,30,50,70,80,150,160, 170,175,180,185];\n",
    "cv = StratifiedShuffleSplit(n_splits=10, test_size=.30, random_state=15)\n",
    "\n",
    "parameters = {'n_estimators':n_estimators,\n",
    "              \n",
    "        }\n",
    "grid = GridSearchCV(BaggingClassifier(base_estimator= None, ## If None, then the base estimator is a decision tree.\n",
    "                                      bootstrap_features=False),\n",
    "                                 param_grid=parameters,\n",
    "                                 cv=cv,\n",
    "                                 n_jobs = -1)\n",
    "grid.fit(X,y) "
   ]
  },
  {
   "cell_type": "code",
   "execution_count": 144,
   "metadata": {},
   "outputs": [
    {
     "name": "stdout",
     "output_type": "stream",
     "text": [
      "0.6783333333333335\n",
      "{'n_estimators': 160}\n",
      "BaggingClassifier(base_estimator=None, bootstrap=True, bootstrap_features=False,\n",
      "                  max_features=1.0, max_samples=1.0, n_estimators=160,\n",
      "                  n_jobs=None, oob_score=False, random_state=None, verbose=0,\n",
      "                  warm_start=False)\n"
     ]
    }
   ],
   "source": [
    "print (grid.best_score_)\n",
    "print (grid.best_params_)\n",
    "print (grid.best_estimator_)"
   ]
  },
  {
   "cell_type": "code",
   "execution_count": 145,
   "metadata": {},
   "outputs": [
    {
     "data": {
      "text/plain": [
       "0.9996"
      ]
     },
     "execution_count": 145,
     "metadata": {},
     "output_type": "execute_result"
    }
   ],
   "source": [
    "bagging_grid = grid.best_estimator_\n",
    "bagging_grid.score(X,y)"
   ]
  },
  {
   "cell_type": "code",
   "execution_count": 146,
   "metadata": {},
   "outputs": [
    {
     "data": {
      "text/plain": [
       "GridSearchCV(cv=StratifiedShuffleSplit(n_splits=10, random_state=15, test_size=0.3,\n",
       "            train_size=None),\n",
       "             error_score=nan,\n",
       "             estimator=AdaBoostClassifier(algorithm='SAMME.R',\n",
       "                                          base_estimator=None,\n",
       "                                          learning_rate=1.0, n_estimators=50,\n",
       "                                          random_state=None),\n",
       "             iid='deprecated', n_jobs=-1,\n",
       "             param_grid={'learning_rate': [0.1, 1, 0.01, 0.5],\n",
       "                         'n_estimators': [100, 140, 145, 150, 160, 170, 175,\n",
       "                                          180, 185]},\n",
       "             pre_dispatch='2*n_jobs', refit=True, return_train_score=False,\n",
       "             scoring=None, verbose=0)"
      ]
     },
     "execution_count": 146,
     "metadata": {},
     "output_type": "execute_result"
    }
   ],
   "source": [
    "#Adaboost\n",
    "from sklearn.ensemble import AdaBoostClassifier\n",
    "n_estimators = [100,140,145,150,160, 170,175,180,185];\n",
    "cv = StratifiedShuffleSplit(n_splits=10, test_size=.30, random_state=15)\n",
    "learning_r = [0.1,1,0.01,0.5]\n",
    "\n",
    "parameters = {'n_estimators':n_estimators,\n",
    "              'learning_rate':learning_r\n",
    "              \n",
    "        }\n",
    "grid = GridSearchCV(AdaBoostClassifier(base_estimator= None, ## If None, then the base estimator is a decision tree.\n",
    "                                     ),\n",
    "                                 param_grid=parameters,\n",
    "                                 cv=cv,\n",
    "                                 n_jobs = -1)\n",
    "grid.fit(X,y) "
   ]
  },
  {
   "cell_type": "code",
   "execution_count": 147,
   "metadata": {},
   "outputs": [
    {
     "name": "stdout",
     "output_type": "stream",
     "text": [
      "0.696\n",
      "{'learning_rate': 0.01, 'n_estimators': 100}\n",
      "AdaBoostClassifier(algorithm='SAMME.R', base_estimator=None, learning_rate=0.01,\n",
      "                   n_estimators=100, random_state=None)\n"
     ]
    }
   ],
   "source": [
    "print (grid.best_score_)\n",
    "print (grid.best_params_)\n",
    "print (grid.best_estimator_)"
   ]
  },
  {
   "cell_type": "code",
   "execution_count": 148,
   "metadata": {},
   "outputs": [
    {
     "data": {
      "text/plain": [
       "0.6958"
      ]
     },
     "execution_count": 148,
     "metadata": {},
     "output_type": "execute_result"
    }
   ],
   "source": [
    "adaBoost_grid = grid.best_estimator_\n",
    "adaBoost_grid.score(X,y)"
   ]
  },
  {
   "cell_type": "code",
   "execution_count": 149,
   "metadata": {},
   "outputs": [
    {
     "name": "stdout",
     "output_type": "stream",
     "text": [
      "0.733\n"
     ]
    }
   ],
   "source": [
    "#Gradient Boosting\n",
    "# Gradient Boosting Classifier\n",
    "from sklearn.ensemble import GradientBoostingClassifier\n",
    "\n",
    "gradient_boost = GradientBoostingClassifier()\n",
    "gradient_boost.fit(X, y)\n",
    "y_pred = gradient_boost.predict(X_test)\n",
    "gradient_accy = round(accuracy_score(y_pred, y_test), 3)\n",
    "print(gradient_accy)"
   ]
  },
  {
   "cell_type": "code",
   "execution_count": 150,
   "metadata": {},
   "outputs": [
    {
     "name": "stdout",
     "output_type": "stream",
     "text": [
      "0.725\n"
     ]
    }
   ],
   "source": [
    "#XGBClassifier\n",
    "from xgboost import XGBClassifier\n",
    "XGBClassifier = XGBClassifier()\n",
    "XGBClassifier.fit(X, y)\n",
    "y_pred = XGBClassifier.predict(X_test)\n",
    "XGBClassifier_accy = round(accuracy_score(y_pred, y_test), 3)\n",
    "print(XGBClassifier_accy)"
   ]
  },
  {
   "cell_type": "code",
   "execution_count": 155,
   "metadata": {},
   "outputs": [
    {
     "name": "stdout",
     "output_type": "stream",
     "text": [
      "0.993\n"
     ]
    }
   ],
   "source": [
    "#Extra Trees Classifier\n",
    "from sklearn.ensemble import ExtraTreesClassifier\n",
    "ExtraTreesClassifier = ExtraTreesClassifier()\n",
    "ExtraTreesClassifier.fit(X, y)\n",
    "y_pred = ExtraTreesClassifier.predict(X_test)\n",
    "extraTree_accy = round(accuracy_score(y_pred, y_test), 3)\n",
    "print(extraTree_accy)"
   ]
  },
  {
   "cell_type": "code",
   "execution_count": 156,
   "metadata": {},
   "outputs": [
    {
     "name": "stdout",
     "output_type": "stream",
     "text": [
      "0.798\n"
     ]
    }
   ],
   "source": [
    "#Gaussian Process Classifier\n",
    "from sklearn.gaussian_process import GaussianProcessClassifier\n",
    "GaussianProcessClassifier = GaussianProcessClassifier()\n",
    "GaussianProcessClassifier.fit(X, y)\n",
    "y_pred = GaussianProcessClassifier.predict(X_test)\n",
    "gau_pro_accy = round(accuracy_score(y_pred, y_test), 3)\n",
    "print(gau_pro_accy)"
   ]
  },
  {
   "cell_type": "code",
   "execution_count": 168,
   "metadata": {},
   "outputs": [],
   "source": [
    "#Voting Classifier\n",
    "from sklearn.ensemble import VotingClassifier\n",
    "\n",
    "voting_classifier = VotingClassifier(estimators=[\n",
    "  #  ('lr_grid', logreg_grid),\n",
    "  #  ('svc', svm_grid),\n",
    "   # ('random_forest', rf_grid),\n",
    "    ('gradient_boosting', gradient_boost),\n",
    "  #  ('decision_tree_grid',dectree_grid),\n",
    "   # ('knn_classifier', knn_grid),\n",
    "   # ('XGB_Classifier', XGBClassifier),\n",
    "   # ('bagging_classifier', bagging_grid),\n",
    "   # ('adaBoost_classifier',adaBoost_grid),\n",
    "    ('ExtraTrees_Classifier', ExtraTreesClassifier),\n",
    "  #  ('gaussian_classifier',gaussian),\n",
    "    ('gaussian_process_classifier', GaussianProcessClassifier)\n",
    "],voting='soft')\n",
    "\n",
    "#voting_classifier = voting_classifier.fit(train_x,train_y)\n",
    "voting_classifier = voting_classifier.fit(X,y)"
   ]
  },
  {
   "cell_type": "code",
   "execution_count": 169,
   "metadata": {},
   "outputs": [
    {
     "name": "stdout",
     "output_type": "stream",
     "text": [
      "0.906\n"
     ]
    }
   ],
   "source": [
    "y_pred = voting_classifier.predict(X_test)\n",
    "voting_accy = round(accuracy_score(y_pred, y_test), 3)\n",
    "print(voting_accy)"
   ]
  },
  {
   "cell_type": "code",
   "execution_count": null,
   "metadata": {},
   "outputs": [],
   "source": []
  },
  {
   "cell_type": "code",
   "execution_count": null,
   "metadata": {},
   "outputs": [],
   "source": []
  },
  {
   "cell_type": "code",
   "execution_count": null,
   "metadata": {},
   "outputs": [],
   "source": []
  },
  {
   "cell_type": "code",
   "execution_count": null,
   "metadata": {},
   "outputs": [],
   "source": []
  },
  {
   "cell_type": "code",
   "execution_count": null,
   "metadata": {},
   "outputs": [],
   "source": []
  },
  {
   "cell_type": "code",
   "execution_count": null,
   "metadata": {},
   "outputs": [],
   "source": []
  },
  {
   "cell_type": "code",
   "execution_count": null,
   "metadata": {},
   "outputs": [],
   "source": []
  },
  {
   "cell_type": "code",
   "execution_count": null,
   "metadata": {},
   "outputs": [],
   "source": []
  },
  {
   "cell_type": "code",
   "execution_count": null,
   "metadata": {},
   "outputs": [],
   "source": []
  },
  {
   "cell_type": "code",
   "execution_count": null,
   "metadata": {},
   "outputs": [],
   "source": []
  },
  {
   "cell_type": "code",
   "execution_count": null,
   "metadata": {},
   "outputs": [],
   "source": []
  },
  {
   "cell_type": "code",
   "execution_count": null,
   "metadata": {},
   "outputs": [],
   "source": []
  },
  {
   "cell_type": "code",
   "execution_count": null,
   "metadata": {},
   "outputs": [],
   "source": []
  },
  {
   "cell_type": "code",
   "execution_count": null,
   "metadata": {},
   "outputs": [],
   "source": []
  },
  {
   "cell_type": "code",
   "execution_count": null,
   "metadata": {},
   "outputs": [],
   "source": []
  },
  {
   "cell_type": "code",
   "execution_count": null,
   "metadata": {},
   "outputs": [],
   "source": []
  },
  {
   "cell_type": "code",
   "execution_count": null,
   "metadata": {},
   "outputs": [],
   "source": []
  },
  {
   "cell_type": "code",
   "execution_count": null,
   "metadata": {},
   "outputs": [],
   "source": []
  },
  {
   "cell_type": "code",
   "execution_count": null,
   "metadata": {},
   "outputs": [],
   "source": []
  },
  {
   "cell_type": "code",
   "execution_count": null,
   "metadata": {},
   "outputs": [],
   "source": []
  },
  {
   "cell_type": "code",
   "execution_count": null,
   "metadata": {},
   "outputs": [],
   "source": []
  },
  {
   "cell_type": "code",
   "execution_count": null,
   "metadata": {},
   "outputs": [],
   "source": []
  },
  {
   "cell_type": "code",
   "execution_count": null,
   "metadata": {},
   "outputs": [],
   "source": []
  },
  {
   "cell_type": "code",
   "execution_count": null,
   "metadata": {},
   "outputs": [],
   "source": []
  },
  {
   "cell_type": "code",
   "execution_count": null,
   "metadata": {},
   "outputs": [],
   "source": []
  },
  {
   "cell_type": "code",
   "execution_count": null,
   "metadata": {},
   "outputs": [],
   "source": []
  },
  {
   "cell_type": "code",
   "execution_count": null,
   "metadata": {},
   "outputs": [],
   "source": []
  },
  {
   "cell_type": "code",
   "execution_count": null,
   "metadata": {},
   "outputs": [],
   "source": []
  },
  {
   "cell_type": "code",
   "execution_count": null,
   "metadata": {},
   "outputs": [],
   "source": []
  },
  {
   "cell_type": "code",
   "execution_count": null,
   "metadata": {},
   "outputs": [],
   "source": []
  },
  {
   "cell_type": "code",
   "execution_count": null,
   "metadata": {},
   "outputs": [],
   "source": []
  },
  {
   "cell_type": "code",
   "execution_count": null,
   "metadata": {},
   "outputs": [],
   "source": []
  },
  {
   "cell_type": "code",
   "execution_count": null,
   "metadata": {},
   "outputs": [],
   "source": []
  },
  {
   "cell_type": "code",
   "execution_count": null,
   "metadata": {},
   "outputs": [],
   "source": []
  },
  {
   "cell_type": "code",
   "execution_count": null,
   "metadata": {},
   "outputs": [],
   "source": []
  },
  {
   "cell_type": "code",
   "execution_count": null,
   "metadata": {},
   "outputs": [],
   "source": []
  },
  {
   "cell_type": "code",
   "execution_count": null,
   "metadata": {},
   "outputs": [],
   "source": []
  },
  {
   "cell_type": "code",
   "execution_count": null,
   "metadata": {},
   "outputs": [],
   "source": []
  },
  {
   "cell_type": "code",
   "execution_count": null,
   "metadata": {},
   "outputs": [],
   "source": []
  },
  {
   "cell_type": "code",
   "execution_count": null,
   "metadata": {},
   "outputs": [],
   "source": []
  },
  {
   "cell_type": "code",
   "execution_count": null,
   "metadata": {},
   "outputs": [],
   "source": []
  },
  {
   "cell_type": "code",
   "execution_count": null,
   "metadata": {},
   "outputs": [],
   "source": []
  },
  {
   "cell_type": "code",
   "execution_count": null,
   "metadata": {},
   "outputs": [],
   "source": []
  },
  {
   "cell_type": "code",
   "execution_count": null,
   "metadata": {},
   "outputs": [],
   "source": []
  },
  {
   "cell_type": "code",
   "execution_count": null,
   "metadata": {},
   "outputs": [],
   "source": []
  },
  {
   "cell_type": "code",
   "execution_count": null,
   "metadata": {},
   "outputs": [],
   "source": []
  },
  {
   "cell_type": "code",
   "execution_count": null,
   "metadata": {},
   "outputs": [],
   "source": []
  },
  {
   "cell_type": "code",
   "execution_count": null,
   "metadata": {},
   "outputs": [],
   "source": []
  },
  {
   "cell_type": "code",
   "execution_count": null,
   "metadata": {},
   "outputs": [],
   "source": []
  },
  {
   "cell_type": "code",
   "execution_count": null,
   "metadata": {},
   "outputs": [],
   "source": []
  },
  {
   "cell_type": "code",
   "execution_count": null,
   "metadata": {},
   "outputs": [],
   "source": []
  },
  {
   "cell_type": "code",
   "execution_count": null,
   "metadata": {},
   "outputs": [],
   "source": []
  },
  {
   "cell_type": "code",
   "execution_count": null,
   "metadata": {},
   "outputs": [],
   "source": []
  },
  {
   "cell_type": "code",
   "execution_count": null,
   "metadata": {},
   "outputs": [],
   "source": []
  },
  {
   "cell_type": "code",
   "execution_count": null,
   "metadata": {},
   "outputs": [],
   "source": []
  },
  {
   "cell_type": "code",
   "execution_count": null,
   "metadata": {},
   "outputs": [],
   "source": []
  },
  {
   "cell_type": "code",
   "execution_count": null,
   "metadata": {},
   "outputs": [],
   "source": []
  },
  {
   "cell_type": "code",
   "execution_count": null,
   "metadata": {},
   "outputs": [],
   "source": []
  },
  {
   "cell_type": "code",
   "execution_count": null,
   "metadata": {},
   "outputs": [],
   "source": []
  },
  {
   "cell_type": "code",
   "execution_count": null,
   "metadata": {},
   "outputs": [],
   "source": []
  },
  {
   "cell_type": "code",
   "execution_count": null,
   "metadata": {},
   "outputs": [],
   "source": []
  },
  {
   "cell_type": "code",
   "execution_count": null,
   "metadata": {},
   "outputs": [],
   "source": []
  },
  {
   "cell_type": "code",
   "execution_count": null,
   "metadata": {},
   "outputs": [],
   "source": []
  },
  {
   "cell_type": "code",
   "execution_count": null,
   "metadata": {},
   "outputs": [],
   "source": []
  },
  {
   "cell_type": "code",
   "execution_count": null,
   "metadata": {},
   "outputs": [],
   "source": []
  },
  {
   "cell_type": "code",
   "execution_count": null,
   "metadata": {},
   "outputs": [],
   "source": []
  },
  {
   "cell_type": "code",
   "execution_count": null,
   "metadata": {},
   "outputs": [],
   "source": []
  },
  {
   "cell_type": "code",
   "execution_count": null,
   "metadata": {},
   "outputs": [],
   "source": []
  },
  {
   "cell_type": "code",
   "execution_count": null,
   "metadata": {},
   "outputs": [],
   "source": []
  },
  {
   "cell_type": "code",
   "execution_count": null,
   "metadata": {},
   "outputs": [],
   "source": []
  },
  {
   "cell_type": "code",
   "execution_count": null,
   "metadata": {},
   "outputs": [],
   "source": []
  },
  {
   "cell_type": "code",
   "execution_count": null,
   "metadata": {},
   "outputs": [],
   "source": []
  },
  {
   "cell_type": "code",
   "execution_count": null,
   "metadata": {},
   "outputs": [],
   "source": []
  },
  {
   "cell_type": "code",
   "execution_count": null,
   "metadata": {},
   "outputs": [],
   "source": []
  },
  {
   "cell_type": "code",
   "execution_count": null,
   "metadata": {},
   "outputs": [],
   "source": []
  },
  {
   "cell_type": "code",
   "execution_count": null,
   "metadata": {},
   "outputs": [],
   "source": []
  },
  {
   "cell_type": "code",
   "execution_count": null,
   "metadata": {},
   "outputs": [],
   "source": []
  },
  {
   "cell_type": "code",
   "execution_count": null,
   "metadata": {},
   "outputs": [],
   "source": []
  },
  {
   "cell_type": "code",
   "execution_count": null,
   "metadata": {},
   "outputs": [],
   "source": []
  },
  {
   "cell_type": "code",
   "execution_count": null,
   "metadata": {},
   "outputs": [],
   "source": []
  },
  {
   "cell_type": "code",
   "execution_count": null,
   "metadata": {},
   "outputs": [],
   "source": []
  },
  {
   "cell_type": "code",
   "execution_count": null,
   "metadata": {},
   "outputs": [],
   "source": []
  },
  {
   "cell_type": "code",
   "execution_count": null,
   "metadata": {},
   "outputs": [],
   "source": []
  },
  {
   "cell_type": "code",
   "execution_count": null,
   "metadata": {},
   "outputs": [],
   "source": []
  },
  {
   "cell_type": "code",
   "execution_count": null,
   "metadata": {},
   "outputs": [],
   "source": []
  },
  {
   "cell_type": "code",
   "execution_count": null,
   "metadata": {},
   "outputs": [],
   "source": []
  },
  {
   "cell_type": "code",
   "execution_count": null,
   "metadata": {},
   "outputs": [],
   "source": []
  },
  {
   "cell_type": "code",
   "execution_count": null,
   "metadata": {},
   "outputs": [],
   "source": []
  },
  {
   "cell_type": "code",
   "execution_count": null,
   "metadata": {},
   "outputs": [],
   "source": []
  },
  {
   "cell_type": "code",
   "execution_count": null,
   "metadata": {},
   "outputs": [],
   "source": []
  },
  {
   "cell_type": "code",
   "execution_count": null,
   "metadata": {},
   "outputs": [],
   "source": []
  },
  {
   "cell_type": "code",
   "execution_count": null,
   "metadata": {},
   "outputs": [],
   "source": []
  },
  {
   "cell_type": "code",
   "execution_count": null,
   "metadata": {},
   "outputs": [],
   "source": []
  },
  {
   "cell_type": "code",
   "execution_count": null,
   "metadata": {},
   "outputs": [],
   "source": []
  },
  {
   "cell_type": "code",
   "execution_count": null,
   "metadata": {},
   "outputs": [],
   "source": []
  },
  {
   "cell_type": "code",
   "execution_count": null,
   "metadata": {},
   "outputs": [],
   "source": []
  },
  {
   "cell_type": "code",
   "execution_count": null,
   "metadata": {},
   "outputs": [],
   "source": []
  },
  {
   "cell_type": "code",
   "execution_count": null,
   "metadata": {},
   "outputs": [],
   "source": []
  },
  {
   "cell_type": "code",
   "execution_count": null,
   "metadata": {},
   "outputs": [],
   "source": []
  },
  {
   "cell_type": "code",
   "execution_count": null,
   "metadata": {},
   "outputs": [],
   "source": []
  },
  {
   "cell_type": "code",
   "execution_count": null,
   "metadata": {},
   "outputs": [],
   "source": []
  },
  {
   "cell_type": "code",
   "execution_count": null,
   "metadata": {},
   "outputs": [],
   "source": []
  },
  {
   "cell_type": "code",
   "execution_count": null,
   "metadata": {},
   "outputs": [],
   "source": []
  },
  {
   "cell_type": "code",
   "execution_count": null,
   "metadata": {},
   "outputs": [],
   "source": []
  },
  {
   "cell_type": "code",
   "execution_count": null,
   "metadata": {},
   "outputs": [],
   "source": []
  },
  {
   "cell_type": "code",
   "execution_count": null,
   "metadata": {},
   "outputs": [],
   "source": []
  },
  {
   "cell_type": "code",
   "execution_count": null,
   "metadata": {},
   "outputs": [],
   "source": []
  },
  {
   "cell_type": "code",
   "execution_count": null,
   "metadata": {},
   "outputs": [],
   "source": []
  },
  {
   "cell_type": "code",
   "execution_count": null,
   "metadata": {},
   "outputs": [],
   "source": []
  },
  {
   "cell_type": "code",
   "execution_count": null,
   "metadata": {},
   "outputs": [],
   "source": []
  },
  {
   "cell_type": "code",
   "execution_count": null,
   "metadata": {},
   "outputs": [],
   "source": []
  },
  {
   "cell_type": "code",
   "execution_count": null,
   "metadata": {},
   "outputs": [],
   "source": []
  },
  {
   "cell_type": "code",
   "execution_count": null,
   "metadata": {},
   "outputs": [],
   "source": []
  },
  {
   "cell_type": "code",
   "execution_count": null,
   "metadata": {},
   "outputs": [],
   "source": []
  },
  {
   "cell_type": "code",
   "execution_count": null,
   "metadata": {},
   "outputs": [],
   "source": []
  },
  {
   "cell_type": "code",
   "execution_count": null,
   "metadata": {},
   "outputs": [],
   "source": []
  },
  {
   "cell_type": "code",
   "execution_count": null,
   "metadata": {},
   "outputs": [],
   "source": []
  },
  {
   "cell_type": "code",
   "execution_count": null,
   "metadata": {},
   "outputs": [],
   "source": []
  },
  {
   "cell_type": "code",
   "execution_count": null,
   "metadata": {},
   "outputs": [],
   "source": []
  },
  {
   "cell_type": "code",
   "execution_count": null,
   "metadata": {},
   "outputs": [],
   "source": []
  },
  {
   "cell_type": "code",
   "execution_count": null,
   "metadata": {},
   "outputs": [],
   "source": []
  }
 ],
 "metadata": {
  "kernelspec": {
   "display_name": "Python 3",
   "language": "python",
   "name": "python3"
  },
  "language_info": {
   "codemirror_mode": {
    "name": "ipython",
    "version": 3
   },
   "file_extension": ".py",
   "mimetype": "text/x-python",
   "name": "python",
   "nbconvert_exporter": "python",
   "pygments_lexer": "ipython3",
   "version": "3.7.6"
  }
 },
 "nbformat": 4,
 "nbformat_minor": 4
}
