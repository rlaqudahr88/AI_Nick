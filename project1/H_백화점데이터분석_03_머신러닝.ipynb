{
 "cells": [
  {
   "cell_type": "markdown",
   "metadata": {},
   "source": [
    "# 현재까지의 작업내용 런"
   ]
  },
  {
   "cell_type": "code",
   "execution_count": 7,
   "metadata": {
    "scrolled": false
   },
   "outputs": [
    {
     "name": "stdout",
     "output_type": "stream",
     "text": [
      "<class 'pandas.core.frame.DataFrame'>\n",
      "RangeIndex: 5000 entries, 0 to 4999\n",
      "Data columns (total 18 columns):\n",
      "custid       5000 non-null int64\n",
      "gender       5000 non-null int64\n",
      "총구매액         5000 non-null int64\n",
      "구매건수         5000 non-null int64\n",
      "평균구매가격       5000 non-null int64\n",
      "평균할부개월수      5000 non-null float64\n",
      "구매브랜드종류      5000 non-null int64\n",
      "내점일수         5000 non-null int64\n",
      "수입상품_구매비율    5000 non-null float64\n",
      "주말방문비율       5000 non-null float64\n",
      "가을_구매건수      5000 non-null float64\n",
      "겨울_구매건수      5000 non-null float64\n",
      "봄_구매건수       5000 non-null float64\n",
      "여름_구매건수      5000 non-null float64\n",
      "아침_구매건수      5000 non-null float64\n",
      "저녁_구매건수      5000 non-null float64\n",
      "점심_구매건수      5000 non-null float64\n",
      "주구매코너        5000 non-null object\n",
      "dtypes: float64(10), int64(7), object(1)\n",
      "memory usage: 703.2+ KB\n",
      "<class 'pandas.core.frame.DataFrame'>\n",
      "RangeIndex: 5000 entries, 0 to 4999\n",
      "Data columns (total 18 columns):\n",
      "custid       5000 non-null int64\n",
      "gender       5000 non-null int64\n",
      "총구매액         5000 non-null int64\n",
      "구매건수         5000 non-null int64\n",
      "평균구매가격       5000 non-null int64\n",
      "평균할부개월수      5000 non-null float64\n",
      "구매브랜드종류      5000 non-null int64\n",
      "내점일수         5000 non-null int64\n",
      "수입상품_구매비율    5000 non-null float64\n",
      "주말방문비율       5000 non-null float64\n",
      "가을_구매건수      5000 non-null float64\n",
      "겨울_구매건수      5000 non-null float64\n",
      "봄_구매건수       5000 non-null float64\n",
      "여름_구매건수      5000 non-null float64\n",
      "아침_구매건수      5000 non-null float64\n",
      "저녁_구매건수      5000 non-null float64\n",
      "점심_구매건수      5000 non-null float64\n",
      "주구매코너        5000 non-null int8\n",
      "dtypes: float64(10), int64(7), int8(1)\n",
      "memory usage: 669.1 KB\n",
      "<class 'pandas.core.frame.DataFrame'>\n",
      "RangeIndex: 5000 entries, 0 to 4999\n",
      "Data columns (total 17 columns):\n",
      "gender       5000 non-null int64\n",
      "총구매액         5000 non-null int64\n",
      "구매건수         5000 non-null int64\n",
      "평균구매가격       5000 non-null int64\n",
      "평균할부개월수      5000 non-null float64\n",
      "구매브랜드종류      5000 non-null int64\n",
      "내점일수         5000 non-null int64\n",
      "수입상품_구매비율    5000 non-null float64\n",
      "주말방문비율       5000 non-null float64\n",
      "가을_구매건수      5000 non-null float64\n",
      "겨울_구매건수      5000 non-null float64\n",
      "봄_구매건수       5000 non-null float64\n",
      "여름_구매건수      5000 non-null float64\n",
      "아침_구매건수      5000 non-null float64\n",
      "저녁_구매건수      5000 non-null float64\n",
      "점심_구매건수      5000 non-null float64\n",
      "주구매코너        5000 non-null int8\n",
      "dtypes: float64(10), int64(6), int8(1)\n",
      "memory usage: 630.0 KB\n"
     ]
    },
    {
     "data": {
      "text/plain": [
       "(3750, 16)"
      ]
     },
     "metadata": {},
     "output_type": "display_data"
    },
    {
     "data": {
      "text/plain": [
       "(1250, 16)"
      ]
     },
     "metadata": {},
     "output_type": "display_data"
    },
    {
     "name": "stdout",
     "output_type": "stream",
     "text": [
      "오버샘플링 이전 남성의 수 > 1154\n",
      "오버샘플링 이전 여성의 수 > 2596\n",
      "\n",
      "오버샘플링 이후 남성의 수 > 2596\n",
      "오버샘플링 이후 여성의 수 > 2596\n",
      "\n",
      "오버샘플링 이후 독립변수(X)의 수치 > (5192, 16)\n",
      "오버샘플링 이후 종속변수(y)의 수치 > (5192,)\n"
     ]
    },
    {
     "name": "stderr",
     "output_type": "stream",
     "text": [
      "C:\\Users\\TJ\\anaconda3\\lib\\site-packages\\sklearn\\externals\\six.py:31: FutureWarning: The module is deprecated in version 0.21 and will be removed in version 0.23 since we've dropped support for Python 2.7. Please rely on the official version of six (https://pypi.org/project/six/).\n",
      "  \"(https://pypi.org/project/six/).\", FutureWarning)\n",
      "C:\\Users\\TJ\\anaconda3\\lib\\site-packages\\sklearn\\externals\\joblib\\__init__.py:15: FutureWarning: sklearn.externals.joblib is deprecated in 0.21 and will be removed in 0.23. Please import this functionality directly from joblib, which can be installed with: pip install joblib. If this warning is raised when loading pickled models, you may need to re-serialize those models with scikit-learn 0.21+.\n",
      "  warnings.warn(msg, category=FutureWarning)\n"
     ]
    },
    {
     "data": {
      "text/plain": [
       "0.9998073959938367"
      ]
     },
     "metadata": {},
     "output_type": "display_data"
    },
    {
     "data": {
      "text/plain": [
       "0.5944"
      ]
     },
     "metadata": {},
     "output_type": "display_data"
    },
    {
     "name": "stderr",
     "output_type": "stream",
     "text": [
      "findfont: Font family ['NanumGothic'] not found. Falling back to DejaVu Sans.\n"
     ]
    },
    {
     "name": "stdout",
     "output_type": "stream",
     "text": [
      "<class 'pandas.core.frame.DataFrame'>\n",
      "RangeIndex: 5000 entries, 0 to 4999\n",
      "Data columns (total 18 columns):\n",
      "custid       5000 non-null int64\n",
      "gender       5000 non-null int64\n",
      "총구매액         5000 non-null int64\n",
      "구매건수         5000 non-null int64\n",
      "평균구매가격       5000 non-null int64\n",
      "평균할부개월수      5000 non-null float64\n",
      "구매브랜드종류      5000 non-null int64\n",
      "내점일수         5000 non-null int64\n",
      "수입상품_구매비율    5000 non-null float64\n",
      "주말방문비율       5000 non-null float64\n",
      "가을_구매건수      5000 non-null float64\n",
      "겨울_구매건수      5000 non-null float64\n",
      "봄_구매건수       5000 non-null float64\n",
      "여름_구매건수      5000 non-null float64\n",
      "아침_구매건수      5000 non-null float64\n",
      "저녁_구매건수      5000 non-null float64\n",
      "점심_구매건수      5000 non-null float64\n",
      "주구매코너        5000 non-null int8\n",
      "dtypes: float64(10), int64(7), int8(1)\n",
      "memory usage: 669.1 KB\n"
     ]
    },
    {
     "name": "stderr",
     "output_type": "stream",
     "text": [
      "C:\\Users\\TJ\\anaconda3\\lib\\site-packages\\matplotlib\\backends\\backend_agg.py:211: RuntimeWarning: Glyph 50500 missing from current font.\n",
      "  font.set_text(s, 0.0, flags=flags)\n",
      "C:\\Users\\TJ\\anaconda3\\lib\\site-packages\\matplotlib\\backends\\backend_agg.py:211: RuntimeWarning: Glyph 52840 missing from current font.\n",
      "  font.set_text(s, 0.0, flags=flags)\n",
      "C:\\Users\\TJ\\anaconda3\\lib\\site-packages\\matplotlib\\backends\\backend_agg.py:211: RuntimeWarning: Glyph 44396 missing from current font.\n",
      "  font.set_text(s, 0.0, flags=flags)\n",
      "C:\\Users\\TJ\\anaconda3\\lib\\site-packages\\matplotlib\\backends\\backend_agg.py:211: RuntimeWarning: Glyph 47588 missing from current font.\n",
      "  font.set_text(s, 0.0, flags=flags)\n",
      "C:\\Users\\TJ\\anaconda3\\lib\\site-packages\\matplotlib\\backends\\backend_agg.py:211: RuntimeWarning: Glyph 44148 missing from current font.\n",
      "  font.set_text(s, 0.0, flags=flags)\n",
      "C:\\Users\\TJ\\anaconda3\\lib\\site-packages\\matplotlib\\backends\\backend_agg.py:211: RuntimeWarning: Glyph 49688 missing from current font.\n",
      "  font.set_text(s, 0.0, flags=flags)\n",
      "findfont: Font family ['NanumGothic'] not found. Falling back to DejaVu Sans.\n",
      "C:\\Users\\TJ\\anaconda3\\lib\\site-packages\\matplotlib\\backends\\backend_agg.py:180: RuntimeWarning: Glyph 50500 missing from current font.\n",
      "  font.set_text(s, 0, flags=flags)\n",
      "C:\\Users\\TJ\\anaconda3\\lib\\site-packages\\matplotlib\\backends\\backend_agg.py:180: RuntimeWarning: Glyph 52840 missing from current font.\n",
      "  font.set_text(s, 0, flags=flags)\n",
      "C:\\Users\\TJ\\anaconda3\\lib\\site-packages\\matplotlib\\backends\\backend_agg.py:180: RuntimeWarning: Glyph 44396 missing from current font.\n",
      "  font.set_text(s, 0, flags=flags)\n",
      "C:\\Users\\TJ\\anaconda3\\lib\\site-packages\\matplotlib\\backends\\backend_agg.py:180: RuntimeWarning: Glyph 47588 missing from current font.\n",
      "  font.set_text(s, 0, flags=flags)\n",
      "C:\\Users\\TJ\\anaconda3\\lib\\site-packages\\matplotlib\\backends\\backend_agg.py:180: RuntimeWarning: Glyph 44148 missing from current font.\n",
      "  font.set_text(s, 0, flags=flags)\n",
      "C:\\Users\\TJ\\anaconda3\\lib\\site-packages\\matplotlib\\backends\\backend_agg.py:180: RuntimeWarning: Glyph 49688 missing from current font.\n",
      "  font.set_text(s, 0, flags=flags)\n",
      "C:\\Users\\TJ\\anaconda3\\lib\\site-packages\\matplotlib\\backends\\backend_agg.py:211: RuntimeWarning: Glyph 50529 missing from current font.\n",
      "  font.set_text(s, 0.0, flags=flags)\n",
      "C:\\Users\\TJ\\anaconda3\\lib\\site-packages\\matplotlib\\backends\\backend_agg.py:180: RuntimeWarning: Glyph 50529 missing from current font.\n",
      "  font.set_text(s, 0, flags=flags)\n"
     ]
    },
    {
     "data": {
      "image/png": "[encoded data removed]",
      "text/plain": [
       "<Figure size 1080x576 with 2 Axes>"
      ]
     },
     "metadata": {
      "needs_background": "light"
     },
     "output_type": "display_data"
    },
    {
     "name": "stderr",
     "output_type": "stream",
     "text": [
      "C:\\Users\\TJ\\anaconda3\\lib\\site-packages\\matplotlib\\backends\\backend_agg.py:211: RuntimeWarning: Glyph 52509 missing from current font.\n",
      "  font.set_text(s, 0.0, flags=flags)\n",
      "C:\\Users\\TJ\\anaconda3\\lib\\site-packages\\matplotlib\\backends\\backend_agg.py:211: RuntimeWarning: Glyph 54217 missing from current font.\n",
      "  font.set_text(s, 0.0, flags=flags)\n",
      "C:\\Users\\TJ\\anaconda3\\lib\\site-packages\\matplotlib\\backends\\backend_agg.py:211: RuntimeWarning: Glyph 44512 missing from current font.\n",
      "  font.set_text(s, 0.0, flags=flags)\n",
      "C:\\Users\\TJ\\anaconda3\\lib\\site-packages\\matplotlib\\backends\\backend_agg.py:211: RuntimeWarning: Glyph 44032 missing from current font.\n",
      "  font.set_text(s, 0.0, flags=flags)\n",
      "C:\\Users\\TJ\\anaconda3\\lib\\site-packages\\matplotlib\\backends\\backend_agg.py:211: RuntimeWarning: Glyph 44201 missing from current font.\n",
      "  font.set_text(s, 0.0, flags=flags)\n",
      "C:\\Users\\TJ\\anaconda3\\lib\\site-packages\\matplotlib\\backends\\backend_agg.py:211: RuntimeWarning: Glyph 48652 missing from current font.\n",
      "  font.set_text(s, 0.0, flags=flags)\n",
      "C:\\Users\\TJ\\anaconda3\\lib\\site-packages\\matplotlib\\backends\\backend_agg.py:211: RuntimeWarning: Glyph 47004 missing from current font.\n",
      "  font.set_text(s, 0.0, flags=flags)\n",
      "C:\\Users\\TJ\\anaconda3\\lib\\site-packages\\matplotlib\\backends\\backend_agg.py:211: RuntimeWarning: Glyph 46300 missing from current font.\n",
      "  font.set_text(s, 0.0, flags=flags)\n",
      "C:\\Users\\TJ\\anaconda3\\lib\\site-packages\\matplotlib\\backends\\backend_agg.py:211: RuntimeWarning: Glyph 51333 missing from current font.\n",
      "  font.set_text(s, 0.0, flags=flags)\n",
      "C:\\Users\\TJ\\anaconda3\\lib\\site-packages\\matplotlib\\backends\\backend_agg.py:211: RuntimeWarning: Glyph 47448 missing from current font.\n",
      "  font.set_text(s, 0.0, flags=flags)\n",
      "C:\\Users\\TJ\\anaconda3\\lib\\site-packages\\matplotlib\\backends\\backend_agg.py:211: RuntimeWarning: Glyph 51077 missing from current font.\n",
      "  font.set_text(s, 0.0, flags=flags)\n",
      "C:\\Users\\TJ\\anaconda3\\lib\\site-packages\\matplotlib\\backends\\backend_agg.py:211: RuntimeWarning: Glyph 49345 missing from current font.\n",
      "  font.set_text(s, 0.0, flags=flags)\n",
      "C:\\Users\\TJ\\anaconda3\\lib\\site-packages\\matplotlib\\backends\\backend_agg.py:211: RuntimeWarning: Glyph 54408 missing from current font.\n",
      "  font.set_text(s, 0.0, flags=flags)\n",
      "C:\\Users\\TJ\\anaconda3\\lib\\site-packages\\matplotlib\\backends\\backend_agg.py:211: RuntimeWarning: Glyph 48708 missing from current font.\n",
      "  font.set_text(s, 0.0, flags=flags)\n",
      "C:\\Users\\TJ\\anaconda3\\lib\\site-packages\\matplotlib\\backends\\backend_agg.py:211: RuntimeWarning: Glyph 50984 missing from current font.\n",
      "  font.set_text(s, 0.0, flags=flags)\n",
      "C:\\Users\\TJ\\anaconda3\\lib\\site-packages\\matplotlib\\backends\\backend_agg.py:211: RuntimeWarning: Glyph 51012 missing from current font.\n",
      "  font.set_text(s, 0.0, flags=flags)\n",
      "C:\\Users\\TJ\\anaconda3\\lib\\site-packages\\matplotlib\\backends\\backend_agg.py:211: RuntimeWarning: Glyph 48388 missing from current font.\n",
      "  font.set_text(s, 0.0, flags=flags)\n",
      "C:\\Users\\TJ\\anaconda3\\lib\\site-packages\\matplotlib\\backends\\backend_agg.py:211: RuntimeWarning: Glyph 51216 missing from current font.\n",
      "  font.set_text(s, 0.0, flags=flags)\n",
      "C:\\Users\\TJ\\anaconda3\\lib\\site-packages\\matplotlib\\backends\\backend_agg.py:211: RuntimeWarning: Glyph 49900 missing from current font.\n",
      "  font.set_text(s, 0.0, flags=flags)\n",
      "C:\\Users\\TJ\\anaconda3\\lib\\site-packages\\matplotlib\\backends\\backend_agg.py:211: RuntimeWarning: Glyph 51200 missing from current font.\n",
      "  font.set_text(s, 0.0, flags=flags)\n",
      "C:\\Users\\TJ\\anaconda3\\lib\\site-packages\\matplotlib\\backends\\backend_agg.py:211: RuntimeWarning: Glyph 45377 missing from current font.\n",
      "  font.set_text(s, 0.0, flags=flags)\n",
      "C:\\Users\\TJ\\anaconda3\\lib\\site-packages\\matplotlib\\backends\\backend_agg.py:211: RuntimeWarning: Glyph 50668 missing from current font.\n",
      "  font.set_text(s, 0.0, flags=flags)\n",
      "C:\\Users\\TJ\\anaconda3\\lib\\site-packages\\matplotlib\\backends\\backend_agg.py:211: RuntimeWarning: Glyph 47492 missing from current font.\n",
      "  font.set_text(s, 0.0, flags=flags)\n",
      "C:\\Users\\TJ\\anaconda3\\lib\\site-packages\\matplotlib\\backends\\backend_agg.py:211: RuntimeWarning: Glyph 44200 missing from current font.\n",
      "  font.set_text(s, 0.0, flags=flags)\n",
      "C:\\Users\\TJ\\anaconda3\\lib\\site-packages\\matplotlib\\backends\\backend_agg.py:211: RuntimeWarning: Glyph 50872 missing from current font.\n",
      "  font.set_text(s, 0.0, flags=flags)\n",
      "C:\\Users\\TJ\\anaconda3\\lib\\site-packages\\matplotlib\\backends\\backend_agg.py:180: RuntimeWarning: Glyph 52509 missing from current font.\n",
      "  font.set_text(s, 0, flags=flags)\n",
      "C:\\Users\\TJ\\anaconda3\\lib\\site-packages\\matplotlib\\backends\\backend_agg.py:180: RuntimeWarning: Glyph 54217 missing from current font.\n",
      "  font.set_text(s, 0, flags=flags)\n",
      "C:\\Users\\TJ\\anaconda3\\lib\\site-packages\\matplotlib\\backends\\backend_agg.py:180: RuntimeWarning: Glyph 44512 missing from current font.\n",
      "  font.set_text(s, 0, flags=flags)\n",
      "C:\\Users\\TJ\\anaconda3\\lib\\site-packages\\matplotlib\\backends\\backend_agg.py:180: RuntimeWarning: Glyph 44032 missing from current font.\n",
      "  font.set_text(s, 0, flags=flags)\n",
      "C:\\Users\\TJ\\anaconda3\\lib\\site-packages\\matplotlib\\backends\\backend_agg.py:180: RuntimeWarning: Glyph 44201 missing from current font.\n",
      "  font.set_text(s, 0, flags=flags)\n",
      "C:\\Users\\TJ\\anaconda3\\lib\\site-packages\\matplotlib\\backends\\backend_agg.py:180: RuntimeWarning: Glyph 48652 missing from current font.\n",
      "  font.set_text(s, 0, flags=flags)\n",
      "C:\\Users\\TJ\\anaconda3\\lib\\site-packages\\matplotlib\\backends\\backend_agg.py:180: RuntimeWarning: Glyph 47004 missing from current font.\n",
      "  font.set_text(s, 0, flags=flags)\n",
      "C:\\Users\\TJ\\anaconda3\\lib\\site-packages\\matplotlib\\backends\\backend_agg.py:180: RuntimeWarning: Glyph 46300 missing from current font.\n",
      "  font.set_text(s, 0, flags=flags)\n",
      "C:\\Users\\TJ\\anaconda3\\lib\\site-packages\\matplotlib\\backends\\backend_agg.py:180: RuntimeWarning: Glyph 51333 missing from current font.\n",
      "  font.set_text(s, 0, flags=flags)\n",
      "C:\\Users\\TJ\\anaconda3\\lib\\site-packages\\matplotlib\\backends\\backend_agg.py:180: RuntimeWarning: Glyph 47448 missing from current font.\n",
      "  font.set_text(s, 0, flags=flags)\n",
      "C:\\Users\\TJ\\anaconda3\\lib\\site-packages\\matplotlib\\backends\\backend_agg.py:180: RuntimeWarning: Glyph 51077 missing from current font.\n",
      "  font.set_text(s, 0, flags=flags)\n",
      "C:\\Users\\TJ\\anaconda3\\lib\\site-packages\\matplotlib\\backends\\backend_agg.py:180: RuntimeWarning: Glyph 49345 missing from current font.\n",
      "  font.set_text(s, 0, flags=flags)\n",
      "C:\\Users\\TJ\\anaconda3\\lib\\site-packages\\matplotlib\\backends\\backend_agg.py:180: RuntimeWarning: Glyph 54408 missing from current font.\n",
      "  font.set_text(s, 0, flags=flags)\n",
      "C:\\Users\\TJ\\anaconda3\\lib\\site-packages\\matplotlib\\backends\\backend_agg.py:180: RuntimeWarning: Glyph 48708 missing from current font.\n",
      "  font.set_text(s, 0, flags=flags)\n",
      "C:\\Users\\TJ\\anaconda3\\lib\\site-packages\\matplotlib\\backends\\backend_agg.py:180: RuntimeWarning: Glyph 50984 missing from current font.\n",
      "  font.set_text(s, 0, flags=flags)\n",
      "C:\\Users\\TJ\\anaconda3\\lib\\site-packages\\matplotlib\\backends\\backend_agg.py:180: RuntimeWarning: Glyph 51012 missing from current font.\n",
      "  font.set_text(s, 0, flags=flags)\n",
      "C:\\Users\\TJ\\anaconda3\\lib\\site-packages\\matplotlib\\backends\\backend_agg.py:180: RuntimeWarning: Glyph 48388 missing from current font.\n",
      "  font.set_text(s, 0, flags=flags)\n",
      "C:\\Users\\TJ\\anaconda3\\lib\\site-packages\\matplotlib\\backends\\backend_agg.py:180: RuntimeWarning: Glyph 51216 missing from current font.\n",
      "  font.set_text(s, 0, flags=flags)\n",
      "C:\\Users\\TJ\\anaconda3\\lib\\site-packages\\matplotlib\\backends\\backend_agg.py:180: RuntimeWarning: Glyph 49900 missing from current font.\n",
      "  font.set_text(s, 0, flags=flags)\n",
      "C:\\Users\\TJ\\anaconda3\\lib\\site-packages\\matplotlib\\backends\\backend_agg.py:180: RuntimeWarning: Glyph 51200 missing from current font.\n",
      "  font.set_text(s, 0, flags=flags)\n",
      "C:\\Users\\TJ\\anaconda3\\lib\\site-packages\\matplotlib\\backends\\backend_agg.py:180: RuntimeWarning: Glyph 45377 missing from current font.\n",
      "  font.set_text(s, 0, flags=flags)\n",
      "C:\\Users\\TJ\\anaconda3\\lib\\site-packages\\matplotlib\\backends\\backend_agg.py:180: RuntimeWarning: Glyph 50668 missing from current font.\n",
      "  font.set_text(s, 0, flags=flags)\n",
      "C:\\Users\\TJ\\anaconda3\\lib\\site-packages\\matplotlib\\backends\\backend_agg.py:180: RuntimeWarning: Glyph 47492 missing from current font.\n",
      "  font.set_text(s, 0, flags=flags)\n",
      "C:\\Users\\TJ\\anaconda3\\lib\\site-packages\\matplotlib\\backends\\backend_agg.py:180: RuntimeWarning: Glyph 44200 missing from current font.\n",
      "  font.set_text(s, 0, flags=flags)\n",
      "C:\\Users\\TJ\\anaconda3\\lib\\site-packages\\matplotlib\\backends\\backend_agg.py:180: RuntimeWarning: Glyph 50872 missing from current font.\n",
      "  font.set_text(s, 0, flags=flags)\n"
     ]
    },
    {
     "data": {
      "image/png": "[encoded data removed]",
      "text/plain": [
       "<Figure size 432x288 with 2 Axes>"
      ]
     },
     "metadata": {
      "needs_background": "light"
     },
     "output_type": "display_data"
    },
    {
     "data": {
      "image/png": "[encoded data removed]",
      "text/plain": [
       "<Figure size 1296x576 with 2 Axes>"
      ]
     },
     "metadata": {
      "needs_background": "light"
     },
     "output_type": "display_data"
    },
    {
     "name": "stdout",
     "output_type": "stream",
     "text": [
      "(5000, 19) (6686, 19) (5014, 19) (1672, 19)\n"
     ]
    },
    {
     "data": {
      "text/plain": [
       "(3750, 19)"
      ]
     },
     "metadata": {},
     "output_type": "display_data"
    },
    {
     "data": {
      "text/plain": [
       "(1250, 19)"
      ]
     },
     "metadata": {},
     "output_type": "display_data"
    },
    {
     "name": "stdout",
     "output_type": "stream",
     "text": [
      "오버샘플링 이전 남성의 수 > 1154\n",
      "오버샘플링 이전 여성의 수 > 2596\n",
      "\n",
      "오버샘플링 이후 남성의 수 > 2596\n",
      "오버샘플링 이후 여성의 수 > 2596\n",
      "\n",
      "오버샘플링 이후 독립변수(X)의 수치 > (5192, 19)\n",
      "오버샘플링 이후 종속변수(y)의 수치 > (5192,)\n"
     ]
    },
    {
     "data": {
      "text/plain": [
       "1.0"
      ]
     },
     "metadata": {},
     "output_type": "display_data"
    },
    {
     "data": {
      "text/plain": [
       "0.5904"
      ]
     },
     "metadata": {},
     "output_type": "display_data"
    }
   ],
   "source": [
    "%run H_백화점데이터분석_02_데이터정제.ipynb"
   ]
  },
  {
   "cell_type": "code",
   "execution_count": 8,
   "metadata": {},
   "outputs": [],
   "source": [
    "import pandas as pd\n",
    "from pandas import Series, DataFrame\n",
    "import numpy as np\n",
    "import matplotlib.pyplot as plt\n",
    "%matplotlib inline\n",
    "\n",
    "plt.rcParams['font.family'] = 'NanumGothic'\n",
    "\n",
    "import seaborn as sns\n",
    "\n"
   ]
  },
  {
   "cell_type": "code",
   "execution_count": 9,
   "metadata": {},
   "outputs": [
    {
     "data": {
      "text/html": [
       "<div>\n",
       "<style scoped>\n",
       "    .dataframe tbody tr th:only-of-type {\n",
       "        vertical-align: middle;\n",
       "    }\n",
       "\n",
       "    .dataframe tbody tr th {\n",
       "        vertical-align: top;\n",
       "    }\n",
       "\n",
       "    .dataframe thead th {\n",
       "        text-align: right;\n",
       "    }\n",
       "</style>\n",
       "<table border=\"1\" class=\"dataframe\">\n",
       "  <thead>\n",
       "    <tr style=\"text-align: right;\">\n",
       "      <th></th>\n",
       "      <th>총구매액</th>\n",
       "      <th>구매건수</th>\n",
       "      <th>평균구매가격</th>\n",
       "      <th>구매브랜드종류</th>\n",
       "      <th>내점일수</th>\n",
       "      <th>가을_구매건수</th>\n",
       "      <th>겨울_구매건수</th>\n",
       "      <th>봄_구매건수</th>\n",
       "      <th>여름_구매건수</th>\n",
       "      <th>아침_구매건수</th>\n",
       "      <th>점심_구매건수</th>\n",
       "      <th>아침구매액</th>\n",
       "      <th>점심구매액</th>\n",
       "      <th>봄구매액</th>\n",
       "      <th>여름구매액</th>\n",
       "      <th>가을구매액</th>\n",
       "      <th>겨울구매액</th>\n",
       "      <th>구매브랜드가치</th>\n",
       "    </tr>\n",
       "  </thead>\n",
       "  <tbody>\n",
       "    <tr>\n",
       "      <th>4998</th>\n",
       "      <td>654498</td>\n",
       "      <td>13</td>\n",
       "      <td>50346</td>\n",
       "      <td>10</td>\n",
       "      <td>7</td>\n",
       "      <td>6.0</td>\n",
       "      <td>4.0</td>\n",
       "      <td>2.0</td>\n",
       "      <td>1.0</td>\n",
       "      <td>0.0</td>\n",
       "      <td>11.0</td>\n",
       "      <td>0.00</td>\n",
       "      <td>553806.000</td>\n",
       "      <td>100692.000</td>\n",
       "      <td>50346.000</td>\n",
       "      <td>302076.000</td>\n",
       "      <td>201384.000</td>\n",
       "      <td>503460.000</td>\n",
       "    </tr>\n",
       "    <tr>\n",
       "      <th>4999</th>\n",
       "      <td>2554723</td>\n",
       "      <td>32</td>\n",
       "      <td>79835</td>\n",
       "      <td>9</td>\n",
       "      <td>26</td>\n",
       "      <td>6.0</td>\n",
       "      <td>5.0</td>\n",
       "      <td>10.0</td>\n",
       "      <td>11.0</td>\n",
       "      <td>8.0</td>\n",
       "      <td>19.0</td>\n",
       "      <td>638680.75</td>\n",
       "      <td>1516866.781</td>\n",
       "      <td>798350.938</td>\n",
       "      <td>878186.031</td>\n",
       "      <td>479010.562</td>\n",
       "      <td>399175.469</td>\n",
       "      <td>718515.844</td>\n",
       "    </tr>\n",
       "  </tbody>\n",
       "</table>\n",
       "</div>"
      ],
      "text/plain": [
       "         총구매액  구매건수  평균구매가격  구매브랜드종류  내점일수  가을_구매건수  겨울_구매건수  봄_구매건수  여름_구매건수  \\\n",
       "4998   654498    13   50346       10     7      6.0      4.0     2.0      1.0   \n",
       "4999  2554723    32   79835        9    26      6.0      5.0    10.0     11.0   \n",
       "\n",
       "      아침_구매건수  점심_구매건수      아침구매액        점심구매액        봄구매액       여름구매액  \\\n",
       "4998      0.0     11.0       0.00   553806.000  100692.000   50346.000   \n",
       "4999      8.0     19.0  638680.75  1516866.781  798350.938  878186.031   \n",
       "\n",
       "           가을구매액       겨울구매액     구매브랜드가치  \n",
       "4998  302076.000  201384.000  503460.000  \n",
       "4999  479010.562  399175.469  718515.844  "
      ]
     },
     "execution_count": 9,
     "metadata": {},
     "output_type": "execute_result"
    }
   ],
   "source": [
    "# 독립변수와 종속변수를 나누어준다. \n",
    "dataPD = train.drop(['저녁구매액', '평균할부개월수', '주말방문비율', \n",
    "                    '수입상품_구매비율', '저녁_구매건수', '주구매코너'], axis=1)\n",
    "\n",
    "dfy = dataPD['gender']\n",
    "dfX = dataPD.drop(['gender', 'custid'], axis=1)\n",
    "dfX.tail(2)"
   ]
  },
  {
   "cell_type": "code",
   "execution_count": 10,
   "metadata": {},
   "outputs": [
    {
     "data": {
      "text/plain": [
       "(3750, 18)"
      ]
     },
     "metadata": {},
     "output_type": "display_data"
    },
    {
     "data": {
      "text/plain": [
       "(1250, 18)"
      ]
     },
     "metadata": {},
     "output_type": "display_data"
    },
    {
     "name": "stdout",
     "output_type": "stream",
     "text": [
      "오버샘플링 이전 남성의 수 > 1154\n",
      "오버샘플링 이전 여성의 수 > 2596\n",
      "\n",
      "오버샘플링 이후 남성의 수 > 2596\n",
      "오버샘플링 이후 여성의 수 > 2596\n",
      "\n",
      "오버샘플링 이후 독립변수(X)의 수치 > (5192, 18)\n",
      "오버샘플링 이후 종속변수(y)의 수치 > (5192,)\n"
     ]
    }
   ],
   "source": [
    "X_train, X_test, y_train, y_test = train_test_split(dfX, dfy, test_size = 0.25, random_state = 0)\n",
    "\n",
    "display(X_train.shape, X_test.shape)\n",
    "\n",
    "sm = SMOTE(random_state=2)\n",
    "\n",
    "X_train_res, y_train_res = sm.fit_sample(X_train, y_train.ravel())\n",
    "\n",
    "print(\"오버샘플링 이전 남성의 수 > {}\".format(sum(y_train==1)))\n",
    "print(\"오버샘플링 이전 여성의 수 > {}\\n\".format(sum(y_train==0)))\n",
    "\n",
    "print(\"오버샘플링 이후 남성의 수 > {}\".format(sum(y_train_res==1)))\n",
    "print(\"오버샘플링 이후 여성의 수 > {}\\n\".format(sum(y_train_res==0)))\n",
    "\n",
    "print(\"오버샘플링 이후 독립변수(X)의 수치 > {}\".format(X_train_res.shape))\n",
    "print(\"오버샘플링 이후 종속변수(y)의 수치 > {}\".format(y_train_res.shape))"
   ]
  },
  {
   "cell_type": "markdown",
   "metadata": {},
   "source": [
    "# 1. 로지스틱 회귀분석"
   ]
  },
  {
   "cell_type": "code",
   "execution_count": 11,
   "metadata": {},
   "outputs": [
    {
     "data": {
      "text/plain": [
       "0.5795454545454546"
      ]
     },
     "metadata": {},
     "output_type": "display_data"
    },
    {
     "data": {
      "text/plain": [
       "0.5424"
      ]
     },
     "metadata": {},
     "output_type": "display_data"
    }
   ],
   "source": [
    "from sklearn.linear_model import LogisticRegression\n",
    "\n",
    "lg_model = LogisticRegression(random_state=0)\n",
    "lg_model.fit(X_train_res, y_train_res)\n",
    "display(lg_model.score(X_train_res, y_train_res))\n",
    "display(lg_model.score(X_test, y_test))"
   ]
  },
  {
   "cell_type": "code",
   "execution_count": 12,
   "metadata": {},
   "outputs": [
    {
     "data": {
      "text/plain": [
       "array([0.60576923, 0.53846154, 0.55769231, 0.57692308, 0.52884615,\n",
       "       0.64423077, 0.59615385, 0.53846154, 0.56730769, 0.59615385,\n",
       "       0.51923077, 0.69230769, 0.625     , 0.49038462, 0.53846154,\n",
       "       0.67307692, 0.54807692, 0.61538462, 0.5       , 0.54807692,\n",
       "       0.54807692, 0.68269231, 0.625     , 0.60576923, 0.58653846,\n",
       "       0.54807692, 0.60576923, 0.58653846, 0.55769231, 0.52884615,\n",
       "       0.60576923, 0.54807692, 0.64423077, 0.69230769, 0.57692308,\n",
       "       0.50961538, 0.48076923, 0.55769231, 0.58653846, 0.60576923,\n",
       "       0.45192308, 0.52884615, 0.47572816, 0.62135922, 0.5631068 ,\n",
       "       0.63106796, 0.58252427, 0.60194175, 0.5631068 , 0.63106796])"
      ]
     },
     "execution_count": 12,
     "metadata": {},
     "output_type": "execute_result"
    }
   ],
   "source": [
    "# cross Validation\n",
    "\n",
    "from sklearn.model_selection import cross_val_score\n",
    "scores = cross_val_score(lg_model, X_train_res, y_train_res, cv=50); scores"
   ]
  },
  {
   "cell_type": "code",
   "execution_count": 13,
   "metadata": {},
   "outputs": [
    {
     "name": "stdout",
     "output_type": "stream",
     "text": [
      "Mean: 0.577\n",
      "Std: 0.055\n",
      "Min: 0.452\n",
      "Max: 0.692\n"
     ]
    }
   ],
   "source": [
    "print(\"Mean: {:.3f}\\nStd: {:.3f}\\nMin: {:.3f}\\nMax: {:.3f}\".format(\n",
    "    scores.mean(), scores.std(), scores.min(), scores.max()))"
   ]
  },
  {
   "cell_type": "code",
   "execution_count": null,
   "metadata": {},
   "outputs": [],
   "source": []
  },
  {
   "cell_type": "code",
   "execution_count": 14,
   "metadata": {},
   "outputs": [
    {
     "data": {
      "text/plain": [
       "0.571764252696456"
      ]
     },
     "execution_count": 14,
     "metadata": {},
     "output_type": "execute_result"
    }
   ],
   "source": [
    "from sklearn.model_selection import ShuffleSplit\n",
    "\n",
    "sscv = ShuffleSplit(test_size=.5, train_size=.5, n_splits=10)\n",
    "scores = cross_val_score(lg_model, X_train_res, y_train_res, cv=sscv)\n",
    "scores.mean()"
   ]
  },
  {
   "cell_type": "code",
   "execution_count": 15,
   "metadata": {},
   "outputs": [
    {
     "name": "stderr",
     "output_type": "stream",
     "text": [
      "C:\\Users\\TJ\\anaconda3\\lib\\site-packages\\sklearn\\svm\\_base.py:947: ConvergenceWarning: Liblinear failed to converge, increase the number of iterations.\n",
      "  \"the number of iterations.\", ConvergenceWarning)\n"
     ]
    },
    {
     "data": {
      "text/html": [
       "<div>\n",
       "<style scoped>\n",
       "    .dataframe tbody tr th:only-of-type {\n",
       "        vertical-align: middle;\n",
       "    }\n",
       "\n",
       "    .dataframe tbody tr th {\n",
       "        vertical-align: top;\n",
       "    }\n",
       "\n",
       "    .dataframe thead th {\n",
       "        text-align: right;\n",
       "    }\n",
       "</style>\n",
       "<table border=\"1\" class=\"dataframe\">\n",
       "  <thead>\n",
       "    <tr style=\"text-align: right;\">\n",
       "      <th></th>\n",
       "      <th>Predicted female gender</th>\n",
       "      <th>Predicted male gender</th>\n",
       "    </tr>\n",
       "  </thead>\n",
       "  <tbody>\n",
       "    <tr>\n",
       "      <th>female</th>\n",
       "      <td>760</td>\n",
       "      <td>123</td>\n",
       "    </tr>\n",
       "    <tr>\n",
       "      <th>male</th>\n",
       "      <td>277</td>\n",
       "      <td>90</td>\n",
       "    </tr>\n",
       "  </tbody>\n",
       "</table>\n",
       "</div>"
      ],
      "text/plain": [
       "        Predicted female gender  Predicted male gender\n",
       "female                      760                    123\n",
       "male                        277                     90"
      ]
     },
     "execution_count": 15,
     "metadata": {},
     "output_type": "execute_result"
    }
   ],
   "source": [
    "from sklearn.linear_model import LogisticRegression\n",
    "from sklearn.metrics import mean_absolute_error, accuracy_score\n",
    "\n",
    "## call on the model object\n",
    "logreg = LogisticRegression(solver='liblinear',\n",
    "                            penalty= 'l1',random_state = 42)\n",
    "\n",
    "## fit the model with \"train_x\" and \"train_y\"\n",
    "logreg.fit(X_train_res,y_train_res)\n",
    "\n",
    "## Once the model is trained we want to find out how well the model is performing, so we test the model. \n",
    "## we use \"X_test\" portion of the data(this data was not used to fit the model) to predict model outcome. \n",
    "y_pred = logreg.predict(X_test)\n",
    "\n",
    "from sklearn.metrics import classification_report, confusion_matrix\n",
    "# printing confision matrix`\n",
    "pd.DataFrame(confusion_matrix(y_test,y_pred),\\\n",
    "            columns=[\"Predicted female gender\", \"Predicted male gender\"],\\\n",
    "            index=[\"female\",\"male\"] )"
   ]
  },
  {
   "cell_type": "code",
   "execution_count": 16,
   "metadata": {},
   "outputs": [
    {
     "name": "stdout",
     "output_type": "stream",
     "text": [
      "              precision    recall  f1-score   support\n",
      "\n",
      "           0       0.73      0.86      0.79       883\n",
      "           1       0.42      0.25      0.31       367\n",
      "\n",
      "    accuracy                           0.68      1250\n",
      "   macro avg       0.58      0.55      0.55      1250\n",
      "weighted avg       0.64      0.68      0.65      1250\n",
      "\n"
     ]
    }
   ],
   "source": [
    "from sklearn.metrics import classification_report, balanced_accuracy_score\n",
    "print(classification_report(y_test, y_pred))"
   ]
  },
  {
   "cell_type": "markdown",
   "metadata": {},
   "source": [
    "# 1-2. 로지스틱 회귀분석 심화 \n",
    "#       : GridSearchCV"
   ]
  },
  {
   "cell_type": "code",
   "execution_count": 17,
   "metadata": {},
   "outputs": [
    {
     "data": {
      "text/plain": [
       "GridSearchCV(cv=ShuffleSplit(n_splits=10, random_state=None, test_size=0.25, train_size=None),\n",
       "             error_score=nan,\n",
       "             estimator=LogisticRegression(C=1.0, class_weight=None, dual=False,\n",
       "                                          fit_intercept=True,\n",
       "                                          intercept_scaling=1, l1_ratio=None,\n",
       "                                          max_iter=100, multi_class='auto',\n",
       "                                          n_jobs=None, penalty='l2',\n",
       "                                          random_state=None, solver='lbfgs',\n",
       "                                          tol=0.0001, verbose=0,\n",
       "                                          warm_start=False),\n",
       "             iid='deprecated', n_jobs=-1,\n",
       "             param_grid={'C': [0.2, 0.3, 0.4, 0.5, 0.6, 0.7, 0.8, 0.9, 1, 2, 3,\n",
       "                               4, 5, 6, 7, 8, 9, 10, 12, 13, 14, 15, 16, 16.5,\n",
       "                               17, 17.5, 18],\n",
       "                         'penalty': ['l1', 'l2']},\n",
       "             pre_dispatch='2*n_jobs', refit=True, return_train_score=False,\n",
       "             scoring='accuracy', verbose=0)"
      ]
     },
     "execution_count": 17,
     "metadata": {},
     "output_type": "execute_result"
    }
   ],
   "source": [
    "#Grid Search on Logistic Regression\n",
    "from sklearn.model_selection import GridSearchCV, StratifiedKFold\n",
    "## C_vals is the alpla value of lasso and ridge regression(as alpha increases the model complexity decreases,)\n",
    "## remember effective alpha scores are 0<alpha<infinity \n",
    "C_vals = [0.2,0.3,0.4,0.5,0.6,0.7,0.8,0.9,1,2,3,4,5,6,7,8,9,10,12,13,14,15,16,16.5,17,17.5,18]\n",
    "## Choosing penalties(Lasso(l1) or Ridge(l2))\n",
    "penalties = ['l1','l2']\n",
    "## Choose a cross validation strategy. \n",
    "cv = ShuffleSplit(n_splits = 10, test_size = .25)\n",
    "\n",
    "## setting param for param_grid in GridSearchCV. \n",
    "param = {'penalty': penalties, 'C': C_vals}\n",
    "\n",
    "logreg = LogisticRegression(solver='liblinear')\n",
    "## Calling on GridSearchCV object. \n",
    "grid = GridSearchCV(estimator=LogisticRegression(), \n",
    "                           param_grid = param,\n",
    "                           scoring = 'accuracy',\n",
    "                            n_jobs =-1,\n",
    "                           cv = cv\n",
    "                          )\n",
    "## Fitting the model\n",
    "grid.fit(X_train_res, y_train_res)"
   ]
  },
  {
   "cell_type": "code",
   "execution_count": 18,
   "metadata": {
    "scrolled": true
   },
   "outputs": [
    {
     "name": "stdout",
     "output_type": "stream",
     "text": [
      "0.5747303543913713\n",
      "{'C': 0.2, 'penalty': 'l2'}\n",
      "LogisticRegression(C=0.2, class_weight=None, dual=False, fit_intercept=True,\n",
      "                   intercept_scaling=1, l1_ratio=None, max_iter=100,\n",
      "                   multi_class='auto', n_jobs=None, penalty='l2',\n",
      "                   random_state=None, solver='lbfgs', tol=0.0001, verbose=0,\n",
      "                   warm_start=False)\n"
     ]
    }
   ],
   "source": [
    "print (grid.best_score_)\n",
    "print (grid.best_params_)\n",
    "print(grid.best_estimator_)"
   ]
  },
  {
   "cell_type": "markdown",
   "metadata": {},
   "source": [
    "# 2. Desision Tree 분석"
   ]
  },
  {
   "cell_type": "code",
   "execution_count": 19,
   "metadata": {},
   "outputs": [
    {
     "data": {
      "text/plain": [
       "0.9996147919876733"
      ]
     },
     "metadata": {},
     "output_type": "display_data"
    },
    {
     "data": {
      "text/plain": [
       "0.5696"
      ]
     },
     "metadata": {},
     "output_type": "display_data"
    }
   ],
   "source": [
    "from sklearn.tree import DecisionTreeClassifier\n",
    "import mglearn\n",
    "\n",
    "dt_model = DecisionTreeClassifier(random_state=0)\n",
    "dt_model.fit(X_train_res, y_train_res)\n",
    "display(dt_model.score(X_train_res, y_train_res))\n",
    "display(dt_model.score(X_test, y_test))"
   ]
  },
  {
   "cell_type": "code",
   "execution_count": 20,
   "metadata": {},
   "outputs": [
    {
     "data": {
      "text/plain": [
       "array([0.55769231, 0.50961538, 0.54807692, 0.61538462, 0.52884615,\n",
       "       0.56730769, 0.64423077, 0.52884615, 0.64423077, 0.58653846,\n",
       "       0.63461538, 0.59615385, 0.50961538, 0.52884615, 0.58653846,\n",
       "       0.65384615, 0.57692308, 0.55769231, 0.50961538, 0.54807692,\n",
       "       0.57692308, 0.625     , 0.67307692, 0.75961538, 0.77884615,\n",
       "       0.77884615, 0.77884615, 0.78846154, 0.78846154, 0.78846154,\n",
       "       0.75      , 0.73076923, 0.75      , 0.75      , 0.68269231,\n",
       "       0.70192308, 0.79807692, 0.83653846, 0.77884615, 0.78846154,\n",
       "       0.68269231, 0.78846154, 0.80582524, 0.72815534, 0.66019417,\n",
       "       0.7961165 , 0.78640777, 0.73786408, 0.7184466 , 0.77669903])"
      ]
     },
     "execution_count": 20,
     "metadata": {},
     "output_type": "execute_result"
    }
   ],
   "source": [
    "# cross Validation\n",
    "\n",
    "from sklearn.model_selection import cross_val_score\n",
    "scores = cross_val_score(dt_model, X_train_res, y_train_res, cv=50); scores"
   ]
  },
  {
   "cell_type": "code",
   "execution_count": 21,
   "metadata": {},
   "outputs": [
    {
     "name": "stdout",
     "output_type": "stream",
     "text": [
      "Mean: 0.676\n",
      "Std: 0.101\n",
      "Min: 0.510\n",
      "Max: 0.837\n"
     ]
    }
   ],
   "source": [
    "print(\"Mean: {:.3f}\\nStd: {:.3f}\\nMin: {:.3f}\\nMax: {:.3f}\".format(\n",
    "    scores.mean(), scores.std(), scores.min(), scores.max()))"
   ]
  },
  {
   "cell_type": "code",
   "execution_count": 22,
   "metadata": {},
   "outputs": [
    {
     "data": {
      "text/html": [
       "<div>\n",
       "<style scoped>\n",
       "    .dataframe tbody tr th:only-of-type {\n",
       "        vertical-align: middle;\n",
       "    }\n",
       "\n",
       "    .dataframe tbody tr th {\n",
       "        vertical-align: top;\n",
       "    }\n",
       "\n",
       "    .dataframe thead th {\n",
       "        text-align: right;\n",
       "    }\n",
       "</style>\n",
       "<table border=\"1\" class=\"dataframe\">\n",
       "  <thead>\n",
       "    <tr style=\"text-align: right;\">\n",
       "      <th></th>\n",
       "      <th>Predicted female gender</th>\n",
       "      <th>Predicted male gender</th>\n",
       "    </tr>\n",
       "  </thead>\n",
       "  <tbody>\n",
       "    <tr>\n",
       "      <th>female</th>\n",
       "      <td>575</td>\n",
       "      <td>308</td>\n",
       "    </tr>\n",
       "    <tr>\n",
       "      <th>male</th>\n",
       "      <td>230</td>\n",
       "      <td>137</td>\n",
       "    </tr>\n",
       "  </tbody>\n",
       "</table>\n",
       "</div>"
      ],
      "text/plain": [
       "        Predicted female gender  Predicted male gender\n",
       "female                      575                    308\n",
       "male                        230                    137"
      ]
     },
     "execution_count": 22,
     "metadata": {},
     "output_type": "execute_result"
    }
   ],
   "source": [
    "from sklearn.metrics import mean_absolute_error, accuracy_score\n",
    "\n",
    "## call on the model object\n",
    "decTree = DecisionTreeClassifier(random_state = 0)\n",
    "\n",
    "## fit the model with \"train_x\" and \"train_y\"\n",
    "decTree.fit(X_train_res,y_train_res)\n",
    "\n",
    "## Once the model is trained we want to find out how well the model is performing, so we test the model. \n",
    "## we use \"X_test\" portion of the data(this data was not used to fit the model) to predict model outcome. \n",
    "y_pred = decTree.predict(X_test)\n",
    "\n",
    "from sklearn.metrics import classification_report, confusion_matrix\n",
    "# printing confision matrix`\n",
    "pd.DataFrame(confusion_matrix(y_test,y_pred),\\\n",
    "            columns=[\"Predicted female gender\", \"Predicted male gender\"],\\\n",
    "            index=[\"female\",\"male\"] )"
   ]
  },
  {
   "cell_type": "code",
   "execution_count": 23,
   "metadata": {},
   "outputs": [
    {
     "name": "stdout",
     "output_type": "stream",
     "text": [
      "              precision    recall  f1-score   support\n",
      "\n",
      "           0       0.71      0.65      0.68       883\n",
      "           1       0.31      0.37      0.34       367\n",
      "\n",
      "    accuracy                           0.57      1250\n",
      "   macro avg       0.51      0.51      0.51      1250\n",
      "weighted avg       0.59      0.57      0.58      1250\n",
      "\n"
     ]
    }
   ],
   "source": [
    "from sklearn.metrics import classification_report, balanced_accuracy_score\n",
    "print(classification_report(y_test, y_pred))"
   ]
  },
  {
   "cell_type": "markdown",
   "metadata": {},
   "source": [
    "# 3. 최근접이웃 예측모델"
   ]
  },
  {
   "cell_type": "code",
   "execution_count": 24,
   "metadata": {},
   "outputs": [
    {
     "data": {
      "text/plain": [
       "0.9541602465331279"
      ]
     },
     "metadata": {},
     "output_type": "display_data"
    },
    {
     "data": {
      "text/plain": [
       "0.6136"
      ]
     },
     "metadata": {},
     "output_type": "display_data"
    }
   ],
   "source": [
    "from sklearn.neighbors import KNeighborsClassifier\n",
    "\n",
    "kn_model = KNeighborsClassifier(n_neighbors=2)\n",
    "\n",
    "kn_model.fit(X_train_res, y_train_res)\n",
    "display(kn_model.score(X_train_res, y_train_res))\n",
    "display(kn_model.score(X_test, y_test))"
   ]
  },
  {
   "cell_type": "code",
   "execution_count": 25,
   "metadata": {},
   "outputs": [
    {
     "data": {
      "text/plain": [
       "array([0.76923077, 0.63461538, 0.74038462, 0.75961538, 0.72115385,\n",
       "       0.66346154, 0.66346154, 0.625     , 0.73076923, 0.68269231,\n",
       "       0.69230769, 0.69230769, 0.68269231, 0.74038462, 0.70192308,\n",
       "       0.71153846, 0.66346154, 0.71153846, 0.74038462, 0.71153846,\n",
       "       0.73076923, 0.69230769, 0.76923077, 0.86538462, 0.83653846,\n",
       "       0.83653846, 0.85576923, 0.82692308, 0.875     , 0.85576923,\n",
       "       0.82692308, 0.79807692, 0.88461538, 0.84615385, 0.83653846,\n",
       "       0.77884615, 0.80769231, 0.83653846, 0.82692308, 0.81730769,\n",
       "       0.82692308, 0.74038462, 0.81553398, 0.87378641, 0.82524272,\n",
       "       0.90291262, 0.78640777, 0.87378641, 0.83495146, 0.83495146])"
      ]
     },
     "execution_count": 25,
     "metadata": {},
     "output_type": "execute_result"
    }
   ],
   "source": [
    "# cross Validation\n",
    "\n",
    "from sklearn.model_selection import cross_val_score\n",
    "scores = cross_val_score(kn_model, X_train_res, y_train_res, cv=50); scores"
   ]
  },
  {
   "cell_type": "code",
   "execution_count": 26,
   "metadata": {},
   "outputs": [
    {
     "name": "stdout",
     "output_type": "stream",
     "text": [
      "Mean: 0.775\n",
      "Std: 0.074\n",
      "Min: 0.625\n",
      "Max: 0.903\n"
     ]
    }
   ],
   "source": [
    "print(\"Mean: {:.3f}\\nStd: {:.3f}\\nMin: {:.3f}\\nMax: {:.3f}\".format(\n",
    "    scores.mean(), scores.std(), scores.min(), scores.max()))"
   ]
  },
  {
   "cell_type": "code",
   "execution_count": 27,
   "metadata": {},
   "outputs": [
    {
     "data": {
      "text/html": [
       "<div>\n",
       "<style scoped>\n",
       "    .dataframe tbody tr th:only-of-type {\n",
       "        vertical-align: middle;\n",
       "    }\n",
       "\n",
       "    .dataframe tbody tr th {\n",
       "        vertical-align: top;\n",
       "    }\n",
       "\n",
       "    .dataframe thead th {\n",
       "        text-align: right;\n",
       "    }\n",
       "</style>\n",
       "<table border=\"1\" class=\"dataframe\">\n",
       "  <thead>\n",
       "    <tr style=\"text-align: right;\">\n",
       "      <th></th>\n",
       "      <th>Predicted female gender</th>\n",
       "      <th>Predicted male gender</th>\n",
       "    </tr>\n",
       "  </thead>\n",
       "  <tbody>\n",
       "    <tr>\n",
       "      <th>female</th>\n",
       "      <td>675</td>\n",
       "      <td>208</td>\n",
       "    </tr>\n",
       "    <tr>\n",
       "      <th>male</th>\n",
       "      <td>275</td>\n",
       "      <td>92</td>\n",
       "    </tr>\n",
       "  </tbody>\n",
       "</table>\n",
       "</div>"
      ],
      "text/plain": [
       "        Predicted female gender  Predicted male gender\n",
       "female                      675                    208\n",
       "male                        275                     92"
      ]
     },
     "execution_count": 27,
     "metadata": {},
     "output_type": "execute_result"
    }
   ],
   "source": [
    "## call on the model object\n",
    "knnModel = KNeighborsClassifier(n_neighbors=2)\n",
    "\n",
    "## fit the model with \"train_x\" and \"train_y\"\n",
    "knnModel.fit(X_train_res,y_train_res)\n",
    "\n",
    "## Once the model is trained we want to find out how well the model is performing, so we test the model. \n",
    "## we use \"X_test\" portion of the data(this data was not used to fit the model) to predict model outcome. \n",
    "y_pred = knnModel.predict(X_test)\n",
    "\n",
    "from sklearn.metrics import classification_report, confusion_matrix\n",
    "# printing confision matrix`\n",
    "pd.DataFrame(confusion_matrix(y_test,y_pred),\\\n",
    "            columns=[\"Predicted female gender\", \"Predicted male gender\"],\\\n",
    "            index=[\"female\",\"male\"] )"
   ]
  },
  {
   "cell_type": "code",
   "execution_count": 28,
   "metadata": {},
   "outputs": [
    {
     "name": "stdout",
     "output_type": "stream",
     "text": [
      "              precision    recall  f1-score   support\n",
      "\n",
      "           0       0.71      0.76      0.74       883\n",
      "           1       0.31      0.25      0.28       367\n",
      "\n",
      "    accuracy                           0.61      1250\n",
      "   macro avg       0.51      0.51      0.51      1250\n",
      "weighted avg       0.59      0.61      0.60      1250\n",
      "\n"
     ]
    }
   ],
   "source": [
    "\n",
    "print(classification_report(y_test, y_pred))"
   ]
  },
  {
   "cell_type": "code",
   "execution_count": 29,
   "metadata": {},
   "outputs": [
    {
     "name": "stdout",
     "output_type": "stream",
     "text": [
      "Cross-Validation accuracy scores:[0.65485362 0.64637904 0.65639445 0.68104777 0.65023112 0.6633282\n",
      " 0.6587057  0.66640986 0.6540832  0.65716487]\n",
      "Mean Cross-Validation accuracy score: 0.659\n"
     ]
    }
   ],
   "source": [
    "#K-Nearest Neighbor classifier(KNN)\n",
    "## calling on the model oject. \n",
    "knn = KNeighborsClassifier(metric='minkowski', p=2)\n",
    "# (metric='minkowski', p=2) >> 근접한 이웃간의 거리를 최단거리직선상 으로 찾는다\n",
    "## knn classifier works by doing euclidian distance \n",
    "\n",
    "\n",
    "## doing 10 fold staratified-shuffle-split cross validation \n",
    "cv = ShuffleSplit(n_splits=10, test_size=.25, random_state=2)\n",
    "\n",
    "accuracies = cross_val_score(knn, X_train_res,y_train_res, cv = cv, scoring='accuracy')\n",
    "print (\"Cross-Validation accuracy scores:{}\".format(accuracies))\n",
    "print (\"Mean Cross-Validation accuracy score: {}\".format(round(accuracies.mean(),3)))"
   ]
  },
  {
   "cell_type": "markdown",
   "metadata": {},
   "source": [
    "# 4. 랜덤포레스트"
   ]
  },
  {
   "cell_type": "code",
   "execution_count": 30,
   "metadata": {},
   "outputs": [
    {
     "data": {
      "text/plain": [
       "0.9996147919876733"
      ]
     },
     "metadata": {},
     "output_type": "display_data"
    },
    {
     "data": {
      "text/plain": [
       "0.6144"
      ]
     },
     "metadata": {},
     "output_type": "display_data"
    }
   ],
   "source": [
    "from sklearn.ensemble import RandomForestClassifier\n",
    "\n",
    "rf_model = RandomForestClassifier(n_estimators=100, random_state=0)\n",
    "\n",
    "rf_model.fit(X_train_res,y_train_res)\n",
    "display(rf_model.score(X_train_res, y_train_res))\n",
    "display(rf_model.score(X_test, y_test))"
   ]
  },
  {
   "cell_type": "code",
   "execution_count": 31,
   "metadata": {},
   "outputs": [
    {
     "data": {
      "text/html": [
       "<div>\n",
       "<style scoped>\n",
       "    .dataframe tbody tr th:only-of-type {\n",
       "        vertical-align: middle;\n",
       "    }\n",
       "\n",
       "    .dataframe tbody tr th {\n",
       "        vertical-align: top;\n",
       "    }\n",
       "\n",
       "    .dataframe thead th {\n",
       "        text-align: right;\n",
       "    }\n",
       "</style>\n",
       "<table border=\"1\" class=\"dataframe\">\n",
       "  <thead>\n",
       "    <tr style=\"text-align: right;\">\n",
       "      <th></th>\n",
       "      <th>Predicted female gender</th>\n",
       "      <th>Predicted male gender</th>\n",
       "    </tr>\n",
       "  </thead>\n",
       "  <tbody>\n",
       "    <tr>\n",
       "      <th>female</th>\n",
       "      <td>659</td>\n",
       "      <td>224</td>\n",
       "    </tr>\n",
       "    <tr>\n",
       "      <th>male</th>\n",
       "      <td>258</td>\n",
       "      <td>109</td>\n",
       "    </tr>\n",
       "  </tbody>\n",
       "</table>\n",
       "</div>"
      ],
      "text/plain": [
       "        Predicted female gender  Predicted male gender\n",
       "female                      659                    224\n",
       "male                        258                    109"
      ]
     },
     "execution_count": 31,
     "metadata": {},
     "output_type": "execute_result"
    }
   ],
   "source": [
    "\n",
    "## Once the model is trained we want to find out how well the model is performing, so we test the model. \n",
    "## we use \"X_test\" portion of the data(this data was not used to fit the model) to predict model outcome. \n",
    "y_pred = rf_model.predict(X_test)\n",
    "\n",
    "# printing confision matrix`\n",
    "pd.DataFrame(confusion_matrix(y_test,y_pred),\\\n",
    "            columns=[\"Predicted female gender\", \"Predicted male gender\"],\\\n",
    "            index=[\"female\",\"male\"] )"
   ]
  },
  {
   "cell_type": "code",
   "execution_count": 32,
   "metadata": {},
   "outputs": [
    {
     "name": "stdout",
     "output_type": "stream",
     "text": [
      "              precision    recall  f1-score   support\n",
      "\n",
      "           0       0.72      0.75      0.73       883\n",
      "           1       0.33      0.30      0.31       367\n",
      "\n",
      "    accuracy                           0.61      1250\n",
      "   macro avg       0.52      0.52      0.52      1250\n",
      "weighted avg       0.60      0.61      0.61      1250\n",
      "\n"
     ]
    }
   ],
   "source": [
    "print(classification_report(y_test, y_pred))"
   ]
  },
  {
   "cell_type": "markdown",
   "metadata": {},
   "source": [
    "# 5. 그라디언트 부스팅"
   ]
  },
  {
   "cell_type": "code",
   "execution_count": 33,
   "metadata": {},
   "outputs": [
    {
     "data": {
      "text/plain": [
       "0.7771571648690293"
      ]
     },
     "metadata": {},
     "output_type": "display_data"
    },
    {
     "data": {
      "text/plain": [
       "0.616"
      ]
     },
     "metadata": {},
     "output_type": "display_data"
    }
   ],
   "source": [
    "from sklearn.ensemble import GradientBoostingClassifier\n",
    "\n",
    "gradient_boost = GradientBoostingClassifier()\n",
    "gradient_boost.fit(X_train_res,y_train_res)\n",
    "\n",
    "display(gradient_boost.score(X_train_res, y_train_res))\n",
    "display(gradient_boost.score(X_test, y_test))\n"
   ]
  },
  {
   "cell_type": "code",
   "execution_count": 34,
   "metadata": {},
   "outputs": [
    {
     "data": {
      "text/html": [
       "<div>\n",
       "<style scoped>\n",
       "    .dataframe tbody tr th:only-of-type {\n",
       "        vertical-align: middle;\n",
       "    }\n",
       "\n",
       "    .dataframe tbody tr th {\n",
       "        vertical-align: top;\n",
       "    }\n",
       "\n",
       "    .dataframe thead th {\n",
       "        text-align: right;\n",
       "    }\n",
       "</style>\n",
       "<table border=\"1\" class=\"dataframe\">\n",
       "  <thead>\n",
       "    <tr style=\"text-align: right;\">\n",
       "      <th></th>\n",
       "      <th>Predicted female gender</th>\n",
       "      <th>Predicted male gender</th>\n",
       "    </tr>\n",
       "  </thead>\n",
       "  <tbody>\n",
       "    <tr>\n",
       "      <th>female</th>\n",
       "      <td>656</td>\n",
       "      <td>227</td>\n",
       "    </tr>\n",
       "    <tr>\n",
       "      <th>male</th>\n",
       "      <td>254</td>\n",
       "      <td>113</td>\n",
       "    </tr>\n",
       "  </tbody>\n",
       "</table>\n",
       "</div>"
      ],
      "text/plain": [
       "        Predicted female gender  Predicted male gender\n",
       "female                      656                    227\n",
       "male                        254                    113"
      ]
     },
     "execution_count": 34,
     "metadata": {},
     "output_type": "execute_result"
    }
   ],
   "source": [
    "gradient_boost.fit(X_train_res,y_train_res)\n",
    "\n",
    "## Once the model is trained we want to find out how well the model is performing, so we test the model. \n",
    "## we use \"X_test\" portion of the data(this data was not used to fit the model) to predict model outcome. \n",
    "y_pred = gradient_boost.predict(X_test)\n",
    "\n",
    "\n",
    "# printing confision matrix`\n",
    "pd.DataFrame(confusion_matrix(y_test,y_pred),\\\n",
    "            columns=[\"Predicted female gender\", \"Predicted male gender\"],\\\n",
    "            index=[\"female\",\"male\"] )"
   ]
  },
  {
   "cell_type": "code",
   "execution_count": 35,
   "metadata": {},
   "outputs": [
    {
     "name": "stdout",
     "output_type": "stream",
     "text": [
      "              precision    recall  f1-score   support\n",
      "\n",
      "           0       0.72      0.74      0.73       883\n",
      "           1       0.33      0.31      0.32       367\n",
      "\n",
      "    accuracy                           0.62      1250\n",
      "   macro avg       0.53      0.53      0.53      1250\n",
      "weighted avg       0.61      0.62      0.61      1250\n",
      "\n"
     ]
    }
   ],
   "source": [
    "print(classification_report(y_test, y_pred))"
   ]
  },
  {
   "cell_type": "code",
   "execution_count": null,
   "metadata": {},
   "outputs": [],
   "source": []
  },
  {
   "cell_type": "markdown",
   "metadata": {},
   "source": [
    "# 6. XGBoosting"
   ]
  },
  {
   "cell_type": "code",
   "execution_count": 36,
   "metadata": {},
   "outputs": [
    {
     "name": "stdout",
     "output_type": "stream",
     "text": [
      "0.62\n"
     ]
    }
   ],
   "source": [
    "#XGBClassifier\n",
    "from xgboost import XGBClassifier\n",
    "\n",
    "XGBClassifier = XGBClassifier(random_state=0)\n",
    "XGBClassifier.fit(X_train_res,y_train_res)\n",
    "y_pred = XGBClassifier.predict(X_test)\n",
    "XGBClassifier_accy = round(accuracy_score(y_pred, y_test), 3)\n",
    "print(XGBClassifier_accy)"
   ]
  },
  {
   "cell_type": "markdown",
   "metadata": {},
   "source": [
    "# 7. Extra Tree 분석"
   ]
  },
  {
   "cell_type": "code",
   "execution_count": 37,
   "metadata": {},
   "outputs": [
    {
     "name": "stdout",
     "output_type": "stream",
     "text": [
      "0.642\n"
     ]
    }
   ],
   "source": [
    "#Extra Trees Classifier\n",
    "from sklearn.ensemble import ExtraTreesClassifier\n",
    "\n",
    "\n",
    "ExtraTreesClassifier = ExtraTreesClassifier()\n",
    "ExtraTreesClassifier.fit(X_train_res,y_train_res)\n",
    "y_pred = ExtraTreesClassifier.predict(X_test)\n",
    "extraTree_accy = round(accuracy_score(y_pred, y_test), 3)\n",
    "print(extraTree_accy)"
   ]
  },
  {
   "cell_type": "markdown",
   "metadata": {},
   "source": [
    "# 8. Gaussian Process "
   ]
  },
  {
   "cell_type": "code",
   "execution_count": 38,
   "metadata": {},
   "outputs": [
    {
     "name": "stdout",
     "output_type": "stream",
     "text": [
      "0.706\n"
     ]
    }
   ],
   "source": [
    "#Gaussian Process Classifier\n",
    "from sklearn.gaussian_process import GaussianProcessClassifier\n",
    "GaussianProcessClassifier = GaussianProcessClassifier()\n",
    "GaussianProcessClassifier.fit(X_train_res,y_train_res)\n",
    "y_pred = GaussianProcessClassifier.predict(X_test)\n",
    "gau_pro_accy = round(accuracy_score(y_pred, y_test), 3)\n",
    "print(gau_pro_accy)"
   ]
  },
  {
   "cell_type": "markdown",
   "metadata": {},
   "source": [
    "# 9. Bagging"
   ]
  },
  {
   "cell_type": "code",
   "execution_count": 39,
   "metadata": {},
   "outputs": [
    {
     "data": {
      "text/plain": [
       "GridSearchCV(cv=ShuffleSplit(n_splits=10, random_state=15, test_size=0.3, train_size=None),\n",
       "             error_score=nan,\n",
       "             estimator=BaggingClassifier(base_estimator=None, bootstrap=True,\n",
       "                                         bootstrap_features=False,\n",
       "                                         max_features=1.0, max_samples=1.0,\n",
       "                                         n_estimators=10, n_jobs=None,\n",
       "                                         oob_score=False, random_state=None,\n",
       "                                         verbose=0, warm_start=False),\n",
       "             iid='deprecated', n_jobs=-1,\n",
       "             param_grid={'n_estimators': [10, 30, 50, 70, 80, 150, 160, 170,\n",
       "                                          175, 180, 185]},\n",
       "             pre_dispatch='2*n_jobs', refit=True, return_train_score=False,\n",
       "             scoring=None, verbose=0)"
      ]
     },
     "execution_count": 39,
     "metadata": {},
     "output_type": "execute_result"
    }
   ],
   "source": [
    "# Bagging Classifier\n",
    "from sklearn.ensemble import BaggingClassifier\n",
    "n_estimators = [10,30,50,70,80,150,160, 170,175,180,185];\n",
    "cv = ShuffleSplit(n_splits=10, test_size=.30, random_state=15)\n",
    "\n",
    "parameters = {'n_estimators':n_estimators, }\n",
    "grid = GridSearchCV(BaggingClassifier(base_estimator= None, ## If None, then the base estimator is a decision tree.\n",
    "                                      bootstrap_features=False),\n",
    "                                 param_grid=parameters,\n",
    "                                 cv=cv,\n",
    "                                 n_jobs = -1)\n",
    "grid.fit(X_train_res,y_train_res) "
   ]
  },
  {
   "cell_type": "code",
   "execution_count": 40,
   "metadata": {
    "scrolled": true
   },
   "outputs": [
    {
     "name": "stdout",
     "output_type": "stream",
     "text": [
      "0.750770218228498\n",
      "{'n_estimators': 170}\n",
      "BaggingClassifier(base_estimator=None, bootstrap=True, bootstrap_features=False,\n",
      "                  max_features=1.0, max_samples=1.0, n_estimators=170,\n",
      "                  n_jobs=None, oob_score=False, random_state=None, verbose=0,\n",
      "                  warm_start=False)\n"
     ]
    }
   ],
   "source": [
    "print (grid.best_score_)\n",
    "print (grid.best_params_)\n",
    "print (grid.best_estimator_)"
   ]
  },
  {
   "cell_type": "code",
   "execution_count": 41,
   "metadata": {},
   "outputs": [],
   "source": [
    "bc = BaggingClassifier(base_estimator=DecisionTreeClassifier(),random_state=0)"
   ]
  },
  {
   "cell_type": "code",
   "execution_count": 42,
   "metadata": {},
   "outputs": [
    {
     "data": {
      "text/plain": [
       "BaggingClassifier(base_estimator=DecisionTreeClassifier(ccp_alpha=0.0,\n",
       "                                                        class_weight=None,\n",
       "                                                        criterion='gini',\n",
       "                                                        max_depth=None,\n",
       "                                                        max_features=None,\n",
       "                                                        max_leaf_nodes=None,\n",
       "                                                        min_impurity_decrease=0.0,\n",
       "                                                        min_impurity_split=None,\n",
       "                                                        min_samples_leaf=1,\n",
       "                                                        min_samples_split=2,\n",
       "                                                        min_weight_fraction_leaf=0.0,\n",
       "                                                        presort='deprecated',\n",
       "                                                        random_state=None,\n",
       "                                                        splitter='best'),\n",
       "                  bootstrap=True, bootstrap_features=False, max_features=1.0,\n",
       "                  max_samples=1.0, n_estimators=10, n_jobs=None,\n",
       "                  oob_score=False, random_state=0, verbose=0, warm_start=False)"
      ]
     },
     "execution_count": 42,
     "metadata": {},
     "output_type": "execute_result"
    }
   ],
   "source": [
    "bc.fit(X_train_res, y_train_res) "
   ]
  },
  {
   "cell_type": "code",
   "execution_count": 43,
   "metadata": {},
   "outputs": [],
   "source": [
    "y_pred = bc.predict(X_test)"
   ]
  },
  {
   "cell_type": "code",
   "execution_count": 44,
   "metadata": {},
   "outputs": [
    {
     "name": "stdout",
     "output_type": "stream",
     "text": [
      "              precision    recall  f1-score   support\n",
      "\n",
      "           0       0.71      0.80      0.75       883\n",
      "           1       0.30      0.21      0.25       367\n",
      "\n",
      "    accuracy                           0.63      1250\n",
      "   macro avg       0.51      0.50      0.50      1250\n",
      "weighted avg       0.59      0.63      0.60      1250\n",
      "\n"
     ]
    }
   ],
   "source": [
    "print(classification_report(y_test, y_pred))"
   ]
  },
  {
   "cell_type": "code",
   "execution_count": 45,
   "metadata": {},
   "outputs": [
    {
     "data": {
      "text/plain": [
       "0.9996147919876733"
      ]
     },
     "execution_count": 45,
     "metadata": {},
     "output_type": "execute_result"
    }
   ],
   "source": [
    "bagging_grid = grid.best_estimator_\n",
    "bagging_grid.score(X_train_res,y_train_res)"
   ]
  },
  {
   "cell_type": "markdown",
   "metadata": {},
   "source": [
    "# 출력"
   ]
  },
  {
   "cell_type": "code",
   "execution_count": 94,
   "metadata": {},
   "outputs": [],
   "source": [
    "test = pd.read_csv(\"test.csv\", encoding='CP949')"
   ]
  },
  {
   "cell_type": "code",
   "execution_count": 95,
   "metadata": {},
   "outputs": [],
   "source": [
    "test = test.fillna(0)"
   ]
  },
  {
   "cell_type": "code",
   "execution_count": 96,
   "metadata": {},
   "outputs": [],
   "source": [
    "# 주구매코너 One-Hot Encoding\n",
    "test[['주구매코너']] = test[['주구매코너']].apply(lambda x: x.astype('category').cat.codes) "
   ]
  },
  {
   "cell_type": "code",
   "execution_count": 97,
   "metadata": {},
   "outputs": [
    {
     "data": {
      "text/html": [
       "<div>\n",
       "<style scoped>\n",
       "    .dataframe tbody tr th:only-of-type {\n",
       "        vertical-align: middle;\n",
       "    }\n",
       "\n",
       "    .dataframe tbody tr th {\n",
       "        vertical-align: top;\n",
       "    }\n",
       "\n",
       "    .dataframe thead th {\n",
       "        text-align: right;\n",
       "    }\n",
       "</style>\n",
       "<table border=\"1\" class=\"dataframe\">\n",
       "  <thead>\n",
       "    <tr style=\"text-align: right;\">\n",
       "      <th></th>\n",
       "      <th>custid</th>\n",
       "      <th>총구매액</th>\n",
       "      <th>구매건수</th>\n",
       "      <th>평균구매가격</th>\n",
       "      <th>평균할부개월수</th>\n",
       "      <th>구매브랜드종류</th>\n",
       "      <th>내점일수</th>\n",
       "      <th>수입상품_구매비율</th>\n",
       "      <th>주말방문비율</th>\n",
       "      <th>가을_구매건수</th>\n",
       "      <th>겨울_구매건수</th>\n",
       "      <th>봄_구매건수</th>\n",
       "      <th>여름_구매건수</th>\n",
       "      <th>아침_구매건수</th>\n",
       "      <th>저녁_구매건수</th>\n",
       "      <th>점심_구매건수</th>\n",
       "      <th>주구매코너</th>\n",
       "    </tr>\n",
       "  </thead>\n",
       "  <tbody>\n",
       "    <tr>\n",
       "      <th>0</th>\n",
       "      <td>100001</td>\n",
       "      <td>3439000</td>\n",
       "      <td>25</td>\n",
       "      <td>137560</td>\n",
       "      <td>2.2</td>\n",
       "      <td>19</td>\n",
       "      <td>16</td>\n",
       "      <td>12.0</td>\n",
       "      <td>31.2</td>\n",
       "      <td>5.0</td>\n",
       "      <td>4.0</td>\n",
       "      <td>7.0</td>\n",
       "      <td>9.0</td>\n",
       "      <td>13.0</td>\n",
       "      <td>1.0</td>\n",
       "      <td>11.0</td>\n",
       "      <td>15</td>\n",
       "    </tr>\n",
       "    <tr>\n",
       "      <th>1</th>\n",
       "      <td>100002</td>\n",
       "      <td>2073090</td>\n",
       "      <td>39</td>\n",
       "      <td>53156</td>\n",
       "      <td>1.3</td>\n",
       "      <td>18</td>\n",
       "      <td>29</td>\n",
       "      <td>0.0</td>\n",
       "      <td>20.7</td>\n",
       "      <td>13.0</td>\n",
       "      <td>8.0</td>\n",
       "      <td>10.0</td>\n",
       "      <td>8.0</td>\n",
       "      <td>4.0</td>\n",
       "      <td>10.0</td>\n",
       "      <td>25.0</td>\n",
       "      <td>13</td>\n",
       "    </tr>\n",
       "    <tr>\n",
       "      <th>2</th>\n",
       "      <td>100003</td>\n",
       "      <td>1303800</td>\n",
       "      <td>22</td>\n",
       "      <td>59264</td>\n",
       "      <td>1.8</td>\n",
       "      <td>14</td>\n",
       "      <td>12</td>\n",
       "      <td>0.0</td>\n",
       "      <td>41.7</td>\n",
       "      <td>6.0</td>\n",
       "      <td>7.0</td>\n",
       "      <td>3.0</td>\n",
       "      <td>6.0</td>\n",
       "      <td>3.0</td>\n",
       "      <td>1.0</td>\n",
       "      <td>18.0</td>\n",
       "      <td>13</td>\n",
       "    </tr>\n",
       "    <tr>\n",
       "      <th>3</th>\n",
       "      <td>100004</td>\n",
       "      <td>6696522</td>\n",
       "      <td>46</td>\n",
       "      <td>145577</td>\n",
       "      <td>1.7</td>\n",
       "      <td>31</td>\n",
       "      <td>22</td>\n",
       "      <td>37.0</td>\n",
       "      <td>50.0</td>\n",
       "      <td>5.0</td>\n",
       "      <td>15.0</td>\n",
       "      <td>9.0</td>\n",
       "      <td>17.0</td>\n",
       "      <td>0.0</td>\n",
       "      <td>4.0</td>\n",
       "      <td>42.0</td>\n",
       "      <td>8</td>\n",
       "    </tr>\n",
       "    <tr>\n",
       "      <th>4</th>\n",
       "      <td>100005</td>\n",
       "      <td>1297640</td>\n",
       "      <td>26</td>\n",
       "      <td>49909</td>\n",
       "      <td>2.3</td>\n",
       "      <td>13</td>\n",
       "      <td>9</td>\n",
       "      <td>11.5</td>\n",
       "      <td>22.2</td>\n",
       "      <td>18.0</td>\n",
       "      <td>0.0</td>\n",
       "      <td>5.0</td>\n",
       "      <td>3.0</td>\n",
       "      <td>0.0</td>\n",
       "      <td>0.0</td>\n",
       "      <td>26.0</td>\n",
       "      <td>9</td>\n",
       "    </tr>\n",
       "    <tr>\n",
       "      <th>...</th>\n",
       "      <td>...</td>\n",
       "      <td>...</td>\n",
       "      <td>...</td>\n",
       "      <td>...</td>\n",
       "      <td>...</td>\n",
       "      <td>...</td>\n",
       "      <td>...</td>\n",
       "      <td>...</td>\n",
       "      <td>...</td>\n",
       "      <td>...</td>\n",
       "      <td>...</td>\n",
       "      <td>...</td>\n",
       "      <td>...</td>\n",
       "      <td>...</td>\n",
       "      <td>...</td>\n",
       "      <td>...</td>\n",
       "      <td>...</td>\n",
       "    </tr>\n",
       "    <tr>\n",
       "      <th>4995</th>\n",
       "      <td>104996</td>\n",
       "      <td>670690</td>\n",
       "      <td>5</td>\n",
       "      <td>134138</td>\n",
       "      <td>1.4</td>\n",
       "      <td>5</td>\n",
       "      <td>4</td>\n",
       "      <td>0.0</td>\n",
       "      <td>75.0</td>\n",
       "      <td>1.0</td>\n",
       "      <td>2.0</td>\n",
       "      <td>2.0</td>\n",
       "      <td>0.0</td>\n",
       "      <td>1.0</td>\n",
       "      <td>1.0</td>\n",
       "      <td>3.0</td>\n",
       "      <td>14</td>\n",
       "    </tr>\n",
       "    <tr>\n",
       "      <th>4996</th>\n",
       "      <td>104997</td>\n",
       "      <td>628700</td>\n",
       "      <td>13</td>\n",
       "      <td>48362</td>\n",
       "      <td>1.8</td>\n",
       "      <td>10</td>\n",
       "      <td>7</td>\n",
       "      <td>7.7</td>\n",
       "      <td>42.9</td>\n",
       "      <td>0.0</td>\n",
       "      <td>5.0</td>\n",
       "      <td>1.0</td>\n",
       "      <td>7.0</td>\n",
       "      <td>0.0</td>\n",
       "      <td>3.0</td>\n",
       "      <td>10.0</td>\n",
       "      <td>17</td>\n",
       "    </tr>\n",
       "    <tr>\n",
       "      <th>4997</th>\n",
       "      <td>104998</td>\n",
       "      <td>960923</td>\n",
       "      <td>12</td>\n",
       "      <td>80077</td>\n",
       "      <td>1.8</td>\n",
       "      <td>7</td>\n",
       "      <td>7</td>\n",
       "      <td>0.0</td>\n",
       "      <td>42.9</td>\n",
       "      <td>4.0</td>\n",
       "      <td>1.0</td>\n",
       "      <td>6.0</td>\n",
       "      <td>1.0</td>\n",
       "      <td>0.0</td>\n",
       "      <td>0.0</td>\n",
       "      <td>12.0</td>\n",
       "      <td>14</td>\n",
       "    </tr>\n",
       "    <tr>\n",
       "      <th>4998</th>\n",
       "      <td>104999</td>\n",
       "      <td>786600</td>\n",
       "      <td>14</td>\n",
       "      <td>56186</td>\n",
       "      <td>1.7</td>\n",
       "      <td>12</td>\n",
       "      <td>9</td>\n",
       "      <td>14.3</td>\n",
       "      <td>55.6</td>\n",
       "      <td>0.0</td>\n",
       "      <td>7.0</td>\n",
       "      <td>4.0</td>\n",
       "      <td>3.0</td>\n",
       "      <td>2.0</td>\n",
       "      <td>4.0</td>\n",
       "      <td>8.0</td>\n",
       "      <td>24</td>\n",
       "    </tr>\n",
       "    <tr>\n",
       "      <th>4999</th>\n",
       "      <td>105000</td>\n",
       "      <td>2568073</td>\n",
       "      <td>76</td>\n",
       "      <td>33790</td>\n",
       "      <td>1.6</td>\n",
       "      <td>23</td>\n",
       "      <td>35</td>\n",
       "      <td>10.5</td>\n",
       "      <td>22.9</td>\n",
       "      <td>23.0</td>\n",
       "      <td>20.0</td>\n",
       "      <td>9.0</td>\n",
       "      <td>24.0</td>\n",
       "      <td>11.0</td>\n",
       "      <td>4.0</td>\n",
       "      <td>61.0</td>\n",
       "      <td>14</td>\n",
       "    </tr>\n",
       "  </tbody>\n",
       "</table>\n",
       "<p>5000 rows × 17 columns</p>\n",
       "</div>"
      ],
      "text/plain": [
       "      custid     총구매액  구매건수  평균구매가격  평균할부개월수  구매브랜드종류  내점일수  수입상품_구매비율  \\\n",
       "0     100001  3439000    25  137560      2.2       19    16       12.0   \n",
       "1     100002  2073090    39   53156      1.3       18    29        0.0   \n",
       "2     100003  1303800    22   59264      1.8       14    12        0.0   \n",
       "3     100004  6696522    46  145577      1.7       31    22       37.0   \n",
       "4     100005  1297640    26   49909      2.3       13     9       11.5   \n",
       "...      ...      ...   ...     ...      ...      ...   ...        ...   \n",
       "4995  104996   670690     5  134138      1.4        5     4        0.0   \n",
       "4996  104997   628700    13   48362      1.8       10     7        7.7   \n",
       "4997  104998   960923    12   80077      1.8        7     7        0.0   \n",
       "4998  104999   786600    14   56186      1.7       12     9       14.3   \n",
       "4999  105000  2568073    76   33790      1.6       23    35       10.5   \n",
       "\n",
       "      주말방문비율  가을_구매건수  겨울_구매건수  봄_구매건수  여름_구매건수  아침_구매건수  저녁_구매건수  점심_구매건수  \\\n",
       "0       31.2      5.0      4.0     7.0      9.0     13.0      1.0     11.0   \n",
       "1       20.7     13.0      8.0    10.0      8.0      4.0     10.0     25.0   \n",
       "2       41.7      6.0      7.0     3.0      6.0      3.0      1.0     18.0   \n",
       "3       50.0      5.0     15.0     9.0     17.0      0.0      4.0     42.0   \n",
       "4       22.2     18.0      0.0     5.0      3.0      0.0      0.0     26.0   \n",
       "...      ...      ...      ...     ...      ...      ...      ...      ...   \n",
       "4995    75.0      1.0      2.0     2.0      0.0      1.0      1.0      3.0   \n",
       "4996    42.9      0.0      5.0     1.0      7.0      0.0      3.0     10.0   \n",
       "4997    42.9      4.0      1.0     6.0      1.0      0.0      0.0     12.0   \n",
       "4998    55.6      0.0      7.0     4.0      3.0      2.0      4.0      8.0   \n",
       "4999    22.9     23.0     20.0     9.0     24.0     11.0      4.0     61.0   \n",
       "\n",
       "      주구매코너  \n",
       "0        15  \n",
       "1        13  \n",
       "2        13  \n",
       "3         8  \n",
       "4         9  \n",
       "...     ...  \n",
       "4995     14  \n",
       "4996     17  \n",
       "4997     14  \n",
       "4998     24  \n",
       "4999     14  \n",
       "\n",
       "[5000 rows x 17 columns]"
      ]
     },
     "execution_count": 97,
     "metadata": {},
     "output_type": "execute_result"
    }
   ],
   "source": [
    "test"
   ]
  },
  {
   "cell_type": "code",
   "execution_count": 98,
   "metadata": {},
   "outputs": [],
   "source": [
    "test['아침구매액'] = np.round(train['총구매액']*(test['아침_구매건수'] /test['구매건수'] ), 3)\n",
    "test['점심구매액'] = np.round(train['총구매액']*(test['점심_구매건수'] /test['구매건수'] ), 3)\n",
    "test['저녁구매액'] = np.round(train['총구매액']*(test['저녁_구매건수'] /test['구매건수'] ), 3)  \n",
    "test['봄구매액']   = np.round(train['총구매액']*(test['봄_구매건수'] /test['구매건수'] ), 3) \n",
    "test['여름구매액'] = np.round(train['총구매액']*(test['여름_구매건수'] /test['구매건수'] ), 3) \n",
    "test['가을구매액'] = np.round(train['총구매액']*(test['가을_구매건수'] /test['구매건수'] ), 3)  \n",
    "test['겨울구매액'] = np.round(train['총구매액']*(test['겨울_구매건수'] /test['구매건수'] ), 3) \n",
    "test['구매브랜드가치'] = np.round(test['구매브랜드종류']*(test['총구매액']/test['구매건수']), 3)"
   ]
  },
  {
   "cell_type": "code",
   "execution_count": 99,
   "metadata": {},
   "outputs": [
    {
     "data": {
      "text/html": [
       "<div>\n",
       "<style scoped>\n",
       "    .dataframe tbody tr th:only-of-type {\n",
       "        vertical-align: middle;\n",
       "    }\n",
       "\n",
       "    .dataframe tbody tr th {\n",
       "        vertical-align: top;\n",
       "    }\n",
       "\n",
       "    .dataframe thead th {\n",
       "        text-align: right;\n",
       "    }\n",
       "</style>\n",
       "<table border=\"1\" class=\"dataframe\">\n",
       "  <thead>\n",
       "    <tr style=\"text-align: right;\">\n",
       "      <th></th>\n",
       "      <th>custid</th>\n",
       "      <th>총구매액</th>\n",
       "      <th>구매건수</th>\n",
       "      <th>평균구매가격</th>\n",
       "      <th>평균할부개월수</th>\n",
       "      <th>구매브랜드종류</th>\n",
       "      <th>내점일수</th>\n",
       "      <th>수입상품_구매비율</th>\n",
       "      <th>주말방문비율</th>\n",
       "      <th>가을_구매건수</th>\n",
       "      <th>...</th>\n",
       "      <th>점심_구매건수</th>\n",
       "      <th>주구매코너</th>\n",
       "      <th>아침구매액</th>\n",
       "      <th>점심구매액</th>\n",
       "      <th>저녁구매액</th>\n",
       "      <th>봄구매액</th>\n",
       "      <th>여름구매액</th>\n",
       "      <th>가을구매액</th>\n",
       "      <th>겨울구매액</th>\n",
       "      <th>구매브랜드가치</th>\n",
       "    </tr>\n",
       "  </thead>\n",
       "  <tbody>\n",
       "    <tr>\n",
       "      <th>0</th>\n",
       "      <td>100001</td>\n",
       "      <td>3439000</td>\n",
       "      <td>25</td>\n",
       "      <td>137560</td>\n",
       "      <td>2.2</td>\n",
       "      <td>19</td>\n",
       "      <td>16</td>\n",
       "      <td>12.0</td>\n",
       "      <td>31.2</td>\n",
       "      <td>5.0</td>\n",
       "      <td>...</td>\n",
       "      <td>11.0</td>\n",
       "      <td>15</td>\n",
       "      <td>353652.000</td>\n",
       "      <td>299244.000</td>\n",
       "      <td>27204.000</td>\n",
       "      <td>190428.000</td>\n",
       "      <td>244836.000</td>\n",
       "      <td>136020.000</td>\n",
       "      <td>108816.000</td>\n",
       "      <td>2613640.000</td>\n",
       "    </tr>\n",
       "    <tr>\n",
       "      <th>1</th>\n",
       "      <td>100002</td>\n",
       "      <td>2073090</td>\n",
       "      <td>39</td>\n",
       "      <td>53156</td>\n",
       "      <td>1.3</td>\n",
       "      <td>18</td>\n",
       "      <td>29</td>\n",
       "      <td>0.0</td>\n",
       "      <td>20.7</td>\n",
       "      <td>13.0</td>\n",
       "      <td>...</td>\n",
       "      <td>25.0</td>\n",
       "      <td>13</td>\n",
       "      <td>36251.282</td>\n",
       "      <td>226570.513</td>\n",
       "      <td>90628.205</td>\n",
       "      <td>90628.205</td>\n",
       "      <td>72502.564</td>\n",
       "      <td>117816.667</td>\n",
       "      <td>72502.564</td>\n",
       "      <td>956810.769</td>\n",
       "    </tr>\n",
       "    <tr>\n",
       "      <th>2</th>\n",
       "      <td>100003</td>\n",
       "      <td>1303800</td>\n",
       "      <td>22</td>\n",
       "      <td>59264</td>\n",
       "      <td>1.8</td>\n",
       "      <td>14</td>\n",
       "      <td>12</td>\n",
       "      <td>0.0</td>\n",
       "      <td>41.7</td>\n",
       "      <td>6.0</td>\n",
       "      <td>...</td>\n",
       "      <td>18.0</td>\n",
       "      <td>13</td>\n",
       "      <td>773372.727</td>\n",
       "      <td>4640236.364</td>\n",
       "      <td>257790.909</td>\n",
       "      <td>773372.727</td>\n",
       "      <td>1546745.455</td>\n",
       "      <td>1546745.455</td>\n",
       "      <td>1804536.364</td>\n",
       "      <td>829690.909</td>\n",
       "    </tr>\n",
       "    <tr>\n",
       "      <th>3</th>\n",
       "      <td>100004</td>\n",
       "      <td>6696522</td>\n",
       "      <td>46</td>\n",
       "      <td>145577</td>\n",
       "      <td>1.7</td>\n",
       "      <td>31</td>\n",
       "      <td>22</td>\n",
       "      <td>37.0</td>\n",
       "      <td>50.0</td>\n",
       "      <td>5.0</td>\n",
       "      <td>...</td>\n",
       "      <td>42.0</td>\n",
       "      <td>8</td>\n",
       "      <td>0.000</td>\n",
       "      <td>1793217.391</td>\n",
       "      <td>170782.609</td>\n",
       "      <td>384260.870</td>\n",
       "      <td>725826.087</td>\n",
       "      <td>213478.261</td>\n",
       "      <td>640434.783</td>\n",
       "      <td>4512873.522</td>\n",
       "    </tr>\n",
       "    <tr>\n",
       "      <th>4</th>\n",
       "      <td>100005</td>\n",
       "      <td>1297640</td>\n",
       "      <td>26</td>\n",
       "      <td>49909</td>\n",
       "      <td>2.3</td>\n",
       "      <td>13</td>\n",
       "      <td>9</td>\n",
       "      <td>11.5</td>\n",
       "      <td>22.2</td>\n",
       "      <td>18.0</td>\n",
       "      <td>...</td>\n",
       "      <td>26.0</td>\n",
       "      <td>9</td>\n",
       "      <td>0.000</td>\n",
       "      <td>885000.000</td>\n",
       "      <td>0.000</td>\n",
       "      <td>170192.308</td>\n",
       "      <td>102115.385</td>\n",
       "      <td>612692.308</td>\n",
       "      <td>0.000</td>\n",
       "      <td>648820.000</td>\n",
       "    </tr>\n",
       "    <tr>\n",
       "      <th>...</th>\n",
       "      <td>...</td>\n",
       "      <td>...</td>\n",
       "      <td>...</td>\n",
       "      <td>...</td>\n",
       "      <td>...</td>\n",
       "      <td>...</td>\n",
       "      <td>...</td>\n",
       "      <td>...</td>\n",
       "      <td>...</td>\n",
       "      <td>...</td>\n",
       "      <td>...</td>\n",
       "      <td>...</td>\n",
       "      <td>...</td>\n",
       "      <td>...</td>\n",
       "      <td>...</td>\n",
       "      <td>...</td>\n",
       "      <td>...</td>\n",
       "      <td>...</td>\n",
       "      <td>...</td>\n",
       "      <td>...</td>\n",
       "      <td>...</td>\n",
       "    </tr>\n",
       "    <tr>\n",
       "      <th>4995</th>\n",
       "      <td>104996</td>\n",
       "      <td>670690</td>\n",
       "      <td>5</td>\n",
       "      <td>134138</td>\n",
       "      <td>1.4</td>\n",
       "      <td>5</td>\n",
       "      <td>4</td>\n",
       "      <td>0.0</td>\n",
       "      <td>75.0</td>\n",
       "      <td>1.0</td>\n",
       "      <td>...</td>\n",
       "      <td>3.0</td>\n",
       "      <td>14</td>\n",
       "      <td>1333303.400</td>\n",
       "      <td>3999910.200</td>\n",
       "      <td>1333303.400</td>\n",
       "      <td>2666606.800</td>\n",
       "      <td>0.000</td>\n",
       "      <td>1333303.400</td>\n",
       "      <td>2666606.800</td>\n",
       "      <td>670690.000</td>\n",
       "    </tr>\n",
       "    <tr>\n",
       "      <th>4996</th>\n",
       "      <td>104997</td>\n",
       "      <td>628700</td>\n",
       "      <td>13</td>\n",
       "      <td>48362</td>\n",
       "      <td>1.8</td>\n",
       "      <td>10</td>\n",
       "      <td>7</td>\n",
       "      <td>7.7</td>\n",
       "      <td>42.9</td>\n",
       "      <td>0.0</td>\n",
       "      <td>...</td>\n",
       "      <td>10.0</td>\n",
       "      <td>17</td>\n",
       "      <td>0.000</td>\n",
       "      <td>2393923.077</td>\n",
       "      <td>718176.923</td>\n",
       "      <td>239392.308</td>\n",
       "      <td>1675746.154</td>\n",
       "      <td>0.000</td>\n",
       "      <td>1196961.538</td>\n",
       "      <td>483615.385</td>\n",
       "    </tr>\n",
       "    <tr>\n",
       "      <th>4997</th>\n",
       "      <td>104998</td>\n",
       "      <td>960923</td>\n",
       "      <td>12</td>\n",
       "      <td>80077</td>\n",
       "      <td>1.8</td>\n",
       "      <td>7</td>\n",
       "      <td>7</td>\n",
       "      <td>0.0</td>\n",
       "      <td>42.9</td>\n",
       "      <td>4.0</td>\n",
       "      <td>...</td>\n",
       "      <td>12.0</td>\n",
       "      <td>14</td>\n",
       "      <td>0.000</td>\n",
       "      <td>5852482.000</td>\n",
       "      <td>0.000</td>\n",
       "      <td>2926241.000</td>\n",
       "      <td>487706.833</td>\n",
       "      <td>1950827.333</td>\n",
       "      <td>487706.833</td>\n",
       "      <td>560538.417</td>\n",
       "    </tr>\n",
       "    <tr>\n",
       "      <th>4998</th>\n",
       "      <td>104999</td>\n",
       "      <td>786600</td>\n",
       "      <td>14</td>\n",
       "      <td>56186</td>\n",
       "      <td>1.7</td>\n",
       "      <td>12</td>\n",
       "      <td>9</td>\n",
       "      <td>14.3</td>\n",
       "      <td>55.6</td>\n",
       "      <td>0.0</td>\n",
       "      <td>...</td>\n",
       "      <td>8.0</td>\n",
       "      <td>24</td>\n",
       "      <td>93499.714</td>\n",
       "      <td>373998.857</td>\n",
       "      <td>186999.429</td>\n",
       "      <td>186999.429</td>\n",
       "      <td>140249.571</td>\n",
       "      <td>0.000</td>\n",
       "      <td>327249.000</td>\n",
       "      <td>674228.571</td>\n",
       "    </tr>\n",
       "    <tr>\n",
       "      <th>4999</th>\n",
       "      <td>105000</td>\n",
       "      <td>2568073</td>\n",
       "      <td>76</td>\n",
       "      <td>33790</td>\n",
       "      <td>1.6</td>\n",
       "      <td>23</td>\n",
       "      <td>35</td>\n",
       "      <td>10.5</td>\n",
       "      <td>22.9</td>\n",
       "      <td>23.0</td>\n",
       "      <td>...</td>\n",
       "      <td>61.0</td>\n",
       "      <td>14</td>\n",
       "      <td>369762.539</td>\n",
       "      <td>2050501.355</td>\n",
       "      <td>134459.105</td>\n",
       "      <td>302532.987</td>\n",
       "      <td>806754.632</td>\n",
       "      <td>773139.855</td>\n",
       "      <td>672295.526</td>\n",
       "      <td>777179.987</td>\n",
       "    </tr>\n",
       "  </tbody>\n",
       "</table>\n",
       "<p>5000 rows × 25 columns</p>\n",
       "</div>"
      ],
      "text/plain": [
       "      custid     총구매액  구매건수  평균구매가격  평균할부개월수  구매브랜드종류  내점일수  수입상품_구매비율  \\\n",
       "0     100001  3439000    25  137560      2.2       19    16       12.0   \n",
       "1     100002  2073090    39   53156      1.3       18    29        0.0   \n",
       "2     100003  1303800    22   59264      1.8       14    12        0.0   \n",
       "3     100004  6696522    46  145577      1.7       31    22       37.0   \n",
       "4     100005  1297640    26   49909      2.3       13     9       11.5   \n",
       "...      ...      ...   ...     ...      ...      ...   ...        ...   \n",
       "4995  104996   670690     5  134138      1.4        5     4        0.0   \n",
       "4996  104997   628700    13   48362      1.8       10     7        7.7   \n",
       "4997  104998   960923    12   80077      1.8        7     7        0.0   \n",
       "4998  104999   786600    14   56186      1.7       12     9       14.3   \n",
       "4999  105000  2568073    76   33790      1.6       23    35       10.5   \n",
       "\n",
       "      주말방문비율  가을_구매건수  ...  점심_구매건수  주구매코너        아침구매액        점심구매액  \\\n",
       "0       31.2      5.0  ...     11.0     15   353652.000   299244.000   \n",
       "1       20.7     13.0  ...     25.0     13    36251.282   226570.513   \n",
       "2       41.7      6.0  ...     18.0     13   773372.727  4640236.364   \n",
       "3       50.0      5.0  ...     42.0      8        0.000  1793217.391   \n",
       "4       22.2     18.0  ...     26.0      9        0.000   885000.000   \n",
       "...      ...      ...  ...      ...    ...          ...          ...   \n",
       "4995    75.0      1.0  ...      3.0     14  1333303.400  3999910.200   \n",
       "4996    42.9      0.0  ...     10.0     17        0.000  2393923.077   \n",
       "4997    42.9      4.0  ...     12.0     14        0.000  5852482.000   \n",
       "4998    55.6      0.0  ...      8.0     24    93499.714   373998.857   \n",
       "4999    22.9     23.0  ...     61.0     14   369762.539  2050501.355   \n",
       "\n",
       "            저녁구매액         봄구매액        여름구매액        가을구매액        겨울구매액  \\\n",
       "0       27204.000   190428.000   244836.000   136020.000   108816.000   \n",
       "1       90628.205    90628.205    72502.564   117816.667    72502.564   \n",
       "2      257790.909   773372.727  1546745.455  1546745.455  1804536.364   \n",
       "3      170782.609   384260.870   725826.087   213478.261   640434.783   \n",
       "4           0.000   170192.308   102115.385   612692.308        0.000   \n",
       "...           ...          ...          ...          ...          ...   \n",
       "4995  1333303.400  2666606.800        0.000  1333303.400  2666606.800   \n",
       "4996   718176.923   239392.308  1675746.154        0.000  1196961.538   \n",
       "4997        0.000  2926241.000   487706.833  1950827.333   487706.833   \n",
       "4998   186999.429   186999.429   140249.571        0.000   327249.000   \n",
       "4999   134459.105   302532.987   806754.632   773139.855   672295.526   \n",
       "\n",
       "          구매브랜드가치  \n",
       "0     2613640.000  \n",
       "1      956810.769  \n",
       "2      829690.909  \n",
       "3     4512873.522  \n",
       "4      648820.000  \n",
       "...           ...  \n",
       "4995   670690.000  \n",
       "4996   483615.385  \n",
       "4997   560538.417  \n",
       "4998   674228.571  \n",
       "4999   777179.987  \n",
       "\n",
       "[5000 rows x 25 columns]"
      ]
     },
     "execution_count": 99,
     "metadata": {},
     "output_type": "execute_result"
    }
   ],
   "source": [
    "test"
   ]
  },
  {
   "cell_type": "code",
   "execution_count": 100,
   "metadata": {},
   "outputs": [],
   "source": [
    "cp_test = test.drop(['저녁구매액', '평균할부개월수', '주말방문비율', \n",
    "                    '수입상품_구매비율', '저녁_구매건수', '주구매코너'], axis=1)"
   ]
  },
  {
   "cell_type": "code",
   "execution_count": 101,
   "metadata": {},
   "outputs": [],
   "source": [
    "# 개발 모형에 고객 데이터를 적용하여 개인연금 구매여부를 예측: id 제외\n",
    "\n",
    "cp_test['gender'] = bc.predict(cp_test.loc[:,'총구매액':'구매브랜드가치'])"
   ]
  },
  {
   "cell_type": "code",
   "execution_count": 102,
   "metadata": {},
   "outputs": [
    {
     "data": {
      "text/html": [
       "<div>\n",
       "<style scoped>\n",
       "    .dataframe tbody tr th:only-of-type {\n",
       "        vertical-align: middle;\n",
       "    }\n",
       "\n",
       "    .dataframe tbody tr th {\n",
       "        vertical-align: top;\n",
       "    }\n",
       "\n",
       "    .dataframe thead th {\n",
       "        text-align: right;\n",
       "    }\n",
       "</style>\n",
       "<table border=\"1\" class=\"dataframe\">\n",
       "  <thead>\n",
       "    <tr style=\"text-align: right;\">\n",
       "      <th></th>\n",
       "      <th>custid</th>\n",
       "      <th>총구매액</th>\n",
       "      <th>구매건수</th>\n",
       "      <th>평균구매가격</th>\n",
       "      <th>구매브랜드종류</th>\n",
       "      <th>내점일수</th>\n",
       "      <th>가을_구매건수</th>\n",
       "      <th>겨울_구매건수</th>\n",
       "      <th>봄_구매건수</th>\n",
       "      <th>여름_구매건수</th>\n",
       "      <th>아침_구매건수</th>\n",
       "      <th>점심_구매건수</th>\n",
       "      <th>아침구매액</th>\n",
       "      <th>점심구매액</th>\n",
       "      <th>봄구매액</th>\n",
       "      <th>여름구매액</th>\n",
       "      <th>가을구매액</th>\n",
       "      <th>겨울구매액</th>\n",
       "      <th>구매브랜드가치</th>\n",
       "      <th>gender</th>\n",
       "    </tr>\n",
       "  </thead>\n",
       "  <tbody>\n",
       "    <tr>\n",
       "      <th>0</th>\n",
       "      <td>100001</td>\n",
       "      <td>3439000</td>\n",
       "      <td>25</td>\n",
       "      <td>137560</td>\n",
       "      <td>19</td>\n",
       "      <td>16</td>\n",
       "      <td>5.0</td>\n",
       "      <td>4.0</td>\n",
       "      <td>7.0</td>\n",
       "      <td>9.0</td>\n",
       "      <td>13.0</td>\n",
       "      <td>11.0</td>\n",
       "      <td>353652.000</td>\n",
       "      <td>299244.000</td>\n",
       "      <td>190428.000</td>\n",
       "      <td>244836.000</td>\n",
       "      <td>136020.000</td>\n",
       "      <td>108816.000</td>\n",
       "      <td>2613640.000</td>\n",
       "      <td>1</td>\n",
       "    </tr>\n",
       "    <tr>\n",
       "      <th>1</th>\n",
       "      <td>100002</td>\n",
       "      <td>2073090</td>\n",
       "      <td>39</td>\n",
       "      <td>53156</td>\n",
       "      <td>18</td>\n",
       "      <td>29</td>\n",
       "      <td>13.0</td>\n",
       "      <td>8.0</td>\n",
       "      <td>10.0</td>\n",
       "      <td>8.0</td>\n",
       "      <td>4.0</td>\n",
       "      <td>25.0</td>\n",
       "      <td>36251.282</td>\n",
       "      <td>226570.513</td>\n",
       "      <td>90628.205</td>\n",
       "      <td>72502.564</td>\n",
       "      <td>117816.667</td>\n",
       "      <td>72502.564</td>\n",
       "      <td>956810.769</td>\n",
       "      <td>0</td>\n",
       "    </tr>\n",
       "    <tr>\n",
       "      <th>2</th>\n",
       "      <td>100003</td>\n",
       "      <td>1303800</td>\n",
       "      <td>22</td>\n",
       "      <td>59264</td>\n",
       "      <td>14</td>\n",
       "      <td>12</td>\n",
       "      <td>6.0</td>\n",
       "      <td>7.0</td>\n",
       "      <td>3.0</td>\n",
       "      <td>6.0</td>\n",
       "      <td>3.0</td>\n",
       "      <td>18.0</td>\n",
       "      <td>773372.727</td>\n",
       "      <td>4640236.364</td>\n",
       "      <td>773372.727</td>\n",
       "      <td>1546745.455</td>\n",
       "      <td>1546745.455</td>\n",
       "      <td>1804536.364</td>\n",
       "      <td>829690.909</td>\n",
       "      <td>0</td>\n",
       "    </tr>\n",
       "    <tr>\n",
       "      <th>3</th>\n",
       "      <td>100004</td>\n",
       "      <td>6696522</td>\n",
       "      <td>46</td>\n",
       "      <td>145577</td>\n",
       "      <td>31</td>\n",
       "      <td>22</td>\n",
       "      <td>5.0</td>\n",
       "      <td>15.0</td>\n",
       "      <td>9.0</td>\n",
       "      <td>17.0</td>\n",
       "      <td>0.0</td>\n",
       "      <td>42.0</td>\n",
       "      <td>0.000</td>\n",
       "      <td>1793217.391</td>\n",
       "      <td>384260.870</td>\n",
       "      <td>725826.087</td>\n",
       "      <td>213478.261</td>\n",
       "      <td>640434.783</td>\n",
       "      <td>4512873.522</td>\n",
       "      <td>0</td>\n",
       "    </tr>\n",
       "    <tr>\n",
       "      <th>4</th>\n",
       "      <td>100005</td>\n",
       "      <td>1297640</td>\n",
       "      <td>26</td>\n",
       "      <td>49909</td>\n",
       "      <td>13</td>\n",
       "      <td>9</td>\n",
       "      <td>18.0</td>\n",
       "      <td>0.0</td>\n",
       "      <td>5.0</td>\n",
       "      <td>3.0</td>\n",
       "      <td>0.0</td>\n",
       "      <td>26.0</td>\n",
       "      <td>0.000</td>\n",
       "      <td>885000.000</td>\n",
       "      <td>170192.308</td>\n",
       "      <td>102115.385</td>\n",
       "      <td>612692.308</td>\n",
       "      <td>0.000</td>\n",
       "      <td>648820.000</td>\n",
       "      <td>0</td>\n",
       "    </tr>\n",
       "    <tr>\n",
       "      <th>...</th>\n",
       "      <td>...</td>\n",
       "      <td>...</td>\n",
       "      <td>...</td>\n",
       "      <td>...</td>\n",
       "      <td>...</td>\n",
       "      <td>...</td>\n",
       "      <td>...</td>\n",
       "      <td>...</td>\n",
       "      <td>...</td>\n",
       "      <td>...</td>\n",
       "      <td>...</td>\n",
       "      <td>...</td>\n",
       "      <td>...</td>\n",
       "      <td>...</td>\n",
       "      <td>...</td>\n",
       "      <td>...</td>\n",
       "      <td>...</td>\n",
       "      <td>...</td>\n",
       "      <td>...</td>\n",
       "      <td>...</td>\n",
       "    </tr>\n",
       "    <tr>\n",
       "      <th>4995</th>\n",
       "      <td>104996</td>\n",
       "      <td>670690</td>\n",
       "      <td>5</td>\n",
       "      <td>134138</td>\n",
       "      <td>5</td>\n",
       "      <td>4</td>\n",
       "      <td>1.0</td>\n",
       "      <td>2.0</td>\n",
       "      <td>2.0</td>\n",
       "      <td>0.0</td>\n",
       "      <td>1.0</td>\n",
       "      <td>3.0</td>\n",
       "      <td>1333303.400</td>\n",
       "      <td>3999910.200</td>\n",
       "      <td>2666606.800</td>\n",
       "      <td>0.000</td>\n",
       "      <td>1333303.400</td>\n",
       "      <td>2666606.800</td>\n",
       "      <td>670690.000</td>\n",
       "      <td>0</td>\n",
       "    </tr>\n",
       "    <tr>\n",
       "      <th>4996</th>\n",
       "      <td>104997</td>\n",
       "      <td>628700</td>\n",
       "      <td>13</td>\n",
       "      <td>48362</td>\n",
       "      <td>10</td>\n",
       "      <td>7</td>\n",
       "      <td>0.0</td>\n",
       "      <td>5.0</td>\n",
       "      <td>1.0</td>\n",
       "      <td>7.0</td>\n",
       "      <td>0.0</td>\n",
       "      <td>10.0</td>\n",
       "      <td>0.000</td>\n",
       "      <td>2393923.077</td>\n",
       "      <td>239392.308</td>\n",
       "      <td>1675746.154</td>\n",
       "      <td>0.000</td>\n",
       "      <td>1196961.538</td>\n",
       "      <td>483615.385</td>\n",
       "      <td>0</td>\n",
       "    </tr>\n",
       "    <tr>\n",
       "      <th>4997</th>\n",
       "      <td>104998</td>\n",
       "      <td>960923</td>\n",
       "      <td>12</td>\n",
       "      <td>80077</td>\n",
       "      <td>7</td>\n",
       "      <td>7</td>\n",
       "      <td>4.0</td>\n",
       "      <td>1.0</td>\n",
       "      <td>6.0</td>\n",
       "      <td>1.0</td>\n",
       "      <td>0.0</td>\n",
       "      <td>12.0</td>\n",
       "      <td>0.000</td>\n",
       "      <td>5852482.000</td>\n",
       "      <td>2926241.000</td>\n",
       "      <td>487706.833</td>\n",
       "      <td>1950827.333</td>\n",
       "      <td>487706.833</td>\n",
       "      <td>560538.417</td>\n",
       "      <td>0</td>\n",
       "    </tr>\n",
       "    <tr>\n",
       "      <th>4998</th>\n",
       "      <td>104999</td>\n",
       "      <td>786600</td>\n",
       "      <td>14</td>\n",
       "      <td>56186</td>\n",
       "      <td>12</td>\n",
       "      <td>9</td>\n",
       "      <td>0.0</td>\n",
       "      <td>7.0</td>\n",
       "      <td>4.0</td>\n",
       "      <td>3.0</td>\n",
       "      <td>2.0</td>\n",
       "      <td>8.0</td>\n",
       "      <td>93499.714</td>\n",
       "      <td>373998.857</td>\n",
       "      <td>186999.429</td>\n",
       "      <td>140249.571</td>\n",
       "      <td>0.000</td>\n",
       "      <td>327249.000</td>\n",
       "      <td>674228.571</td>\n",
       "      <td>0</td>\n",
       "    </tr>\n",
       "    <tr>\n",
       "      <th>4999</th>\n",
       "      <td>105000</td>\n",
       "      <td>2568073</td>\n",
       "      <td>76</td>\n",
       "      <td>33790</td>\n",
       "      <td>23</td>\n",
       "      <td>35</td>\n",
       "      <td>23.0</td>\n",
       "      <td>20.0</td>\n",
       "      <td>9.0</td>\n",
       "      <td>24.0</td>\n",
       "      <td>11.0</td>\n",
       "      <td>61.0</td>\n",
       "      <td>369762.539</td>\n",
       "      <td>2050501.355</td>\n",
       "      <td>302532.987</td>\n",
       "      <td>806754.632</td>\n",
       "      <td>773139.855</td>\n",
       "      <td>672295.526</td>\n",
       "      <td>777179.987</td>\n",
       "      <td>0</td>\n",
       "    </tr>\n",
       "  </tbody>\n",
       "</table>\n",
       "<p>5000 rows × 20 columns</p>\n",
       "</div>"
      ],
      "text/plain": [
       "      custid     총구매액  구매건수  평균구매가격  구매브랜드종류  내점일수  가을_구매건수  겨울_구매건수  봄_구매건수  \\\n",
       "0     100001  3439000    25  137560       19    16      5.0      4.0     7.0   \n",
       "1     100002  2073090    39   53156       18    29     13.0      8.0    10.0   \n",
       "2     100003  1303800    22   59264       14    12      6.0      7.0     3.0   \n",
       "3     100004  6696522    46  145577       31    22      5.0     15.0     9.0   \n",
       "4     100005  1297640    26   49909       13     9     18.0      0.0     5.0   \n",
       "...      ...      ...   ...     ...      ...   ...      ...      ...     ...   \n",
       "4995  104996   670690     5  134138        5     4      1.0      2.0     2.0   \n",
       "4996  104997   628700    13   48362       10     7      0.0      5.0     1.0   \n",
       "4997  104998   960923    12   80077        7     7      4.0      1.0     6.0   \n",
       "4998  104999   786600    14   56186       12     9      0.0      7.0     4.0   \n",
       "4999  105000  2568073    76   33790       23    35     23.0     20.0     9.0   \n",
       "\n",
       "      여름_구매건수  아침_구매건수  점심_구매건수        아침구매액        점심구매액         봄구매액  \\\n",
       "0         9.0     13.0     11.0   353652.000   299244.000   190428.000   \n",
       "1         8.0      4.0     25.0    36251.282   226570.513    90628.205   \n",
       "2         6.0      3.0     18.0   773372.727  4640236.364   773372.727   \n",
       "3        17.0      0.0     42.0        0.000  1793217.391   384260.870   \n",
       "4         3.0      0.0     26.0        0.000   885000.000   170192.308   \n",
       "...       ...      ...      ...          ...          ...          ...   \n",
       "4995      0.0      1.0      3.0  1333303.400  3999910.200  2666606.800   \n",
       "4996      7.0      0.0     10.0        0.000  2393923.077   239392.308   \n",
       "4997      1.0      0.0     12.0        0.000  5852482.000  2926241.000   \n",
       "4998      3.0      2.0      8.0    93499.714   373998.857   186999.429   \n",
       "4999     24.0     11.0     61.0   369762.539  2050501.355   302532.987   \n",
       "\n",
       "            여름구매액        가을구매액        겨울구매액      구매브랜드가치  gender  \n",
       "0      244836.000   136020.000   108816.000  2613640.000       1  \n",
       "1       72502.564   117816.667    72502.564   956810.769       0  \n",
       "2     1546745.455  1546745.455  1804536.364   829690.909       0  \n",
       "3      725826.087   213478.261   640434.783  4512873.522       0  \n",
       "4      102115.385   612692.308        0.000   648820.000       0  \n",
       "...           ...          ...          ...          ...     ...  \n",
       "4995        0.000  1333303.400  2666606.800   670690.000       0  \n",
       "4996  1675746.154        0.000  1196961.538   483615.385       0  \n",
       "4997   487706.833  1950827.333   487706.833   560538.417       0  \n",
       "4998   140249.571        0.000   327249.000   674228.571       0  \n",
       "4999   806754.632   773139.855   672295.526   777179.987       0  \n",
       "\n",
       "[5000 rows x 20 columns]"
      ]
     },
     "execution_count": 102,
     "metadata": {},
     "output_type": "execute_result"
    }
   ],
   "source": [
    "cp_test"
   ]
  },
  {
   "cell_type": "code",
   "execution_count": 105,
   "metadata": {},
   "outputs": [],
   "source": [
    "cp_test.to_csv(\"gender.csv\", encoding='cp949', index=False)"
   ]
  },
  {
   "cell_type": "code",
   "execution_count": null,
   "metadata": {},
   "outputs": [],
   "source": []
  }
 ],
 "metadata": {
  "kernelspec": {
   "display_name": "Python 3",
   "language": "python",
   "name": "python3"
  },
  "language_info": {
   "codemirror_mode": {
    "name": "ipython",
    "version": 3
   },
   "file_extension": ".py",
   "mimetype": "text/x-python",
   "name": "python",
   "nbconvert_exporter": "python",
   "pygments_lexer": "ipython3",
   "version": "3.7.6"
  }
 },
 "nbformat": 4,
 "nbformat_minor": 4
}
